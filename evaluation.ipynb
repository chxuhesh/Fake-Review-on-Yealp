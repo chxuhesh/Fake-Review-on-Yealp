{
 "cells": [
  {
   "cell_type": "code",
   "execution_count": 1,
   "id": "23f83df9",
   "metadata": {},
   "outputs": [],
   "source": [
    "import pandas as pd\n",
    "import numpy as np\n",
    "from sklearn.linear_model import LogisticRegression\n",
    "from sklearn.metrics import accuracy_score \n",
    "from sklearn import metrics\n",
    "from sklearn.svm import SVC\n",
    "from sklearn.gaussian_process import GaussianProcessClassifier\n",
    "from sklearn.gaussian_process.kernels import RBF\n",
    "from sklearn.tree import DecisionTreeClassifier\n",
    "from sklearn.ensemble import RandomForestClassifier, AdaBoostClassifier\n",
    "from sklearn.naive_bayes import GaussianNB\n",
    "from sklearn.neighbors import KNeighborsClassifier\n",
    "from sklearn.model_selection import train_test_split\n",
    "from sklearn.model_selection import GridSearchCV\n",
    "from collections import Counter\n",
    "\n",
    "import matplotlib.pyplot as plt\n",
    "from sklearn import svm\n",
    "from sklearn.metrics import roc_curve, auc,roc_auc_score  # 计算roc和auc\n",
    "from sklearn.model_selection import train_test_split\n"
   ]
  },
  {
   "cell_type": "code",
   "execution_count": 70,
   "id": "13c68bd7",
   "metadata": {},
   "outputs": [],
   "source": [
    "dataset = pd.read_excel(\"Product_Reviewer_Features_Label_contentsimilarity.xlsx\")"
   ]
  },
  {
   "cell_type": "code",
   "execution_count": 71,
   "id": "52fdc152",
   "metadata": {},
   "outputs": [
    {
     "data": {
      "text/plain": [
       "Counter({0: 6889, 1: 6898})"
      ]
     },
     "execution_count": 71,
     "metadata": {},
     "output_type": "execute_result"
    }
   ],
   "source": [
    "data_ratio = 0.082 # select 10% of geniune geniune in original dataset with total spam samples\n",
    "random_seed = 100\n",
    "\n",
    "sampledataframe = dataset[dataset[\"Label\"]==0].sample(frac=data_ratio, random_state=random_seed)\n",
    "\n",
    "sampledataframe=pd.concat([sampledataframe,dataset[dataset[\"Label\"]==1]])\n",
    "\n",
    "Counter(sampledataframe[\"Label\"])"
   ]
  },
  {
   "cell_type": "code",
   "execution_count": 72,
   "id": "56aa1aee",
   "metadata": {},
   "outputs": [
    {
     "name": "stdout",
     "output_type": "stream",
     "text": [
      "Counter({1: 4149, 0: 4123})\n",
      "Counter({1: 1392, 0: 1366})\n",
      "Counter({0: 1400, 1: 1357})\n"
     ]
    }
   ],
   "source": [
    "train_data_ratio = 0.6 #select 60% of samples as training dataset, 20% of samples as valid dataset, the rest as test dataset\n",
    "valid_data_ratio = 0.5\n",
    "random_seed1 = 388\n",
    "random_seed2 = 699\n",
    "train_dataframe = sampledataframe.sample(frac=train_data_ratio, random_state=random_seed1)\n",
    "valid_dataframe = sampledataframe.drop(train_dataframe.index).sample(frac = valid_data_ratio, random_state=random_seed2)\n",
    "test_dataframe = sampledataframe.drop(train_dataframe.index.append(valid_dataframe.index))\n",
    "\n",
    "print(Counter(train_dataframe[\"Label\"]))\n",
    "print(Counter(valid_dataframe[\"Label\"]))\n",
    "print(Counter(test_dataframe[\"Label\"]))"
   ]
  },
  {
   "cell_type": "code",
   "execution_count": 73,
   "id": "04291e95",
   "metadata": {},
   "outputs": [
    {
     "data": {
      "text/html": [
       "<div>\n",
       "<style scoped>\n",
       "    .dataframe tbody tr th:only-of-type {\n",
       "        vertical-align: middle;\n",
       "    }\n",
       "\n",
       "    .dataframe tbody tr th {\n",
       "        vertical-align: top;\n",
       "    }\n",
       "\n",
       "    .dataframe thead th {\n",
       "        text-align: right;\n",
       "    }\n",
       "</style>\n",
       "<table border=\"1\" class=\"dataframe\">\n",
       "  <thead>\n",
       "    <tr style=\"text-align: right;\">\n",
       "      <th></th>\n",
       "      <th>Reviewer_id</th>\n",
       "      <th>Product_id</th>\n",
       "      <th>Reviewer_ReviewContent_Sent_len</th>\n",
       "      <th>Reviewer_ReviewContent_SUB_Len</th>\n",
       "      <th>Reviewer_ReviewContent_OBJ_Len</th>\n",
       "      <th>Reviewer_ReviewContent_First_Third_PRP</th>\n",
       "      <th>Reviewer_ReviewContent_First_Third_PRP_ratio</th>\n",
       "      <th>Reviewer_ReviewContent_Second_PRP</th>\n",
       "      <th>Reviewer_ReviewContent_Second_PRP_ratio</th>\n",
       "      <th>Reviewer_ReviewContent_avg_sent_len</th>\n",
       "      <th>...</th>\n",
       "      <th>Product_Behavior_group_toprating_rating_ratio</th>\n",
       "      <th>Product_Behavior_group_buttomrating_rating_ratio</th>\n",
       "      <th>Product_Behavior_group_posrating_rating_ratio</th>\n",
       "      <th>Product_Behavior_group_negrating_rating_ratio</th>\n",
       "      <th>Product_Behavior_Early_Review_Ratio</th>\n",
       "      <th>Text</th>\n",
       "      <th>Rating</th>\n",
       "      <th>Label</th>\n",
       "      <th>Reviewer_content_consine_similarity</th>\n",
       "      <th>Product_content_consine_similarity</th>\n",
       "    </tr>\n",
       "  </thead>\n",
       "  <tbody>\n",
       "    <tr>\n",
       "      <th>38508</th>\n",
       "      <td>13025</td>\n",
       "      <td>337</td>\n",
       "      <td>93</td>\n",
       "      <td>3</td>\n",
       "      <td>0</td>\n",
       "      <td>0</td>\n",
       "      <td>0.000000</td>\n",
       "      <td>0</td>\n",
       "      <td>0.000000</td>\n",
       "      <td>163.666667</td>\n",
       "      <td>...</td>\n",
       "      <td>0.095833</td>\n",
       "      <td>0.008333</td>\n",
       "      <td>0.095833</td>\n",
       "      <td>0.037500</td>\n",
       "      <td>0.017241</td>\n",
       "      <td>This place is highly recommended! The food is ...</td>\n",
       "      <td>4</td>\n",
       "      <td>0</td>\n",
       "      <td>0.029834</td>\n",
       "      <td>0.117581</td>\n",
       "    </tr>\n",
       "    <tr>\n",
       "      <th>70057</th>\n",
       "      <td>39806</td>\n",
       "      <td>133</td>\n",
       "      <td>320</td>\n",
       "      <td>8</td>\n",
       "      <td>6</td>\n",
       "      <td>3</td>\n",
       "      <td>0.009375</td>\n",
       "      <td>0</td>\n",
       "      <td>0.000000</td>\n",
       "      <td>425.333333</td>\n",
       "      <td>...</td>\n",
       "      <td>0.093628</td>\n",
       "      <td>0.009103</td>\n",
       "      <td>0.093628</td>\n",
       "      <td>0.031209</td>\n",
       "      <td>0.005263</td>\n",
       "      <td>So I went to this place for breakfast and must...</td>\n",
       "      <td>4</td>\n",
       "      <td>0</td>\n",
       "      <td>0.034625</td>\n",
       "      <td>0.072036</td>\n",
       "    </tr>\n",
       "    <tr>\n",
       "      <th>79011</th>\n",
       "      <td>56726</td>\n",
       "      <td>508</td>\n",
       "      <td>142</td>\n",
       "      <td>5</td>\n",
       "      <td>3</td>\n",
       "      <td>3</td>\n",
       "      <td>0.021127</td>\n",
       "      <td>0</td>\n",
       "      <td>0.000000</td>\n",
       "      <td>159.428571</td>\n",
       "      <td>...</td>\n",
       "      <td>0.082126</td>\n",
       "      <td>0.003623</td>\n",
       "      <td>0.082126</td>\n",
       "      <td>0.032609</td>\n",
       "      <td>0.029557</td>\n",
       "      <td>Went here for a nice lunch and that's what I g...</td>\n",
       "      <td>5</td>\n",
       "      <td>0</td>\n",
       "      <td>0.086202</td>\n",
       "      <td>0.098920</td>\n",
       "    </tr>\n",
       "    <tr>\n",
       "      <th>88360</th>\n",
       "      <td>95235</td>\n",
       "      <td>718</td>\n",
       "      <td>152</td>\n",
       "      <td>2</td>\n",
       "      <td>5</td>\n",
       "      <td>1</td>\n",
       "      <td>0.006579</td>\n",
       "      <td>1</td>\n",
       "      <td>0.006579</td>\n",
       "      <td>187.666667</td>\n",
       "      <td>...</td>\n",
       "      <td>0.109948</td>\n",
       "      <td>0.005236</td>\n",
       "      <td>0.109948</td>\n",
       "      <td>0.015707</td>\n",
       "      <td>0.021739</td>\n",
       "      <td>it has its own unique style but I wasnt thrill...</td>\n",
       "      <td>2</td>\n",
       "      <td>1</td>\n",
       "      <td>0.061172</td>\n",
       "      <td>0.131702</td>\n",
       "    </tr>\n",
       "    <tr>\n",
       "      <th>41228</th>\n",
       "      <td>14388</td>\n",
       "      <td>276</td>\n",
       "      <td>145</td>\n",
       "      <td>3</td>\n",
       "      <td>2</td>\n",
       "      <td>0</td>\n",
       "      <td>0.000000</td>\n",
       "      <td>2</td>\n",
       "      <td>0.013793</td>\n",
       "      <td>186.000000</td>\n",
       "      <td>...</td>\n",
       "      <td>0.074144</td>\n",
       "      <td>0.005703</td>\n",
       "      <td>0.074144</td>\n",
       "      <td>0.053232</td>\n",
       "      <td>0.007463</td>\n",
       "      <td>Good food, but the wait. The wait! Maybe I'm t...</td>\n",
       "      <td>3</td>\n",
       "      <td>1</td>\n",
       "      <td>0.059694</td>\n",
       "      <td>0.113649</td>\n",
       "    </tr>\n",
       "  </tbody>\n",
       "</table>\n",
       "<p>5 rows × 53 columns</p>\n",
       "</div>"
      ],
      "text/plain": [
       "       Reviewer_id  Product_id  Reviewer_ReviewContent_Sent_len  \\\n",
       "38508        13025         337                               93   \n",
       "70057        39806         133                              320   \n",
       "79011        56726         508                              142   \n",
       "88360        95235         718                              152   \n",
       "41228        14388         276                              145   \n",
       "\n",
       "       Reviewer_ReviewContent_SUB_Len  Reviewer_ReviewContent_OBJ_Len  \\\n",
       "38508                               3                               0   \n",
       "70057                               8                               6   \n",
       "79011                               5                               3   \n",
       "88360                               2                               5   \n",
       "41228                               3                               2   \n",
       "\n",
       "       Reviewer_ReviewContent_First_Third_PRP  \\\n",
       "38508                                       0   \n",
       "70057                                       3   \n",
       "79011                                       3   \n",
       "88360                                       1   \n",
       "41228                                       0   \n",
       "\n",
       "       Reviewer_ReviewContent_First_Third_PRP_ratio  \\\n",
       "38508                                      0.000000   \n",
       "70057                                      0.009375   \n",
       "79011                                      0.021127   \n",
       "88360                                      0.006579   \n",
       "41228                                      0.000000   \n",
       "\n",
       "       Reviewer_ReviewContent_Second_PRP  \\\n",
       "38508                                  0   \n",
       "70057                                  0   \n",
       "79011                                  0   \n",
       "88360                                  1   \n",
       "41228                                  2   \n",
       "\n",
       "       Reviewer_ReviewContent_Second_PRP_ratio  \\\n",
       "38508                                 0.000000   \n",
       "70057                                 0.000000   \n",
       "79011                                 0.000000   \n",
       "88360                                 0.006579   \n",
       "41228                                 0.013793   \n",
       "\n",
       "       Reviewer_ReviewContent_avg_sent_len  ...  \\\n",
       "38508                           163.666667  ...   \n",
       "70057                           425.333333  ...   \n",
       "79011                           159.428571  ...   \n",
       "88360                           187.666667  ...   \n",
       "41228                           186.000000  ...   \n",
       "\n",
       "       Product_Behavior_group_toprating_rating_ratio  \\\n",
       "38508                                       0.095833   \n",
       "70057                                       0.093628   \n",
       "79011                                       0.082126   \n",
       "88360                                       0.109948   \n",
       "41228                                       0.074144   \n",
       "\n",
       "       Product_Behavior_group_buttomrating_rating_ratio  \\\n",
       "38508                                          0.008333   \n",
       "70057                                          0.009103   \n",
       "79011                                          0.003623   \n",
       "88360                                          0.005236   \n",
       "41228                                          0.005703   \n",
       "\n",
       "       Product_Behavior_group_posrating_rating_ratio  \\\n",
       "38508                                       0.095833   \n",
       "70057                                       0.093628   \n",
       "79011                                       0.082126   \n",
       "88360                                       0.109948   \n",
       "41228                                       0.074144   \n",
       "\n",
       "       Product_Behavior_group_negrating_rating_ratio  \\\n",
       "38508                                       0.037500   \n",
       "70057                                       0.031209   \n",
       "79011                                       0.032609   \n",
       "88360                                       0.015707   \n",
       "41228                                       0.053232   \n",
       "\n",
       "       Product_Behavior_Early_Review_Ratio  \\\n",
       "38508                             0.017241   \n",
       "70057                             0.005263   \n",
       "79011                             0.029557   \n",
       "88360                             0.021739   \n",
       "41228                             0.007463   \n",
       "\n",
       "                                                    Text  Rating  Label  \\\n",
       "38508  This place is highly recommended! The food is ...       4      0   \n",
       "70057  So I went to this place for breakfast and must...       4      0   \n",
       "79011  Went here for a nice lunch and that's what I g...       5      0   \n",
       "88360  it has its own unique style but I wasnt thrill...       2      1   \n",
       "41228  Good food, but the wait. The wait! Maybe I'm t...       3      1   \n",
       "\n",
       "       Reviewer_content_consine_similarity  Product_content_consine_similarity  \n",
       "38508                             0.029834                            0.117581  \n",
       "70057                             0.034625                            0.072036  \n",
       "79011                             0.086202                            0.098920  \n",
       "88360                             0.061172                            0.131702  \n",
       "41228                             0.059694                            0.113649  \n",
       "\n",
       "[5 rows x 53 columns]"
      ]
     },
     "execution_count": 73,
     "metadata": {},
     "output_type": "execute_result"
    }
   ],
   "source": [
    "train_dataframe.head()"
   ]
  },
  {
   "cell_type": "code",
   "execution_count": 74,
   "id": "fe63897d",
   "metadata": {},
   "outputs": [],
   "source": [
    "columns = train_dataframe.columns.tolist()"
   ]
  },
  {
   "cell_type": "code",
   "execution_count": 75,
   "id": "511541ce",
   "metadata": {},
   "outputs": [],
   "source": [
    "columns.remove(\"Label\")"
   ]
  },
  {
   "cell_type": "code",
   "execution_count": 76,
   "id": "ea54811e",
   "metadata": {},
   "outputs": [],
   "source": [
    "features = columns[2:]"
   ]
  },
  {
   "cell_type": "code",
   "execution_count": 77,
   "id": "855fcde8",
   "metadata": {},
   "outputs": [
    {
     "data": {
      "text/plain": [
       "['Reviewer_ReviewContent_Sent_len',\n",
       " 'Reviewer_ReviewContent_SUB_Len',\n",
       " 'Reviewer_ReviewContent_OBJ_Len',\n",
       " 'Reviewer_ReviewContent_First_Third_PRP',\n",
       " 'Reviewer_ReviewContent_First_Third_PRP_ratio',\n",
       " 'Reviewer_ReviewContent_Second_PRP',\n",
       " 'Reviewer_ReviewContent_Second_PRP_ratio',\n",
       " 'Reviewer_ReviewContent_avg_sent_len',\n",
       " 'Reviewer_ReviewContent_avg_first_third_ratio',\n",
       " 'Reviewer_ReviewContent_avg_second_ratio',\n",
       " 'Reviewer_ReviewContent_avg_sub_ratio',\n",
       " 'Reviewer_ReviewContent_avg_obj_ratio',\n",
       " 'Reviewer_ReviewContent_avg_sub_to_allpro_ratio',\n",
       " 'Reviewer_ReviewContent_avg_obj_to_allpro_ratio',\n",
       " 'Reviewer_Average_Rank',\n",
       " 'Reviewer_Rank_SD',\n",
       " 'Reviewer_Behavior_group_rank_common',\n",
       " 'Reviewer_Behavior_group_extreme_rating_ratio',\n",
       " 'Reviewer_Behavior_group_toprating_rating_ratio',\n",
       " 'Reviewer_Behavior_group_buttomrating_rating_ratio',\n",
       " 'Reviewer_Behavior_group_posrating_rating_ratio',\n",
       " 'Reviewer_Behavior_group_negrating_rating_ratio',\n",
       " 'Reviewer_Behavior_Early_Review_Ratio',\n",
       " 'Product_ReviewContent_Sent_len',\n",
       " 'Product_ReviewContent_SUB_Len',\n",
       " 'Product_ReviewContent_OBJ_Len',\n",
       " 'Product_ReviewContent_First_Third_PRP',\n",
       " 'Product_ReviewContent_First_Third_PRP_ratio',\n",
       " 'Product_ReviewContent_Second_PRP',\n",
       " 'Product_ReviewContent_Second_PRP_ratio',\n",
       " 'Product_ReviewContent_avg_sent_len',\n",
       " 'Product_ReviewContent_avg_first_third_ratio',\n",
       " 'Product_ReviewContent_avg_second_ratio',\n",
       " 'Product_ReviewContent_avg_sub_ratio',\n",
       " 'Product_ReviewContent_avg_obj_ratio',\n",
       " 'Product_ReviewContent_avg_sub_to_allpro_ratio',\n",
       " 'Product_ReviewContent_avg_obj_to_allpro_ratio',\n",
       " 'Product_Average_Rank',\n",
       " 'Product_Rank_SD',\n",
       " 'Product_Behavior_group_rank_common',\n",
       " 'Product_Behavior_group_extreme_rating_ratio',\n",
       " 'Product_Behavior_group_toprating_rating_ratio',\n",
       " 'Product_Behavior_group_buttomrating_rating_ratio',\n",
       " 'Product_Behavior_group_posrating_rating_ratio',\n",
       " 'Product_Behavior_group_negrating_rating_ratio',\n",
       " 'Product_Behavior_Early_Review_Ratio',\n",
       " 'Text',\n",
       " 'Rating',\n",
       " 'Reviewer_content_consine_similarity',\n",
       " 'Product_content_consine_similarity']"
      ]
     },
     "execution_count": 77,
     "metadata": {},
     "output_type": "execute_result"
    }
   ],
   "source": [
    "features"
   ]
  },
  {
   "cell_type": "code",
   "execution_count": 78,
   "id": "4a490252",
   "metadata": {},
   "outputs": [],
   "source": [
    "features.remove(\"Rating\")\n",
    "features.remove(\"Text\")"
   ]
  },
  {
   "cell_type": "code",
   "execution_count": 79,
   "id": "fbad8618",
   "metadata": {},
   "outputs": [
    {
     "data": {
      "text/plain": [
       "['Reviewer_ReviewContent_Sent_len',\n",
       " 'Reviewer_ReviewContent_SUB_Len',\n",
       " 'Reviewer_ReviewContent_OBJ_Len',\n",
       " 'Reviewer_ReviewContent_First_Third_PRP',\n",
       " 'Reviewer_ReviewContent_First_Third_PRP_ratio',\n",
       " 'Reviewer_ReviewContent_Second_PRP',\n",
       " 'Reviewer_ReviewContent_Second_PRP_ratio',\n",
       " 'Reviewer_ReviewContent_avg_sent_len',\n",
       " 'Reviewer_ReviewContent_avg_first_third_ratio',\n",
       " 'Reviewer_ReviewContent_avg_second_ratio',\n",
       " 'Reviewer_ReviewContent_avg_sub_ratio',\n",
       " 'Reviewer_ReviewContent_avg_obj_ratio',\n",
       " 'Reviewer_ReviewContent_avg_sub_to_allpro_ratio',\n",
       " 'Reviewer_ReviewContent_avg_obj_to_allpro_ratio',\n",
       " 'Reviewer_Average_Rank',\n",
       " 'Reviewer_Rank_SD',\n",
       " 'Reviewer_Behavior_group_rank_common',\n",
       " 'Reviewer_Behavior_group_extreme_rating_ratio',\n",
       " 'Reviewer_Behavior_group_toprating_rating_ratio',\n",
       " 'Reviewer_Behavior_group_buttomrating_rating_ratio',\n",
       " 'Reviewer_Behavior_group_posrating_rating_ratio',\n",
       " 'Reviewer_Behavior_group_negrating_rating_ratio',\n",
       " 'Reviewer_Behavior_Early_Review_Ratio',\n",
       " 'Product_ReviewContent_Sent_len',\n",
       " 'Product_ReviewContent_SUB_Len',\n",
       " 'Product_ReviewContent_OBJ_Len',\n",
       " 'Product_ReviewContent_First_Third_PRP',\n",
       " 'Product_ReviewContent_First_Third_PRP_ratio',\n",
       " 'Product_ReviewContent_Second_PRP',\n",
       " 'Product_ReviewContent_Second_PRP_ratio',\n",
       " 'Product_ReviewContent_avg_sent_len',\n",
       " 'Product_ReviewContent_avg_first_third_ratio',\n",
       " 'Product_ReviewContent_avg_second_ratio',\n",
       " 'Product_ReviewContent_avg_sub_ratio',\n",
       " 'Product_ReviewContent_avg_obj_ratio',\n",
       " 'Product_ReviewContent_avg_sub_to_allpro_ratio',\n",
       " 'Product_ReviewContent_avg_obj_to_allpro_ratio',\n",
       " 'Product_Average_Rank',\n",
       " 'Product_Rank_SD',\n",
       " 'Product_Behavior_group_rank_common',\n",
       " 'Product_Behavior_group_extreme_rating_ratio',\n",
       " 'Product_Behavior_group_toprating_rating_ratio',\n",
       " 'Product_Behavior_group_buttomrating_rating_ratio',\n",
       " 'Product_Behavior_group_posrating_rating_ratio',\n",
       " 'Product_Behavior_group_negrating_rating_ratio',\n",
       " 'Product_Behavior_Early_Review_Ratio',\n",
       " 'Reviewer_content_consine_similarity',\n",
       " 'Product_content_consine_similarity']"
      ]
     },
     "execution_count": 79,
     "metadata": {},
     "output_type": "execute_result"
    }
   ],
   "source": [
    "features"
   ]
  },
  {
   "cell_type": "code",
   "execution_count": 80,
   "id": "5131cbd4",
   "metadata": {},
   "outputs": [],
   "source": [
    "#All features in Product_centric & Reviewer_centric\n",
    "features_Product_Reviewer = features[:-2]"
   ]
  },
  {
   "cell_type": "code",
   "execution_count": 81,
   "id": "d6122655",
   "metadata": {},
   "outputs": [],
   "source": [
    "#All features in Product_centric & Reviewer_centric & Reviewer_content_similarity\n",
    "features_Product_Reviewer_Reviewer_conten_sim = features[:-1]"
   ]
  },
  {
   "cell_type": "code",
   "execution_count": 82,
   "id": "9e117e26",
   "metadata": {},
   "outputs": [],
   "source": [
    "#All features in Product_centric & Reviewer_centric & Product_content_similarity\n",
    "features_Product_Reviewer_Product_conten_sim = features[:-2]\n",
    "features_Product_Reviewer_Product_conten_sim.append(features[-1])"
   ]
  },
  {
   "cell_type": "code",
   "execution_count": 83,
   "id": "4bf1a332",
   "metadata": {},
   "outputs": [],
   "source": [
    "#All features in Reviewer_reviewcontent\n",
    "features_Reviewer_ReviewContent = features[:14]"
   ]
  },
  {
   "cell_type": "code",
   "execution_count": 84,
   "id": "17b22283",
   "metadata": {},
   "outputs": [],
   "source": [
    "#All features in Reviewer_Behavior\n",
    "features_Reviewer_Behavior = features[14:23]"
   ]
  },
  {
   "cell_type": "code",
   "execution_count": 85,
   "id": "ac14714a",
   "metadata": {},
   "outputs": [],
   "source": [
    "#All features in Product_reviewcontent\n",
    "features_Product_ReviewContent = features[23:37]"
   ]
  },
  {
   "cell_type": "code",
   "execution_count": 86,
   "id": "99b709ed",
   "metadata": {},
   "outputs": [],
   "source": [
    "#All features in Product_Behavior\n",
    "features_Product_Behavior = features[37:46]"
   ]
  },
  {
   "cell_type": "code",
   "execution_count": 87,
   "id": "6ec52320",
   "metadata": {},
   "outputs": [],
   "source": [
    "#把features 改成什么不同的featu\n",
    "# train_X = train_dataframe[features]\n",
    "# train_Y = train_dataframe[\"Label\"]\n",
    "# valid_X = valid_dataframe[features]\n",
    "# valid_Y = valid_dataframe[\"Label\"]"
   ]
  },
  {
   "cell_type": "code",
   "execution_count": 129,
   "id": "091ac9d0",
   "metadata": {},
   "outputs": [],
   "source": [
    "# train_X = train_dataframe[features_Reviewer_ReviewContent]\n",
    "# train_Y = train_dataframe[\"Label\"]\n",
    "# valid_X = valid_dataframe[features_Reviewer_ReviewContent]\n",
    "# valid_Y = valid_dataframe[\"Label\"]\n",
    "# path = 'All features in Reviewer_reviewcontent'"
   ]
  },
  {
   "cell_type": "code",
   "execution_count": 153,
   "id": "cb4e8ab5",
   "metadata": {},
   "outputs": [],
   "source": [
    "# train_X = train_dataframe[features_Reviewer_Behavior]\n",
    "# train_Y = train_dataframe[\"Label\"]\n",
    "# valid_X = valid_dataframe[features_Reviewer_Behavior]\n",
    "# valid_Y = valid_dataframe[\"Label\"]\n",
    "# path = 'All features in Reviewer_Behavior'\n"
   ]
  },
  {
   "cell_type": "code",
   "execution_count": 187,
   "id": "4c8d42c7",
   "metadata": {},
   "outputs": [],
   "source": [
    "# train_X = train_dataframe[features_Product_ReviewContent]\n",
    "# train_Y = train_dataframe[\"Label\"]\n",
    "# valid_X = valid_dataframe[features_Product_ReviewContent]\n",
    "# valid_Y = valid_dataframe[\"Label\"]\n",
    "# path = 'features_Product_ReviewContent'"
   ]
  },
  {
   "cell_type": "code",
   "execution_count": 207,
   "id": "d0987993",
   "metadata": {},
   "outputs": [],
   "source": [
    "# train_X = train_dataframe[features_Product_Behavior]\n",
    "# train_Y = train_dataframe[\"Label\"]\n",
    "# valid_X = valid_dataframe[features_Product_Behavior]\n",
    "# valid_Y = valid_dataframe[\"Label\"]\n",
    "# path = 'features_Product_Behavior'"
   ]
  },
  {
   "cell_type": "code",
   "execution_count": 227,
   "id": "fe9cd244",
   "metadata": {},
   "outputs": [],
   "source": [
    "# train_X = train_dataframe[features_Product_Reviewer]\n",
    "# train_Y = train_dataframe[\"Label\"]\n",
    "# valid_X = valid_dataframe[features_Product_Reviewer]\n",
    "# valid_Y = valid_dataframe[\"Label\"]\n",
    "# path = 'features_Product_Reviewer'"
   ]
  },
  {
   "cell_type": "code",
   "execution_count": 247,
   "id": "cd49a718",
   "metadata": {},
   "outputs": [],
   "source": [
    "# train_X = train_dataframe[features_Product_Reviewer_Reviewer_conten_sim]\n",
    "# train_Y = train_dataframe[\"Label\"]\n",
    "# valid_X = valid_dataframe[features_Product_Reviewer_Reviewer_conten_sim]\n",
    "# valid_Y = valid_dataframe[\"Label\"]\n",
    "# path = 'features_Product_Reviewer_Reviewer_conten_sim'"
   ]
  },
  {
   "cell_type": "code",
   "execution_count": 2,
   "id": "198e3a2e",
   "metadata": {
    "collapsed": true
   },
   "outputs": [
    {
     "ename": "NameError",
     "evalue": "name 'train_dataframe' is not defined",
     "output_type": "error",
     "traceback": [
      "\u001b[1;31m---------------------------------------------------------------------------\u001b[0m",
      "\u001b[1;31mNameError\u001b[0m                                 Traceback (most recent call last)",
      "\u001b[1;32m<ipython-input-2-b127a76e534a>\u001b[0m in \u001b[0;36m<module>\u001b[1;34m\u001b[0m\n\u001b[1;32m----> 1\u001b[1;33m \u001b[0mtrain_X\u001b[0m \u001b[1;33m=\u001b[0m \u001b[0mtrain_dataframe\u001b[0m\u001b[1;33m[\u001b[0m\u001b[0mfeatures_Product_Reviewer_Product_conten_sim\u001b[0m\u001b[1;33m]\u001b[0m\u001b[1;33m\u001b[0m\u001b[1;33m\u001b[0m\u001b[0m\n\u001b[0m\u001b[0;32m      2\u001b[0m \u001b[0mtrain_Y\u001b[0m \u001b[1;33m=\u001b[0m \u001b[0mtrain_dataframe\u001b[0m\u001b[1;33m[\u001b[0m\u001b[1;34m\"Label\"\u001b[0m\u001b[1;33m]\u001b[0m\u001b[1;33m\u001b[0m\u001b[1;33m\u001b[0m\u001b[0m\n\u001b[0;32m      3\u001b[0m \u001b[0mvalid_X\u001b[0m \u001b[1;33m=\u001b[0m \u001b[0mvalid_dataframe\u001b[0m\u001b[1;33m[\u001b[0m\u001b[0mfeatures_Product_Reviewer_Product_conten_sim\u001b[0m\u001b[1;33m]\u001b[0m\u001b[1;33m\u001b[0m\u001b[1;33m\u001b[0m\u001b[0m\n\u001b[0;32m      4\u001b[0m \u001b[0mvalid_Y\u001b[0m \u001b[1;33m=\u001b[0m \u001b[0mvalid_dataframe\u001b[0m\u001b[1;33m[\u001b[0m\u001b[1;34m\"Label\"\u001b[0m\u001b[1;33m]\u001b[0m\u001b[1;33m\u001b[0m\u001b[1;33m\u001b[0m\u001b[0m\n\u001b[0;32m      5\u001b[0m \u001b[0mpath\u001b[0m \u001b[1;33m=\u001b[0m \u001b[1;34m'features_Product_Reviewer_Product_conten_sim'\u001b[0m\u001b[1;33m\u001b[0m\u001b[1;33m\u001b[0m\u001b[0m\n",
      "\u001b[1;31mNameError\u001b[0m: name 'train_dataframe' is not defined"
     ]
    }
   ],
   "source": [
    "train_X = train_dataframe[features_Product_Reviewer_Product_conten_sim]\n",
    "train_Y = train_dataframe[\"Label\"]\n",
    "valid_X = valid_dataframe[features_Product_Reviewer_Product_conten_sim]\n",
    "valid_Y = valid_dataframe[\"Label\"]\n",
    "path = 'features_Product_Reviewer_Product_conten_sim'"
   ]
  },
  {
   "cell_type": "markdown",
   "id": "facd2920",
   "metadata": {},
   "source": [
    "# Train"
   ]
  },
  {
   "cell_type": "code",
   "execution_count": 268,
   "id": "a12c4174",
   "metadata": {},
   "outputs": [],
   "source": [
    "\n",
    "lr_model = LogisticRegression(C = 1, solver='liblinear')\n",
    "knn_model = KNeighborsClassifier(2)\n",
    "svc_model = SVC()\n",
    "dec_model = DecisionTreeClassifier(max_depth=5)\n",
    "rfc_model = RandomForestClassifier(max_depth=5, n_estimators=10, max_features=1)\n",
    "adb_model = AdaBoostClassifier()\n",
    "gnb = GaussianNB()\n",
    "\n",
    "accu = {}\n",
    "precision = {}\n",
    "recall = {}\n",
    "f1 = {}\n",
    "roc_auc ={}\n",
    "\n",
    "model_dic = {\"LogisticRegreesion\":lr_model,\n",
    "             \"KNN\": knn_model,\n",
    "             \"SVC\":svc_model,\n",
    "             \"DecisionTree\":dec_model,\n",
    "             \"RandomFroest\":rfc_model,\n",
    "             \"AdaBoost\":adb_model,   \n",
    "             \"GaussianNB\":gnb}\n",
    "\n",
    "for model_name,dicmodel in model_dic.items():\n",
    "    trainmodel = dicmodel.fit(train_X,train_Y)\n",
    "    valid_Y_hat = dicmodel.predict(valid_X)\n",
    "    accuracy = accuracy_score(valid_Y, valid_Y_hat)\n",
    "    accu[model_name]=accuracy\n",
    "\n",
    "    precision[model_name] = metrics.precision_score(valid_Y, valid_Y_hat)\n",
    "    recall[model_name] = metrics.recall_score(valid_Y, valid_Y_hat)\n",
    "    f1[model_name] = metrics.f1_score(valid_Y, valid_Y_hat)\n",
    "    \n",
    "    fpr, tpr, threshold = roc_curve(valid_Y, valid_Y_hat)\n",
    "    \n",
    "    roc_auc[model_name] = roc_auc_score(valid_Y, valid_Y_hat)\n",
    " "
   ]
  },
  {
   "cell_type": "code",
   "execution_count": 269,
   "id": "55397878",
   "metadata": {},
   "outputs": [
    {
     "data": {
      "text/plain": [
       "{'LogisticRegreesion': 0.7367657722987673,\n",
       " 'KNN': 0.6131254532269761,\n",
       " 'SVC': 0.6990572878897752,\n",
       " 'DecisionTree': 0.7751994198694706,\n",
       " 'RandomFroest': 0.686366932559826,\n",
       " 'AdaBoost': 0.7722987672226251,\n",
       " 'GaussianNB': 0.6802030456852792}"
      ]
     },
     "execution_count": 269,
     "metadata": {},
     "output_type": "execute_result"
    }
   ],
   "source": [
    "accu"
   ]
  },
  {
   "cell_type": "code",
   "execution_count": 270,
   "id": "35f58a6a",
   "metadata": {},
   "outputs": [
    {
     "data": {
      "text/plain": [
       "{'LogisticRegreesion': 0.750375939849624,\n",
       " 'KNN': 0.6979293544457978,\n",
       " 'SVC': 0.6789808917197452,\n",
       " 'DecisionTree': 0.8029827315541601,\n",
       " 'RandomFroest': 0.6886184681460272,\n",
       " 'AdaBoost': 0.7788321167883212,\n",
       " 'GaussianNB': 0.6352067868504772}"
      ]
     },
     "execution_count": 270,
     "metadata": {},
     "output_type": "execute_result"
    }
   ],
   "source": [
    "precision"
   ]
  },
  {
   "cell_type": "code",
   "execution_count": 271,
   "id": "00f9b8f1",
   "metadata": {},
   "outputs": [
    {
     "data": {
      "text/plain": [
       "{'LogisticRegreesion': 0.7169540229885057,\n",
       " 'KNN': 0.41163793103448276,\n",
       " 'SVC': 0.7658045977011494,\n",
       " 'DecisionTree': 0.7349137931034483,\n",
       " 'RandomFroest': 0.6910919540229885,\n",
       " 'AdaBoost': 0.7665229885057471,\n",
       " 'GaussianNB': 0.860632183908046}"
      ]
     },
     "execution_count": 271,
     "metadata": {},
     "output_type": "execute_result"
    }
   ],
   "source": [
    "recall"
   ]
  },
  {
   "cell_type": "code",
   "execution_count": 272,
   "id": "04c6b1b8",
   "metadata": {},
   "outputs": [
    {
     "data": {
      "text/plain": [
       "{'LogisticRegreesion': 0.7332843497428361,\n",
       " 'KNN': 0.5178490736556711,\n",
       " 'SVC': 0.7197839297771775,\n",
       " 'DecisionTree': 0.7674418604651163,\n",
       " 'RandomFroest': 0.6898529939046253,\n",
       " 'AdaBoost': 0.7726285300506878,\n",
       " 'GaussianNB': 0.7309334960341671}"
      ]
     },
     "execution_count": 272,
     "metadata": {},
     "output_type": "execute_result"
    }
   ],
   "source": [
    "f1"
   ]
  },
  {
   "cell_type": "code",
   "execution_count": 273,
   "id": "8ff21fef",
   "metadata": {},
   "outputs": [
    {
     "data": {
      "text/plain": [
       "(array([0.50471356, 0.63520679, 1.        ]),\n",
       " array([1.        , 0.86063218, 0.        ]),\n",
       " array([0, 1], dtype=int64))"
      ]
     },
     "execution_count": 273,
     "metadata": {},
     "output_type": "execute_result"
    }
   ],
   "source": [
    "metrics.precision_recall_curve(valid_Y, valid_Y_hat)"
   ]
  },
  {
   "cell_type": "code",
   "execution_count": 274,
   "id": "d08d9078",
   "metadata": {},
   "outputs": [],
   "source": [
    "# # Add noisy features to make the problem harder\n",
    "# random_state = np.random.RandomState(0)\n",
    "# n_samples, n_features = X.shape\n",
    "# X = np.c_[X, random_state.randn(n_samples, 200 * n_features)]\n",
    "\n",
    "# # shuffle and split training and test sets\n",
    "# # X_train, X_test, y_train, y_test = cross_validation.train_test_split(X, y, test_size=.3, random_state=0)\n",
    "# X_train, X_test, y_train, y_test = train_test_split(X, y, test_size=.3, random_state=0)\n",
    "\n",
    "# # Learn to predict each class against the other\n",
    "# svm = svm.SVC(kernel='linear', probability=True, random_state=random_state)\n",
    "\n",
    "# # 通过decision_function()计算得到的y_score的值，用在roc_curve()函数中\n",
    "# y_score = svm.fit(X_train, y_train).decision_function(X_test)\n",
    "\n",
    "# # Compute ROC curve and ROC area for each class\n",
    "# fpr, tpr, threshold = roc_curve(y_test, y_score)  # 计算真正率和假正率\n",
    "# roc_auc = auc(fpr, tpr)  ###计算auc的值\n"
   ]
  },
  {
   "cell_type": "code",
   "execution_count": 275,
   "id": "7e661337",
   "metadata": {},
   "outputs": [
    {
     "data": {
      "text/html": [
       "<div>\n",
       "<style scoped>\n",
       "    .dataframe tbody tr th:only-of-type {\n",
       "        vertical-align: middle;\n",
       "    }\n",
       "\n",
       "    .dataframe tbody tr th {\n",
       "        vertical-align: top;\n",
       "    }\n",
       "\n",
       "    .dataframe thead th {\n",
       "        text-align: right;\n",
       "    }\n",
       "</style>\n",
       "<table border=\"1\" class=\"dataframe\">\n",
       "  <thead>\n",
       "    <tr style=\"text-align: right;\">\n",
       "      <th></th>\n",
       "      <th>Reviewer_ReviewContent_Sent_len</th>\n",
       "      <th>Reviewer_ReviewContent_SUB_Len</th>\n",
       "      <th>Reviewer_ReviewContent_OBJ_Len</th>\n",
       "      <th>Reviewer_ReviewContent_First_Third_PRP</th>\n",
       "      <th>Reviewer_ReviewContent_First_Third_PRP_ratio</th>\n",
       "      <th>Reviewer_ReviewContent_Second_PRP</th>\n",
       "      <th>Reviewer_ReviewContent_Second_PRP_ratio</th>\n",
       "      <th>Reviewer_ReviewContent_avg_sent_len</th>\n",
       "      <th>Reviewer_ReviewContent_avg_first_third_ratio</th>\n",
       "      <th>Reviewer_ReviewContent_avg_second_ratio</th>\n",
       "      <th>...</th>\n",
       "      <th>Product_Average_Rank</th>\n",
       "      <th>Product_Rank_SD</th>\n",
       "      <th>Product_Behavior_group_rank_common</th>\n",
       "      <th>Product_Behavior_group_extreme_rating_ratio</th>\n",
       "      <th>Product_Behavior_group_toprating_rating_ratio</th>\n",
       "      <th>Product_Behavior_group_buttomrating_rating_ratio</th>\n",
       "      <th>Product_Behavior_group_posrating_rating_ratio</th>\n",
       "      <th>Product_Behavior_group_negrating_rating_ratio</th>\n",
       "      <th>Product_Behavior_Early_Review_Ratio</th>\n",
       "      <th>Product_content_consine_similarity</th>\n",
       "    </tr>\n",
       "  </thead>\n",
       "  <tbody>\n",
       "    <tr>\n",
       "      <th>38508</th>\n",
       "      <td>93</td>\n",
       "      <td>3</td>\n",
       "      <td>0</td>\n",
       "      <td>0</td>\n",
       "      <td>0.000000</td>\n",
       "      <td>0</td>\n",
       "      <td>0.000000</td>\n",
       "      <td>163.666667</td>\n",
       "      <td>0.022403</td>\n",
       "      <td>0.000000</td>\n",
       "      <td>...</td>\n",
       "      <td>4.137931</td>\n",
       "      <td>0.926193</td>\n",
       "      <td>4</td>\n",
       "      <td>0.095833</td>\n",
       "      <td>0.095833</td>\n",
       "      <td>0.008333</td>\n",
       "      <td>0.095833</td>\n",
       "      <td>0.037500</td>\n",
       "      <td>0.017241</td>\n",
       "      <td>0.117581</td>\n",
       "    </tr>\n",
       "    <tr>\n",
       "      <th>70057</th>\n",
       "      <td>320</td>\n",
       "      <td>8</td>\n",
       "      <td>6</td>\n",
       "      <td>3</td>\n",
       "      <td>0.009375</td>\n",
       "      <td>0</td>\n",
       "      <td>0.000000</td>\n",
       "      <td>425.333333</td>\n",
       "      <td>0.011755</td>\n",
       "      <td>0.000000</td>\n",
       "      <td>...</td>\n",
       "      <td>4.047368</td>\n",
       "      <td>1.014638</td>\n",
       "      <td>4</td>\n",
       "      <td>0.093628</td>\n",
       "      <td>0.093628</td>\n",
       "      <td>0.009103</td>\n",
       "      <td>0.093628</td>\n",
       "      <td>0.031209</td>\n",
       "      <td>0.005263</td>\n",
       "      <td>0.072036</td>\n",
       "    </tr>\n",
       "    <tr>\n",
       "      <th>79011</th>\n",
       "      <td>142</td>\n",
       "      <td>5</td>\n",
       "      <td>3</td>\n",
       "      <td>3</td>\n",
       "      <td>0.021127</td>\n",
       "      <td>0</td>\n",
       "      <td>0.000000</td>\n",
       "      <td>159.428571</td>\n",
       "      <td>0.015233</td>\n",
       "      <td>0.003584</td>\n",
       "      <td>...</td>\n",
       "      <td>4.078818</td>\n",
       "      <td>0.869559</td>\n",
       "      <td>4</td>\n",
       "      <td>0.082126</td>\n",
       "      <td>0.082126</td>\n",
       "      <td>0.003623</td>\n",
       "      <td>0.082126</td>\n",
       "      <td>0.032609</td>\n",
       "      <td>0.029557</td>\n",
       "      <td>0.098920</td>\n",
       "    </tr>\n",
       "    <tr>\n",
       "      <th>88360</th>\n",
       "      <td>152</td>\n",
       "      <td>2</td>\n",
       "      <td>5</td>\n",
       "      <td>1</td>\n",
       "      <td>0.006579</td>\n",
       "      <td>1</td>\n",
       "      <td>0.006579</td>\n",
       "      <td>187.666667</td>\n",
       "      <td>0.007105</td>\n",
       "      <td>0.001776</td>\n",
       "      <td>...</td>\n",
       "      <td>4.152174</td>\n",
       "      <td>1.032094</td>\n",
       "      <td>5</td>\n",
       "      <td>0.109948</td>\n",
       "      <td>0.109948</td>\n",
       "      <td>0.005236</td>\n",
       "      <td>0.109948</td>\n",
       "      <td>0.015707</td>\n",
       "      <td>0.021739</td>\n",
       "      <td>0.131702</td>\n",
       "    </tr>\n",
       "    <tr>\n",
       "      <th>41228</th>\n",
       "      <td>145</td>\n",
       "      <td>3</td>\n",
       "      <td>2</td>\n",
       "      <td>0</td>\n",
       "      <td>0.000000</td>\n",
       "      <td>2</td>\n",
       "      <td>0.013793</td>\n",
       "      <td>186.000000</td>\n",
       "      <td>0.000000</td>\n",
       "      <td>0.007168</td>\n",
       "      <td>...</td>\n",
       "      <td>3.925373</td>\n",
       "      <td>0.938939</td>\n",
       "      <td>4</td>\n",
       "      <td>0.074144</td>\n",
       "      <td>0.074144</td>\n",
       "      <td>0.005703</td>\n",
       "      <td>0.074144</td>\n",
       "      <td>0.053232</td>\n",
       "      <td>0.007463</td>\n",
       "      <td>0.113649</td>\n",
       "    </tr>\n",
       "    <tr>\n",
       "      <th>...</th>\n",
       "      <td>...</td>\n",
       "      <td>...</td>\n",
       "      <td>...</td>\n",
       "      <td>...</td>\n",
       "      <td>...</td>\n",
       "      <td>...</td>\n",
       "      <td>...</td>\n",
       "      <td>...</td>\n",
       "      <td>...</td>\n",
       "      <td>...</td>\n",
       "      <td>...</td>\n",
       "      <td>...</td>\n",
       "      <td>...</td>\n",
       "      <td>...</td>\n",
       "      <td>...</td>\n",
       "      <td>...</td>\n",
       "      <td>...</td>\n",
       "      <td>...</td>\n",
       "      <td>...</td>\n",
       "      <td>...</td>\n",
       "      <td>...</td>\n",
       "    </tr>\n",
       "    <tr>\n",
       "      <th>19894</th>\n",
       "      <td>1323</td>\n",
       "      <td>28</td>\n",
       "      <td>36</td>\n",
       "      <td>23</td>\n",
       "      <td>0.017385</td>\n",
       "      <td>7</td>\n",
       "      <td>0.005291</td>\n",
       "      <td>843.000000</td>\n",
       "      <td>0.012513</td>\n",
       "      <td>0.002334</td>\n",
       "      <td>...</td>\n",
       "      <td>4.013423</td>\n",
       "      <td>0.965531</td>\n",
       "      <td>4</td>\n",
       "      <td>0.088629</td>\n",
       "      <td>0.088629</td>\n",
       "      <td>0.005017</td>\n",
       "      <td>0.088629</td>\n",
       "      <td>0.043478</td>\n",
       "      <td>0.006711</td>\n",
       "      <td>0.098477</td>\n",
       "    </tr>\n",
       "    <tr>\n",
       "      <th>43716</th>\n",
       "      <td>1347</td>\n",
       "      <td>28</td>\n",
       "      <td>34</td>\n",
       "      <td>20</td>\n",
       "      <td>0.014848</td>\n",
       "      <td>1</td>\n",
       "      <td>0.000742</td>\n",
       "      <td>1089.500000</td>\n",
       "      <td>0.011261</td>\n",
       "      <td>0.001624</td>\n",
       "      <td>...</td>\n",
       "      <td>4.057621</td>\n",
       "      <td>0.934756</td>\n",
       "      <td>5</td>\n",
       "      <td>0.093449</td>\n",
       "      <td>0.093449</td>\n",
       "      <td>0.002290</td>\n",
       "      <td>0.093449</td>\n",
       "      <td>0.043060</td>\n",
       "      <td>0.003717</td>\n",
       "      <td>0.072262</td>\n",
       "    </tr>\n",
       "    <tr>\n",
       "      <th>75628</th>\n",
       "      <td>290</td>\n",
       "      <td>7</td>\n",
       "      <td>7</td>\n",
       "      <td>2</td>\n",
       "      <td>0.006897</td>\n",
       "      <td>0</td>\n",
       "      <td>0.000000</td>\n",
       "      <td>303.333333</td>\n",
       "      <td>0.010989</td>\n",
       "      <td>0.000000</td>\n",
       "      <td>...</td>\n",
       "      <td>3.857143</td>\n",
       "      <td>0.925820</td>\n",
       "      <td>4</td>\n",
       "      <td>0.062678</td>\n",
       "      <td>0.062678</td>\n",
       "      <td>0.002849</td>\n",
       "      <td>0.062678</td>\n",
       "      <td>0.045584</td>\n",
       "      <td>0.021978</td>\n",
       "      <td>0.079748</td>\n",
       "    </tr>\n",
       "    <tr>\n",
       "      <th>82122</th>\n",
       "      <td>79</td>\n",
       "      <td>1</td>\n",
       "      <td>4</td>\n",
       "      <td>1</td>\n",
       "      <td>0.012658</td>\n",
       "      <td>2</td>\n",
       "      <td>0.025316</td>\n",
       "      <td>272.333333</td>\n",
       "      <td>0.008568</td>\n",
       "      <td>0.002448</td>\n",
       "      <td>...</td>\n",
       "      <td>4.057621</td>\n",
       "      <td>0.934756</td>\n",
       "      <td>5</td>\n",
       "      <td>0.093449</td>\n",
       "      <td>0.093449</td>\n",
       "      <td>0.002290</td>\n",
       "      <td>0.093449</td>\n",
       "      <td>0.043060</td>\n",
       "      <td>0.003717</td>\n",
       "      <td>0.072262</td>\n",
       "    </tr>\n",
       "    <tr>\n",
       "      <th>74957</th>\n",
       "      <td>1523</td>\n",
       "      <td>40</td>\n",
       "      <td>40</td>\n",
       "      <td>21</td>\n",
       "      <td>0.013789</td>\n",
       "      <td>1</td>\n",
       "      <td>0.000657</td>\n",
       "      <td>822.166667</td>\n",
       "      <td>0.015001</td>\n",
       "      <td>0.001622</td>\n",
       "      <td>...</td>\n",
       "      <td>3.984615</td>\n",
       "      <td>0.844358</td>\n",
       "      <td>4</td>\n",
       "      <td>0.073359</td>\n",
       "      <td>0.073359</td>\n",
       "      <td>0.000000</td>\n",
       "      <td>0.073359</td>\n",
       "      <td>0.050193</td>\n",
       "      <td>0.007692</td>\n",
       "      <td>0.092493</td>\n",
       "    </tr>\n",
       "  </tbody>\n",
       "</table>\n",
       "<p>8272 rows × 47 columns</p>\n",
       "</div>"
      ],
      "text/plain": [
       "       Reviewer_ReviewContent_Sent_len  Reviewer_ReviewContent_SUB_Len  \\\n",
       "38508                               93                               3   \n",
       "70057                              320                               8   \n",
       "79011                              142                               5   \n",
       "88360                              152                               2   \n",
       "41228                              145                               3   \n",
       "...                                ...                             ...   \n",
       "19894                             1323                              28   \n",
       "43716                             1347                              28   \n",
       "75628                              290                               7   \n",
       "82122                               79                               1   \n",
       "74957                             1523                              40   \n",
       "\n",
       "       Reviewer_ReviewContent_OBJ_Len  Reviewer_ReviewContent_First_Third_PRP  \\\n",
       "38508                               0                                       0   \n",
       "70057                               6                                       3   \n",
       "79011                               3                                       3   \n",
       "88360                               5                                       1   \n",
       "41228                               2                                       0   \n",
       "...                               ...                                     ...   \n",
       "19894                              36                                      23   \n",
       "43716                              34                                      20   \n",
       "75628                               7                                       2   \n",
       "82122                               4                                       1   \n",
       "74957                              40                                      21   \n",
       "\n",
       "       Reviewer_ReviewContent_First_Third_PRP_ratio  \\\n",
       "38508                                      0.000000   \n",
       "70057                                      0.009375   \n",
       "79011                                      0.021127   \n",
       "88360                                      0.006579   \n",
       "41228                                      0.000000   \n",
       "...                                             ...   \n",
       "19894                                      0.017385   \n",
       "43716                                      0.014848   \n",
       "75628                                      0.006897   \n",
       "82122                                      0.012658   \n",
       "74957                                      0.013789   \n",
       "\n",
       "       Reviewer_ReviewContent_Second_PRP  \\\n",
       "38508                                  0   \n",
       "70057                                  0   \n",
       "79011                                  0   \n",
       "88360                                  1   \n",
       "41228                                  2   \n",
       "...                                  ...   \n",
       "19894                                  7   \n",
       "43716                                  1   \n",
       "75628                                  0   \n",
       "82122                                  2   \n",
       "74957                                  1   \n",
       "\n",
       "       Reviewer_ReviewContent_Second_PRP_ratio  \\\n",
       "38508                                 0.000000   \n",
       "70057                                 0.000000   \n",
       "79011                                 0.000000   \n",
       "88360                                 0.006579   \n",
       "41228                                 0.013793   \n",
       "...                                        ...   \n",
       "19894                                 0.005291   \n",
       "43716                                 0.000742   \n",
       "75628                                 0.000000   \n",
       "82122                                 0.025316   \n",
       "74957                                 0.000657   \n",
       "\n",
       "       Reviewer_ReviewContent_avg_sent_len  \\\n",
       "38508                           163.666667   \n",
       "70057                           425.333333   \n",
       "79011                           159.428571   \n",
       "88360                           187.666667   \n",
       "41228                           186.000000   \n",
       "...                                    ...   \n",
       "19894                           843.000000   \n",
       "43716                          1089.500000   \n",
       "75628                           303.333333   \n",
       "82122                           272.333333   \n",
       "74957                           822.166667   \n",
       "\n",
       "       Reviewer_ReviewContent_avg_first_third_ratio  \\\n",
       "38508                                      0.022403   \n",
       "70057                                      0.011755   \n",
       "79011                                      0.015233   \n",
       "88360                                      0.007105   \n",
       "41228                                      0.000000   \n",
       "...                                             ...   \n",
       "19894                                      0.012513   \n",
       "43716                                      0.011261   \n",
       "75628                                      0.010989   \n",
       "82122                                      0.008568   \n",
       "74957                                      0.015001   \n",
       "\n",
       "       Reviewer_ReviewContent_avg_second_ratio  ...  Product_Average_Rank  \\\n",
       "38508                                 0.000000  ...              4.137931   \n",
       "70057                                 0.000000  ...              4.047368   \n",
       "79011                                 0.003584  ...              4.078818   \n",
       "88360                                 0.001776  ...              4.152174   \n",
       "41228                                 0.007168  ...              3.925373   \n",
       "...                                        ...  ...                   ...   \n",
       "19894                                 0.002334  ...              4.013423   \n",
       "43716                                 0.001624  ...              4.057621   \n",
       "75628                                 0.000000  ...              3.857143   \n",
       "82122                                 0.002448  ...              4.057621   \n",
       "74957                                 0.001622  ...              3.984615   \n",
       "\n",
       "       Product_Rank_SD  Product_Behavior_group_rank_common  \\\n",
       "38508         0.926193                                   4   \n",
       "70057         1.014638                                   4   \n",
       "79011         0.869559                                   4   \n",
       "88360         1.032094                                   5   \n",
       "41228         0.938939                                   4   \n",
       "...                ...                                 ...   \n",
       "19894         0.965531                                   4   \n",
       "43716         0.934756                                   5   \n",
       "75628         0.925820                                   4   \n",
       "82122         0.934756                                   5   \n",
       "74957         0.844358                                   4   \n",
       "\n",
       "       Product_Behavior_group_extreme_rating_ratio  \\\n",
       "38508                                     0.095833   \n",
       "70057                                     0.093628   \n",
       "79011                                     0.082126   \n",
       "88360                                     0.109948   \n",
       "41228                                     0.074144   \n",
       "...                                            ...   \n",
       "19894                                     0.088629   \n",
       "43716                                     0.093449   \n",
       "75628                                     0.062678   \n",
       "82122                                     0.093449   \n",
       "74957                                     0.073359   \n",
       "\n",
       "       Product_Behavior_group_toprating_rating_ratio  \\\n",
       "38508                                       0.095833   \n",
       "70057                                       0.093628   \n",
       "79011                                       0.082126   \n",
       "88360                                       0.109948   \n",
       "41228                                       0.074144   \n",
       "...                                              ...   \n",
       "19894                                       0.088629   \n",
       "43716                                       0.093449   \n",
       "75628                                       0.062678   \n",
       "82122                                       0.093449   \n",
       "74957                                       0.073359   \n",
       "\n",
       "       Product_Behavior_group_buttomrating_rating_ratio  \\\n",
       "38508                                          0.008333   \n",
       "70057                                          0.009103   \n",
       "79011                                          0.003623   \n",
       "88360                                          0.005236   \n",
       "41228                                          0.005703   \n",
       "...                                                 ...   \n",
       "19894                                          0.005017   \n",
       "43716                                          0.002290   \n",
       "75628                                          0.002849   \n",
       "82122                                          0.002290   \n",
       "74957                                          0.000000   \n",
       "\n",
       "       Product_Behavior_group_posrating_rating_ratio  \\\n",
       "38508                                       0.095833   \n",
       "70057                                       0.093628   \n",
       "79011                                       0.082126   \n",
       "88360                                       0.109948   \n",
       "41228                                       0.074144   \n",
       "...                                              ...   \n",
       "19894                                       0.088629   \n",
       "43716                                       0.093449   \n",
       "75628                                       0.062678   \n",
       "82122                                       0.093449   \n",
       "74957                                       0.073359   \n",
       "\n",
       "       Product_Behavior_group_negrating_rating_ratio  \\\n",
       "38508                                       0.037500   \n",
       "70057                                       0.031209   \n",
       "79011                                       0.032609   \n",
       "88360                                       0.015707   \n",
       "41228                                       0.053232   \n",
       "...                                              ...   \n",
       "19894                                       0.043478   \n",
       "43716                                       0.043060   \n",
       "75628                                       0.045584   \n",
       "82122                                       0.043060   \n",
       "74957                                       0.050193   \n",
       "\n",
       "       Product_Behavior_Early_Review_Ratio  Product_content_consine_similarity  \n",
       "38508                             0.017241                            0.117581  \n",
       "70057                             0.005263                            0.072036  \n",
       "79011                             0.029557                            0.098920  \n",
       "88360                             0.021739                            0.131702  \n",
       "41228                             0.007463                            0.113649  \n",
       "...                                    ...                                 ...  \n",
       "19894                             0.006711                            0.098477  \n",
       "43716                             0.003717                            0.072262  \n",
       "75628                             0.021978                            0.079748  \n",
       "82122                             0.003717                            0.072262  \n",
       "74957                             0.007692                            0.092493  \n",
       "\n",
       "[8272 rows x 47 columns]"
      ]
     },
     "execution_count": 275,
     "metadata": {},
     "output_type": "execute_result"
    }
   ],
   "source": [
    "train_X"
   ]
  },
  {
   "cell_type": "code",
   "execution_count": 276,
   "id": "47486a71",
   "metadata": {},
   "outputs": [],
   "source": [
    "# # 尝试 1\n",
    "# n_samples, n_features = train_X.shape\n",
    "# random_state = np.random.RandomState(0)\n",
    "# train_X = np.c_[train_X, random_state.randn(n_samples, 20 * n_features)]\n",
    "# valid_X = np.c_[valid_X, random_state.randn(n_samples, 20 * n_features)]\n",
    "# li_model = svm.SVC(kernel='linear', probability=True, random_state=random_state)\n",
    "# trainmodel = li_model.fit(train_X,train_Y)\n",
    "# valid_Y_hat = li_model.predict(valid_X)\n",
    "# fpr, tpr, threshold = roc_curve(valid_Y, valid_Y_hat)\n",
    "# roc_auc = auc(fpr, tpr)\n",
    "# print(fpr, tpr)"
   ]
  },
  {
   "cell_type": "code",
   "execution_count": 277,
   "id": "7bd2ab28",
   "metadata": {},
   "outputs": [],
   "source": [
    "# trainmodel = knn_model.fit(train_X,train_Y)\n",
    "# valid_Y_hat = knn_model.predict(valid_X)\n",
    "# fpr, tpr, threshold = roc_curve(valid_Y, valid_Y_hat)\n",
    "# roc_auc = auc(fpr, tpr)\n",
    "# print(fpr, tpr)"
   ]
  },
  {
   "cell_type": "code",
   "execution_count": 278,
   "id": "3c3f06e1",
   "metadata": {},
   "outputs": [],
   "source": [
    "# # 尝试2\n",
    "# random_state = np.random.RandomState(0)\n",
    "# li_model = svm.SVC(kernel='linear', probability=True, random_state=random_state)\n",
    "# trainmodel = li_model.fit(train_X,train_Y)\n",
    "# valid_Y_hat = li_model.predict(valid_X)\n",
    "# fpr, tpr, threshold = roc_curve(valid_Y, valid_Y_hat)\n",
    "# roc_auc = auc(fpr, tpr)\n",
    "# print(fpr, tpr)"
   ]
  },
  {
   "cell_type": "code",
   "execution_count": 279,
   "id": "b9809f85",
   "metadata": {},
   "outputs": [
    {
     "name": "stdout",
     "output_type": "stream",
     "text": [
      "[0.         0.36896047 1.        ] [0.        0.7658046 1.       ]\n"
     ]
    }
   ],
   "source": [
    "trainmodel = svc_model.fit(train_X,train_Y)\n",
    "valid_Y_hat = svc_model.predict(valid_X)\n",
    "fpr, tpr, threshold = roc_curve(valid_Y, valid_Y_hat)\n",
    "roc_auc = auc(fpr, tpr)\n",
    "print(fpr, tpr)"
   ]
  },
  {
   "cell_type": "code",
   "execution_count": 280,
   "id": "e64ebb23",
   "metadata": {},
   "outputs": [
    {
     "data": {
      "text/plain": [
       "<Figure size 432x288 with 0 Axes>"
      ]
     },
     "metadata": {},
     "output_type": "display_data"
    },
    {
     "data": {
      "image/png": "[encoded data removed]",
      "text/plain": [
       "<Figure size 720x720 with 1 Axes>"
      ]
     },
     "metadata": {
      "needs_background": "light"
     },
     "output_type": "display_data"
    }
   ],
   "source": [
    "plt.figure()\n",
    "lw = 2\n",
    "plt.figure(figsize=(10, 10))\n",
    "plt.plot(fpr, tpr, color='darkorange',\n",
    "         lw=lw, label='ROC curve (area = %0.2f)' % roc_auc)  # 假正率为横坐标，真正率为纵坐标做曲线\n",
    "plt.plot([0, 1], [0, 1], color='navy', lw=lw, linestyle='--')\n",
    "plt.xlim([0.0, 1.0])\n",
    "plt.ylim([0.0, 1.05])\n",
    "plt.xlabel('False Positive Rate')\n",
    "plt.ylabel('True Positive Rate')\n",
    "plt.title('ROC curve - SupportVectorClassifier')\n",
    "plt.legend(loc=\"lower right\")\n",
    "plt.savefig('./'+ path +'/ROC curve - SupportVectorClassifier.png')\n",
    "plt.show()"
   ]
  },
  {
   "cell_type": "code",
   "execution_count": 281,
   "id": "cdec5162",
   "metadata": {},
   "outputs": [
    {
     "name": "stdout",
     "output_type": "stream",
     "text": [
      "[0.         0.24304539 1.        ] [0.         0.71695402 1.        ]\n"
     ]
    },
    {
     "data": {
      "text/plain": [
       "<Figure size 432x288 with 0 Axes>"
      ]
     },
     "metadata": {},
     "output_type": "display_data"
    },
    {
     "data": {
      "image/png": "[encoded data removed]",
      "text/plain": [
       "<Figure size 720x720 with 1 Axes>"
      ]
     },
     "metadata": {
      "needs_background": "light"
     },
     "output_type": "display_data"
    }
   ],
   "source": [
    "trainmodel = lr_model.fit(train_X,train_Y)\n",
    "valid_Y_hat = lr_model.predict(valid_X)\n",
    "fpr, tpr, threshold = roc_curve(valid_Y, valid_Y_hat)\n",
    "roc_auc = auc(fpr, tpr)\n",
    "print(fpr, tpr)\n",
    "\n",
    "plt.figure()\n",
    "lw = 2\n",
    "plt.figure(figsize=(10, 10))\n",
    "plt.plot(fpr, tpr, color='darkorange',\n",
    "         lw=lw, label='ROC curve (area = %0.2f)' % roc_auc)  # 假正率为横坐标，真正率为纵坐标做曲线\n",
    "plt.plot([0, 1], [0, 1], color='navy', lw=lw, linestyle='--')\n",
    "plt.xlim([0.0, 1.0])\n",
    "plt.ylim([0.0, 1.05])\n",
    "plt.xlabel('False Positive Rate')\n",
    "plt.ylabel('True Positive Rate')\n",
    "plt.title('ROC curve - KNeighborsClassifier')\n",
    "plt.legend(loc=\"lower right\")\n",
    "plt.savefig('./'+ path +'/ROC curve - KNeighborsClassifier.png')\n",
    "plt.show()"
   ]
  },
  {
   "cell_type": "code",
   "execution_count": 282,
   "id": "97ec56ac",
   "metadata": {},
   "outputs": [
    {
     "name": "stdout",
     "output_type": "stream",
     "text": [
      "[0.         0.18155198 1.        ] [0.         0.41163793 1.        ]\n"
     ]
    },
    {
     "data": {
      "text/plain": [
       "<Figure size 432x288 with 0 Axes>"
      ]
     },
     "metadata": {},
     "output_type": "display_data"
    },
    {
     "data": {
      "image/png": "[encoded data removed]",
      "text/plain": [
       "<Figure size 720x720 with 1 Axes>"
      ]
     },
     "metadata": {
      "needs_background": "light"
     },
     "output_type": "display_data"
    }
   ],
   "source": [
    "trainmodel = knn_model.fit(train_X,train_Y)\n",
    "valid_Y_hat = knn_model.predict(valid_X)\n",
    "fpr, tpr, threshold = roc_curve(valid_Y, valid_Y_hat)\n",
    "roc_auc = auc(fpr, tpr)\n",
    "print(fpr, tpr)\n",
    "\n",
    "plt.figure()\n",
    "lw = 2\n",
    "plt.figure(figsize=(10, 10))\n",
    "plt.plot(fpr, tpr, color='darkorange',\n",
    "         lw=lw, label='ROC curve (area = %0.2f)' % roc_auc)  # 假正率为横坐标，真正率为纵坐标做曲线\n",
    "plt.plot([0, 1], [0, 1], color='navy', lw=lw, linestyle='--')\n",
    "plt.xlim([0.0, 1.0])\n",
    "plt.ylim([0.0, 1.05])\n",
    "plt.xlabel('False Positive Rate')\n",
    "plt.ylabel('True Positive Rate')\n",
    "plt.title('ROC curve - LogisticRegression')\n",
    "plt.legend(loc=\"lower right\")\n",
    "plt.savefig('./'+ path +'/ROC curve - LogisticRegression.png')\n",
    "plt.show()"
   ]
  },
  {
   "cell_type": "code",
   "execution_count": 283,
   "id": "749f830f",
   "metadata": {},
   "outputs": [
    {
     "name": "stdout",
     "output_type": "stream",
     "text": [
      "[0.         0.18374817 1.        ] [0.         0.73491379 1.        ]\n"
     ]
    },
    {
     "data": {
      "text/plain": [
       "<Figure size 432x288 with 0 Axes>"
      ]
     },
     "metadata": {},
     "output_type": "display_data"
    },
    {
     "data": {
      "image/png": "[encoded data removed]",
      "text/plain": [
       "<Figure size 720x720 with 1 Axes>"
      ]
     },
     "metadata": {
      "needs_background": "light"
     },
     "output_type": "display_data"
    }
   ],
   "source": [
    "trainmodel = dec_model.fit(train_X,train_Y)\n",
    "valid_Y_hat = dec_model.predict(valid_X)\n",
    "fpr, tpr, threshold = roc_curve(valid_Y, valid_Y_hat)\n",
    "roc_auc = auc(fpr, tpr)\n",
    "print(fpr, tpr)\n",
    "\n",
    "plt.figure()\n",
    "lw = 2\n",
    "plt.figure(figsize=(10, 10))\n",
    "plt.plot(fpr, tpr, color='darkorange',\n",
    "         lw=lw, label='ROC curve (area = %0.2f)' % roc_auc)  # 假正率为横坐标，真正率为纵坐标做曲线\n",
    "plt.plot([0, 1], [0, 1], color='navy', lw=lw, linestyle='--')\n",
    "plt.xlim([0.0, 1.0])\n",
    "plt.ylim([0.0, 1.05])\n",
    "plt.xlabel('False Positive Rate')\n",
    "plt.ylabel('True Positive Rate')\n",
    "plt.title('ROC curve - DecisionTreeClassifier')\n",
    "plt.legend(loc=\"lower right\")\n",
    "plt.savefig('./'+ path +'/ROC curve - DecisionTreeClassifier.png')\n",
    "plt.show()"
   ]
  },
  {
   "cell_type": "code",
   "execution_count": 284,
   "id": "2278b416",
   "metadata": {},
   "outputs": [
    {
     "name": "stdout",
     "output_type": "stream",
     "text": [
      "[0.         0.33235725 1.        ] [0.         0.74497126 1.        ]\n"
     ]
    },
    {
     "data": {
      "text/plain": [
       "<Figure size 432x288 with 0 Axes>"
      ]
     },
     "metadata": {},
     "output_type": "display_data"
    },
    {
     "data": {
      "image/png": "[encoded data removed]",
      "text/plain": [
       "<Figure size 720x720 with 1 Axes>"
      ]
     },
     "metadata": {
      "needs_background": "light"
     },
     "output_type": "display_data"
    }
   ],
   "source": [
    "trainmodel = rfc_model.fit(train_X,train_Y)\n",
    "valid_Y_hat = rfc_model.predict(valid_X)\n",
    "fpr, tpr, threshold = roc_curve(valid_Y, valid_Y_hat)\n",
    "roc_auc = auc(fpr, tpr)\n",
    "print(fpr, tpr)\n",
    "\n",
    "plt.figure()\n",
    "lw = 2\n",
    "plt.figure(figsize=(10, 10))\n",
    "plt.plot(fpr, tpr, color='darkorange',\n",
    "         lw=lw, label='ROC curve (area = %0.2f)' % roc_auc)  # 假正率为横坐标，真正率为纵坐标做曲线\n",
    "plt.plot([0, 1], [0, 1], color='navy', lw=lw, linestyle='--')\n",
    "plt.xlim([0.0, 1.0])\n",
    "plt.ylim([0.0, 1.05])\n",
    "plt.xlabel('False Positive Rate')\n",
    "plt.ylabel('True Positive Rate')\n",
    "plt.title('ROC curve - RandomForestClassifier')\n",
    "plt.legend(loc=\"lower right\")\n",
    "plt.savefig('./'+ path +'/ROC curve - RandomForestClassifier.png')\n",
    "plt.show()"
   ]
  },
  {
   "cell_type": "code",
   "execution_count": 285,
   "id": "f670d577",
   "metadata": {},
   "outputs": [
    {
     "name": "stdout",
     "output_type": "stream",
     "text": [
      "[0.         0.22181552 1.        ] [0.         0.76652299 1.        ]\n"
     ]
    },
    {
     "data": {
      "text/plain": [
       "<Figure size 432x288 with 0 Axes>"
      ]
     },
     "metadata": {},
     "output_type": "display_data"
    },
    {
     "data": {
      "image/png": "[encoded data removed]",
      "text/plain": [
       "<Figure size 720x720 with 1 Axes>"
      ]
     },
     "metadata": {
      "needs_background": "light"
     },
     "output_type": "display_data"
    }
   ],
   "source": [
    "trainmodel = adb_model.fit(train_X,train_Y)\n",
    "valid_Y_hat = adb_model.predict(valid_X)\n",
    "fpr, tpr, threshold = roc_curve(valid_Y, valid_Y_hat)\n",
    "roc_auc = auc(fpr, tpr)\n",
    "print(fpr, tpr)\n",
    "\n",
    "plt.figure()\n",
    "lw = 2\n",
    "plt.figure(figsize=(10, 10))\n",
    "plt.plot(fpr, tpr, color='darkorange',\n",
    "         lw=lw, label='ROC curve (area = %0.2f)' % roc_auc)  # 假正率为横坐标，真正率为纵坐标做曲线\n",
    "plt.plot([0, 1], [0, 1], color='navy', lw=lw, linestyle='--')\n",
    "plt.xlim([0.0, 1.0])\n",
    "plt.ylim([0.0, 1.05])\n",
    "plt.xlabel('False Positive Rate')\n",
    "plt.ylabel('True Positive Rate')\n",
    "plt.title('ROC curve - AdaBoostClassifier')\n",
    "plt.legend(loc=\"lower right\")\n",
    "plt.savefig('./'+ path +'/ROC curve - AdaBoostClassifier.png')\n",
    "plt.show()"
   ]
  },
  {
   "cell_type": "code",
   "execution_count": 286,
   "id": "3a3b2c5e",
   "metadata": {},
   "outputs": [
    {
     "name": "stdout",
     "output_type": "stream",
     "text": [
      "[0.         0.50366032 1.        ] [0.         0.86063218 1.        ]\n"
     ]
    },
    {
     "data": {
      "text/plain": [
       "<Figure size 432x288 with 0 Axes>"
      ]
     },
     "metadata": {},
     "output_type": "display_data"
    },
    {
     "data": {
      "image/png": "[encoded data removed]",
      "text/plain": [
       "<Figure size 720x720 with 1 Axes>"
      ]
     },
     "metadata": {
      "needs_background": "light"
     },
     "output_type": "display_data"
    }
   ],
   "source": [
    "trainmodel = gnb.fit(train_X,train_Y)\n",
    "valid_Y_hat = gnb.predict(valid_X)\n",
    "fpr, tpr, threshold = roc_curve(valid_Y, valid_Y_hat)\n",
    "roc_auc = auc(fpr, tpr)\n",
    "print(fpr, tpr)\n",
    "\n",
    "plt.figure()\n",
    "lw = 2\n",
    "plt.figure(figsize=(10, 10))\n",
    "plt.plot(fpr, tpr, color='darkorange',\n",
    "         lw=lw, label='ROC curve (area = %0.2f)' % roc_auc)  # 假正率为横坐标，真正率为纵坐标做曲线\n",
    "plt.plot([0, 1], [0, 1], color='navy', lw=lw, linestyle='--')\n",
    "plt.xlim([0.0, 1.0])\n",
    "plt.ylim([0.0, 1.05])\n",
    "plt.xlabel('False Positive Rate')\n",
    "plt.ylabel('True Positive Rate')\n",
    "plt.title('ROC curve - GaussianNB')\n",
    "plt.legend(loc=\"lower right\")\n",
    "plt.savefig('./'+ path +'/ROC curve - GaussianNB.png')\n",
    "plt.show()\n"
   ]
  },
  {
   "cell_type": "code",
   "execution_count": null,
   "id": "9f06a8ad",
   "metadata": {},
   "outputs": [],
   "source": []
  },
  {
   "cell_type": "code",
   "execution_count": null,
   "id": "b9ef9590",
   "metadata": {},
   "outputs": [],
   "source": []
  }
 ],
 "metadata": {
  "kernelspec": {
   "display_name": "Python 3",
   "language": "python",
   "name": "python3"
  },
  "language_info": {
   "codemirror_mode": {
    "name": "ipython",
    "version": 3
   },
   "file_extension": ".py",
   "mimetype": "text/x-python",
   "name": "python",
   "nbconvert_exporter": "python",
   "pygments_lexer": "ipython3",
   "version": "3.8.8"
  }
 },
 "nbformat": 4,
 "nbformat_minor": 5
}

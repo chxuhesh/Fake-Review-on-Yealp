{
 "cells": [
  {
   "cell_type": "code",
   "execution_count": 1,
   "id": "3ca67a04",
   "metadata": {},
   "outputs": [],
   "source": [
    "import math\n",
    "from xlrd import open_workbook\n",
    "import xlsxwriter\n",
    "from collections import Counter\n",
    "import numpy as np\n",
    "from datetime import datetime\n",
    "from datetime import date\n",
    "import xlrd\n",
    "import math\n",
    "import operator\n",
    "import time\n",
    "from operator import itemgetter\n",
    "import pandas as pd\n",
    "\n",
    "import string\n",
    "from nltk import word_tokenize    \n",
    "from nltk.stem.snowball import SnowballStemmer\n",
    "from sklearn.feature_extraction.text import CountVectorizer\n",
    "from sklearn.feature_extraction.text import TfidfTransformer\n",
    "from sklearn.metrics.pairwise import cosine_similarity\n",
    "from xlrd import open_workbook\n",
    "from numpy.lib.stride_tricks import as_strided\n",
    "import re\n",
    "import nltk\n",
    "#nltk.download('averaged_perceptron_tagger')\n",
    "#nltk.download('wordnet')\n",
    "#nltk.download('sentiwordnet')\n",
    "from nltk import pos_tag\n",
    "from nltk.corpus import stopwords\n",
    "import nltk.tokenize.punkt\n",
    "from nltk.corpus import sentiwordnet as swn\n",
    "from nltk.corpus import wordnet as wn"
   ]
  },
  {
   "cell_type": "markdown",
   "id": "bc509e0c",
   "metadata": {},
   "source": [
    "# Product-centric"
   ]
  },
  {
   "cell_type": "markdown",
   "id": "1d3293b0",
   "metadata": {},
   "source": [
    "# Prodcut-centric-Behavior-feature"
   ]
  },
  {
   "cell_type": "code",
   "execution_count": 342,
   "id": "593807d9",
   "metadata": {},
   "outputs": [],
   "source": [
    "#read data\n",
    "Product_Behavior = pd.read_excel(\"C:\\\\Users\\\\Harmony Chen\\\\Documents\\\\JupyterLab\\\\Code-and-Results-master\\\\Data\\\\YelpNYC\\\\Metadata (Sortedby_Product_wise).xlsx\")# Change the path according to the file location"
   ]
  },
  {
   "cell_type": "code",
   "execution_count": 343,
   "id": "b1f9b584",
   "metadata": {},
   "outputs": [
    {
     "data": {
      "text/plain": [
       "Counter({-1: 6898, 1: 84008})"
      ]
     },
     "execution_count": 343,
     "metadata": {},
     "output_type": "execute_result"
    }
   ],
   "source": [
    "Counter(Product_Behavior[\"Label\"])"
   ]
  },
  {
   "cell_type": "code",
   "execution_count": 344,
   "id": "3fdf0cfc",
   "metadata": {},
   "outputs": [
    {
     "data": {
      "text/plain": [
       "2893"
      ]
     },
     "execution_count": 344,
     "metadata": {},
     "output_type": "execute_result"
    }
   ],
   "source": [
    "Product_Behavior[\"Date\"].nunique()"
   ]
  },
  {
   "cell_type": "code",
   "execution_count": 345,
   "id": "de58ff5b",
   "metadata": {},
   "outputs": [
    {
     "data": {
      "text/html": [
       "<div>\n",
       "<style scoped>\n",
       "    .dataframe tbody tr th:only-of-type {\n",
       "        vertical-align: middle;\n",
       "    }\n",
       "\n",
       "    .dataframe tbody tr th {\n",
       "        vertical-align: top;\n",
       "    }\n",
       "\n",
       "    .dataframe thead th {\n",
       "        text-align: right;\n",
       "    }\n",
       "</style>\n",
       "<table border=\"1\" class=\"dataframe\">\n",
       "  <thead>\n",
       "    <tr style=\"text-align: right;\">\n",
       "      <th></th>\n",
       "      <th>Reviewer_id</th>\n",
       "      <th>Product_id</th>\n",
       "      <th>Rating</th>\n",
       "      <th>Label</th>\n",
       "      <th>Date</th>\n",
       "      <th>Count (P)</th>\n",
       "    </tr>\n",
       "  </thead>\n",
       "  <tbody>\n",
       "    <tr>\n",
       "      <th>0</th>\n",
       "      <td>923</td>\n",
       "      <td>0</td>\n",
       "      <td>3</td>\n",
       "      <td>-1</td>\n",
       "      <td>2014-12-08</td>\n",
       "      <td>98</td>\n",
       "    </tr>\n",
       "    <tr>\n",
       "      <th>1</th>\n",
       "      <td>927</td>\n",
       "      <td>0</td>\n",
       "      <td>4</td>\n",
       "      <td>-1</td>\n",
       "      <td>2010-11-01</td>\n",
       "      <td>98</td>\n",
       "    </tr>\n",
       "    <tr>\n",
       "      <th>2</th>\n",
       "      <td>930</td>\n",
       "      <td>0</td>\n",
       "      <td>4</td>\n",
       "      <td>-1</td>\n",
       "      <td>2007-05-20</td>\n",
       "      <td>98</td>\n",
       "    </tr>\n",
       "    <tr>\n",
       "      <th>3</th>\n",
       "      <td>931</td>\n",
       "      <td>0</td>\n",
       "      <td>4</td>\n",
       "      <td>-1</td>\n",
       "      <td>2005-12-27</td>\n",
       "      <td>98</td>\n",
       "    </tr>\n",
       "    <tr>\n",
       "      <th>4</th>\n",
       "      <td>940</td>\n",
       "      <td>0</td>\n",
       "      <td>4</td>\n",
       "      <td>1</td>\n",
       "      <td>2014-09-16</td>\n",
       "      <td>98</td>\n",
       "    </tr>\n",
       "  </tbody>\n",
       "</table>\n",
       "</div>"
      ],
      "text/plain": [
       "   Reviewer_id  Product_id  Rating  Label       Date  Count (P)\n",
       "0          923           0       3     -1 2014-12-08         98\n",
       "1          927           0       4     -1 2010-11-01         98\n",
       "2          930           0       4     -1 2007-05-20         98\n",
       "3          931           0       4     -1 2005-12-27         98\n",
       "4          940           0       4      1 2014-09-16         98"
      ]
     },
     "execution_count": 345,
     "metadata": {},
     "output_type": "execute_result"
    }
   ],
   "source": [
    "Product_Behavior.head()"
   ]
  },
  {
   "cell_type": "code",
   "execution_count": 346,
   "id": "eb55ac80",
   "metadata": {},
   "outputs": [
    {
     "data": {
      "text/plain": [
       "Reviewer_id    15351\n",
       "Product_id       873\n",
       "Rating             5\n",
       "Label              2\n",
       "Date            2893\n",
       "Count (P)        278\n",
       "dtype: int64"
      ]
     },
     "execution_count": 346,
     "metadata": {},
     "output_type": "execute_result"
    }
   ],
   "source": [
    "Product_Behavior.nunique()"
   ]
  },
  {
   "cell_type": "code",
   "execution_count": 347,
   "id": "29dca49f",
   "metadata": {},
   "outputs": [],
   "source": [
    "#major summary in each product_id\n",
    "Product_Behavior_group_rank_average = Product_Behavior.groupby([\"Product_id\"])[\"Rating\"].mean()\n",
    "Product_Behavior_group_rank_sd = Product_Behavior.groupby([\"Product_id\"])[\"Rating\"].std()\n",
    "Product_Behavior_group_date_min = Product_Behavior.groupby([\"Product_id\"])[\"Date\"].min()\n",
    "Product_Behavior_group_date_max = Product_Behavior.groupby([\"Product_id\"])[\"Date\"].max()"
   ]
  },
  {
   "cell_type": "code",
   "execution_count": 348,
   "id": "a0f86b2e",
   "metadata": {},
   "outputs": [],
   "source": [
    "#most common rating\n",
    "Product_Behavior_group_rank_common = Product_Behavior.groupby([\"Product_id\"])[\"Rating\"].agg(lambda x:x.value_counts().index[0])"
   ]
  },
  {
   "cell_type": "code",
   "execution_count": 349,
   "id": "aea547cb",
   "metadata": {},
   "outputs": [],
   "source": [
    "#EXRR,TRRR,BRRR,RPR,RNR\n",
    "Product_Behavior_group_extreme_rating_ratio = Product_Behavior.groupby([\"Product_id\"])[\"Rating\"].apply(lambda x : sum(x==5|1)/sum(x))\n",
    "Product_Behavior_group_toprating_rating_ratio = Product_Behavior.groupby([\"Product_id\"])[\"Rating\"].apply(lambda x : sum(x==5)/sum(x))\n",
    "Product_Behavior_group_buttomrating_rating_ratio = Product_Behavior.groupby([\"Product_id\"])[\"Rating\"].apply(lambda x : sum(x==1)/sum(x))\n",
    "Product_Behavior_group_posrating_rating_ratio = Product_Behavior.groupby([\"Product_id\"])[\"Rating\"].apply(lambda x : sum(x==4|5)/sum(x))\n",
    "Product_Behavior_group_negrating_rating_ratio = Product_Behavior.groupby([\"Product_id\"])[\"Rating\"].apply(lambda x : sum(x==1|2)/sum(x))"
   ]
  },
  {
   "cell_type": "code",
   "execution_count": 356,
   "id": "e206396f",
   "metadata": {},
   "outputs": [],
   "source": [
    "Product_Behavior_grouped = pd.concat([Product_Behavior_group_rank_average,Product_Behavior_group_rank_sd,\n",
    "                                      Product_Behavior_group_rank_common,Product_Behavior_group_date_min,\n",
    "                                      Product_Behavior_group_date_max,Product_Behavior_group_extreme_rating_ratio,\n",
    "                                      Product_Behavior_group_toprating_rating_ratio,Product_Behavior_group_buttomrating_rating_ratio,\n",
    "                                      Product_Behavior_group_posrating_rating_ratio,Product_Behavior_group_negrating_rating_ratio],axis=1)"
   ]
  },
  {
   "cell_type": "code",
   "execution_count": 357,
   "id": "02a18dfd",
   "metadata": {},
   "outputs": [],
   "source": [
    "Product_Behavior_grouped.columns = [[\"Product_Average_Rank\",\"Product_Rank_SD\",\n",
    "                                     \"Product_Behavior_group_rank_common\",\"Product_early_date\",\n",
    "                                     \"Product_final_date\",\"Product_Behavior_group_extreme_rating_ratio\",\n",
    "                                     \"Product_Behavior_group_toprating_rating_ratio\",\"Product_Behavior_group_buttomrating_rating_ratio\",\n",
    "                                    \"Product_Behavior_group_posrating_rating_ratio\",\"Product_Behavior_group_negrating_rating_ratio\"]]"
   ]
  },
  {
   "cell_type": "code",
   "execution_count": 358,
   "id": "069b435a",
   "metadata": {
    "scrolled": true
   },
   "outputs": [
    {
     "data": {
      "text/html": [
       "<div>\n",
       "<style scoped>\n",
       "    .dataframe tbody tr th:only-of-type {\n",
       "        vertical-align: middle;\n",
       "    }\n",
       "\n",
       "    .dataframe tbody tr th {\n",
       "        vertical-align: top;\n",
       "    }\n",
       "\n",
       "    .dataframe thead tr th {\n",
       "        text-align: left;\n",
       "    }\n",
       "\n",
       "    .dataframe thead tr:last-of-type th {\n",
       "        text-align: right;\n",
       "    }\n",
       "</style>\n",
       "<table border=\"1\" class=\"dataframe\">\n",
       "  <thead>\n",
       "    <tr>\n",
       "      <th></th>\n",
       "      <th>Product_Average_Rank</th>\n",
       "      <th>Product_Rank_SD</th>\n",
       "      <th>Product_Behavior_group_rank_common</th>\n",
       "      <th>Product_early_date</th>\n",
       "      <th>Product_final_date</th>\n",
       "      <th>Product_Behavior_group_extreme_rating_ratio</th>\n",
       "      <th>Product_Behavior_group_toprating_rating_ratio</th>\n",
       "      <th>Product_Behavior_group_buttomrating_rating_ratio</th>\n",
       "      <th>Product_Behavior_group_posrating_rating_ratio</th>\n",
       "      <th>Product_Behavior_group_negrating_rating_ratio</th>\n",
       "    </tr>\n",
       "    <tr>\n",
       "      <th>Product_id</th>\n",
       "      <th></th>\n",
       "      <th></th>\n",
       "      <th></th>\n",
       "      <th></th>\n",
       "      <th></th>\n",
       "      <th></th>\n",
       "      <th></th>\n",
       "      <th></th>\n",
       "      <th></th>\n",
       "      <th></th>\n",
       "    </tr>\n",
       "  </thead>\n",
       "  <tbody>\n",
       "    <tr>\n",
       "      <th>0</th>\n",
       "      <td>3.959184</td>\n",
       "      <td>0.772175</td>\n",
       "      <td>4</td>\n",
       "      <td>2005-04-21</td>\n",
       "      <td>2014-12-08</td>\n",
       "      <td>0.054124</td>\n",
       "      <td>0.054124</td>\n",
       "      <td>0.000000</td>\n",
       "      <td>0.054124</td>\n",
       "      <td>0.033505</td>\n",
       "    </tr>\n",
       "    <tr>\n",
       "      <th>1</th>\n",
       "      <td>4.047619</td>\n",
       "      <td>0.887704</td>\n",
       "      <td>4</td>\n",
       "      <td>2008-07-16</td>\n",
       "      <td>2014-09-09</td>\n",
       "      <td>0.082353</td>\n",
       "      <td>0.082353</td>\n",
       "      <td>0.003922</td>\n",
       "      <td>0.082353</td>\n",
       "      <td>0.043137</td>\n",
       "    </tr>\n",
       "    <tr>\n",
       "      <th>2</th>\n",
       "      <td>3.792453</td>\n",
       "      <td>1.115597</td>\n",
       "      <td>4</td>\n",
       "      <td>2013-09-14</td>\n",
       "      <td>2014-12-28</td>\n",
       "      <td>0.079602</td>\n",
       "      <td>0.079602</td>\n",
       "      <td>0.009950</td>\n",
       "      <td>0.079602</td>\n",
       "      <td>0.044776</td>\n",
       "    </tr>\n",
       "    <tr>\n",
       "      <th>3</th>\n",
       "      <td>4.187500</td>\n",
       "      <td>0.981071</td>\n",
       "      <td>5</td>\n",
       "      <td>2014-01-27</td>\n",
       "      <td>2014-12-20</td>\n",
       "      <td>0.119403</td>\n",
       "      <td>0.119403</td>\n",
       "      <td>0.000000</td>\n",
       "      <td>0.119403</td>\n",
       "      <td>0.044776</td>\n",
       "    </tr>\n",
       "    <tr>\n",
       "      <th>4</th>\n",
       "      <td>3.917241</td>\n",
       "      <td>0.721721</td>\n",
       "      <td>4</td>\n",
       "      <td>2010-07-30</td>\n",
       "      <td>2014-12-06</td>\n",
       "      <td>0.042254</td>\n",
       "      <td>0.042254</td>\n",
       "      <td>0.001761</td>\n",
       "      <td>0.042254</td>\n",
       "      <td>0.040493</td>\n",
       "    </tr>\n",
       "  </tbody>\n",
       "</table>\n",
       "</div>"
      ],
      "text/plain": [
       "           Product_Average_Rank Product_Rank_SD  \\\n",
       "Product_id                                        \n",
       "0                      3.959184        0.772175   \n",
       "1                      4.047619        0.887704   \n",
       "2                      3.792453        1.115597   \n",
       "3                      4.187500        0.981071   \n",
       "4                      3.917241        0.721721   \n",
       "\n",
       "           Product_Behavior_group_rank_common Product_early_date  \\\n",
       "Product_id                                                         \n",
       "0                                           4         2005-04-21   \n",
       "1                                           4         2008-07-16   \n",
       "2                                           4         2013-09-14   \n",
       "3                                           5         2014-01-27   \n",
       "4                                           4         2010-07-30   \n",
       "\n",
       "           Product_final_date Product_Behavior_group_extreme_rating_ratio  \\\n",
       "Product_id                                                                  \n",
       "0                  2014-12-08                                    0.054124   \n",
       "1                  2014-09-09                                    0.082353   \n",
       "2                  2014-12-28                                    0.079602   \n",
       "3                  2014-12-20                                    0.119403   \n",
       "4                  2014-12-06                                    0.042254   \n",
       "\n",
       "           Product_Behavior_group_toprating_rating_ratio  \\\n",
       "Product_id                                                 \n",
       "0                                               0.054124   \n",
       "1                                               0.082353   \n",
       "2                                               0.079602   \n",
       "3                                               0.119403   \n",
       "4                                               0.042254   \n",
       "\n",
       "           Product_Behavior_group_buttomrating_rating_ratio  \\\n",
       "Product_id                                                    \n",
       "0                                                  0.000000   \n",
       "1                                                  0.003922   \n",
       "2                                                  0.009950   \n",
       "3                                                  0.000000   \n",
       "4                                                  0.001761   \n",
       "\n",
       "           Product_Behavior_group_posrating_rating_ratio  \\\n",
       "Product_id                                                 \n",
       "0                                               0.054124   \n",
       "1                                               0.082353   \n",
       "2                                               0.079602   \n",
       "3                                               0.119403   \n",
       "4                                               0.042254   \n",
       "\n",
       "           Product_Behavior_group_negrating_rating_ratio  \n",
       "Product_id                                                \n",
       "0                                               0.033505  \n",
       "1                                               0.043137  \n",
       "2                                               0.044776  \n",
       "3                                               0.044776  \n",
       "4                                               0.040493  "
      ]
     },
     "execution_count": 358,
     "metadata": {},
     "output_type": "execute_result"
    }
   ],
   "source": [
    "Product_Behavior_grouped.head()"
   ]
  },
  {
   "cell_type": "code",
   "execution_count": 359,
   "id": "ada74eb6",
   "metadata": {},
   "outputs": [],
   "source": [
    "Product_Behavior=Product_Behavior.merge(Product_Behavior_grouped,how = \"left\",on=\"Product_id\")"
   ]
  },
  {
   "cell_type": "code",
   "execution_count": 360,
   "id": "d19f24fa",
   "metadata": {},
   "outputs": [],
   "source": [
    "Product_Behavior=Product_Behavior.merge(pd.DataFrame(Product_Behavior_Early_Review_Ratio,columns=[\"Product_Behavior_Early_Review_Ratio\"]),how = \"left\",on=\"Product_id\")"
   ]
  },
  {
   "cell_type": "code",
   "execution_count": 361,
   "id": "98a09ba1",
   "metadata": {
    "scrolled": true
   },
   "outputs": [
    {
     "data": {
      "text/html": [
       "<div>\n",
       "<style scoped>\n",
       "    .dataframe tbody tr th:only-of-type {\n",
       "        vertical-align: middle;\n",
       "    }\n",
       "\n",
       "    .dataframe tbody tr th {\n",
       "        vertical-align: top;\n",
       "    }\n",
       "\n",
       "    .dataframe thead th {\n",
       "        text-align: right;\n",
       "    }\n",
       "</style>\n",
       "<table border=\"1\" class=\"dataframe\">\n",
       "  <thead>\n",
       "    <tr style=\"text-align: right;\">\n",
       "      <th></th>\n",
       "      <th>Reviewer_id</th>\n",
       "      <th>Product_id</th>\n",
       "      <th>Rating</th>\n",
       "      <th>Label</th>\n",
       "      <th>Date</th>\n",
       "      <th>Count (P)</th>\n",
       "      <th>(Product_Average_Rank,)</th>\n",
       "      <th>(Product_Rank_SD,)</th>\n",
       "      <th>(Product_Behavior_group_rank_common,)</th>\n",
       "      <th>(Product_early_date,)</th>\n",
       "      <th>(Product_final_date,)</th>\n",
       "      <th>(Product_Behavior_group_extreme_rating_ratio,)</th>\n",
       "      <th>(Product_Behavior_group_toprating_rating_ratio,)</th>\n",
       "      <th>(Product_Behavior_group_buttomrating_rating_ratio,)</th>\n",
       "      <th>(Product_Behavior_group_posrating_rating_ratio,)</th>\n",
       "      <th>(Product_Behavior_group_negrating_rating_ratio,)</th>\n",
       "      <th>Product_Behavior_Early_Review_Ratio</th>\n",
       "    </tr>\n",
       "  </thead>\n",
       "  <tbody>\n",
       "    <tr>\n",
       "      <th>0</th>\n",
       "      <td>923</td>\n",
       "      <td>0</td>\n",
       "      <td>3</td>\n",
       "      <td>-1</td>\n",
       "      <td>2014-12-08</td>\n",
       "      <td>98</td>\n",
       "      <td>3.959184</td>\n",
       "      <td>0.772175</td>\n",
       "      <td>4</td>\n",
       "      <td>2005-04-21</td>\n",
       "      <td>2014-12-08</td>\n",
       "      <td>0.054124</td>\n",
       "      <td>0.054124</td>\n",
       "      <td>0.0</td>\n",
       "      <td>0.054124</td>\n",
       "      <td>0.033505</td>\n",
       "      <td>0.010204</td>\n",
       "    </tr>\n",
       "    <tr>\n",
       "      <th>1</th>\n",
       "      <td>927</td>\n",
       "      <td>0</td>\n",
       "      <td>4</td>\n",
       "      <td>-1</td>\n",
       "      <td>2010-11-01</td>\n",
       "      <td>98</td>\n",
       "      <td>3.959184</td>\n",
       "      <td>0.772175</td>\n",
       "      <td>4</td>\n",
       "      <td>2005-04-21</td>\n",
       "      <td>2014-12-08</td>\n",
       "      <td>0.054124</td>\n",
       "      <td>0.054124</td>\n",
       "      <td>0.0</td>\n",
       "      <td>0.054124</td>\n",
       "      <td>0.033505</td>\n",
       "      <td>0.010204</td>\n",
       "    </tr>\n",
       "    <tr>\n",
       "      <th>2</th>\n",
       "      <td>930</td>\n",
       "      <td>0</td>\n",
       "      <td>4</td>\n",
       "      <td>-1</td>\n",
       "      <td>2007-05-20</td>\n",
       "      <td>98</td>\n",
       "      <td>3.959184</td>\n",
       "      <td>0.772175</td>\n",
       "      <td>4</td>\n",
       "      <td>2005-04-21</td>\n",
       "      <td>2014-12-08</td>\n",
       "      <td>0.054124</td>\n",
       "      <td>0.054124</td>\n",
       "      <td>0.0</td>\n",
       "      <td>0.054124</td>\n",
       "      <td>0.033505</td>\n",
       "      <td>0.010204</td>\n",
       "    </tr>\n",
       "    <tr>\n",
       "      <th>3</th>\n",
       "      <td>931</td>\n",
       "      <td>0</td>\n",
       "      <td>4</td>\n",
       "      <td>-1</td>\n",
       "      <td>2005-12-27</td>\n",
       "      <td>98</td>\n",
       "      <td>3.959184</td>\n",
       "      <td>0.772175</td>\n",
       "      <td>4</td>\n",
       "      <td>2005-04-21</td>\n",
       "      <td>2014-12-08</td>\n",
       "      <td>0.054124</td>\n",
       "      <td>0.054124</td>\n",
       "      <td>0.0</td>\n",
       "      <td>0.054124</td>\n",
       "      <td>0.033505</td>\n",
       "      <td>0.010204</td>\n",
       "    </tr>\n",
       "    <tr>\n",
       "      <th>4</th>\n",
       "      <td>940</td>\n",
       "      <td>0</td>\n",
       "      <td>4</td>\n",
       "      <td>1</td>\n",
       "      <td>2014-09-16</td>\n",
       "      <td>98</td>\n",
       "      <td>3.959184</td>\n",
       "      <td>0.772175</td>\n",
       "      <td>4</td>\n",
       "      <td>2005-04-21</td>\n",
       "      <td>2014-12-08</td>\n",
       "      <td>0.054124</td>\n",
       "      <td>0.054124</td>\n",
       "      <td>0.0</td>\n",
       "      <td>0.054124</td>\n",
       "      <td>0.033505</td>\n",
       "      <td>0.010204</td>\n",
       "    </tr>\n",
       "  </tbody>\n",
       "</table>\n",
       "</div>"
      ],
      "text/plain": [
       "   Reviewer_id  Product_id  Rating  Label       Date  Count (P)  \\\n",
       "0          923           0       3     -1 2014-12-08         98   \n",
       "1          927           0       4     -1 2010-11-01         98   \n",
       "2          930           0       4     -1 2007-05-20         98   \n",
       "3          931           0       4     -1 2005-12-27         98   \n",
       "4          940           0       4      1 2014-09-16         98   \n",
       "\n",
       "   (Product_Average_Rank,)  (Product_Rank_SD,)  \\\n",
       "0                 3.959184            0.772175   \n",
       "1                 3.959184            0.772175   \n",
       "2                 3.959184            0.772175   \n",
       "3                 3.959184            0.772175   \n",
       "4                 3.959184            0.772175   \n",
       "\n",
       "   (Product_Behavior_group_rank_common,) (Product_early_date,)  \\\n",
       "0                                      4            2005-04-21   \n",
       "1                                      4            2005-04-21   \n",
       "2                                      4            2005-04-21   \n",
       "3                                      4            2005-04-21   \n",
       "4                                      4            2005-04-21   \n",
       "\n",
       "  (Product_final_date,)  (Product_Behavior_group_extreme_rating_ratio,)  \\\n",
       "0            2014-12-08                                        0.054124   \n",
       "1            2014-12-08                                        0.054124   \n",
       "2            2014-12-08                                        0.054124   \n",
       "3            2014-12-08                                        0.054124   \n",
       "4            2014-12-08                                        0.054124   \n",
       "\n",
       "   (Product_Behavior_group_toprating_rating_ratio,)  \\\n",
       "0                                          0.054124   \n",
       "1                                          0.054124   \n",
       "2                                          0.054124   \n",
       "3                                          0.054124   \n",
       "4                                          0.054124   \n",
       "\n",
       "   (Product_Behavior_group_buttomrating_rating_ratio,)  \\\n",
       "0                                                0.0     \n",
       "1                                                0.0     \n",
       "2                                                0.0     \n",
       "3                                                0.0     \n",
       "4                                                0.0     \n",
       "\n",
       "   (Product_Behavior_group_posrating_rating_ratio,)  \\\n",
       "0                                          0.054124   \n",
       "1                                          0.054124   \n",
       "2                                          0.054124   \n",
       "3                                          0.054124   \n",
       "4                                          0.054124   \n",
       "\n",
       "   (Product_Behavior_group_negrating_rating_ratio,)  \\\n",
       "0                                          0.033505   \n",
       "1                                          0.033505   \n",
       "2                                          0.033505   \n",
       "3                                          0.033505   \n",
       "4                                          0.033505   \n",
       "\n",
       "   Product_Behavior_Early_Review_Ratio  \n",
       "0                             0.010204  \n",
       "1                             0.010204  \n",
       "2                             0.010204  \n",
       "3                             0.010204  \n",
       "4                             0.010204  "
      ]
     },
     "execution_count": 361,
     "metadata": {},
     "output_type": "execute_result"
    }
   ],
   "source": [
    "Product_Behavior.head()"
   ]
  },
  {
   "cell_type": "code",
   "execution_count": 382,
   "id": "e84ec8db",
   "metadata": {},
   "outputs": [],
   "source": [
    "#rename columns\n",
    "columns = Product_Behavior.columns.tolist()\n",
    "columns = [column[0] if len(column[0])>1 else column for column in columns ]\n",
    "\n",
    "Product_Behavior.columns=[columns]"
   ]
  },
  {
   "cell_type": "code",
   "execution_count": 385,
   "id": "853d2432",
   "metadata": {},
   "outputs": [
    {
     "data": {
      "text/html": [
       "<div>\n",
       "<style scoped>\n",
       "    .dataframe tbody tr th:only-of-type {\n",
       "        vertical-align: middle;\n",
       "    }\n",
       "\n",
       "    .dataframe tbody tr th {\n",
       "        vertical-align: top;\n",
       "    }\n",
       "\n",
       "    .dataframe thead tr th {\n",
       "        text-align: left;\n",
       "    }\n",
       "</style>\n",
       "<table border=\"1\" class=\"dataframe\">\n",
       "  <thead>\n",
       "    <tr>\n",
       "      <th></th>\n",
       "      <th>Reviewer_id</th>\n",
       "      <th>Product_id</th>\n",
       "      <th>Rating</th>\n",
       "      <th>Label</th>\n",
       "      <th>Date</th>\n",
       "      <th>Count (P)</th>\n",
       "      <th>Product_Average_Rank</th>\n",
       "      <th>Product_Rank_SD</th>\n",
       "      <th>Product_Behavior_group_rank_common</th>\n",
       "      <th>Product_early_date</th>\n",
       "      <th>Product_final_date</th>\n",
       "      <th>Product_Behavior_group_extreme_rating_ratio</th>\n",
       "      <th>Product_Behavior_group_toprating_rating_ratio</th>\n",
       "      <th>Product_Behavior_group_buttomrating_rating_ratio</th>\n",
       "      <th>Product_Behavior_group_posrating_rating_ratio</th>\n",
       "      <th>Product_Behavior_group_negrating_rating_ratio</th>\n",
       "      <th>Product_Behavior_Early_Review_Ratio</th>\n",
       "    </tr>\n",
       "  </thead>\n",
       "  <tbody>\n",
       "    <tr>\n",
       "      <th>0</th>\n",
       "      <td>923</td>\n",
       "      <td>0</td>\n",
       "      <td>3</td>\n",
       "      <td>-1</td>\n",
       "      <td>2014-12-08</td>\n",
       "      <td>98</td>\n",
       "      <td>3.959184</td>\n",
       "      <td>0.772175</td>\n",
       "      <td>4</td>\n",
       "      <td>2005-04-21</td>\n",
       "      <td>2014-12-08</td>\n",
       "      <td>0.054124</td>\n",
       "      <td>0.054124</td>\n",
       "      <td>0.0</td>\n",
       "      <td>0.054124</td>\n",
       "      <td>0.033505</td>\n",
       "      <td>0.010204</td>\n",
       "    </tr>\n",
       "    <tr>\n",
       "      <th>1</th>\n",
       "      <td>927</td>\n",
       "      <td>0</td>\n",
       "      <td>4</td>\n",
       "      <td>-1</td>\n",
       "      <td>2010-11-01</td>\n",
       "      <td>98</td>\n",
       "      <td>3.959184</td>\n",
       "      <td>0.772175</td>\n",
       "      <td>4</td>\n",
       "      <td>2005-04-21</td>\n",
       "      <td>2014-12-08</td>\n",
       "      <td>0.054124</td>\n",
       "      <td>0.054124</td>\n",
       "      <td>0.0</td>\n",
       "      <td>0.054124</td>\n",
       "      <td>0.033505</td>\n",
       "      <td>0.010204</td>\n",
       "    </tr>\n",
       "    <tr>\n",
       "      <th>2</th>\n",
       "      <td>930</td>\n",
       "      <td>0</td>\n",
       "      <td>4</td>\n",
       "      <td>-1</td>\n",
       "      <td>2007-05-20</td>\n",
       "      <td>98</td>\n",
       "      <td>3.959184</td>\n",
       "      <td>0.772175</td>\n",
       "      <td>4</td>\n",
       "      <td>2005-04-21</td>\n",
       "      <td>2014-12-08</td>\n",
       "      <td>0.054124</td>\n",
       "      <td>0.054124</td>\n",
       "      <td>0.0</td>\n",
       "      <td>0.054124</td>\n",
       "      <td>0.033505</td>\n",
       "      <td>0.010204</td>\n",
       "    </tr>\n",
       "    <tr>\n",
       "      <th>3</th>\n",
       "      <td>931</td>\n",
       "      <td>0</td>\n",
       "      <td>4</td>\n",
       "      <td>-1</td>\n",
       "      <td>2005-12-27</td>\n",
       "      <td>98</td>\n",
       "      <td>3.959184</td>\n",
       "      <td>0.772175</td>\n",
       "      <td>4</td>\n",
       "      <td>2005-04-21</td>\n",
       "      <td>2014-12-08</td>\n",
       "      <td>0.054124</td>\n",
       "      <td>0.054124</td>\n",
       "      <td>0.0</td>\n",
       "      <td>0.054124</td>\n",
       "      <td>0.033505</td>\n",
       "      <td>0.010204</td>\n",
       "    </tr>\n",
       "    <tr>\n",
       "      <th>4</th>\n",
       "      <td>940</td>\n",
       "      <td>0</td>\n",
       "      <td>4</td>\n",
       "      <td>1</td>\n",
       "      <td>2014-09-16</td>\n",
       "      <td>98</td>\n",
       "      <td>3.959184</td>\n",
       "      <td>0.772175</td>\n",
       "      <td>4</td>\n",
       "      <td>2005-04-21</td>\n",
       "      <td>2014-12-08</td>\n",
       "      <td>0.054124</td>\n",
       "      <td>0.054124</td>\n",
       "      <td>0.0</td>\n",
       "      <td>0.054124</td>\n",
       "      <td>0.033505</td>\n",
       "      <td>0.010204</td>\n",
       "    </tr>\n",
       "  </tbody>\n",
       "</table>\n",
       "</div>"
      ],
      "text/plain": [
       "  Reviewer_id Product_id Rating Label       Date Count (P)  \\\n",
       "0         923          0      3    -1 2014-12-08        98   \n",
       "1         927          0      4    -1 2010-11-01        98   \n",
       "2         930          0      4    -1 2007-05-20        98   \n",
       "3         931          0      4    -1 2005-12-27        98   \n",
       "4         940          0      4     1 2014-09-16        98   \n",
       "\n",
       "  Product_Average_Rank Product_Rank_SD Product_Behavior_group_rank_common  \\\n",
       "0             3.959184        0.772175                                  4   \n",
       "1             3.959184        0.772175                                  4   \n",
       "2             3.959184        0.772175                                  4   \n",
       "3             3.959184        0.772175                                  4   \n",
       "4             3.959184        0.772175                                  4   \n",
       "\n",
       "  Product_early_date Product_final_date  \\\n",
       "0         2005-04-21         2014-12-08   \n",
       "1         2005-04-21         2014-12-08   \n",
       "2         2005-04-21         2014-12-08   \n",
       "3         2005-04-21         2014-12-08   \n",
       "4         2005-04-21         2014-12-08   \n",
       "\n",
       "  Product_Behavior_group_extreme_rating_ratio  \\\n",
       "0                                    0.054124   \n",
       "1                                    0.054124   \n",
       "2                                    0.054124   \n",
       "3                                    0.054124   \n",
       "4                                    0.054124   \n",
       "\n",
       "  Product_Behavior_group_toprating_rating_ratio  \\\n",
       "0                                      0.054124   \n",
       "1                                      0.054124   \n",
       "2                                      0.054124   \n",
       "3                                      0.054124   \n",
       "4                                      0.054124   \n",
       "\n",
       "  Product_Behavior_group_buttomrating_rating_ratio  \\\n",
       "0                                              0.0   \n",
       "1                                              0.0   \n",
       "2                                              0.0   \n",
       "3                                              0.0   \n",
       "4                                              0.0   \n",
       "\n",
       "  Product_Behavior_group_posrating_rating_ratio  \\\n",
       "0                                      0.054124   \n",
       "1                                      0.054124   \n",
       "2                                      0.054124   \n",
       "3                                      0.054124   \n",
       "4                                      0.054124   \n",
       "\n",
       "  Product_Behavior_group_negrating_rating_ratio  \\\n",
       "0                                      0.033505   \n",
       "1                                      0.033505   \n",
       "2                                      0.033505   \n",
       "3                                      0.033505   \n",
       "4                                      0.033505   \n",
       "\n",
       "  Product_Behavior_Early_Review_Ratio  \n",
       "0                            0.010204  \n",
       "1                            0.010204  \n",
       "2                            0.010204  \n",
       "3                            0.010204  \n",
       "4                            0.010204  "
      ]
     },
     "execution_count": 385,
     "metadata": {},
     "output_type": "execute_result"
    }
   ],
   "source": [
    "Product_Behavior.head()"
   ]
  },
  {
   "cell_type": "code",
   "execution_count": 443,
   "id": "5ddb1717",
   "metadata": {},
   "outputs": [],
   "source": [
    "Product_Behavior.to_excel(\"Product-centric-Behavior-feature.xlsx\")"
   ]
  },
  {
   "cell_type": "markdown",
   "id": "a67160c1",
   "metadata": {},
   "source": [
    "# Product-centric-Textual-feature"
   ]
  },
  {
   "cell_type": "code",
   "execution_count": 405,
   "id": "97e7fd07",
   "metadata": {},
   "outputs": [],
   "source": [
    "import nltk"
   ]
  },
  {
   "cell_type": "code",
   "execution_count": 416,
   "id": "4bcc668c",
   "metadata": {
    "collapsed": true
   },
   "outputs": [
    {
     "ename": "KeyboardInterrupt",
     "evalue": "",
     "output_type": "error",
     "traceback": [
      "\u001b[1;31m---------------------------------------------------------------------------\u001b[0m",
      "\u001b[1;31mFileNotFoundError\u001b[0m                         Traceback (most recent call last)",
      "\u001b[1;32m~\\anaconda3\\lib\\genericpath.py\u001b[0m in \u001b[0;36misfile\u001b[1;34m(path)\u001b[0m\n\u001b[0;32m     29\u001b[0m     \u001b[1;32mtry\u001b[0m\u001b[1;33m:\u001b[0m\u001b[1;33m\u001b[0m\u001b[1;33m\u001b[0m\u001b[0m\n\u001b[1;32m---> 30\u001b[1;33m         \u001b[0mst\u001b[0m \u001b[1;33m=\u001b[0m \u001b[0mos\u001b[0m\u001b[1;33m.\u001b[0m\u001b[0mstat\u001b[0m\u001b[1;33m(\u001b[0m\u001b[0mpath\u001b[0m\u001b[1;33m)\u001b[0m\u001b[1;33m\u001b[0m\u001b[1;33m\u001b[0m\u001b[0m\n\u001b[0m\u001b[0;32m     31\u001b[0m     \u001b[1;32mexcept\u001b[0m \u001b[1;33m(\u001b[0m\u001b[0mOSError\u001b[0m\u001b[1;33m,\u001b[0m \u001b[0mValueError\u001b[0m\u001b[1;33m)\u001b[0m\u001b[1;33m:\u001b[0m\u001b[1;33m\u001b[0m\u001b[1;33m\u001b[0m\u001b[0m\n",
      "\u001b[1;31mFileNotFoundError\u001b[0m: [WinError 2] The system cannot find the file specified: 'C:\\\\Users\\\\Harmony Chen/nltk_data'",
      "\nDuring handling of the above exception, another exception occurred:\n",
      "\u001b[1;31mKeyboardInterrupt\u001b[0m                         Traceback (most recent call last)",
      "\u001b[1;32m<ipython-input-416-66dcf8c4d0c4>\u001b[0m in \u001b[0;36m<module>\u001b[1;34m\u001b[0m\n\u001b[0;32m     18\u001b[0m \u001b[0mPRP_data\u001b[0m \u001b[1;33m=\u001b[0m \u001b[1;33m[\u001b[0m\u001b[1;33m]\u001b[0m\u001b[1;33m\u001b[0m\u001b[1;33m\u001b[0m\u001b[0m\n\u001b[0;32m     19\u001b[0m \u001b[1;32mfor\u001b[0m \u001b[0mtext\u001b[0m \u001b[1;32min\u001b[0m \u001b[0mtext_data\u001b[0m\u001b[1;33m:\u001b[0m\u001b[1;33m\u001b[0m\u001b[1;33m\u001b[0m\u001b[0m\n\u001b[1;32m---> 20\u001b[1;33m     \u001b[0mPRP_data\u001b[0m\u001b[1;33m.\u001b[0m\u001b[0mappend\u001b[0m\u001b[1;33m(\u001b[0m\u001b[1;33m[\u001b[0m\u001b[0mword\u001b[0m \u001b[1;32mfor\u001b[0m \u001b[1;33m(\u001b[0m\u001b[0mword\u001b[0m\u001b[1;33m,\u001b[0m\u001b[0mtag\u001b[0m\u001b[1;33m)\u001b[0m \u001b[1;32min\u001b[0m \u001b[0mnltk\u001b[0m\u001b[1;33m.\u001b[0m\u001b[0mpos_tag\u001b[0m\u001b[1;33m(\u001b[0m\u001b[0mtext\u001b[0m\u001b[1;33m)\u001b[0m \u001b[1;32mif\u001b[0m \u001b[1;34m\"PRP\"\u001b[0m \u001b[1;32min\u001b[0m \u001b[0mtag\u001b[0m\u001b[1;33m]\u001b[0m\u001b[1;33m)\u001b[0m\u001b[1;33m\u001b[0m\u001b[1;33m\u001b[0m\u001b[0m\n\u001b[0m\u001b[0;32m     21\u001b[0m \u001b[1;33m\u001b[0m\u001b[0m\n\u001b[0;32m     22\u001b[0m \u001b[0mProduct_ReviewContent\u001b[0m\u001b[1;33m[\u001b[0m\u001b[1;34m\"Tag_PRP\"\u001b[0m\u001b[1;33m]\u001b[0m \u001b[1;33m=\u001b[0m \u001b[0mpd\u001b[0m\u001b[1;33m.\u001b[0m\u001b[0mSeries\u001b[0m\u001b[1;33m(\u001b[0m\u001b[0mPRP_data\u001b[0m\u001b[1;33m)\u001b[0m\u001b[1;33m\u001b[0m\u001b[1;33m\u001b[0m\u001b[0m\n",
      "\u001b[1;32m~\\anaconda3\\lib\\site-packages\\nltk\\tag\\__init__.py\u001b[0m in \u001b[0;36mpos_tag\u001b[1;34m(tokens, tagset, lang)\u001b[0m\n\u001b[0;32m    162\u001b[0m     \u001b[1;33m:\u001b[0m\u001b[0mrtype\u001b[0m\u001b[1;33m:\u001b[0m \u001b[0mlist\u001b[0m\u001b[1;33m(\u001b[0m\u001b[0mtuple\u001b[0m\u001b[1;33m(\u001b[0m\u001b[0mstr\u001b[0m\u001b[1;33m,\u001b[0m \u001b[0mstr\u001b[0m\u001b[1;33m)\u001b[0m\u001b[1;33m)\u001b[0m\u001b[1;33m\u001b[0m\u001b[1;33m\u001b[0m\u001b[0m\n\u001b[0;32m    163\u001b[0m     \"\"\"\n\u001b[1;32m--> 164\u001b[1;33m     \u001b[0mtagger\u001b[0m \u001b[1;33m=\u001b[0m \u001b[0m_get_tagger\u001b[0m\u001b[1;33m(\u001b[0m\u001b[0mlang\u001b[0m\u001b[1;33m)\u001b[0m\u001b[1;33m\u001b[0m\u001b[1;33m\u001b[0m\u001b[0m\n\u001b[0m\u001b[0;32m    165\u001b[0m     \u001b[1;32mreturn\u001b[0m \u001b[0m_pos_tag\u001b[0m\u001b[1;33m(\u001b[0m\u001b[0mtokens\u001b[0m\u001b[1;33m,\u001b[0m \u001b[0mtagset\u001b[0m\u001b[1;33m,\u001b[0m \u001b[0mtagger\u001b[0m\u001b[1;33m,\u001b[0m \u001b[0mlang\u001b[0m\u001b[1;33m)\u001b[0m\u001b[1;33m\u001b[0m\u001b[1;33m\u001b[0m\u001b[0m\n\u001b[0;32m    166\u001b[0m \u001b[1;33m\u001b[0m\u001b[0m\n",
      "\u001b[1;32m~\\anaconda3\\lib\\site-packages\\nltk\\tag\\__init__.py\u001b[0m in \u001b[0;36m_get_tagger\u001b[1;34m(lang)\u001b[0m\n\u001b[0;32m    104\u001b[0m         \u001b[0mtagger\u001b[0m\u001b[1;33m.\u001b[0m\u001b[0mload\u001b[0m\u001b[1;33m(\u001b[0m\u001b[0map_russian_model_loc\u001b[0m\u001b[1;33m)\u001b[0m\u001b[1;33m\u001b[0m\u001b[1;33m\u001b[0m\u001b[0m\n\u001b[0;32m    105\u001b[0m     \u001b[1;32melse\u001b[0m\u001b[1;33m:\u001b[0m\u001b[1;33m\u001b[0m\u001b[1;33m\u001b[0m\u001b[0m\n\u001b[1;32m--> 106\u001b[1;33m         \u001b[0mtagger\u001b[0m \u001b[1;33m=\u001b[0m \u001b[0mPerceptronTagger\u001b[0m\u001b[1;33m(\u001b[0m\u001b[1;33m)\u001b[0m\u001b[1;33m\u001b[0m\u001b[1;33m\u001b[0m\u001b[0m\n\u001b[0m\u001b[0;32m    107\u001b[0m     \u001b[1;32mreturn\u001b[0m \u001b[0mtagger\u001b[0m\u001b[1;33m\u001b[0m\u001b[1;33m\u001b[0m\u001b[0m\n\u001b[0;32m    108\u001b[0m \u001b[1;33m\u001b[0m\u001b[0m\n",
      "\u001b[1;32m~\\anaconda3\\lib\\site-packages\\nltk\\tag\\perceptron.py\u001b[0m in \u001b[0;36m__init__\u001b[1;34m(self, load)\u001b[0m\n\u001b[0;32m    166\u001b[0m         \u001b[1;32mif\u001b[0m \u001b[0mload\u001b[0m\u001b[1;33m:\u001b[0m\u001b[1;33m\u001b[0m\u001b[1;33m\u001b[0m\u001b[0m\n\u001b[0;32m    167\u001b[0m             AP_MODEL_LOC = \"file:\" + str(\n\u001b[1;32m--> 168\u001b[1;33m                 \u001b[0mfind\u001b[0m\u001b[1;33m(\u001b[0m\u001b[1;34m\"taggers/averaged_perceptron_tagger/\"\u001b[0m \u001b[1;33m+\u001b[0m \u001b[0mPICKLE\u001b[0m\u001b[1;33m)\u001b[0m\u001b[1;33m\u001b[0m\u001b[1;33m\u001b[0m\u001b[0m\n\u001b[0m\u001b[0;32m    169\u001b[0m             )\n\u001b[0;32m    170\u001b[0m             \u001b[0mself\u001b[0m\u001b[1;33m.\u001b[0m\u001b[0mload\u001b[0m\u001b[1;33m(\u001b[0m\u001b[0mAP_MODEL_LOC\u001b[0m\u001b[1;33m)\u001b[0m\u001b[1;33m\u001b[0m\u001b[1;33m\u001b[0m\u001b[0m\n",
      "\u001b[1;32m~\\anaconda3\\lib\\site-packages\\nltk\\data.py\u001b[0m in \u001b[0;36mfind\u001b[1;34m(resource_name, paths)\u001b[0m\n\u001b[0;32m    520\u001b[0m     \u001b[1;32mfor\u001b[0m \u001b[0mpath_\u001b[0m \u001b[1;32min\u001b[0m \u001b[0mpaths\u001b[0m\u001b[1;33m:\u001b[0m\u001b[1;33m\u001b[0m\u001b[1;33m\u001b[0m\u001b[0m\n\u001b[0;32m    521\u001b[0m         \u001b[1;31m# Is the path item a zipfile?\u001b[0m\u001b[1;33m\u001b[0m\u001b[1;33m\u001b[0m\u001b[1;33m\u001b[0m\u001b[0m\n\u001b[1;32m--> 522\u001b[1;33m         \u001b[1;32mif\u001b[0m \u001b[0mpath_\u001b[0m \u001b[1;32mand\u001b[0m \u001b[1;33m(\u001b[0m\u001b[0mos\u001b[0m\u001b[1;33m.\u001b[0m\u001b[0mpath\u001b[0m\u001b[1;33m.\u001b[0m\u001b[0misfile\u001b[0m\u001b[1;33m(\u001b[0m\u001b[0mpath_\u001b[0m\u001b[1;33m)\u001b[0m \u001b[1;32mand\u001b[0m \u001b[0mpath_\u001b[0m\u001b[1;33m.\u001b[0m\u001b[0mendswith\u001b[0m\u001b[1;33m(\u001b[0m\u001b[1;34m\".zip\"\u001b[0m\u001b[1;33m)\u001b[0m\u001b[1;33m)\u001b[0m\u001b[1;33m:\u001b[0m\u001b[1;33m\u001b[0m\u001b[1;33m\u001b[0m\u001b[0m\n\u001b[0m\u001b[0;32m    523\u001b[0m             \u001b[1;32mtry\u001b[0m\u001b[1;33m:\u001b[0m\u001b[1;33m\u001b[0m\u001b[1;33m\u001b[0m\u001b[0m\n\u001b[0;32m    524\u001b[0m                 \u001b[1;32mreturn\u001b[0m \u001b[0mZipFilePathPointer\u001b[0m\u001b[1;33m(\u001b[0m\u001b[0mpath_\u001b[0m\u001b[1;33m,\u001b[0m \u001b[0mresource_name\u001b[0m\u001b[1;33m)\u001b[0m\u001b[1;33m\u001b[0m\u001b[1;33m\u001b[0m\u001b[0m\n",
      "\u001b[1;32m~\\anaconda3\\lib\\genericpath.py\u001b[0m in \u001b[0;36misfile\u001b[1;34m(path)\u001b[0m\n\u001b[0;32m     28\u001b[0m     \u001b[1;34m\"\"\"Test whether a path is a regular file\"\"\"\u001b[0m\u001b[1;33m\u001b[0m\u001b[1;33m\u001b[0m\u001b[0m\n\u001b[0;32m     29\u001b[0m     \u001b[1;32mtry\u001b[0m\u001b[1;33m:\u001b[0m\u001b[1;33m\u001b[0m\u001b[1;33m\u001b[0m\u001b[0m\n\u001b[1;32m---> 30\u001b[1;33m         \u001b[0mst\u001b[0m \u001b[1;33m=\u001b[0m \u001b[0mos\u001b[0m\u001b[1;33m.\u001b[0m\u001b[0mstat\u001b[0m\u001b[1;33m(\u001b[0m\u001b[0mpath\u001b[0m\u001b[1;33m)\u001b[0m\u001b[1;33m\u001b[0m\u001b[1;33m\u001b[0m\u001b[0m\n\u001b[0m\u001b[0;32m     31\u001b[0m     \u001b[1;32mexcept\u001b[0m \u001b[1;33m(\u001b[0m\u001b[0mOSError\u001b[0m\u001b[1;33m,\u001b[0m \u001b[0mValueError\u001b[0m\u001b[1;33m)\u001b[0m\u001b[1;33m:\u001b[0m\u001b[1;33m\u001b[0m\u001b[1;33m\u001b[0m\u001b[0m\n\u001b[0;32m     32\u001b[0m         \u001b[1;32mreturn\u001b[0m \u001b[1;32mFalse\u001b[0m\u001b[1;33m\u001b[0m\u001b[1;33m\u001b[0m\u001b[0m\n",
      "\u001b[1;31mKeyboardInterrupt\u001b[0m: "
     ]
    }
   ],
   "source": [
    "Product_ReviewContent = pd.read_excel(\"C:\\\\Users\\\\Harmony Chen\\\\Documents\\\\JupyterLab\\\\Code-and-Results-master\\\\Data\\\\YelpNYC\\\\ReviewContent (Sortedby_Product_wise).xlsx\")\n",
    "\n",
    "Product_ReviewContent[\"Text\"] = Product_ReviewContent[\"Text\"].astype(str)\n",
    "\n",
    "def prepare_text_for_nltk(text):\n",
    "    # convert all words into lower case, split by white space\n",
    "    text = row['Text'].replace('...', '').replace('!', '').replace(\",\",'').replace(\".\",'')\n",
    "\n",
    "    tokens = text.strip().split()\n",
    "    \n",
    "    # remove English stopwords (as defined by NLTK)\n",
    "    return tokens\n",
    "\n",
    "text_data = []\n",
    "for index,row in Product_ReviewContent.iterrows():\n",
    "    text_data.append(prepare_text_for_nltk(row[\"Text\"]))\n",
    "\n",
    "PRP_data = []\n",
    "for text in text_data:\n",
    "    PRP_data.append([word for (word,tag) in nltk.pos_tag(text) if \"PRP\" in tag])\n",
    "\n",
    "Product_ReviewContent[\"Tag_PRP\"] = pd.Series(PRP_data)\n"
   ]
  },
  {
   "cell_type": "code",
   "execution_count": null,
   "id": "eeebabc7",
   "metadata": {},
   "outputs": [],
   "source": [
    "import spacy"
   ]
  },
  {
   "cell_type": "code",
   "execution_count": null,
   "id": "03bf0c71",
   "metadata": {},
   "outputs": [],
   "source": [
    "nlp = spacy.load(\"en_core_web_sm\")"
   ]
  },
  {
   "cell_type": "code",
   "execution_count": null,
   "id": "8ee0f9ae",
   "metadata": {},
   "outputs": [],
   "source": [
    "review_corpus = []\n",
    "for index,row in Product_ReviewContent.iterrows():\n",
    "    text = row['Text'].replace('...', '').replace('!', '').replace(\",\",'').replace(\".\",'')\n",
    "    review_corpus.append(text)"
   ]
  },
  {
   "cell_type": "code",
   "execution_count": null,
   "id": "8ed2899d",
   "metadata": {},
   "outputs": [],
   "source": [
    "SUB_data = []\n",
    "OBJ_data = []\n",
    "for text in review_corpus:\n",
    "    text = nlp(text)\n",
    "    SUB_data.append([token.text for token in text if token.dep_==\"nsubj\"])\n",
    "    OBJ_data.append([token.text for token in text if token.dep_ in [\"dobj\",\"pobj\"]]) "
   ]
  },
  {
   "cell_type": "code",
   "execution_count": null,
   "id": "2f1a488b",
   "metadata": {},
   "outputs": [],
   "source": [
    "for index,row in Product_ReviewContent.iterrows():\n",
    "    if len(row[\"Tag_PRP\"])==0:\n",
    "        row[\"Tag_PRP\"]=0\n"
   ]
  },
  {
   "cell_type": "code",
   "execution_count": null,
   "id": "3949fbb5",
   "metadata": {},
   "outputs": [],
   "source": [
    "len(Product_ReviewContent[\"Tag_PRP\"][2])"
   ]
  },
  {
   "cell_type": "code",
   "execution_count": null,
   "id": "e0e136b3",
   "metadata": {},
   "outputs": [],
   "source": [
    "Product_ReviewContent[\"SUB_Data\"] = pd.Series(SUB_data)\n",
    "Product_ReviewContent[\"OBJ_Data\"] = pd.Series(OBJ_data)"
   ]
  },
  {
   "cell_type": "code",
   "execution_count": null,
   "id": "38d05160",
   "metadata": {},
   "outputs": [],
   "source": [
    "Product_ReviewContent[] = len(Product_ReviewContent[\"Text\"])"
   ]
  },
  {
   "cell_type": "code",
   "execution_count": null,
   "id": "e8bc407f",
   "metadata": {},
   "outputs": [],
   "source": [
    "Sent_len = []\n",
    "Sub_len = []\n",
    "Obj_len = []\n",
    "\n",
    "for text in review_corpus:\n",
    "    Sent_len.append(len(text))\n",
    "\n",
    "for index,row in Product_ReviewContent.iterrows():\n",
    "    Sub_len.append(len(row[\"SUB_Data\"])) \n",
    "    Obj_len.append(len(row[\"OBJ_Data\"]))\n",
    "Product_ReviewContent[\"SUB_Len\"] = pd.Series(Sub_len)\n",
    "Product_ReviewContent[\"OBJ_Len\"] = pd.Series(Obj_len)"
   ]
  },
  {
   "cell_type": "code",
   "execution_count": null,
   "id": "61861ac4",
   "metadata": {},
   "outputs": [],
   "source": [
    "Product_ReviewContent[\"Sent_len\"]=pd.Series(Sent_len)"
   ]
  },
  {
   "cell_type": "code",
   "execution_count": null,
   "id": "9778d12e",
   "metadata": {},
   "outputs": [],
   "source": [
    "Product_ReviewContent.head()"
   ]
  },
  {
   "cell_type": "code",
   "execution_count": null,
   "id": "014aaeb8",
   "metadata": {},
   "outputs": [],
   "source": [
    "First_Third_PRP = []\n",
    "Second_PRP = []\n",
    "First_Third_PRP_ratio = []\n",
    "Second_PRP_ratio = []\n",
    "first_third_pronoun = [\"i\",'we','our','ourselves','us','my','mine','myself',\n",
    "                       'me','he','his','him','himself','she','her','hers','herself',\n",
    "                       'they','them','themselves','theirs','their',]\n",
    "\n",
    "second_pronoun = ['you','your','yourself','yours']\n",
    "for index,row in Product_ReviewContent.iterrows():\n",
    "    first_third_list =[word for word in row[\"Tag_PRP\"] if word.lower() in first_third_pronoun]\n",
    "    second_list =[word for word in row[\"Tag_PRP\"] if word.lower() in second_pronoun]\n",
    "    First_Third_PRP.append(len(first_third_list))\n",
    "    Second_PRP.append(len(second_list))\n",
    "\n",
    "    if row[\"Sent_len\"]==0:\n",
    "        First_Third_PRP_ratio.append(0) \n",
    "        Second_PRP_ratio.append(0)\n",
    "    else:  \n",
    "        First_Third_PRP_ratio.append(len(first_third_list)/row[\"Sent_len\"]) \n",
    "        Second_PRP_ratio.append(len(second_list)/row[\"Sent_len\"])\n",
    "        \n",
    "Product_ReviewContent[\"First_Third_PRP\"] =pd.Series(First_Third_PRP)       \n",
    "Product_ReviewContent[\"First_Third_PRP_ratio\"] = pd.Series(First_Third_PRP_ratio)\n",
    "Product_ReviewContent[\"Second_PRP\"]=pd.Series(Second_PRP)\n",
    "Product_ReviewContent[\"Second_PRP_ratio\"] = pd.Series(Second_PRP_ratio)"
   ]
  },
  {
   "cell_type": "code",
   "execution_count": 409,
   "id": "df82a32c",
   "metadata": {
    "collapsed": true
   },
   "outputs": [
    {
     "ename": "KeyError",
     "evalue": "'Column not found: Sent_len'",
     "output_type": "error",
     "traceback": [
      "\u001b[1;31m---------------------------------------------------------------------------\u001b[0m",
      "\u001b[1;31mKeyError\u001b[0m                                  Traceback (most recent call last)",
      "\u001b[1;32m<ipython-input-409-84b5fd6e3ec9>\u001b[0m in \u001b[0;36m<module>\u001b[1;34m\u001b[0m\n\u001b[0;32m      1\u001b[0m \u001b[1;31m#ARL,AFPP,ASPP,AFTAPP,ASAPP,ASW,AOW\u001b[0m\u001b[1;33m\u001b[0m\u001b[1;33m\u001b[0m\u001b[1;33m\u001b[0m\u001b[0m\n\u001b[0;32m      2\u001b[0m \u001b[1;33m\u001b[0m\u001b[0m\n\u001b[1;32m----> 3\u001b[1;33m \u001b[0mProduct_ReviewContent_group_avg_sent_len\u001b[0m\u001b[1;33m=\u001b[0m \u001b[0mProduct_ReviewContent\u001b[0m\u001b[1;33m.\u001b[0m\u001b[0mgroupby\u001b[0m\u001b[1;33m(\u001b[0m\u001b[1;34m\"Product_id\"\u001b[0m\u001b[1;33m)\u001b[0m\u001b[1;33m[\u001b[0m\u001b[1;34m\"Sent_len\"\u001b[0m\u001b[1;33m]\u001b[0m\u001b[1;33m.\u001b[0m\u001b[0mmean\u001b[0m\u001b[1;33m(\u001b[0m\u001b[1;33m)\u001b[0m\u001b[1;33m\u001b[0m\u001b[1;33m\u001b[0m\u001b[0m\n\u001b[0m\u001b[0;32m      4\u001b[0m \u001b[0mProduct_ReviewContent_group_avg_first_third_ratio\u001b[0m \u001b[1;33m=\u001b[0m \u001b[0mProduct_ReviewContent\u001b[0m\u001b[1;33m.\u001b[0m\u001b[0mgroupby\u001b[0m\u001b[1;33m(\u001b[0m\u001b[1;34m\"Product_id\"\u001b[0m\u001b[1;33m)\u001b[0m\u001b[1;33m[\u001b[0m\u001b[1;34m\"First_Third_PRP\"\u001b[0m\u001b[1;33m,\u001b[0m\u001b[1;34m\"Sent_len\"\u001b[0m\u001b[1;33m]\u001b[0m\u001b[1;33m.\u001b[0m\u001b[0mapply\u001b[0m\u001b[1;33m(\u001b[0m\u001b[1;32mlambda\u001b[0m \u001b[0mx\u001b[0m\u001b[1;33m:\u001b[0m \u001b[0msum\u001b[0m\u001b[1;33m(\u001b[0m\u001b[0mx\u001b[0m\u001b[1;33m[\u001b[0m\u001b[1;34m\"First_Third_PRP\"\u001b[0m\u001b[1;33m]\u001b[0m\u001b[1;33m)\u001b[0m\u001b[1;33m/\u001b[0m\u001b[0msum\u001b[0m\u001b[1;33m(\u001b[0m\u001b[0mx\u001b[0m\u001b[1;33m[\u001b[0m\u001b[1;34m\"Sent_len\"\u001b[0m\u001b[1;33m]\u001b[0m\u001b[1;33m)\u001b[0m\u001b[1;33m)\u001b[0m\u001b[1;33m\u001b[0m\u001b[1;33m\u001b[0m\u001b[0m\n\u001b[0;32m      5\u001b[0m \u001b[0mProduct_ReviewContent_group_avg_second_ratio\u001b[0m \u001b[1;33m=\u001b[0m \u001b[0mProduct_ReviewContent\u001b[0m\u001b[1;33m.\u001b[0m\u001b[0mgroupby\u001b[0m\u001b[1;33m(\u001b[0m\u001b[1;34m\"Product_id\"\u001b[0m\u001b[1;33m)\u001b[0m\u001b[1;33m[\u001b[0m\u001b[1;34m\"Second_PRP\"\u001b[0m\u001b[1;33m,\u001b[0m\u001b[1;34m\"Sent_len\"\u001b[0m\u001b[1;33m]\u001b[0m\u001b[1;33m.\u001b[0m\u001b[0mapply\u001b[0m\u001b[1;33m(\u001b[0m\u001b[1;32mlambda\u001b[0m \u001b[0mx\u001b[0m\u001b[1;33m:\u001b[0m \u001b[0msum\u001b[0m\u001b[1;33m(\u001b[0m\u001b[0mx\u001b[0m\u001b[1;33m[\u001b[0m\u001b[1;34m\"Second_PRP\"\u001b[0m\u001b[1;33m]\u001b[0m\u001b[1;33m)\u001b[0m\u001b[1;33m/\u001b[0m\u001b[0msum\u001b[0m\u001b[1;33m(\u001b[0m\u001b[0mx\u001b[0m\u001b[1;33m[\u001b[0m\u001b[1;34m\"Sent_len\"\u001b[0m\u001b[1;33m]\u001b[0m\u001b[1;33m)\u001b[0m\u001b[1;33m)\u001b[0m\u001b[1;33m\u001b[0m\u001b[1;33m\u001b[0m\u001b[0m\n",
      "\u001b[1;32m~\\anaconda3\\lib\\site-packages\\pandas\\core\\groupby\\generic.py\u001b[0m in \u001b[0;36m__getitem__\u001b[1;34m(self, key)\u001b[0m\n\u001b[0;32m   1540\u001b[0m                 \u001b[0mstacklevel\u001b[0m\u001b[1;33m=\u001b[0m\u001b[1;36m2\u001b[0m\u001b[1;33m,\u001b[0m\u001b[1;33m\u001b[0m\u001b[1;33m\u001b[0m\u001b[0m\n\u001b[0;32m   1541\u001b[0m             )\n\u001b[1;32m-> 1542\u001b[1;33m         \u001b[1;32mreturn\u001b[0m \u001b[0msuper\u001b[0m\u001b[1;33m(\u001b[0m\u001b[1;33m)\u001b[0m\u001b[1;33m.\u001b[0m\u001b[0m__getitem__\u001b[0m\u001b[1;33m(\u001b[0m\u001b[0mkey\u001b[0m\u001b[1;33m)\u001b[0m\u001b[1;33m\u001b[0m\u001b[1;33m\u001b[0m\u001b[0m\n\u001b[0m\u001b[0;32m   1543\u001b[0m \u001b[1;33m\u001b[0m\u001b[0m\n\u001b[0;32m   1544\u001b[0m     \u001b[1;32mdef\u001b[0m \u001b[0m_gotitem\u001b[0m\u001b[1;33m(\u001b[0m\u001b[0mself\u001b[0m\u001b[1;33m,\u001b[0m \u001b[0mkey\u001b[0m\u001b[1;33m,\u001b[0m \u001b[0mndim\u001b[0m\u001b[1;33m:\u001b[0m \u001b[0mint\u001b[0m\u001b[1;33m,\u001b[0m \u001b[0msubset\u001b[0m\u001b[1;33m=\u001b[0m\u001b[1;32mNone\u001b[0m\u001b[1;33m)\u001b[0m\u001b[1;33m:\u001b[0m\u001b[1;33m\u001b[0m\u001b[1;33m\u001b[0m\u001b[0m\n",
      "\u001b[1;32m~\\anaconda3\\lib\\site-packages\\pandas\\core\\base.py\u001b[0m in \u001b[0;36m__getitem__\u001b[1;34m(self, key)\u001b[0m\n\u001b[0;32m    278\u001b[0m             \u001b[1;31m# error: \"SelectionMixin\" has no attribute \"obj\"  [attr-defined]\u001b[0m\u001b[1;33m\u001b[0m\u001b[1;33m\u001b[0m\u001b[1;33m\u001b[0m\u001b[0m\n\u001b[0;32m    279\u001b[0m             \u001b[1;32mif\u001b[0m \u001b[0mkey\u001b[0m \u001b[1;32mnot\u001b[0m \u001b[1;32min\u001b[0m \u001b[0mself\u001b[0m\u001b[1;33m.\u001b[0m\u001b[0mobj\u001b[0m\u001b[1;33m:\u001b[0m  \u001b[1;31m# type: ignore[attr-defined]\u001b[0m\u001b[1;33m\u001b[0m\u001b[1;33m\u001b[0m\u001b[0m\n\u001b[1;32m--> 280\u001b[1;33m                 \u001b[1;32mraise\u001b[0m \u001b[0mKeyError\u001b[0m\u001b[1;33m(\u001b[0m\u001b[1;34mf\"Column not found: {key}\"\u001b[0m\u001b[1;33m)\u001b[0m\u001b[1;33m\u001b[0m\u001b[1;33m\u001b[0m\u001b[0m\n\u001b[0m\u001b[0;32m    281\u001b[0m             \u001b[1;32mreturn\u001b[0m \u001b[0mself\u001b[0m\u001b[1;33m.\u001b[0m\u001b[0m_gotitem\u001b[0m\u001b[1;33m(\u001b[0m\u001b[0mkey\u001b[0m\u001b[1;33m,\u001b[0m \u001b[0mndim\u001b[0m\u001b[1;33m=\u001b[0m\u001b[1;36m1\u001b[0m\u001b[1;33m)\u001b[0m\u001b[1;33m\u001b[0m\u001b[1;33m\u001b[0m\u001b[0m\n\u001b[0;32m    282\u001b[0m \u001b[1;33m\u001b[0m\u001b[0m\n",
      "\u001b[1;31mKeyError\u001b[0m: 'Column not found: Sent_len'"
     ]
    }
   ],
   "source": [
    "#ARL,AFPP,ASPP,AFTAPP,ASAPP,ASW,AOW\n",
    "\n",
    "Product_ReviewContent_group_avg_sent_len= Product_ReviewContent.groupby(\"Product_id\")[\"Sent_len\"].mean()\n",
    "Product_ReviewContent_group_avg_first_third_ratio = Product_ReviewContent.groupby(\"Product_id\")[\"First_Third_PRP\",\"Sent_len\"].apply(lambda x: sum(x[\"First_Third_PRP\"])/sum(x[\"Sent_len\"]))\n",
    "Product_ReviewContent_group_avg_second_ratio = Product_ReviewContent.groupby(\"Product_id\")[\"Second_PRP\",\"Sent_len\"].apply(lambda x: sum(x[\"Second_PRP\"])/sum(x[\"Sent_len\"]))\n",
    "Product_ReviewContent_group_avg_sub_ratio = Product_ReviewContent.groupby(\"Product_id\")[\"SUB_Len\",\"Sent_len\"].apply(lambda x: sum(x[\"SUB_Len\"])/sum(x[\"Sent_len\"]))\n",
    "Product_ReviewContent_group_avg_obj_ratio = Product_ReviewContent.groupby(\"Product_id\")[\"OBJ_Len\",\"Sent_len\"].apply(lambda x: sum(x[\"OBJ_Len\"])/sum(x[\"Sent_len\"]))\n",
    "\n",
    "Product_ReviewContent_group_avg_sub_to_allpro_ratio = Product_ReviewContent.groupby(\"Product_id\")[\"SUB_Len\",\"OBJ_Len\"].apply(lambda x: sum(x[\"SUB_Len\"])/(sum(x[\"OBJ_Len\"])+sum(x[\"SUB_Len\"])) )\n",
    "Product_ReviewContent_group_avg_obj_to_allpro_ratio = Product_ReviewContent.groupby(\"Product_id\")[\"SUB_Len\",\"OBJ_Len\"].apply(lambda x: sum(x[\"OBJ_Len\"])/(sum(x[\"OBJ_Len\"])+sum(x[\"SUB_Len\"])) )\n",
    "\n",
    "                                                                                                                                    "
   ]
  },
  {
   "cell_type": "code",
   "execution_count": 219,
   "id": "5adca0a9",
   "metadata": {},
   "outputs": [],
   "source": [
    "Product_ReviewContent_grouped= pd.concat([Product_ReviewContent_group_avg_sent_len,\n",
    "                                        Product_ReviewContent_group_avg_first_third_ratio,Product_ReviewContent_group_avg_second_ratio,\n",
    "                                        Product_ReviewContent_group_avg_sub_ratio,Product_ReviewContent_group_avg_obj_ratio,\n",
    "                                        Product_ReviewContent_group_avg_sub_to_allpro_ratio, Product_ReviewContent_group_avg_obj_to_allpro_ratio],\n",
    "                                        axis=1)"
   ]
  },
  {
   "cell_type": "code",
   "execution_count": 221,
   "id": "9f5e0c14",
   "metadata": {},
   "outputs": [],
   "source": [
    "Product_ReviewContent_grouped.columns = [[\"Product_ReviewContent_avg_sent_len\",\n",
    "                                         \"Product_ReviewContent_avg_first_third_ratio\",'Product_ReviewContent_avg_second_ratio',\n",
    "                                         'Product_ReviewContent_avg_sub_ratio','Product_ReviewContent_avg_obj_ratio',\n",
    "                                         'Product_ReviewContent_avg_sub_to_allpro_ratio','Product_ReviewContent_avg_obj_to_allpro_ratio']]"
   ]
  },
  {
   "cell_type": "code",
   "execution_count": 223,
   "id": "d6c6918d",
   "metadata": {},
   "outputs": [],
   "source": [
    "Product_ReviewContent =Product_ReviewContent.merge(Product_ReviewContent_grouped,how = \"left\",on=\"Product_id\")"
   ]
  },
  {
   "cell_type": "code",
   "execution_count": 225,
   "id": "bbdfde18",
   "metadata": {},
   "outputs": [],
   "source": [
    "Product_ReviewContent.to_excel(\"Product-centric-Text-feature.xlsx\")"
   ]
  },
  {
   "cell_type": "code",
   "execution_count": 612,
   "id": "7bf48e61",
   "metadata": {},
   "outputs": [],
   "source": [
    "Product_ReviewContent=pd.read_excel(\"Product-centric-Text-feature.xlsx\")"
   ]
  },
  {
   "cell_type": "code",
   "execution_count": 613,
   "id": "6a3bae4e",
   "metadata": {},
   "outputs": [],
   "source": [
    "columns = Product_ReviewContent.columns.tolist()"
   ]
  },
  {
   "cell_type": "code",
   "execution_count": 614,
   "id": "af27d1ba",
   "metadata": {},
   "outputs": [
    {
     "data": {
      "text/plain": [
       "['Reviewer_id',\n",
       " 'Product_id',\n",
       " 'Date',\n",
       " 'Text',\n",
       " 'Count (P)',\n",
       " 'Tag_PRP',\n",
       " 'SUB_Data',\n",
       " 'OBJ_Data',\n",
       " 'Sent_len',\n",
       " 'SUB_Len',\n",
       " 'OBJ_Len',\n",
       " 'First_Third_PRP',\n",
       " 'First_Third_PRP_ratio',\n",
       " 'Second_PRP',\n",
       " 'Second_PRP_ratio',\n",
       " 'Product_ReviewContent_avg_sent_len',\n",
       " 'Product_ReviewContent_avg_first_third_ratio',\n",
       " 'Product_ReviewContent_avg_second_ratio',\n",
       " 'Product_ReviewContent_avg_sub_ratio',\n",
       " 'Product_ReviewContent_avg_obj_ratio',\n",
       " 'Product_ReviewContent_avg_sub_to_allpro_ratio',\n",
       " 'Product_ReviewContent_avg_obj_to_allpro_ratio']"
      ]
     },
     "execution_count": 614,
     "metadata": {},
     "output_type": "execute_result"
    }
   ],
   "source": [
    "columns"
   ]
  },
  {
   "cell_type": "code",
   "execution_count": 615,
   "id": "4f66f80b",
   "metadata": {},
   "outputs": [
    {
     "data": {
      "text/plain": [
       "['Reviewer_id',\n",
       " 'Product_id',\n",
       " 'Date',\n",
       " 'Text',\n",
       " 'Count (P)',\n",
       " 'Product_ReviewContent_Tag_PRP',\n",
       " 'Product_ReviewContent_SUB_Data',\n",
       " 'Product_ReviewContent_OBJ_Data',\n",
       " 'Product_ReviewContent_Sent_len',\n",
       " 'Product_ReviewContent_SUB_Len',\n",
       " 'Product_ReviewContent_OBJ_Len',\n",
       " 'Product_ReviewContent_First_Third_PRP',\n",
       " 'Product_ReviewContent_First_Third_PRP_ratio',\n",
       " 'Product_ReviewContent_Second_PRP',\n",
       " 'Product_ReviewContent_Second_PRP_ratio',\n",
       " 'Product_ReviewContent_avg_sent_len',\n",
       " 'Product_ReviewContent_avg_first_third_ratio',\n",
       " 'Product_ReviewContent_avg_second_ratio',\n",
       " 'Product_ReviewContent_avg_sub_ratio',\n",
       " 'Product_ReviewContent_avg_obj_ratio',\n",
       " 'Product_ReviewContent_avg_sub_to_allpro_ratio',\n",
       " 'Product_ReviewContent_avg_obj_to_allpro_ratio']"
      ]
     },
     "execution_count": 615,
     "metadata": {},
     "output_type": "execute_result"
    }
   ],
   "source": [
    "columns[5:15]=[\"Product_ReviewContent_\"+column for column in columns[5:15]]\n",
    "columns"
   ]
  },
  {
   "cell_type": "code",
   "execution_count": 427,
   "id": "6afe4e0f",
   "metadata": {},
   "outputs": [],
   "source": [
    "columns = Product_ReviewContent.columns.tolist()\n",
    "columns =[column[2:-3] if column[0]==\"(\" else column for column in columns]"
   ]
  },
  {
   "cell_type": "code",
   "execution_count": 616,
   "id": "1ebadc1d",
   "metadata": {},
   "outputs": [],
   "source": [
    "Product_ReviewContent.columns = [columns]"
   ]
  },
  {
   "cell_type": "code",
   "execution_count": 617,
   "id": "beb61d75",
   "metadata": {},
   "outputs": [
    {
     "data": {
      "text/html": [
       "<div>\n",
       "<style scoped>\n",
       "    .dataframe tbody tr th:only-of-type {\n",
       "        vertical-align: middle;\n",
       "    }\n",
       "\n",
       "    .dataframe tbody tr th {\n",
       "        vertical-align: top;\n",
       "    }\n",
       "\n",
       "    .dataframe thead tr th {\n",
       "        text-align: left;\n",
       "    }\n",
       "</style>\n",
       "<table border=\"1\" class=\"dataframe\">\n",
       "  <thead>\n",
       "    <tr>\n",
       "      <th></th>\n",
       "      <th>Reviewer_id</th>\n",
       "      <th>Product_id</th>\n",
       "      <th>Date</th>\n",
       "      <th>Text</th>\n",
       "      <th>Count (P)</th>\n",
       "      <th>Product_ReviewContent_Tag_PRP</th>\n",
       "      <th>Product_ReviewContent_SUB_Data</th>\n",
       "      <th>Product_ReviewContent_OBJ_Data</th>\n",
       "      <th>Product_ReviewContent_Sent_len</th>\n",
       "      <th>Product_ReviewContent_SUB_Len</th>\n",
       "      <th>...</th>\n",
       "      <th>Product_ReviewContent_First_Third_PRP_ratio</th>\n",
       "      <th>Product_ReviewContent_Second_PRP</th>\n",
       "      <th>Product_ReviewContent_Second_PRP_ratio</th>\n",
       "      <th>Product_ReviewContent_avg_sent_len</th>\n",
       "      <th>Product_ReviewContent_avg_first_third_ratio</th>\n",
       "      <th>Product_ReviewContent_avg_second_ratio</th>\n",
       "      <th>Product_ReviewContent_avg_sub_ratio</th>\n",
       "      <th>Product_ReviewContent_avg_obj_ratio</th>\n",
       "      <th>Product_ReviewContent_avg_sub_to_allpro_ratio</th>\n",
       "      <th>Product_ReviewContent_avg_obj_to_allpro_ratio</th>\n",
       "    </tr>\n",
       "  </thead>\n",
       "  <tbody>\n",
       "    <tr>\n",
       "      <th>0</th>\n",
       "      <td>923</td>\n",
       "      <td>0</td>\n",
       "      <td>2014-12-08</td>\n",
       "      <td>The food at snack is a selection of popular Gr...</td>\n",
       "      <td>98</td>\n",
       "      <td>['We']</td>\n",
       "      <td>['food', 'tray', 'it']</td>\n",
       "      <td>['snack', 'dishes', 'courses']</td>\n",
       "      <td>211</td>\n",
       "      <td>3</td>\n",
       "      <td>...</td>\n",
       "      <td>0.004739</td>\n",
       "      <td>0</td>\n",
       "      <td>0.000000</td>\n",
       "      <td>508.622449</td>\n",
       "      <td>0.009249</td>\n",
       "      <td>0.001444</td>\n",
       "      <td>0.019541</td>\n",
       "      <td>0.022931</td>\n",
       "      <td>0.460085</td>\n",
       "      <td>0.539915</td>\n",
       "    </tr>\n",
       "    <tr>\n",
       "      <th>1</th>\n",
       "      <td>927</td>\n",
       "      <td>0</td>\n",
       "      <td>2010-11-01</td>\n",
       "      <td>Snack is great place for a Â casual sit down l...</td>\n",
       "      <td>98</td>\n",
       "      <td>['it', 'I', 'you', 'their', 'you']</td>\n",
       "      <td>['Snack', 'restaurant', 'soup', 'bean', 'coffe...</td>\n",
       "      <td>['casual', 'day', 'ways', 'simple', 'hearty', ...</td>\n",
       "      <td>588</td>\n",
       "      <td>11</td>\n",
       "      <td>...</td>\n",
       "      <td>0.003401</td>\n",
       "      <td>2</td>\n",
       "      <td>0.003401</td>\n",
       "      <td>508.622449</td>\n",
       "      <td>0.009249</td>\n",
       "      <td>0.001444</td>\n",
       "      <td>0.019541</td>\n",
       "      <td>0.022931</td>\n",
       "      <td>0.460085</td>\n",
       "      <td>0.539915</td>\n",
       "    </tr>\n",
       "    <tr>\n",
       "      <th>2</th>\n",
       "      <td>930</td>\n",
       "      <td>0</td>\n",
       "      <td>2007-05-20</td>\n",
       "      <td>Love this place! Â Try the Chicken sandwich or...</td>\n",
       "      <td>98</td>\n",
       "      <td>[]</td>\n",
       "      <td>['\\xa0', 'Those', '\\xa0']</td>\n",
       "      <td>['place', 'sandwich']</td>\n",
       "      <td>134</td>\n",
       "      <td>3</td>\n",
       "      <td>...</td>\n",
       "      <td>0.000000</td>\n",
       "      <td>0</td>\n",
       "      <td>0.000000</td>\n",
       "      <td>508.622449</td>\n",
       "      <td>0.009249</td>\n",
       "      <td>0.001444</td>\n",
       "      <td>0.019541</td>\n",
       "      <td>0.022931</td>\n",
       "      <td>0.460085</td>\n",
       "      <td>0.539915</td>\n",
       "    </tr>\n",
       "    <tr>\n",
       "      <th>3</th>\n",
       "      <td>931</td>\n",
       "      <td>0</td>\n",
       "      <td>2005-12-27</td>\n",
       "      <td>My friend and I were intrigued by the nightly ...</td>\n",
       "      <td>98</td>\n",
       "      <td>['My', 'I', 'we', 'we', 'we', 'I', 'I', 'they'...</td>\n",
       "      <td>['we', 'we', 'we', 'I', 'I', 'they', 'we', 'ci...</td>\n",
       "      <td>['Shoes', 'sirloin', 'Snack', 'glass', 'wine',...</td>\n",
       "      <td>564</td>\n",
       "      <td>10</td>\n",
       "      <td>...</td>\n",
       "      <td>0.019504</td>\n",
       "      <td>0</td>\n",
       "      <td>0.000000</td>\n",
       "      <td>508.622449</td>\n",
       "      <td>0.009249</td>\n",
       "      <td>0.001444</td>\n",
       "      <td>0.019541</td>\n",
       "      <td>0.022931</td>\n",
       "      <td>0.460085</td>\n",
       "      <td>0.539915</td>\n",
       "    </tr>\n",
       "    <tr>\n",
       "      <th>4</th>\n",
       "      <td>940</td>\n",
       "      <td>0</td>\n",
       "      <td>2014-09-16</td>\n",
       "      <td>For lunch, my friend and I had: -Lamb sandwich...</td>\n",
       "      <td>98</td>\n",
       "      <td>['my', 'I', 'my', 'it', 'I', 'I', 'it', 'they'...</td>\n",
       "      <td>['I', 'friend', 'I', 'I', 'Avolemono', 'friend...</td>\n",
       "      <td>['lunch', 'friend', 'beet', 'portion', 'thing'...</td>\n",
       "      <td>438</td>\n",
       "      <td>9</td>\n",
       "      <td>...</td>\n",
       "      <td>0.013699</td>\n",
       "      <td>1</td>\n",
       "      <td>0.002283</td>\n",
       "      <td>508.622449</td>\n",
       "      <td>0.009249</td>\n",
       "      <td>0.001444</td>\n",
       "      <td>0.019541</td>\n",
       "      <td>0.022931</td>\n",
       "      <td>0.460085</td>\n",
       "      <td>0.539915</td>\n",
       "    </tr>\n",
       "  </tbody>\n",
       "</table>\n",
       "<p>5 rows × 22 columns</p>\n",
       "</div>"
      ],
      "text/plain": [
       "  Reviewer_id Product_id       Date  \\\n",
       "0         923          0 2014-12-08   \n",
       "1         927          0 2010-11-01   \n",
       "2         930          0 2007-05-20   \n",
       "3         931          0 2005-12-27   \n",
       "4         940          0 2014-09-16   \n",
       "\n",
       "                                                Text Count (P)  \\\n",
       "0  The food at snack is a selection of popular Gr...        98   \n",
       "1  Snack is great place for a Â casual sit down l...        98   \n",
       "2  Love this place! Â Try the Chicken sandwich or...        98   \n",
       "3  My friend and I were intrigued by the nightly ...        98   \n",
       "4  For lunch, my friend and I had: -Lamb sandwich...        98   \n",
       "\n",
       "                       Product_ReviewContent_Tag_PRP  \\\n",
       "0                                             ['We']   \n",
       "1                 ['it', 'I', 'you', 'their', 'you']   \n",
       "2                                                 []   \n",
       "3  ['My', 'I', 'we', 'we', 'we', 'I', 'I', 'they'...   \n",
       "4  ['my', 'I', 'my', 'it', 'I', 'I', 'it', 'they'...   \n",
       "\n",
       "                      Product_ReviewContent_SUB_Data  \\\n",
       "0                             ['food', 'tray', 'it']   \n",
       "1  ['Snack', 'restaurant', 'soup', 'bean', 'coffe...   \n",
       "2                          ['\\xa0', 'Those', '\\xa0']   \n",
       "3  ['we', 'we', 'we', 'I', 'I', 'they', 'we', 'ci...   \n",
       "4  ['I', 'friend', 'I', 'I', 'Avolemono', 'friend...   \n",
       "\n",
       "                      Product_ReviewContent_OBJ_Data  \\\n",
       "0                     ['snack', 'dishes', 'courses']   \n",
       "1  ['casual', 'day', 'ways', 'simple', 'hearty', ...   \n",
       "2                              ['place', 'sandwich']   \n",
       "3  ['Shoes', 'sirloin', 'Snack', 'glass', 'wine',...   \n",
       "4  ['lunch', 'friend', 'beet', 'portion', 'thing'...   \n",
       "\n",
       "  Product_ReviewContent_Sent_len Product_ReviewContent_SUB_Len  ...  \\\n",
       "0                            211                             3  ...   \n",
       "1                            588                            11  ...   \n",
       "2                            134                             3  ...   \n",
       "3                            564                            10  ...   \n",
       "4                            438                             9  ...   \n",
       "\n",
       "  Product_ReviewContent_First_Third_PRP_ratio  \\\n",
       "0                                    0.004739   \n",
       "1                                    0.003401   \n",
       "2                                    0.000000   \n",
       "3                                    0.019504   \n",
       "4                                    0.013699   \n",
       "\n",
       "  Product_ReviewContent_Second_PRP Product_ReviewContent_Second_PRP_ratio  \\\n",
       "0                                0                               0.000000   \n",
       "1                                2                               0.003401   \n",
       "2                                0                               0.000000   \n",
       "3                                0                               0.000000   \n",
       "4                                1                               0.002283   \n",
       "\n",
       "  Product_ReviewContent_avg_sent_len  \\\n",
       "0                         508.622449   \n",
       "1                         508.622449   \n",
       "2                         508.622449   \n",
       "3                         508.622449   \n",
       "4                         508.622449   \n",
       "\n",
       "  Product_ReviewContent_avg_first_third_ratio  \\\n",
       "0                                    0.009249   \n",
       "1                                    0.009249   \n",
       "2                                    0.009249   \n",
       "3                                    0.009249   \n",
       "4                                    0.009249   \n",
       "\n",
       "  Product_ReviewContent_avg_second_ratio Product_ReviewContent_avg_sub_ratio  \\\n",
       "0                               0.001444                            0.019541   \n",
       "1                               0.001444                            0.019541   \n",
       "2                               0.001444                            0.019541   \n",
       "3                               0.001444                            0.019541   \n",
       "4                               0.001444                            0.019541   \n",
       "\n",
       "  Product_ReviewContent_avg_obj_ratio  \\\n",
       "0                            0.022931   \n",
       "1                            0.022931   \n",
       "2                            0.022931   \n",
       "3                            0.022931   \n",
       "4                            0.022931   \n",
       "\n",
       "  Product_ReviewContent_avg_sub_to_allpro_ratio  \\\n",
       "0                                      0.460085   \n",
       "1                                      0.460085   \n",
       "2                                      0.460085   \n",
       "3                                      0.460085   \n",
       "4                                      0.460085   \n",
       "\n",
       "  Product_ReviewContent_avg_obj_to_allpro_ratio  \n",
       "0                                      0.539915  \n",
       "1                                      0.539915  \n",
       "2                                      0.539915  \n",
       "3                                      0.539915  \n",
       "4                                      0.539915  \n",
       "\n",
       "[5 rows x 22 columns]"
      ]
     },
     "execution_count": 617,
     "metadata": {},
     "output_type": "execute_result"
    }
   ],
   "source": [
    "Product_ReviewContent.head()"
   ]
  },
  {
   "cell_type": "code",
   "execution_count": 618,
   "id": "74a3b35c",
   "metadata": {},
   "outputs": [],
   "source": [
    "Product_ReviewContent.to_excel(\"Product-centric-Text-feature.xlsx\")"
   ]
  },
  {
   "cell_type": "markdown",
   "id": "4d86817b",
   "metadata": {},
   "source": [
    "# Reviewer Centric"
   ]
  },
  {
   "cell_type": "markdown",
   "id": "bf782cae",
   "metadata": {},
   "source": [
    "# Reviewer-centric-Behavior-feature"
   ]
  },
  {
   "cell_type": "code",
   "execution_count": 387,
   "id": "3ca2cd91",
   "metadata": {},
   "outputs": [],
   "source": [
    "Reviewer_Behavior = pd.read_excel(\"C:\\\\Users\\\\Harmony Chen\\\\Documents\\\\JupyterLab\\\\Code-and-Results-master\\\\Data\\\\YelpNYC\\\\Metadata (Sortedby_Reviewer_wise).xlsx\")# Change the path according to the file location"
   ]
  },
  {
   "cell_type": "code",
   "execution_count": 388,
   "id": "3793c596",
   "metadata": {},
   "outputs": [
    {
     "data": {
      "text/plain": [
       "Counter({-1: 8238, 1: 82668})"
      ]
     },
     "execution_count": 388,
     "metadata": {},
     "output_type": "execute_result"
    }
   ],
   "source": [
    "Counter(Reviewer_Behavior[\"Label\"])"
   ]
  },
  {
   "cell_type": "code",
   "execution_count": 389,
   "id": "a8befded",
   "metadata": {},
   "outputs": [
    {
     "data": {
      "text/html": [
       "<div>\n",
       "<style scoped>\n",
       "    .dataframe tbody tr th:only-of-type {\n",
       "        vertical-align: middle;\n",
       "    }\n",
       "\n",
       "    .dataframe tbody tr th {\n",
       "        vertical-align: top;\n",
       "    }\n",
       "\n",
       "    .dataframe thead th {\n",
       "        text-align: right;\n",
       "    }\n",
       "</style>\n",
       "<table border=\"1\" class=\"dataframe\">\n",
       "  <thead>\n",
       "    <tr style=\"text-align: right;\">\n",
       "      <th></th>\n",
       "      <th>Reviewer_id</th>\n",
       "      <th>Product_id</th>\n",
       "      <th>Rating</th>\n",
       "      <th>Label</th>\n",
       "      <th>Date</th>\n",
       "      <th>Count (U)</th>\n",
       "    </tr>\n",
       "  </thead>\n",
       "  <tbody>\n",
       "    <tr>\n",
       "      <th>0</th>\n",
       "      <td>923</td>\n",
       "      <td>0</td>\n",
       "      <td>3</td>\n",
       "      <td>-1</td>\n",
       "      <td>2014-12-08</td>\n",
       "      <td>39</td>\n",
       "    </tr>\n",
       "    <tr>\n",
       "      <th>1</th>\n",
       "      <td>923</td>\n",
       "      <td>19</td>\n",
       "      <td>5</td>\n",
       "      <td>-1</td>\n",
       "      <td>2014-01-14</td>\n",
       "      <td>39</td>\n",
       "    </tr>\n",
       "    <tr>\n",
       "      <th>2</th>\n",
       "      <td>923</td>\n",
       "      <td>40</td>\n",
       "      <td>4</td>\n",
       "      <td>-1</td>\n",
       "      <td>2014-05-30</td>\n",
       "      <td>39</td>\n",
       "    </tr>\n",
       "    <tr>\n",
       "      <th>3</th>\n",
       "      <td>923</td>\n",
       "      <td>63</td>\n",
       "      <td>4</td>\n",
       "      <td>-1</td>\n",
       "      <td>2014-11-13</td>\n",
       "      <td>39</td>\n",
       "    </tr>\n",
       "    <tr>\n",
       "      <th>4</th>\n",
       "      <td>923</td>\n",
       "      <td>79</td>\n",
       "      <td>3</td>\n",
       "      <td>-1</td>\n",
       "      <td>2014-03-30</td>\n",
       "      <td>39</td>\n",
       "    </tr>\n",
       "  </tbody>\n",
       "</table>\n",
       "</div>"
      ],
      "text/plain": [
       "   Reviewer_id  Product_id  Rating  Label       Date  Count (U)\n",
       "0          923           0       3     -1 2014-12-08         39\n",
       "1          923          19       5     -1 2014-01-14         39\n",
       "2          923          40       4     -1 2014-05-30         39\n",
       "3          923          63       4     -1 2014-11-13         39\n",
       "4          923          79       3     -1 2014-03-30         39"
      ]
     },
     "execution_count": 389,
     "metadata": {},
     "output_type": "execute_result"
    }
   ],
   "source": [
    "Reviewer_Behavior.head()"
   ]
  },
  {
   "cell_type": "code",
   "execution_count": 390,
   "id": "075b5660",
   "metadata": {},
   "outputs": [
    {
     "data": {
      "text/plain": [
       "84"
      ]
     },
     "execution_count": 390,
     "metadata": {},
     "output_type": "execute_result"
    }
   ],
   "source": [
    "Reviewer_Behavior[\"Count (U)\"].max()"
   ]
  },
  {
   "cell_type": "code",
   "execution_count": 391,
   "id": "4148dd4a",
   "metadata": {},
   "outputs": [],
   "source": [
    "Reviewer_Behavior_group_rank_average = Reviewer_Behavior.groupby([\"Reviewer_id\"])[\"Rating\"].mean()\n",
    "Reviewer_Behavior_group_rank_sd = Reviewer_Behavior.groupby([\"Reviewer_id\"])[\"Rating\"].std()\n",
    "Reviewer_Behavior_group_date_min = Reviewer_Behavior.groupby([\"Reviewer_id\"])[\"Date\"].min()\n",
    "Reviewer_Behavior_group_date_max = Reviewer_Behavior.groupby([\"Reviewer_id\"])[\"Date\"].max()"
   ]
  },
  {
   "cell_type": "code",
   "execution_count": 392,
   "id": "e1aa33b3",
   "metadata": {},
   "outputs": [],
   "source": [
    "#most common rating\n",
    "Reviewer_Behavior_group_rank_common = Reviewer_Behavior.groupby([\"Reviewer_id\"])[\"Rating\"].agg(lambda x:x.value_counts().index[0])"
   ]
  },
  {
   "cell_type": "code",
   "execution_count": 393,
   "id": "ca117690",
   "metadata": {},
   "outputs": [],
   "source": [
    "#EXRR,TRRR,BRRR,RPR,RNR\n",
    "Reviewer_Behavior_group_extreme_rating_ratio = Reviewer_Behavior.groupby([\"Reviewer_id\"])[\"Rating\"].apply(lambda x : sum(x==5|1)/sum(x))\n",
    "Reviewer_Behavior_group_toprating_rating_ratio = Reviewer_Behavior.groupby([\"Reviewer_id\"])[\"Rating\"].apply(lambda x : sum(x==5)/sum(x))\n",
    "Reviewer_Behavior_group_buttomrating_rating_ratio = Reviewer_Behavior.groupby([\"Reviewer_id\"])[\"Rating\"].apply(lambda x : sum(x==1)/sum(x))\n",
    "Reviewer_Behavior_group_posrating_rating_ratio = Reviewer_Behavior.groupby([\"Reviewer_id\"])[\"Rating\"].apply(lambda x : sum(x==4|5)/sum(x))\n",
    "Reviewer_Behavior_group_negrating_rating_ratio = Reviewer_Behavior.groupby([\"Reviewer_id\"])[\"Rating\"].apply(lambda x : sum(x==1|2)/sum(x))"
   ]
  },
  {
   "cell_type": "code",
   "execution_count": 394,
   "id": "1f4aff13",
   "metadata": {},
   "outputs": [],
   "source": [
    "Reviewer_Behavior_grouped = pd.concat([Reviewer_Behavior_group_rank_average,Reviewer_Behavior_group_rank_sd,\n",
    "                                      Reviewer_Behavior_group_rank_common,Reviewer_Behavior_group_date_min,\n",
    "                                      Reviewer_Behavior_group_date_max,Reviewer_Behavior_group_extreme_rating_ratio,\n",
    "                                      Reviewer_Behavior_group_toprating_rating_ratio,Reviewer_Behavior_group_buttomrating_rating_ratio,\n",
    "                                      Reviewer_Behavior_group_posrating_rating_ratio,Reviewer_Behavior_group_negrating_rating_ratio],axis=1)"
   ]
  },
  {
   "cell_type": "code",
   "execution_count": 395,
   "id": "86a4142b",
   "metadata": {},
   "outputs": [],
   "source": [
    "Reviewer_Behavior_grouped.columns = [[\"Reviewer_Average_Rank\",\"Reviewer_Rank_SD\",\n",
    "                                     \"Reviewer_Behavior_group_rank_common\",\"Reviewer_early_date\",\n",
    "                                     \"Reviewer_final_date\",\"Reviewer_Behavior_group_extreme_rating_ratio\",\n",
    "                                     \"Reviewer_Behavior_group_toprating_rating_ratio\",\"Reviewer_Behavior_group_buttomrating_rating_ratio\",\n",
    "                                    \"Reviewer_Behavior_group_posrating_rating_ratio\",\"Reviewer_Behavior_group_negrating_rating_ratio\"]]"
   ]
  },
  {
   "cell_type": "code",
   "execution_count": 396,
   "id": "b10fdbc4",
   "metadata": {},
   "outputs": [
    {
     "data": {
      "text/plain": [
       "15351"
      ]
     },
     "execution_count": 396,
     "metadata": {},
     "output_type": "execute_result"
    }
   ],
   "source": [
    "len(Reviewer_Behavior_grouped)"
   ]
  },
  {
   "cell_type": "code",
   "execution_count": 397,
   "id": "52f9d07f",
   "metadata": {},
   "outputs": [],
   "source": [
    "Reviewer_Behavior=Reviewer_Behavior.merge(Reviewer_Behavior_grouped,how = \"left\",on=\"Reviewer_id\")"
   ]
  },
  {
   "cell_type": "code",
   "execution_count": 398,
   "id": "f4ecb716",
   "metadata": {},
   "outputs": [
    {
     "data": {
      "text/html": [
       "<div>\n",
       "<style scoped>\n",
       "    .dataframe tbody tr th:only-of-type {\n",
       "        vertical-align: middle;\n",
       "    }\n",
       "\n",
       "    .dataframe tbody tr th {\n",
       "        vertical-align: top;\n",
       "    }\n",
       "\n",
       "    .dataframe thead th {\n",
       "        text-align: right;\n",
       "    }\n",
       "</style>\n",
       "<table border=\"1\" class=\"dataframe\">\n",
       "  <thead>\n",
       "    <tr style=\"text-align: right;\">\n",
       "      <th></th>\n",
       "      <th>Reviewer_id</th>\n",
       "      <th>Product_id</th>\n",
       "      <th>Rating</th>\n",
       "      <th>Label</th>\n",
       "      <th>Date</th>\n",
       "      <th>Count (U)</th>\n",
       "      <th>(Reviewer_Average_Rank,)</th>\n",
       "      <th>(Reviewer_Rank_SD,)</th>\n",
       "      <th>(Reviewer_Behavior_group_rank_common,)</th>\n",
       "      <th>(Reviewer_early_date,)</th>\n",
       "      <th>(Reviewer_final_date,)</th>\n",
       "      <th>(Reviewer_Behavior_group_extreme_rating_ratio,)</th>\n",
       "      <th>(Reviewer_Behavior_group_toprating_rating_ratio,)</th>\n",
       "      <th>(Reviewer_Behavior_group_buttomrating_rating_ratio,)</th>\n",
       "      <th>(Reviewer_Behavior_group_posrating_rating_ratio,)</th>\n",
       "      <th>(Reviewer_Behavior_group_negrating_rating_ratio,)</th>\n",
       "    </tr>\n",
       "  </thead>\n",
       "  <tbody>\n",
       "    <tr>\n",
       "      <th>0</th>\n",
       "      <td>923</td>\n",
       "      <td>0</td>\n",
       "      <td>3</td>\n",
       "      <td>-1</td>\n",
       "      <td>2014-12-08</td>\n",
       "      <td>39</td>\n",
       "      <td>4.435897</td>\n",
       "      <td>0.852083</td>\n",
       "      <td>5</td>\n",
       "      <td>2013-11-04</td>\n",
       "      <td>2014-12-08</td>\n",
       "      <td>0.132948</td>\n",
       "      <td>0.132948</td>\n",
       "      <td>0.00578</td>\n",
       "      <td>0.132948</td>\n",
       "      <td>0.017341</td>\n",
       "    </tr>\n",
       "    <tr>\n",
       "      <th>1</th>\n",
       "      <td>923</td>\n",
       "      <td>19</td>\n",
       "      <td>5</td>\n",
       "      <td>-1</td>\n",
       "      <td>2014-01-14</td>\n",
       "      <td>39</td>\n",
       "      <td>4.435897</td>\n",
       "      <td>0.852083</td>\n",
       "      <td>5</td>\n",
       "      <td>2013-11-04</td>\n",
       "      <td>2014-12-08</td>\n",
       "      <td>0.132948</td>\n",
       "      <td>0.132948</td>\n",
       "      <td>0.00578</td>\n",
       "      <td>0.132948</td>\n",
       "      <td>0.017341</td>\n",
       "    </tr>\n",
       "    <tr>\n",
       "      <th>2</th>\n",
       "      <td>923</td>\n",
       "      <td>40</td>\n",
       "      <td>4</td>\n",
       "      <td>-1</td>\n",
       "      <td>2014-05-30</td>\n",
       "      <td>39</td>\n",
       "      <td>4.435897</td>\n",
       "      <td>0.852083</td>\n",
       "      <td>5</td>\n",
       "      <td>2013-11-04</td>\n",
       "      <td>2014-12-08</td>\n",
       "      <td>0.132948</td>\n",
       "      <td>0.132948</td>\n",
       "      <td>0.00578</td>\n",
       "      <td>0.132948</td>\n",
       "      <td>0.017341</td>\n",
       "    </tr>\n",
       "    <tr>\n",
       "      <th>3</th>\n",
       "      <td>923</td>\n",
       "      <td>63</td>\n",
       "      <td>4</td>\n",
       "      <td>-1</td>\n",
       "      <td>2014-11-13</td>\n",
       "      <td>39</td>\n",
       "      <td>4.435897</td>\n",
       "      <td>0.852083</td>\n",
       "      <td>5</td>\n",
       "      <td>2013-11-04</td>\n",
       "      <td>2014-12-08</td>\n",
       "      <td>0.132948</td>\n",
       "      <td>0.132948</td>\n",
       "      <td>0.00578</td>\n",
       "      <td>0.132948</td>\n",
       "      <td>0.017341</td>\n",
       "    </tr>\n",
       "    <tr>\n",
       "      <th>4</th>\n",
       "      <td>923</td>\n",
       "      <td>79</td>\n",
       "      <td>3</td>\n",
       "      <td>-1</td>\n",
       "      <td>2014-03-30</td>\n",
       "      <td>39</td>\n",
       "      <td>4.435897</td>\n",
       "      <td>0.852083</td>\n",
       "      <td>5</td>\n",
       "      <td>2013-11-04</td>\n",
       "      <td>2014-12-08</td>\n",
       "      <td>0.132948</td>\n",
       "      <td>0.132948</td>\n",
       "      <td>0.00578</td>\n",
       "      <td>0.132948</td>\n",
       "      <td>0.017341</td>\n",
       "    </tr>\n",
       "  </tbody>\n",
       "</table>\n",
       "</div>"
      ],
      "text/plain": [
       "   Reviewer_id  Product_id  Rating  Label       Date  Count (U)  \\\n",
       "0          923           0       3     -1 2014-12-08         39   \n",
       "1          923          19       5     -1 2014-01-14         39   \n",
       "2          923          40       4     -1 2014-05-30         39   \n",
       "3          923          63       4     -1 2014-11-13         39   \n",
       "4          923          79       3     -1 2014-03-30         39   \n",
       "\n",
       "   (Reviewer_Average_Rank,)  (Reviewer_Rank_SD,)  \\\n",
       "0                  4.435897             0.852083   \n",
       "1                  4.435897             0.852083   \n",
       "2                  4.435897             0.852083   \n",
       "3                  4.435897             0.852083   \n",
       "4                  4.435897             0.852083   \n",
       "\n",
       "   (Reviewer_Behavior_group_rank_common,) (Reviewer_early_date,)  \\\n",
       "0                                       5             2013-11-04   \n",
       "1                                       5             2013-11-04   \n",
       "2                                       5             2013-11-04   \n",
       "3                                       5             2013-11-04   \n",
       "4                                       5             2013-11-04   \n",
       "\n",
       "  (Reviewer_final_date,)  (Reviewer_Behavior_group_extreme_rating_ratio,)  \\\n",
       "0             2014-12-08                                         0.132948   \n",
       "1             2014-12-08                                         0.132948   \n",
       "2             2014-12-08                                         0.132948   \n",
       "3             2014-12-08                                         0.132948   \n",
       "4             2014-12-08                                         0.132948   \n",
       "\n",
       "   (Reviewer_Behavior_group_toprating_rating_ratio,)  \\\n",
       "0                                           0.132948   \n",
       "1                                           0.132948   \n",
       "2                                           0.132948   \n",
       "3                                           0.132948   \n",
       "4                                           0.132948   \n",
       "\n",
       "   (Reviewer_Behavior_group_buttomrating_rating_ratio,)  \\\n",
       "0                                            0.00578      \n",
       "1                                            0.00578      \n",
       "2                                            0.00578      \n",
       "3                                            0.00578      \n",
       "4                                            0.00578      \n",
       "\n",
       "   (Reviewer_Behavior_group_posrating_rating_ratio,)  \\\n",
       "0                                           0.132948   \n",
       "1                                           0.132948   \n",
       "2                                           0.132948   \n",
       "3                                           0.132948   \n",
       "4                                           0.132948   \n",
       "\n",
       "   (Reviewer_Behavior_group_negrating_rating_ratio,)  \n",
       "0                                           0.017341  \n",
       "1                                           0.017341  \n",
       "2                                           0.017341  \n",
       "3                                           0.017341  \n",
       "4                                           0.017341  "
      ]
     },
     "execution_count": 398,
     "metadata": {},
     "output_type": "execute_result"
    }
   ],
   "source": [
    "Reviewer_Behavior.head()"
   ]
  },
  {
   "cell_type": "code",
   "execution_count": 399,
   "id": "0f520698",
   "metadata": {},
   "outputs": [
    {
     "name": "stderr",
     "output_type": "stream",
     "text": [
      "<ipython-input-399-44ccbf4d45db>:3: FutureWarning: Indexing with multiple keys (implicitly converted to a tuple of keys) will be deprecated, use a list instead.\n",
      "  Reviewer_Behavior_Early_Review_Ratio = Reviewer_Behavior.groupby(\"Reviewer_id\")[\"Reviewer_id\",\"Date\",('Reviewer_early_date',)].apply(lambda x: sum(x[\"Date\"]-x[('Reviewer_early_date',)]<pd.Timedelta(days=timerange))/x[\"Reviewer_id\"].count())\n",
      "C:\\Users\\Harmony Chen\\anaconda3\\lib\\site-packages\\numpy\\core\\_asarray.py:102: VisibleDeprecationWarning: Creating an ndarray from ragged nested sequences (which is a list-or-tuple of lists-or-tuples-or ndarrays with different lengths or shapes) is deprecated. If you meant to do this, you must specify 'dtype=object' when creating the ndarray.\n",
      "  return array(a, dtype, copy=False, order=order)\n"
     ]
    }
   ],
   "source": [
    "#ERR\n",
    "timerange = 80 #set daterange \n",
    "Reviewer_Behavior_Early_Review_Ratio = Reviewer_Behavior.groupby(\"Reviewer_id\")[\"Reviewer_id\",\"Date\",('Reviewer_early_date',)].apply(lambda x: sum(x[\"Date\"]-x[('Reviewer_early_date',)]<pd.Timedelta(days=timerange))/x[\"Reviewer_id\"].count())"
   ]
  },
  {
   "cell_type": "code",
   "execution_count": 400,
   "id": "dd5862fb",
   "metadata": {},
   "outputs": [],
   "source": [
    "Reviewer_Behavior=Reviewer_Behavior.merge(pd.DataFrame(Reviewer_Behavior_Early_Review_Ratio,columns=[\"Reviewer_Behavior_Early_Review_Ratio\"]),how = \"left\",on=\"Reviewer_id\")"
   ]
  },
  {
   "cell_type": "code",
   "execution_count": 401,
   "id": "524827c0",
   "metadata": {},
   "outputs": [
    {
     "data": {
      "text/plain": [
       "90906"
      ]
     },
     "execution_count": 401,
     "metadata": {},
     "output_type": "execute_result"
    }
   ],
   "source": [
    "len(Reviewer_Behavior)"
   ]
  },
  {
   "cell_type": "code",
   "execution_count": 403,
   "id": "c112a6b8",
   "metadata": {},
   "outputs": [
    {
     "data": {
      "text/html": [
       "<div>\n",
       "<style scoped>\n",
       "    .dataframe tbody tr th:only-of-type {\n",
       "        vertical-align: middle;\n",
       "    }\n",
       "\n",
       "    .dataframe tbody tr th {\n",
       "        vertical-align: top;\n",
       "    }\n",
       "\n",
       "    .dataframe thead tr th {\n",
       "        text-align: left;\n",
       "    }\n",
       "</style>\n",
       "<table border=\"1\" class=\"dataframe\">\n",
       "  <thead>\n",
       "    <tr>\n",
       "      <th></th>\n",
       "      <th>Reviewer_id</th>\n",
       "      <th>Product_id</th>\n",
       "      <th>Rating</th>\n",
       "      <th>Label</th>\n",
       "      <th>Date</th>\n",
       "      <th>Count (U)</th>\n",
       "      <th>Reviewer_Average_Rank</th>\n",
       "      <th>Reviewer_Rank_SD</th>\n",
       "      <th>Reviewer_Behavior_group_rank_common</th>\n",
       "      <th>Reviewer_early_date</th>\n",
       "      <th>Reviewer_final_date</th>\n",
       "      <th>Reviewer_Behavior_group_extreme_rating_ratio</th>\n",
       "      <th>Reviewer_Behavior_group_toprating_rating_ratio</th>\n",
       "      <th>Reviewer_Behavior_group_buttomrating_rating_ratio</th>\n",
       "      <th>Reviewer_Behavior_group_posrating_rating_ratio</th>\n",
       "      <th>Reviewer_Behavior_group_negrating_rating_ratio</th>\n",
       "      <th>Reviewer_Behavior_Early_Review_Ratio</th>\n",
       "    </tr>\n",
       "  </thead>\n",
       "  <tbody>\n",
       "    <tr>\n",
       "      <th>0</th>\n",
       "      <td>923</td>\n",
       "      <td>0</td>\n",
       "      <td>3</td>\n",
       "      <td>-1</td>\n",
       "      <td>2014-12-08</td>\n",
       "      <td>39</td>\n",
       "      <td>4.435897</td>\n",
       "      <td>0.852083</td>\n",
       "      <td>5</td>\n",
       "      <td>2013-11-04</td>\n",
       "      <td>2014-12-08</td>\n",
       "      <td>0.132948</td>\n",
       "      <td>0.132948</td>\n",
       "      <td>0.00578</td>\n",
       "      <td>0.132948</td>\n",
       "      <td>0.017341</td>\n",
       "      <td>0.25641</td>\n",
       "    </tr>\n",
       "    <tr>\n",
       "      <th>1</th>\n",
       "      <td>923</td>\n",
       "      <td>19</td>\n",
       "      <td>5</td>\n",
       "      <td>-1</td>\n",
       "      <td>2014-01-14</td>\n",
       "      <td>39</td>\n",
       "      <td>4.435897</td>\n",
       "      <td>0.852083</td>\n",
       "      <td>5</td>\n",
       "      <td>2013-11-04</td>\n",
       "      <td>2014-12-08</td>\n",
       "      <td>0.132948</td>\n",
       "      <td>0.132948</td>\n",
       "      <td>0.00578</td>\n",
       "      <td>0.132948</td>\n",
       "      <td>0.017341</td>\n",
       "      <td>0.25641</td>\n",
       "    </tr>\n",
       "    <tr>\n",
       "      <th>2</th>\n",
       "      <td>923</td>\n",
       "      <td>40</td>\n",
       "      <td>4</td>\n",
       "      <td>-1</td>\n",
       "      <td>2014-05-30</td>\n",
       "      <td>39</td>\n",
       "      <td>4.435897</td>\n",
       "      <td>0.852083</td>\n",
       "      <td>5</td>\n",
       "      <td>2013-11-04</td>\n",
       "      <td>2014-12-08</td>\n",
       "      <td>0.132948</td>\n",
       "      <td>0.132948</td>\n",
       "      <td>0.00578</td>\n",
       "      <td>0.132948</td>\n",
       "      <td>0.017341</td>\n",
       "      <td>0.25641</td>\n",
       "    </tr>\n",
       "    <tr>\n",
       "      <th>3</th>\n",
       "      <td>923</td>\n",
       "      <td>63</td>\n",
       "      <td>4</td>\n",
       "      <td>-1</td>\n",
       "      <td>2014-11-13</td>\n",
       "      <td>39</td>\n",
       "      <td>4.435897</td>\n",
       "      <td>0.852083</td>\n",
       "      <td>5</td>\n",
       "      <td>2013-11-04</td>\n",
       "      <td>2014-12-08</td>\n",
       "      <td>0.132948</td>\n",
       "      <td>0.132948</td>\n",
       "      <td>0.00578</td>\n",
       "      <td>0.132948</td>\n",
       "      <td>0.017341</td>\n",
       "      <td>0.25641</td>\n",
       "    </tr>\n",
       "    <tr>\n",
       "      <th>4</th>\n",
       "      <td>923</td>\n",
       "      <td>79</td>\n",
       "      <td>3</td>\n",
       "      <td>-1</td>\n",
       "      <td>2014-03-30</td>\n",
       "      <td>39</td>\n",
       "      <td>4.435897</td>\n",
       "      <td>0.852083</td>\n",
       "      <td>5</td>\n",
       "      <td>2013-11-04</td>\n",
       "      <td>2014-12-08</td>\n",
       "      <td>0.132948</td>\n",
       "      <td>0.132948</td>\n",
       "      <td>0.00578</td>\n",
       "      <td>0.132948</td>\n",
       "      <td>0.017341</td>\n",
       "      <td>0.25641</td>\n",
       "    </tr>\n",
       "  </tbody>\n",
       "</table>\n",
       "</div>"
      ],
      "text/plain": [
       "  Reviewer_id Product_id Rating Label       Date Count (U)  \\\n",
       "0         923          0      3    -1 2014-12-08        39   \n",
       "1         923         19      5    -1 2014-01-14        39   \n",
       "2         923         40      4    -1 2014-05-30        39   \n",
       "3         923         63      4    -1 2014-11-13        39   \n",
       "4         923         79      3    -1 2014-03-30        39   \n",
       "\n",
       "  Reviewer_Average_Rank Reviewer_Rank_SD Reviewer_Behavior_group_rank_common  \\\n",
       "0              4.435897         0.852083                                   5   \n",
       "1              4.435897         0.852083                                   5   \n",
       "2              4.435897         0.852083                                   5   \n",
       "3              4.435897         0.852083                                   5   \n",
       "4              4.435897         0.852083                                   5   \n",
       "\n",
       "  Reviewer_early_date Reviewer_final_date  \\\n",
       "0          2013-11-04          2014-12-08   \n",
       "1          2013-11-04          2014-12-08   \n",
       "2          2013-11-04          2014-12-08   \n",
       "3          2013-11-04          2014-12-08   \n",
       "4          2013-11-04          2014-12-08   \n",
       "\n",
       "  Reviewer_Behavior_group_extreme_rating_ratio  \\\n",
       "0                                     0.132948   \n",
       "1                                     0.132948   \n",
       "2                                     0.132948   \n",
       "3                                     0.132948   \n",
       "4                                     0.132948   \n",
       "\n",
       "  Reviewer_Behavior_group_toprating_rating_ratio  \\\n",
       "0                                       0.132948   \n",
       "1                                       0.132948   \n",
       "2                                       0.132948   \n",
       "3                                       0.132948   \n",
       "4                                       0.132948   \n",
       "\n",
       "  Reviewer_Behavior_group_buttomrating_rating_ratio  \\\n",
       "0                                           0.00578   \n",
       "1                                           0.00578   \n",
       "2                                           0.00578   \n",
       "3                                           0.00578   \n",
       "4                                           0.00578   \n",
       "\n",
       "  Reviewer_Behavior_group_posrating_rating_ratio  \\\n",
       "0                                       0.132948   \n",
       "1                                       0.132948   \n",
       "2                                       0.132948   \n",
       "3                                       0.132948   \n",
       "4                                       0.132948   \n",
       "\n",
       "  Reviewer_Behavior_group_negrating_rating_ratio  \\\n",
       "0                                       0.017341   \n",
       "1                                       0.017341   \n",
       "2                                       0.017341   \n",
       "3                                       0.017341   \n",
       "4                                       0.017341   \n",
       "\n",
       "  Reviewer_Behavior_Early_Review_Ratio  \n",
       "0                              0.25641  \n",
       "1                              0.25641  \n",
       "2                              0.25641  \n",
       "3                              0.25641  \n",
       "4                              0.25641  "
      ]
     },
     "execution_count": 403,
     "metadata": {},
     "output_type": "execute_result"
    }
   ],
   "source": [
    "#rename columns\n",
    "columns = Reviewer_Behavior.columns.tolist()\n",
    "columns = [column[0] if len(column[0])>1 else column for column in columns ]\n",
    "\n",
    "Reviewer_Behavior.columns=[columns]\n",
    "Reviewer_Behavior.head()"
   ]
  },
  {
   "cell_type": "code",
   "execution_count": 444,
   "id": "cf7f9500",
   "metadata": {},
   "outputs": [],
   "source": [
    "Reviewer_Behavior.to_excel(\"Reviewer-centric-Behavior-feature.xlsx\")"
   ]
  },
  {
   "cell_type": "code",
   "execution_count": 65,
   "id": "b7f387b5",
   "metadata": {},
   "outputs": [
    {
     "data": {
      "text/plain": [
       "17"
      ]
     },
     "execution_count": 65,
     "metadata": {},
     "output_type": "execute_result"
    }
   ],
   "source": [
    "len(Reviewer_Behavior.columns)"
   ]
  },
  {
   "cell_type": "code",
   "execution_count": null,
   "id": "c1b7f64c",
   "metadata": {},
   "outputs": [],
   "source": []
  },
  {
   "cell_type": "code",
   "execution_count": null,
   "id": "e109c294",
   "metadata": {},
   "outputs": [],
   "source": []
  },
  {
   "cell_type": "code",
   "execution_count": null,
   "id": "b7ab4c2c",
   "metadata": {},
   "outputs": [],
   "source": []
  },
  {
   "cell_type": "markdown",
   "id": "6811ddb2",
   "metadata": {},
   "source": [
    "# Reviewer-centric-Textual-feature"
   ]
  },
  {
   "cell_type": "code",
   "execution_count": 410,
   "id": "6a93640b",
   "metadata": {},
   "outputs": [],
   "source": [
    "Reviewer_ReviewContent = pd.read_excel(\"C:\\\\Users\\\\Harmony Chen\\\\Documents\\\\JupyterLab\\\\Code-and-Results-master\\\\Data\\\\YelpNYC\\\\ReviewContent (Sortedby_Reviewer_wise).xlsx\")"
   ]
  },
  {
   "cell_type": "code",
   "execution_count": 411,
   "id": "7858044e",
   "metadata": {},
   "outputs": [],
   "source": [
    "import spacy"
   ]
  },
  {
   "cell_type": "code",
   "execution_count": 412,
   "id": "93970620",
   "metadata": {},
   "outputs": [],
   "source": [
    "nlp = spacy.load(\"en_core_web_sm\")"
   ]
  },
  {
   "cell_type": "code",
   "execution_count": 413,
   "id": "e263448f",
   "metadata": {},
   "outputs": [],
   "source": [
    "Reviewer_ReviewContent[\"Text\"]=Reviewer_ReviewContent[\"Text\"].astype(str)"
   ]
  },
  {
   "cell_type": "code",
   "execution_count": 414,
   "id": "65f34941",
   "metadata": {},
   "outputs": [],
   "source": [
    "review_corpus = []\n",
    "for index,row in Reviewer_ReviewContent.iterrows():\n",
    "    text = row['Text'].replace('...', '').replace('!', '').replace(\",\",'').replace(\".\",'')\n",
    "    review_corpus.append(text)"
   ]
  },
  {
   "cell_type": "code",
   "execution_count": 415,
   "id": "8b28c6b8",
   "metadata": {
    "collapsed": true
   },
   "outputs": [
    {
     "ename": "KeyboardInterrupt",
     "evalue": "",
     "output_type": "error",
     "traceback": [
      "\u001b[1;31m---------------------------------------------------------------------------\u001b[0m",
      "\u001b[1;31mKeyboardInterrupt\u001b[0m                         Traceback (most recent call last)",
      "\u001b[1;32m<ipython-input-415-02b2442d9f07>\u001b[0m in \u001b[0;36m<module>\u001b[1;34m\u001b[0m\n\u001b[0;32m      2\u001b[0m \u001b[0mOBJ_data\u001b[0m \u001b[1;33m=\u001b[0m \u001b[1;33m[\u001b[0m\u001b[1;33m]\u001b[0m\u001b[1;33m\u001b[0m\u001b[1;33m\u001b[0m\u001b[0m\n\u001b[0;32m      3\u001b[0m \u001b[1;32mfor\u001b[0m \u001b[0mtext\u001b[0m \u001b[1;32min\u001b[0m \u001b[0mreview_corpus\u001b[0m\u001b[1;33m:\u001b[0m\u001b[1;33m\u001b[0m\u001b[1;33m\u001b[0m\u001b[0m\n\u001b[1;32m----> 4\u001b[1;33m     \u001b[0mtext\u001b[0m \u001b[1;33m=\u001b[0m \u001b[0mnlp\u001b[0m\u001b[1;33m(\u001b[0m\u001b[0mtext\u001b[0m\u001b[1;33m)\u001b[0m\u001b[1;33m\u001b[0m\u001b[1;33m\u001b[0m\u001b[0m\n\u001b[0m\u001b[0;32m      5\u001b[0m     \u001b[0mSUB_data\u001b[0m\u001b[1;33m.\u001b[0m\u001b[0mappend\u001b[0m\u001b[1;33m(\u001b[0m\u001b[1;33m[\u001b[0m\u001b[0mtoken\u001b[0m\u001b[1;33m.\u001b[0m\u001b[0mtext\u001b[0m \u001b[1;32mfor\u001b[0m \u001b[0mtoken\u001b[0m \u001b[1;32min\u001b[0m \u001b[0mtext\u001b[0m \u001b[1;32mif\u001b[0m \u001b[0mtoken\u001b[0m\u001b[1;33m.\u001b[0m\u001b[0mdep_\u001b[0m\u001b[1;33m==\u001b[0m\u001b[1;34m\"nsubj\"\u001b[0m\u001b[1;33m]\u001b[0m\u001b[1;33m)\u001b[0m\u001b[1;33m\u001b[0m\u001b[1;33m\u001b[0m\u001b[0m\n\u001b[0;32m      6\u001b[0m     \u001b[0mOBJ_data\u001b[0m\u001b[1;33m.\u001b[0m\u001b[0mappend\u001b[0m\u001b[1;33m(\u001b[0m\u001b[1;33m[\u001b[0m\u001b[0mtoken\u001b[0m\u001b[1;33m.\u001b[0m\u001b[0mtext\u001b[0m \u001b[1;32mfor\u001b[0m \u001b[0mtoken\u001b[0m \u001b[1;32min\u001b[0m \u001b[0mtext\u001b[0m \u001b[1;32mif\u001b[0m \u001b[0mtoken\u001b[0m\u001b[1;33m.\u001b[0m\u001b[0mdep_\u001b[0m \u001b[1;32min\u001b[0m \u001b[1;33m[\u001b[0m\u001b[1;34m\"dobj\"\u001b[0m\u001b[1;33m,\u001b[0m\u001b[1;34m\"pobj\"\u001b[0m\u001b[1;33m]\u001b[0m\u001b[1;33m]\u001b[0m\u001b[1;33m)\u001b[0m\u001b[1;33m\u001b[0m\u001b[1;33m\u001b[0m\u001b[0m\n",
      "\u001b[1;32m~\\anaconda3\\lib\\site-packages\\spacy\\language.py\u001b[0m in \u001b[0;36m__call__\u001b[1;34m(self, text, disable, component_cfg)\u001b[0m\n\u001b[0;32m    993\u001b[0m                 \u001b[0merror_handler\u001b[0m \u001b[1;33m=\u001b[0m \u001b[0mproc\u001b[0m\u001b[1;33m.\u001b[0m\u001b[0mget_error_handler\u001b[0m\u001b[1;33m(\u001b[0m\u001b[1;33m)\u001b[0m\u001b[1;33m\u001b[0m\u001b[1;33m\u001b[0m\u001b[0m\n\u001b[0;32m    994\u001b[0m             \u001b[1;32mtry\u001b[0m\u001b[1;33m:\u001b[0m\u001b[1;33m\u001b[0m\u001b[1;33m\u001b[0m\u001b[0m\n\u001b[1;32m--> 995\u001b[1;33m                 \u001b[0mdoc\u001b[0m \u001b[1;33m=\u001b[0m \u001b[0mproc\u001b[0m\u001b[1;33m(\u001b[0m\u001b[0mdoc\u001b[0m\u001b[1;33m,\u001b[0m \u001b[1;33m**\u001b[0m\u001b[0mcomponent_cfg\u001b[0m\u001b[1;33m.\u001b[0m\u001b[0mget\u001b[0m\u001b[1;33m(\u001b[0m\u001b[0mname\u001b[0m\u001b[1;33m,\u001b[0m \u001b[1;33m{\u001b[0m\u001b[1;33m}\u001b[0m\u001b[1;33m)\u001b[0m\u001b[1;33m)\u001b[0m\u001b[1;33m\u001b[0m\u001b[1;33m\u001b[0m\u001b[0m\n\u001b[0m\u001b[0;32m    996\u001b[0m             \u001b[1;32mexcept\u001b[0m \u001b[0mKeyError\u001b[0m \u001b[1;32mas\u001b[0m \u001b[0me\u001b[0m\u001b[1;33m:\u001b[0m\u001b[1;33m\u001b[0m\u001b[1;33m\u001b[0m\u001b[0m\n\u001b[0;32m    997\u001b[0m                 \u001b[1;31m# This typically happens if a component is not initialized\u001b[0m\u001b[1;33m\u001b[0m\u001b[1;33m\u001b[0m\u001b[1;33m\u001b[0m\u001b[0m\n",
      "\u001b[1;32m~\\anaconda3\\lib\\site-packages\\spacy\\pipeline\\trainable_pipe.pyx\u001b[0m in \u001b[0;36mspacy.pipeline.trainable_pipe.TrainablePipe.__call__\u001b[1;34m()\u001b[0m\n",
      "\u001b[1;32m~\\anaconda3\\lib\\site-packages\\spacy\\pipeline\\transition_parser.pyx\u001b[0m in \u001b[0;36mspacy.pipeline.transition_parser.Parser.set_annotations\u001b[1;34m()\u001b[0m\n",
      "\u001b[1;32m~\\anaconda3\\lib\\site-packages\\spacy\\pipeline\\_parser_internals\\ner.pyx\u001b[0m in \u001b[0;36mspacy.pipeline._parser_internals.ner.BiluoPushDown.set_annotations\u001b[1;34m()\u001b[0m\n",
      "\u001b[1;32m~\\anaconda3\\lib\\site-packages\\spacy\\tokens\\doc.pyx\u001b[0m in \u001b[0;36mspacy.tokens.doc.Doc.set_ents\u001b[1;34m()\u001b[0m\n",
      "\u001b[1;32m~\\anaconda3\\lib\\site-packages\\spacy\\tokens\\doc.pyx\u001b[0m in \u001b[0;36mspacy.tokens.doc.SetEntsDefault.values\u001b[1;34m()\u001b[0m\n",
      "\u001b[1;32m~\\anaconda3\\lib\\enum.py\u001b[0m in \u001b[0;36m__members__\u001b[1;34m(cls)\u001b[0m\n\u001b[0;32m    396\u001b[0m         \u001b[1;32mreturn\u001b[0m \u001b[0mlen\u001b[0m\u001b[1;33m(\u001b[0m\u001b[0mcls\u001b[0m\u001b[1;33m.\u001b[0m\u001b[0m_member_names_\u001b[0m\u001b[1;33m)\u001b[0m\u001b[1;33m\u001b[0m\u001b[1;33m\u001b[0m\u001b[0m\n\u001b[0;32m    397\u001b[0m \u001b[1;33m\u001b[0m\u001b[0m\n\u001b[1;32m--> 398\u001b[1;33m     \u001b[1;33m@\u001b[0m\u001b[0mproperty\u001b[0m\u001b[1;33m\u001b[0m\u001b[1;33m\u001b[0m\u001b[0m\n\u001b[0m\u001b[0;32m    399\u001b[0m     \u001b[1;32mdef\u001b[0m \u001b[0m__members__\u001b[0m\u001b[1;33m(\u001b[0m\u001b[0mcls\u001b[0m\u001b[1;33m)\u001b[0m\u001b[1;33m:\u001b[0m\u001b[1;33m\u001b[0m\u001b[1;33m\u001b[0m\u001b[0m\n\u001b[0;32m    400\u001b[0m         \"\"\"\n",
      "\u001b[1;31mKeyboardInterrupt\u001b[0m: "
     ]
    }
   ],
   "source": [
    "SUB_data = []\n",
    "OBJ_data = []\n",
    "for text in review_corpus:\n",
    "    text = nlp(text)\n",
    "    SUB_data.append([token.text for token in text if token.dep_==\"nsubj\"])\n",
    "    OBJ_data.append([token.text for token in text if token.dep_ in [\"dobj\",\"pobj\"]]) "
   ]
  },
  {
   "cell_type": "code",
   "execution_count": null,
   "id": "d59bec52",
   "metadata": {},
   "outputs": [],
   "source": [
    "def prepare_text_for_nltk(text):\n",
    "    # convert all words into lower case, split by white space\n",
    "    text = row['Text'].replace('...', '').replace('!', '').replace(\",\",'').replace(\".\",'')\n",
    "\n",
    "    tokens = text.strip().split()\n",
    "    \n",
    "    # remove English stopwords (as defined by NLTK)\n",
    "    return tokens\n",
    "\n",
    "text_data = []\n",
    "for index,row in Reviewer_ReviewContent.iterrows():\n",
    "    text_data.append(prepare_text_for_nltk(row[\"Text\"]))\n",
    "\n",
    "PRP_data = []\n",
    "for text in text_data:\n",
    "    PRP_data.append([word for (word,tag) in nltk.pos_tag(text) if \"PRP\" in tag])"
   ]
  },
  {
   "cell_type": "code",
   "execution_count": 237,
   "id": "164d6cd5",
   "metadata": {},
   "outputs": [],
   "source": [
    "Reviewer_ReviewContent[\"Tag_PRP\"] = pd.Series(PRP_data)"
   ]
  },
  {
   "cell_type": "code",
   "execution_count": 238,
   "id": "996eac02",
   "metadata": {},
   "outputs": [],
   "source": [
    "for index,row in Reviewer_ReviewContent.iterrows():\n",
    "    if len(row[\"Tag_PRP\"])==0:\n",
    "        row[\"Tag_PRP\"]=0"
   ]
  },
  {
   "cell_type": "code",
   "execution_count": 239,
   "id": "1a693e2b",
   "metadata": {},
   "outputs": [],
   "source": [
    "Reviewer_ReviewContent[\"SUB_Data\"] = pd.Series(SUB_data)\n",
    "Reviewer_ReviewContent[\"OBJ_Data\"] = pd.Series(OBJ_data)"
   ]
  },
  {
   "cell_type": "code",
   "execution_count": 240,
   "id": "fb515a7d",
   "metadata": {},
   "outputs": [],
   "source": [
    "Sent_len = []\n",
    "Sub_len = []\n",
    "Obj_len = []\n",
    "\n",
    "for text in review_corpus:\n",
    "    Sent_len.append(len(text))\n",
    "Reviewer_ReviewContent[\"Sent_len\"]=pd.Series(Sent_len)\n",
    "    \n",
    "for index,row in Reviewer_ReviewContent.iterrows():\n",
    "    Sub_len.append(len(row[\"SUB_Data\"])) \n",
    "    Obj_len.append(len(row[\"OBJ_Data\"]))\n",
    "Reviewer_ReviewContent[\"SUB_Len\"] = pd.Series(Sub_len)\n",
    "Reviewer_ReviewContent[\"OBJ_Len\"] = pd.Series(Obj_len)\n",
    "\n"
   ]
  },
  {
   "cell_type": "code",
   "execution_count": 241,
   "id": "0be85271",
   "metadata": {
    "scrolled": true
   },
   "outputs": [
    {
     "data": {
      "text/html": [
       "<div>\n",
       "<style scoped>\n",
       "    .dataframe tbody tr th:only-of-type {\n",
       "        vertical-align: middle;\n",
       "    }\n",
       "\n",
       "    .dataframe tbody tr th {\n",
       "        vertical-align: top;\n",
       "    }\n",
       "\n",
       "    .dataframe thead th {\n",
       "        text-align: right;\n",
       "    }\n",
       "</style>\n",
       "<table border=\"1\" class=\"dataframe\">\n",
       "  <thead>\n",
       "    <tr style=\"text-align: right;\">\n",
       "      <th></th>\n",
       "      <th>Reviewer_id</th>\n",
       "      <th>Product_id</th>\n",
       "      <th>Date</th>\n",
       "      <th>Text</th>\n",
       "      <th>Count (U)</th>\n",
       "      <th>Tag_PRP</th>\n",
       "      <th>SUB_Data</th>\n",
       "      <th>OBJ_Data</th>\n",
       "      <th>Sent_len</th>\n",
       "      <th>SUB_Len</th>\n",
       "      <th>OBJ_Len</th>\n",
       "    </tr>\n",
       "  </thead>\n",
       "  <tbody>\n",
       "    <tr>\n",
       "      <th>0</th>\n",
       "      <td>923</td>\n",
       "      <td>0</td>\n",
       "      <td>2014-12-08</td>\n",
       "      <td>The food at snack is a selection of popular Gr...</td>\n",
       "      <td>39</td>\n",
       "      <td>[We]</td>\n",
       "      <td>[food, tray, it]</td>\n",
       "      <td>[snack, dishes, courses]</td>\n",
       "      <td>211</td>\n",
       "      <td>3</td>\n",
       "      <td>3</td>\n",
       "    </tr>\n",
       "    <tr>\n",
       "      <th>1</th>\n",
       "      <td>923</td>\n",
       "      <td>19</td>\n",
       "      <td>2014-01-14</td>\n",
       "      <td>The restaurant is on the ground floor of a typ...</td>\n",
       "      <td>39</td>\n",
       "      <td>[You, it, you, it, I, they, I]</td>\n",
       "      <td>[restaurant, You, you, it, menu, restaurant, I...</td>\n",
       "      <td>[floor, Slope, it, choices, feel, restaurant, ...</td>\n",
       "      <td>506</td>\n",
       "      <td>9</td>\n",
       "      <td>14</td>\n",
       "    </tr>\n",
       "    <tr>\n",
       "      <th>2</th>\n",
       "      <td>923</td>\n",
       "      <td>40</td>\n",
       "      <td>2014-05-30</td>\n",
       "      <td>Really nice mousaka and lovely dÃ©cor inside. ...</td>\n",
       "      <td>39</td>\n",
       "      <td>[I, my, It, I]</td>\n",
       "      <td>[I, friend, lamb, It, which, I]</td>\n",
       "      <td>[mousaka, starters, deserts, lagers, dollars]</td>\n",
       "      <td>227</td>\n",
       "      <td>6</td>\n",
       "      <td>5</td>\n",
       "    </tr>\n",
       "    <tr>\n",
       "      <th>3</th>\n",
       "      <td>923</td>\n",
       "      <td>63</td>\n",
       "      <td>2014-11-13</td>\n",
       "      <td>I really enjoyed brunch at Jane. The ambiance ...</td>\n",
       "      <td>39</td>\n",
       "      <td>[I, you]</td>\n",
       "      <td>[I, ambiance, food, you, it, Service]</td>\n",
       "      <td>[brunch, Jane, what]</td>\n",
       "      <td>164</td>\n",
       "      <td>6</td>\n",
       "      <td>3</td>\n",
       "    </tr>\n",
       "    <tr>\n",
       "      <th>4</th>\n",
       "      <td>923</td>\n",
       "      <td>79</td>\n",
       "      <td>2014-03-30</td>\n",
       "      <td>We ate at the Blue Ribbon with colleagues. The...</td>\n",
       "      <td>39</td>\n",
       "      <td>[We, it]</td>\n",
       "      <td>[We, strip, trout, what, food, it]</td>\n",
       "      <td>[Ribbon, colleagues, flavour, Service]</td>\n",
       "      <td>250</td>\n",
       "      <td>6</td>\n",
       "      <td>4</td>\n",
       "    </tr>\n",
       "  </tbody>\n",
       "</table>\n",
       "</div>"
      ],
      "text/plain": [
       "   Reviewer_id  Product_id       Date  \\\n",
       "0          923           0 2014-12-08   \n",
       "1          923          19 2014-01-14   \n",
       "2          923          40 2014-05-30   \n",
       "3          923          63 2014-11-13   \n",
       "4          923          79 2014-03-30   \n",
       "\n",
       "                                                Text  Count (U)  \\\n",
       "0  The food at snack is a selection of popular Gr...         39   \n",
       "1  The restaurant is on the ground floor of a typ...         39   \n",
       "2  Really nice mousaka and lovely dÃ©cor inside. ...         39   \n",
       "3  I really enjoyed brunch at Jane. The ambiance ...         39   \n",
       "4  We ate at the Blue Ribbon with colleagues. The...         39   \n",
       "\n",
       "                          Tag_PRP  \\\n",
       "0                            [We]   \n",
       "1  [You, it, you, it, I, they, I]   \n",
       "2                  [I, my, It, I]   \n",
       "3                        [I, you]   \n",
       "4                        [We, it]   \n",
       "\n",
       "                                            SUB_Data  \\\n",
       "0                                   [food, tray, it]   \n",
       "1  [restaurant, You, you, it, menu, restaurant, I...   \n",
       "2                    [I, friend, lamb, It, which, I]   \n",
       "3              [I, ambiance, food, you, it, Service]   \n",
       "4                 [We, strip, trout, what, food, it]   \n",
       "\n",
       "                                            OBJ_Data  Sent_len  SUB_Len  \\\n",
       "0                           [snack, dishes, courses]       211        3   \n",
       "1  [floor, Slope, it, choices, feel, restaurant, ...       506        9   \n",
       "2      [mousaka, starters, deserts, lagers, dollars]       227        6   \n",
       "3                               [brunch, Jane, what]       164        6   \n",
       "4             [Ribbon, colleagues, flavour, Service]       250        6   \n",
       "\n",
       "   OBJ_Len  \n",
       "0        3  \n",
       "1       14  \n",
       "2        5  \n",
       "3        3  \n",
       "4        4  "
      ]
     },
     "execution_count": 241,
     "metadata": {},
     "output_type": "execute_result"
    }
   ],
   "source": [
    "Reviewer_ReviewContent.head()"
   ]
  },
  {
   "cell_type": "code",
   "execution_count": 242,
   "id": "19940ed1",
   "metadata": {},
   "outputs": [],
   "source": [
    "First_Third_PRP = []\n",
    "Second_PRP = []\n",
    "First_Third_PRP_ratio = []\n",
    "Second_PRP_ratio = []\n",
    "first_third_pronoun = [\"i\",'we','our','ourselves','us','my','mine','myself',\n",
    "                       'me','he','his','him','himself','she','her','hers','herself',\n",
    "                       'they','them','themselves','theirs','their',]\n",
    "\n",
    "second_pronoun = ['you','your','yourself','yours']\n",
    "for index,row in Reviewer_ReviewContent.iterrows():\n",
    "    first_third_list =[word for word in row[\"Tag_PRP\"] if word.lower() in first_third_pronoun]\n",
    "    second_list =[word for word in row[\"Tag_PRP\"] if word.lower() in second_pronoun]\n",
    "    First_Third_PRP.append(len(first_third_list))\n",
    "    Second_PRP.append(len(second_list))\n",
    "\n",
    "    if row[\"Sent_len\"]==0:\n",
    "        First_Third_PRP_ratio.append(0) \n",
    "        Second_PRP_ratio.append(0)\n",
    "    else:  \n",
    "        First_Third_PRP_ratio.append(len(first_third_list)/row[\"Sent_len\"]) \n",
    "        Second_PRP_ratio.append(len(second_list)/row[\"Sent_len\"])\n",
    "        \n",
    "Reviewer_ReviewContent[\"First_Third_PRP\"] =pd.Series(First_Third_PRP)       \n",
    "Reviewer_ReviewContent[\"First_Third_PRP_ratio\"] = pd.Series(First_Third_PRP_ratio)\n",
    "Reviewer_ReviewContent[\"Second_PRP\"]=pd.Series(Second_PRP)\n",
    "Reviewer_ReviewContent[\"Second_PRP_ratio\"] = pd.Series(Second_PRP_ratio)"
   ]
  },
  {
   "cell_type": "code",
   "execution_count": 243,
   "id": "823d2688",
   "metadata": {},
   "outputs": [],
   "source": [
    "all_pronoun_count = Reviewer_ReviewContent[\"First_Third_PRP\"].sum()+Reviewer_ReviewContent[\"Second_PRP\"].sum()"
   ]
  },
  {
   "cell_type": "code",
   "execution_count": 247,
   "id": "a06237ec",
   "metadata": {},
   "outputs": [
    {
     "name": "stderr",
     "output_type": "stream",
     "text": [
      "<ipython-input-247-5c598ae7fbed>:4: FutureWarning: Indexing with multiple keys (implicitly converted to a tuple of keys) will be deprecated, use a list instead.\n",
      "  Reviewer_ReviewContent_group_avg_first_third_ratio = Reviewer_ReviewContent.groupby(\"Reviewer_id\")[\"First_Third_PRP\",\"Sent_len\"].apply(lambda x: sum(x[\"First_Third_PRP\"])/sum(x[\"Sent_len\"]))\n",
      "<ipython-input-247-5c598ae7fbed>:5: FutureWarning: Indexing with multiple keys (implicitly converted to a tuple of keys) will be deprecated, use a list instead.\n",
      "  Reviewer_ReviewContent_group_avg_second_ratio = Reviewer_ReviewContent.groupby(\"Reviewer_id\")[\"Second_PRP\",\"Sent_len\"].apply(lambda x: sum(x[\"Second_PRP\"])/sum(x[\"Sent_len\"]))\n",
      "<ipython-input-247-5c598ae7fbed>:6: FutureWarning: Indexing with multiple keys (implicitly converted to a tuple of keys) will be deprecated, use a list instead.\n",
      "  Reviewer_ReviewContent_group_avg_sub_ratio = Reviewer_ReviewContent.groupby(\"Reviewer_id\")[\"SUB_Len\",\"Sent_len\"].apply(lambda x: sum(x[\"SUB_Len\"])/sum(x[\"Sent_len\"]))\n",
      "<ipython-input-247-5c598ae7fbed>:7: FutureWarning: Indexing with multiple keys (implicitly converted to a tuple of keys) will be deprecated, use a list instead.\n",
      "  Reviewer_ReviewContent_group_avg_obj_ratio = Reviewer_ReviewContent.groupby(\"Reviewer_id\")[\"OBJ_Len\",\"Sent_len\"].apply(lambda x: sum(x[\"OBJ_Len\"])/sum(x[\"Sent_len\"]))\n"
     ]
    }
   ],
   "source": [
    "#ARL,AFPP,ASPP,AFTAPP,ASAPP,ASW,AOW\n",
    "\n",
    "Reviewer_ReviewContent_group_avg_sent_len= Reviewer_ReviewContent.groupby(\"Reviewer_id\")[\"Sent_len\"].mean()\n",
    "Reviewer_ReviewContent_group_avg_first_third_ratio = Reviewer_ReviewContent.groupby(\"Reviewer_id\")[\"First_Third_PRP\",\"Sent_len\"].apply(lambda x: sum(x[\"First_Third_PRP\"])/sum(x[\"Sent_len\"]))\n",
    "Reviewer_ReviewContent_group_avg_second_ratio = Reviewer_ReviewContent.groupby(\"Reviewer_id\")[\"Second_PRP\",\"Sent_len\"].apply(lambda x: sum(x[\"Second_PRP\"])/sum(x[\"Sent_len\"]))\n",
    "Reviewer_ReviewContent_group_avg_sub_ratio = Reviewer_ReviewContent.groupby(\"Reviewer_id\")[\"SUB_Len\",\"Sent_len\"].apply(lambda x: sum(x[\"SUB_Len\"])/sum(x[\"Sent_len\"]))\n",
    "Reviewer_ReviewContent_group_avg_obj_ratio = Reviewer_ReviewContent.groupby(\"Reviewer_id\")[\"OBJ_Len\",\"Sent_len\"].apply(lambda x: sum(x[\"OBJ_Len\"])/sum(x[\"Sent_len\"]))"
   ]
  },
  {
   "cell_type": "code",
   "execution_count": 289,
   "id": "c7518cbc",
   "metadata": {},
   "outputs": [],
   "source": [
    "def fun_sub (sub,obj):\n",
    "    if sum(sub) == 0 :\n",
    "        return 0\n",
    "    else :\n",
    "        return sum(sub)/(sum(sub)+sum(obj))\n",
    "    \n",
    "def fun_obj (sub,obj):\n",
    "    if sum(obj) == 0 :\n",
    "        return 0\n",
    "    else :\n",
    "        return sum(obj)/(sum(sub)+sum(obj))"
   ]
  },
  {
   "cell_type": "code",
   "execution_count": 290,
   "id": "421f0cd1",
   "metadata": {},
   "outputs": [
    {
     "name": "stderr",
     "output_type": "stream",
     "text": [
      "<ipython-input-290-12fea93f432c>:1: FutureWarning: Indexing with multiple keys (implicitly converted to a tuple of keys) will be deprecated, use a list instead.\n",
      "  Reviewer_ReviewContent_group_avg_sub_to_allpro_ratio = Reviewer_ReviewContent.groupby(\"Reviewer_id\")[\"SUB_Len\",\"OBJ_Len\"].apply(lambda x: fun_sub(x[\"SUB_Len\"],x['OBJ_Len']))\n",
      "<ipython-input-290-12fea93f432c>:2: FutureWarning: Indexing with multiple keys (implicitly converted to a tuple of keys) will be deprecated, use a list instead.\n",
      "  Reviewer_ReviewContent_group_avg_obj_to_allpro_ratio = Reviewer_ReviewContent.groupby(\"Reviewer_id\")[\"SUB_Len\",\"OBJ_Len\"].apply(lambda x: fun_obj(x[\"SUB_Len\"],x['OBJ_Len']))\n"
     ]
    }
   ],
   "source": [
    "Reviewer_ReviewContent_group_avg_sub_to_allpro_ratio = Reviewer_ReviewContent.groupby(\"Reviewer_id\")[\"SUB_Len\",\"OBJ_Len\"].apply(lambda x: fun_sub(x[\"SUB_Len\"],x['OBJ_Len']))\n",
    "Reviewer_ReviewContent_group_avg_obj_to_allpro_ratio = Reviewer_ReviewContent.groupby(\"Reviewer_id\")[\"SUB_Len\",\"OBJ_Len\"].apply(lambda x: fun_obj(x[\"SUB_Len\"],x['OBJ_Len']))"
   ]
  },
  {
   "cell_type": "code",
   "execution_count": 291,
   "id": "e5c839d0",
   "metadata": {},
   "outputs": [],
   "source": [
    "Reviewer_ReviewContent_grouped= pd.concat([Reviewer_ReviewContent_group_avg_sent_len,\n",
    "                                        Reviewer_ReviewContent_group_avg_first_third_ratio,Reviewer_ReviewContent_group_avg_second_ratio,\n",
    "                                        Reviewer_ReviewContent_group_avg_sub_ratio,Reviewer_ReviewContent_group_avg_obj_ratio,\n",
    "                                        Reviewer_ReviewContent_group_avg_sub_to_allpro_ratio, Reviewer_ReviewContent_group_avg_obj_to_allpro_ratio],\n",
    "                                        axis=1)"
   ]
  },
  {
   "cell_type": "code",
   "execution_count": 292,
   "id": "651bf64c",
   "metadata": {},
   "outputs": [],
   "source": [
    "Reviewer_ReviewContent_grouped.columns = [[\"Reviewer_ReviewContent_avg_sent_len\",\n",
    "                                         \"Reviewer_ReviewContent_avg_first_third_ratio\",'Reviewer_ReviewContent_avg_second_ratio',\n",
    "                                         'Reviewer_ReviewContent_avg_sub_ratio','Reviewer_ReviewContent_avg_obj_ratio',\n",
    "                                         'Reviewer_ReviewContent_avg_sub_to_allpro_ratio','Reviewer_ReviewContent_avg_obj_to_allpro_ratio']]"
   ]
  },
  {
   "cell_type": "code",
   "execution_count": 294,
   "id": "edef376d",
   "metadata": {},
   "outputs": [],
   "source": [
    "Reviewer_ReviewContent =Reviewer_ReviewContent.merge(Reviewer_ReviewContent_grouped,how = \"left\",on=\"Reviewer_id\")"
   ]
  },
  {
   "cell_type": "code",
   "execution_count": 295,
   "id": "1ea6373c",
   "metadata": {
    "scrolled": true
   },
   "outputs": [
    {
     "data": {
      "text/html": [
       "<div>\n",
       "<style scoped>\n",
       "    .dataframe tbody tr th:only-of-type {\n",
       "        vertical-align: middle;\n",
       "    }\n",
       "\n",
       "    .dataframe tbody tr th {\n",
       "        vertical-align: top;\n",
       "    }\n",
       "\n",
       "    .dataframe thead th {\n",
       "        text-align: right;\n",
       "    }\n",
       "</style>\n",
       "<table border=\"1\" class=\"dataframe\">\n",
       "  <thead>\n",
       "    <tr style=\"text-align: right;\">\n",
       "      <th></th>\n",
       "      <th>Reviewer_id</th>\n",
       "      <th>Product_id</th>\n",
       "      <th>Date</th>\n",
       "      <th>Text</th>\n",
       "      <th>Count (U)</th>\n",
       "      <th>Tag_PRP</th>\n",
       "      <th>SUB_Data</th>\n",
       "      <th>OBJ_Data</th>\n",
       "      <th>Sent_len</th>\n",
       "      <th>SUB_Len</th>\n",
       "      <th>...</th>\n",
       "      <th>First_Third_PRP_ratio</th>\n",
       "      <th>Second_PRP</th>\n",
       "      <th>Second_PRP_ratio</th>\n",
       "      <th>(Product_ReviewContent_avg_sent_len,)</th>\n",
       "      <th>(Product_ReviewContent_avg_first_third_ratio,)</th>\n",
       "      <th>(Product_ReviewContent_avg_second_ratio,)</th>\n",
       "      <th>(Product_ReviewContent_avg_sub_ratio,)</th>\n",
       "      <th>(Product_ReviewContent_avg_obj_ratio,)</th>\n",
       "      <th>(Product_ReviewContent_avg_sub_to_allpro_ratio,)</th>\n",
       "      <th>(Product_ReviewContent_avg_obj_to_allpro_ratio,)</th>\n",
       "    </tr>\n",
       "  </thead>\n",
       "  <tbody>\n",
       "    <tr>\n",
       "      <th>0</th>\n",
       "      <td>923</td>\n",
       "      <td>0</td>\n",
       "      <td>2014-12-08</td>\n",
       "      <td>The food at snack is a selection of popular Gr...</td>\n",
       "      <td>39</td>\n",
       "      <td>[We]</td>\n",
       "      <td>[food, tray, it]</td>\n",
       "      <td>[snack, dishes, courses]</td>\n",
       "      <td>211</td>\n",
       "      <td>3</td>\n",
       "      <td>...</td>\n",
       "      <td>0.004739</td>\n",
       "      <td>0</td>\n",
       "      <td>0.000000</td>\n",
       "      <td>342.333333</td>\n",
       "      <td>0.008014</td>\n",
       "      <td>0.001498</td>\n",
       "      <td>0.021047</td>\n",
       "      <td>0.021047</td>\n",
       "      <td>0.5</td>\n",
       "      <td>0.5</td>\n",
       "    </tr>\n",
       "    <tr>\n",
       "      <th>1</th>\n",
       "      <td>923</td>\n",
       "      <td>19</td>\n",
       "      <td>2014-01-14</td>\n",
       "      <td>The restaurant is on the ground floor of a typ...</td>\n",
       "      <td>39</td>\n",
       "      <td>[You, it, you, it, I, they, I]</td>\n",
       "      <td>[restaurant, You, you, it, menu, restaurant, I...</td>\n",
       "      <td>[floor, Slope, it, choices, feel, restaurant, ...</td>\n",
       "      <td>506</td>\n",
       "      <td>9</td>\n",
       "      <td>...</td>\n",
       "      <td>0.005929</td>\n",
       "      <td>2</td>\n",
       "      <td>0.003953</td>\n",
       "      <td>342.333333</td>\n",
       "      <td>0.008014</td>\n",
       "      <td>0.001498</td>\n",
       "      <td>0.021047</td>\n",
       "      <td>0.021047</td>\n",
       "      <td>0.5</td>\n",
       "      <td>0.5</td>\n",
       "    </tr>\n",
       "    <tr>\n",
       "      <th>2</th>\n",
       "      <td>923</td>\n",
       "      <td>40</td>\n",
       "      <td>2014-05-30</td>\n",
       "      <td>Really nice mousaka and lovely dÃ©cor inside. ...</td>\n",
       "      <td>39</td>\n",
       "      <td>[I, my, It, I]</td>\n",
       "      <td>[I, friend, lamb, It, which, I]</td>\n",
       "      <td>[mousaka, starters, deserts, lagers, dollars]</td>\n",
       "      <td>227</td>\n",
       "      <td>6</td>\n",
       "      <td>...</td>\n",
       "      <td>0.013216</td>\n",
       "      <td>0</td>\n",
       "      <td>0.000000</td>\n",
       "      <td>342.333333</td>\n",
       "      <td>0.008014</td>\n",
       "      <td>0.001498</td>\n",
       "      <td>0.021047</td>\n",
       "      <td>0.021047</td>\n",
       "      <td>0.5</td>\n",
       "      <td>0.5</td>\n",
       "    </tr>\n",
       "    <tr>\n",
       "      <th>3</th>\n",
       "      <td>923</td>\n",
       "      <td>63</td>\n",
       "      <td>2014-11-13</td>\n",
       "      <td>I really enjoyed brunch at Jane. The ambiance ...</td>\n",
       "      <td>39</td>\n",
       "      <td>[I, you]</td>\n",
       "      <td>[I, ambiance, food, you, it, Service]</td>\n",
       "      <td>[brunch, Jane, what]</td>\n",
       "      <td>164</td>\n",
       "      <td>6</td>\n",
       "      <td>...</td>\n",
       "      <td>0.006098</td>\n",
       "      <td>1</td>\n",
       "      <td>0.006098</td>\n",
       "      <td>342.333333</td>\n",
       "      <td>0.008014</td>\n",
       "      <td>0.001498</td>\n",
       "      <td>0.021047</td>\n",
       "      <td>0.021047</td>\n",
       "      <td>0.5</td>\n",
       "      <td>0.5</td>\n",
       "    </tr>\n",
       "    <tr>\n",
       "      <th>4</th>\n",
       "      <td>923</td>\n",
       "      <td>79</td>\n",
       "      <td>2014-03-30</td>\n",
       "      <td>We ate at the Blue Ribbon with colleagues. The...</td>\n",
       "      <td>39</td>\n",
       "      <td>[We, it]</td>\n",
       "      <td>[We, strip, trout, what, food, it]</td>\n",
       "      <td>[Ribbon, colleagues, flavour, Service]</td>\n",
       "      <td>250</td>\n",
       "      <td>6</td>\n",
       "      <td>...</td>\n",
       "      <td>0.004000</td>\n",
       "      <td>0</td>\n",
       "      <td>0.000000</td>\n",
       "      <td>342.333333</td>\n",
       "      <td>0.008014</td>\n",
       "      <td>0.001498</td>\n",
       "      <td>0.021047</td>\n",
       "      <td>0.021047</td>\n",
       "      <td>0.5</td>\n",
       "      <td>0.5</td>\n",
       "    </tr>\n",
       "  </tbody>\n",
       "</table>\n",
       "<p>5 rows × 22 columns</p>\n",
       "</div>"
      ],
      "text/plain": [
       "   Reviewer_id  Product_id       Date  \\\n",
       "0          923           0 2014-12-08   \n",
       "1          923          19 2014-01-14   \n",
       "2          923          40 2014-05-30   \n",
       "3          923          63 2014-11-13   \n",
       "4          923          79 2014-03-30   \n",
       "\n",
       "                                                Text  Count (U)  \\\n",
       "0  The food at snack is a selection of popular Gr...         39   \n",
       "1  The restaurant is on the ground floor of a typ...         39   \n",
       "2  Really nice mousaka and lovely dÃ©cor inside. ...         39   \n",
       "3  I really enjoyed brunch at Jane. The ambiance ...         39   \n",
       "4  We ate at the Blue Ribbon with colleagues. The...         39   \n",
       "\n",
       "                          Tag_PRP  \\\n",
       "0                            [We]   \n",
       "1  [You, it, you, it, I, they, I]   \n",
       "2                  [I, my, It, I]   \n",
       "3                        [I, you]   \n",
       "4                        [We, it]   \n",
       "\n",
       "                                            SUB_Data  \\\n",
       "0                                   [food, tray, it]   \n",
       "1  [restaurant, You, you, it, menu, restaurant, I...   \n",
       "2                    [I, friend, lamb, It, which, I]   \n",
       "3              [I, ambiance, food, you, it, Service]   \n",
       "4                 [We, strip, trout, what, food, it]   \n",
       "\n",
       "                                            OBJ_Data  Sent_len  SUB_Len  ...  \\\n",
       "0                           [snack, dishes, courses]       211        3  ...   \n",
       "1  [floor, Slope, it, choices, feel, restaurant, ...       506        9  ...   \n",
       "2      [mousaka, starters, deserts, lagers, dollars]       227        6  ...   \n",
       "3                               [brunch, Jane, what]       164        6  ...   \n",
       "4             [Ribbon, colleagues, flavour, Service]       250        6  ...   \n",
       "\n",
       "   First_Third_PRP_ratio  Second_PRP  Second_PRP_ratio  \\\n",
       "0               0.004739           0          0.000000   \n",
       "1               0.005929           2          0.003953   \n",
       "2               0.013216           0          0.000000   \n",
       "3               0.006098           1          0.006098   \n",
       "4               0.004000           0          0.000000   \n",
       "\n",
       "   (Product_ReviewContent_avg_sent_len,)  \\\n",
       "0                             342.333333   \n",
       "1                             342.333333   \n",
       "2                             342.333333   \n",
       "3                             342.333333   \n",
       "4                             342.333333   \n",
       "\n",
       "   (Product_ReviewContent_avg_first_third_ratio,)  \\\n",
       "0                                        0.008014   \n",
       "1                                        0.008014   \n",
       "2                                        0.008014   \n",
       "3                                        0.008014   \n",
       "4                                        0.008014   \n",
       "\n",
       "   (Product_ReviewContent_avg_second_ratio,)  \\\n",
       "0                                   0.001498   \n",
       "1                                   0.001498   \n",
       "2                                   0.001498   \n",
       "3                                   0.001498   \n",
       "4                                   0.001498   \n",
       "\n",
       "   (Product_ReviewContent_avg_sub_ratio,)  \\\n",
       "0                                0.021047   \n",
       "1                                0.021047   \n",
       "2                                0.021047   \n",
       "3                                0.021047   \n",
       "4                                0.021047   \n",
       "\n",
       "   (Product_ReviewContent_avg_obj_ratio,)  \\\n",
       "0                                0.021047   \n",
       "1                                0.021047   \n",
       "2                                0.021047   \n",
       "3                                0.021047   \n",
       "4                                0.021047   \n",
       "\n",
       "   (Product_ReviewContent_avg_sub_to_allpro_ratio,)  \\\n",
       "0                                               0.5   \n",
       "1                                               0.5   \n",
       "2                                               0.5   \n",
       "3                                               0.5   \n",
       "4                                               0.5   \n",
       "\n",
       "   (Product_ReviewContent_avg_obj_to_allpro_ratio,)  \n",
       "0                                               0.5  \n",
       "1                                               0.5  \n",
       "2                                               0.5  \n",
       "3                                               0.5  \n",
       "4                                               0.5  \n",
       "\n",
       "[5 rows x 22 columns]"
      ]
     },
     "execution_count": 295,
     "metadata": {},
     "output_type": "execute_result"
    }
   ],
   "source": [
    "Reviewer_ReviewContent.head()"
   ]
  },
  {
   "cell_type": "code",
   "execution_count": 296,
   "id": "4ed91473",
   "metadata": {},
   "outputs": [],
   "source": [
    "Reviewer_ReviewContent.to_excel(\"Reviewer-centric-Text-feature.xlsx\",index=False)"
   ]
  },
  {
   "cell_type": "code",
   "execution_count": 434,
   "id": "d912bf02",
   "metadata": {},
   "outputs": [],
   "source": [
    "Reviewer_ReviewContent = pd.read_excel(\"Reviewer-centric-Text-feature.xlsx\")\n",
    "columns = Reviewer_ReviewContent.columns.tolist()\n",
    "columns =[column[2:-3] if column[0]==\"(\" else column for column in columns]"
   ]
  },
  {
   "cell_type": "code",
   "execution_count": 581,
   "id": "d8da1790",
   "metadata": {},
   "outputs": [
    {
     "data": {
      "text/plain": [
       "['Reviewer_id',\n",
       " 'Product_id',\n",
       " 'Date',\n",
       " 'Text',\n",
       " 'Count (U)',\n",
       " 'Tag_PRP',\n",
       " 'SUB_Data',\n",
       " 'OBJ_Data',\n",
       " 'Sent_len',\n",
       " 'SUB_Len',\n",
       " 'OBJ_Len',\n",
       " 'First_Third_PRP',\n",
       " 'First_Third_PRP_ratio',\n",
       " 'Second_PRP',\n",
       " 'Second_PRP_ratio',\n",
       " 'Reviewer_ReviewContent_avg_sent_len',\n",
       " 'Reviewer_ReviewContent_avg_first_third_ratio',\n",
       " 'Reviewer_ReviewContent_avg_second_ratio',\n",
       " 'Reviewer_ReviewContent_avg_sub_ratio',\n",
       " 'Reviewer_ReviewContent_avg_obj_ratio',\n",
       " 'Reviewer_ReviewContent_avg_sub_to_allpro_ratio',\n",
       " 'Reviewer_ReviewContent_avg_obj_to_allpro_ratio']"
      ]
     },
     "execution_count": 581,
     "metadata": {},
     "output_type": "execute_result"
    }
   ],
   "source": [
    "Reviewer_ReviewContent = pd.read_excel(\"Reviewer-centric-Text-feature.xlsx\")\n",
    "columns = Reviewer_ReviewContent.columns.tolist()\n",
    "columns"
   ]
  },
  {
   "cell_type": "code",
   "execution_count": 582,
   "id": "33b8b28c",
   "metadata": {
    "scrolled": true
   },
   "outputs": [
    {
     "data": {
      "text/plain": [
       "['Reviewer_id',\n",
       " 'Product_id',\n",
       " 'Date',\n",
       " 'Text',\n",
       " 'Count (U)',\n",
       " 'Reviewer_ReviewContent_Tag_PRP',\n",
       " 'Reviewer_ReviewContent_SUB_Data',\n",
       " 'Reviewer_ReviewContent_OBJ_Data',\n",
       " 'Reviewer_ReviewContent_Sent_len',\n",
       " 'Reviewer_ReviewContent_SUB_Len',\n",
       " 'Reviewer_ReviewContent_OBJ_Len',\n",
       " 'Reviewer_ReviewContent_First_Third_PRP',\n",
       " 'Reviewer_ReviewContent_First_Third_PRP_ratio',\n",
       " 'Reviewer_ReviewContent_Second_PRP',\n",
       " 'Reviewer_ReviewContent_Second_PRP_ratio',\n",
       " 'Reviewer_ReviewContent_avg_sent_len',\n",
       " 'Reviewer_ReviewContent_avg_first_third_ratio',\n",
       " 'Reviewer_ReviewContent_avg_second_ratio',\n",
       " 'Reviewer_ReviewContent_avg_sub_ratio',\n",
       " 'Reviewer_ReviewContent_avg_obj_ratio',\n",
       " 'Reviewer_ReviewContent_avg_sub_to_allpro_ratio',\n",
       " 'Reviewer_ReviewContent_avg_obj_to_allpro_ratio']"
      ]
     },
     "execution_count": 582,
     "metadata": {},
     "output_type": "execute_result"
    }
   ],
   "source": [
    "columns[5:15]=[\"Reviewer_ReviewContent_\"+column for column in columns[5:15]]\n",
    "columns"
   ]
  },
  {
   "cell_type": "code",
   "execution_count": 583,
   "id": "a9fd95d0",
   "metadata": {},
   "outputs": [],
   "source": [
    "Reviewer_ReviewContent.columns = [columns]\n",
    "Reviewer_ReviewContent.to_excel(\"Reviewer-centric-Text-feature.xlsx\")"
   ]
  },
  {
   "cell_type": "markdown",
   "id": "8e4a7166",
   "metadata": {},
   "source": [
    "# Topic Feature"
   ]
  },
  {
   "cell_type": "code",
   "execution_count": 30,
   "id": "19c377b5",
   "metadata": {},
   "outputs": [],
   "source": [
    "from gensim import corpora\n",
    "import gensim"
   ]
  },
  {
   "cell_type": "code",
   "execution_count": 250,
   "id": "25801b4f",
   "metadata": {},
   "outputs": [
    {
     "name": "stdout",
     "output_type": "stream",
     "text": [
      "(0, '0.057*\"corn\" + 0.046*\"tacos\" + 0.025*\"cuban\" + 0.024*\"mexican\" + 0.021*\"chips\" + 0.019*\"taco\"')\n",
      "(1, '0.032*\"chicken\" + 0.022*\"sauce\" + 0.022*\"cheese\" + 0.016*\"fried\" + 0.013*\"delicious\" + 0.013*\"salad\"')\n",
      "(2, '0.164*\"sandwich\" + 0.063*\"pork\" + 0.054*\"sandwiches\" + 0.030*\"meatballs\" + 0.028*\"bread\" + 0.027*\"banh\"')\n",
      "(3, '0.035*\"happy\" + 0.033*\"sangria\" + 0.031*\"hour\" + 0.021*\"tapas\" + 0.021*\"empanadas\" + 0.014*\"greek\"')\n",
      "(4, '0.084*\"cream\" + 0.073*\"ice\" + 0.066*\"dessert\" + 0.062*\"chocolate\" + 0.045*\"cake\" + 0.016*\"desserts\"')\n",
      "(5, '0.162*\"pizza\" + 0.031*\"slice\" + 0.030*\"pie\" + 0.025*\"crust\" + 0.018*\"cheese\" + 0.017*\"artichoke\"')\n",
      "(6, '0.021*\"place\" + 0.015*\"get\" + 0.014*\"food\" + 0.014*\"one\" + 0.013*\"good\" + 0.013*\"like\"')\n",
      "(7, '0.038*\"bbq\" + 0.031*\"ribs\" + 0.030*\"pork\" + 0.029*\"brisket\" + 0.024*\"meat\" + 0.018*\"short\"')\n",
      "(8, '0.041*\"soup\" + 0.041*\"dumplings\" + 0.033*\"rice\" + 0.030*\"noodles\" + 0.028*\"pork\" + 0.021*\"fried\"')\n",
      "(9, '0.037*\"bar\" + 0.020*\"beer\" + 0.012*\"drinks\" + 0.011*\"drink\" + 0.009*\"selection\" + 0.009*\"beers\"')\n",
      "(10, '0.116*\"thai\" + 0.076*\"curry\" + 0.040*\"pad\" + 0.030*\"reasonably\" + 0.025*\"priced\" + 0.020*\"tea\"')\n",
      "(11, '0.039*\"good\" + 0.022*\"really\" + 0.021*\"like\" + 0.016*\"would\" + 0.015*\"food\" + 0.013*\"pretty\"')\n",
      "(12, '0.052*\"great\" + 0.044*\"food\" + 0.040*\"place\" + 0.038*\"good\" + 0.023*\"service\" + 0.017*\"nice\"')\n",
      "(13, '0.093*\"ramen\" + 0.071*\"pork\" + 0.038*\"buns\" + 0.033*\"wait\" + 0.029*\"broth\" + 0.018*\"noodles\"')\n",
      "(14, '0.019*\"table\" + 0.016*\"came\" + 0.015*\"time\" + 0.014*\"ordered\" + 0.014*\"got\" + 0.013*\"wait\"')\n",
      "(15, '0.048*\"tea\" + 0.047*\"japanese\" + 0.044*\"sushi\" + 0.031*\"sesame\" + 0.028*\"salmon\" + 0.023*\"tuna\"')\n",
      "(16, '0.131*\"burger\" + 0.105*\"fries\" + 0.036*\"burgers\" + 0.026*\"lobster\" + 0.021*\"cheese\" + 0.019*\"roll\"')\n",
      "(17, '0.016*\"restaurant\" + 0.013*\"menu\" + 0.011*\"wine\" + 0.011*\"pasta\" + 0.010*\"dish\" + 0.010*\"dishes\"')\n",
      "(18, '0.116*\"brunch\" + 0.048*\"eggs\" + 0.032*\"coffee\" + 0.029*\"breakfast\" + 0.026*\"french\" + 0.025*\"toast\"')\n",
      "(19, '0.099*\"pancakes\" + 0.066*\"falafel\" + 0.040*\"pita\" + 0.037*\"hummus\" + 0.024*\"cheesecake\" + 0.019*\"maple\"')\n"
     ]
    }
   ],
   "source": [
    "# process a text string into a list of tokens\n",
    "en_stop = set(nltk.corpus.stopwords.words('english'))\n",
    "def prepare_text_for_lda(text):\n",
    "    # convert all words into lower case, split by white space\n",
    "    tokens = text.strip().lower().split()\n",
    "    \n",
    "    #  remove words with 1 or 2 letters (small words, punctuation)\n",
    "    tokens = [token for token in tokens if len(token) > 2]\n",
    "    \n",
    "    # remove English stopwords (as defined by NLTK)\n",
    "    tokens = [token for token in tokens if token not in en_stop]\n",
    "    return tokens\n",
    "\n",
    "# convert the corpus into a sparse matrix format for gensim\n",
    "\n",
    "text_data = []\n",
    "for review in review_corpus:\n",
    "    review = prepare_text_for_lda(review)\n",
    "    text_data.append(review)\n",
    "    \n",
    "# print(text_data)\n",
    "            \n",
    "dictionary = corpora.Dictionary(text_data)\n",
    "corpus = [dictionary.doc2bow(text) for text in text_data]\n",
    "\n",
    "# print(corpus)\n",
    "\n",
    "# train latent Dirichlet topic model\n",
    "\n",
    "NUM_TOPICS = 20\n",
    "ldamodel = gensim.models.ldamodel.LdaModel(corpus, num_topics = NUM_TOPICS, id2word=dictionary, passes=15)\n",
    "\n",
    "\n",
    "topics = ldamodel.print_topics(num_words=6)\n",
    "for topic in topics:\n",
    "    print(topic)"
   ]
  },
  {
   "cell_type": "code",
   "execution_count": 297,
   "id": "63ebca97",
   "metadata": {},
   "outputs": [],
   "source": [
    "ldamodel.save(\"lda.model\")"
   ]
  },
  {
   "cell_type": "code",
   "execution_count": null,
   "id": "951a6c8c",
   "metadata": {},
   "outputs": [],
   "source": []
  },
  {
   "cell_type": "markdown",
   "id": "1a53a579",
   "metadata": {},
   "source": [
    "# Feature Combination"
   ]
  },
  {
   "cell_type": "code",
   "execution_count": 2,
   "id": "64af0058",
   "metadata": {},
   "outputs": [],
   "source": [
    "import pandas as pd"
   ]
  },
  {
   "cell_type": "code",
   "execution_count": 3,
   "id": "448cd1d7",
   "metadata": {},
   "outputs": [
    {
     "data": {
      "text/html": [
       "<div>\n",
       "<style scoped>\n",
       "    .dataframe tbody tr th:only-of-type {\n",
       "        vertical-align: middle;\n",
       "    }\n",
       "\n",
       "    .dataframe tbody tr th {\n",
       "        vertical-align: top;\n",
       "    }\n",
       "\n",
       "    .dataframe thead th {\n",
       "        text-align: right;\n",
       "    }\n",
       "</style>\n",
       "<table border=\"1\" class=\"dataframe\">\n",
       "  <thead>\n",
       "    <tr style=\"text-align: right;\">\n",
       "      <th></th>\n",
       "      <th>Reviewer_id</th>\n",
       "      <th>Product_id</th>\n",
       "      <th>Date</th>\n",
       "      <th>Text</th>\n",
       "      <th>Count (P)</th>\n",
       "    </tr>\n",
       "  </thead>\n",
       "  <tbody>\n",
       "    <tr>\n",
       "      <th>0</th>\n",
       "      <td>923</td>\n",
       "      <td>0</td>\n",
       "      <td>2014-12-08</td>\n",
       "      <td>The food at snack is a selection of popular Gr...</td>\n",
       "      <td>98</td>\n",
       "    </tr>\n",
       "    <tr>\n",
       "      <th>1</th>\n",
       "      <td>927</td>\n",
       "      <td>0</td>\n",
       "      <td>2010-11-01</td>\n",
       "      <td>Snack is great place for a Â casual sit down l...</td>\n",
       "      <td>98</td>\n",
       "    </tr>\n",
       "    <tr>\n",
       "      <th>2</th>\n",
       "      <td>930</td>\n",
       "      <td>0</td>\n",
       "      <td>2007-05-20</td>\n",
       "      <td>Love this place! Â Try the Chicken sandwich or...</td>\n",
       "      <td>98</td>\n",
       "    </tr>\n",
       "    <tr>\n",
       "      <th>3</th>\n",
       "      <td>931</td>\n",
       "      <td>0</td>\n",
       "      <td>2005-12-27</td>\n",
       "      <td>My friend and I were intrigued by the nightly ...</td>\n",
       "      <td>98</td>\n",
       "    </tr>\n",
       "    <tr>\n",
       "      <th>4</th>\n",
       "      <td>940</td>\n",
       "      <td>0</td>\n",
       "      <td>2014-09-16</td>\n",
       "      <td>For lunch, my friend and I had: -Lamb sandwich...</td>\n",
       "      <td>98</td>\n",
       "    </tr>\n",
       "  </tbody>\n",
       "</table>\n",
       "</div>"
      ],
      "text/plain": [
       "   Reviewer_id  Product_id       Date  \\\n",
       "0          923           0 2014-12-08   \n",
       "1          927           0 2010-11-01   \n",
       "2          930           0 2007-05-20   \n",
       "3          931           0 2005-12-27   \n",
       "4          940           0 2014-09-16   \n",
       "\n",
       "                                                Text  Count (P)  \n",
       "0  The food at snack is a selection of popular Gr...         98  \n",
       "1  Snack is great place for a Â casual sit down l...         98  \n",
       "2  Love this place! Â Try the Chicken sandwich or...         98  \n",
       "3  My friend and I were intrigued by the nightly ...         98  \n",
       "4  For lunch, my friend and I had: -Lamb sandwich...         98  "
      ]
     },
     "execution_count": 3,
     "metadata": {},
     "output_type": "execute_result"
    }
   ],
   "source": [
    "Reveiw_centric_Text_feature = pd.read_excel(\"..\\\\Data\\\\ReviewContent (Sortedby_Product_wise).xlsx\")\n",
    "Reveiw_centric_Text_feature.head()"
   ]
  },
  {
   "cell_type": "code",
   "execution_count": 4,
   "id": "28a96bca",
   "metadata": {},
   "outputs": [
    {
     "data": {
      "text/plain": [
       "Reviewer_id    90906\n",
       "Product_id     90906\n",
       "Rating         90906\n",
       "Label          90906\n",
       "Date           90906\n",
       "Count (P)      90906\n",
       "dtype: int64"
      ]
     },
     "execution_count": 4,
     "metadata": {},
     "output_type": "execute_result"
    }
   ],
   "source": [
    "Labels_for_Review = pd.read_csv(\"..\\\\Data\\\\Metadata (Sortedby_Product_wise).csv\")\n",
    "Labels_for_Review.count()"
   ]
  },
  {
   "cell_type": "code",
   "execution_count": 649,
   "id": "3129c371",
   "metadata": {},
   "outputs": [
    {
     "data": {
      "text/plain": [
       "Counter({-1: 6898, 1: 84008})"
      ]
     },
     "execution_count": 649,
     "metadata": {},
     "output_type": "execute_result"
    }
   ],
   "source": [
    "Counter(Labels_for_Review[\"Label\"])"
   ]
  },
  {
   "cell_type": "code",
   "execution_count": 5,
   "id": "e4e28d52",
   "metadata": {},
   "outputs": [],
   "source": [
    "Labels_for_Review.loc[Labels_for_Review[\"Label\"]==1,\"Label\"]=0\n",
    "Labels_for_Review.loc[Labels_for_Review[\"Label\"]==-1,\"Label\"]=1\n"
   ]
  },
  {
   "cell_type": "code",
   "execution_count": 652,
   "id": "ee52cb89",
   "metadata": {},
   "outputs": [
    {
     "data": {
      "text/plain": [
       "Counter({1: 6898, 0: 84008})"
      ]
     },
     "execution_count": 652,
     "metadata": {},
     "output_type": "execute_result"
    }
   ],
   "source": [
    "Counter(Labels_for_Review[\"Label\"])"
   ]
  },
  {
   "cell_type": "code",
   "execution_count": 6,
   "id": "64fe86a3",
   "metadata": {},
   "outputs": [],
   "source": [
    "Reveiw_centric_Text_feature=Reveiw_centric_Text_feature.merge(Labels_for_Review,how = \"inner\",on=[\"Reviewer_id\",\"Product_id\"])"
   ]
  },
  {
   "cell_type": "code",
   "execution_count": 7,
   "id": "643c418c",
   "metadata": {},
   "outputs": [
    {
     "data": {
      "text/plain": [
       "Reviewer_id    90906\n",
       "Product_id     90906\n",
       "Date_x         90906\n",
       "Text           90905\n",
       "Count (P)_x    90906\n",
       "Rating         90906\n",
       "Label          90906\n",
       "Date_y         90906\n",
       "Count (P)_y    90906\n",
       "dtype: int64"
      ]
     },
     "execution_count": 7,
     "metadata": {},
     "output_type": "execute_result"
    }
   ],
   "source": [
    "Reveiw_centric_Text_feature.count()"
   ]
  },
  {
   "cell_type": "code",
   "execution_count": 605,
   "id": "6d448a1b",
   "metadata": {},
   "outputs": [],
   "source": [
    "Reviewer_centric_Text_feature = pd.read_excel(\"Reviewer-centric-Text-feature.xlsx\")\n",
    "Reviewer_centric_Behavior_feature = pd.read_excel(\"Reviewer-centric-Behavior-feature.xlsx\")\n",
    "Product_centric_Text_feature = pd.read_excel(\"Product-centric-Text-feature.xlsx\")\n",
    "Product_centric_Behavior_feature = pd.read_excel(\"Product-centric-Behavior-feature.xlsx\")"
   ]
  },
  {
   "cell_type": "code",
   "execution_count": 532,
   "id": "392c6a39",
   "metadata": {},
   "outputs": [
    {
     "data": {
      "text/plain": [
       "Counter({1: 6898, 0: 84008})"
      ]
     },
     "execution_count": 532,
     "metadata": {},
     "output_type": "execute_result"
    }
   ],
   "source": [
    "Counter(Product_centric_Behavior_feature[\"Label\"])"
   ]
  },
  {
   "cell_type": "code",
   "execution_count": 500,
   "id": "b8ddc9e2",
   "metadata": {},
   "outputs": [],
   "source": [
    "Reviewer_centric_Behavior_feature.loc[Reviewer_centric_Behavior_feature[\"Label\"]==1,\"Label\"]=0\n",
    "Reviewer_centric_Behavior_feature.loc[Reviewer_centric_Behavior_feature[\"Label\"]==-1,\"Label\"]=1\n",
    "Product_centric_Behavior_feature.loc[Product_centric_Behavior_feature[\"Label\"]==1,\"Label\"]=0\n",
    "Product_centric_Behavior_feature.loc[Product_centric_Behavior_feature[\"Label\"]==-1,\"Label\"]=1"
   ]
  },
  {
   "cell_type": "code",
   "execution_count": 606,
   "id": "c3d103d0",
   "metadata": {},
   "outputs": [],
   "source": [
    "Reviewer_centric_Text_feature.drop([\"Date\",\"Text\",\"Count (U)\",\"Reviewer_ReviewContent_Tag_PRP\",\"Reviewer_ReviewContent_SUB_Data\",\"Reviewer_ReviewContent_OBJ_Data\"],axis=1,inplace=True)"
   ]
  },
  {
   "cell_type": "code",
   "execution_count": 607,
   "id": "9c9831a2",
   "metadata": {},
   "outputs": [],
   "source": [
    "Reviewer_centric_Behavior_feature.drop([\"Rating\",\"Date\",\"Count (U)\",\"Label\"],axis=1,inplace=True)"
   ]
  },
  {
   "cell_type": "code",
   "execution_count": 608,
   "id": "9d83697e",
   "metadata": {},
   "outputs": [],
   "source": [
    "Product_centric_Behavior_feature.drop([\"Rating\",\"Date\",\"Count (P)\",\"Label\"],axis=1,inplace=True)"
   ]
  },
  {
   "cell_type": "code",
   "execution_count": 610,
   "id": "0dca9150",
   "metadata": {},
   "outputs": [
    {
     "data": {
      "text/html": [
       "<div>\n",
       "<style scoped>\n",
       "    .dataframe tbody tr th:only-of-type {\n",
       "        vertical-align: middle;\n",
       "    }\n",
       "\n",
       "    .dataframe tbody tr th {\n",
       "        vertical-align: top;\n",
       "    }\n",
       "\n",
       "    .dataframe thead th {\n",
       "        text-align: right;\n",
       "    }\n",
       "</style>\n",
       "<table border=\"1\" class=\"dataframe\">\n",
       "  <thead>\n",
       "    <tr style=\"text-align: right;\">\n",
       "      <th></th>\n",
       "      <th>Reviewer_id</th>\n",
       "      <th>Product_id</th>\n",
       "      <th>Date</th>\n",
       "      <th>Text</th>\n",
       "      <th>Count (P)</th>\n",
       "      <th>Tag_PRP</th>\n",
       "      <th>SUB_Data</th>\n",
       "      <th>OBJ_Data</th>\n",
       "      <th>Sent_len</th>\n",
       "      <th>SUB_Len</th>\n",
       "      <th>...</th>\n",
       "      <th>First_Third_PRP_ratio</th>\n",
       "      <th>Second_PRP</th>\n",
       "      <th>Second_PRP_ratio</th>\n",
       "      <th>Product_ReviewContent_avg_sent_len</th>\n",
       "      <th>Product_ReviewContent_avg_first_third_ratio</th>\n",
       "      <th>Product_ReviewContent_avg_second_ratio</th>\n",
       "      <th>Product_ReviewContent_avg_sub_ratio</th>\n",
       "      <th>Product_ReviewContent_avg_obj_ratio</th>\n",
       "      <th>Product_ReviewContent_avg_sub_to_allpro_ratio</th>\n",
       "      <th>Product_ReviewContent_avg_obj_to_allpro_ratio</th>\n",
       "    </tr>\n",
       "  </thead>\n",
       "  <tbody>\n",
       "    <tr>\n",
       "      <th>0</th>\n",
       "      <td>923</td>\n",
       "      <td>0</td>\n",
       "      <td>2014-12-08</td>\n",
       "      <td>The food at snack is a selection of popular Gr...</td>\n",
       "      <td>98</td>\n",
       "      <td>['We']</td>\n",
       "      <td>['food', 'tray', 'it']</td>\n",
       "      <td>['snack', 'dishes', 'courses']</td>\n",
       "      <td>211</td>\n",
       "      <td>3</td>\n",
       "      <td>...</td>\n",
       "      <td>0.004739</td>\n",
       "      <td>0</td>\n",
       "      <td>0.000000</td>\n",
       "      <td>508.622449</td>\n",
       "      <td>0.009249</td>\n",
       "      <td>0.001444</td>\n",
       "      <td>0.019541</td>\n",
       "      <td>0.022931</td>\n",
       "      <td>0.460085</td>\n",
       "      <td>0.539915</td>\n",
       "    </tr>\n",
       "    <tr>\n",
       "      <th>1</th>\n",
       "      <td>927</td>\n",
       "      <td>0</td>\n",
       "      <td>2010-11-01</td>\n",
       "      <td>Snack is great place for a Â casual sit down l...</td>\n",
       "      <td>98</td>\n",
       "      <td>['it', 'I', 'you', 'their', 'you']</td>\n",
       "      <td>['Snack', 'restaurant', 'soup', 'bean', 'coffe...</td>\n",
       "      <td>['casual', 'day', 'ways', 'simple', 'hearty', ...</td>\n",
       "      <td>588</td>\n",
       "      <td>11</td>\n",
       "      <td>...</td>\n",
       "      <td>0.003401</td>\n",
       "      <td>2</td>\n",
       "      <td>0.003401</td>\n",
       "      <td>508.622449</td>\n",
       "      <td>0.009249</td>\n",
       "      <td>0.001444</td>\n",
       "      <td>0.019541</td>\n",
       "      <td>0.022931</td>\n",
       "      <td>0.460085</td>\n",
       "      <td>0.539915</td>\n",
       "    </tr>\n",
       "    <tr>\n",
       "      <th>2</th>\n",
       "      <td>930</td>\n",
       "      <td>0</td>\n",
       "      <td>2007-05-20</td>\n",
       "      <td>Love this place! Â Try the Chicken sandwich or...</td>\n",
       "      <td>98</td>\n",
       "      <td>[]</td>\n",
       "      <td>['\\xa0', 'Those', '\\xa0']</td>\n",
       "      <td>['place', 'sandwich']</td>\n",
       "      <td>134</td>\n",
       "      <td>3</td>\n",
       "      <td>...</td>\n",
       "      <td>0.000000</td>\n",
       "      <td>0</td>\n",
       "      <td>0.000000</td>\n",
       "      <td>508.622449</td>\n",
       "      <td>0.009249</td>\n",
       "      <td>0.001444</td>\n",
       "      <td>0.019541</td>\n",
       "      <td>0.022931</td>\n",
       "      <td>0.460085</td>\n",
       "      <td>0.539915</td>\n",
       "    </tr>\n",
       "    <tr>\n",
       "      <th>3</th>\n",
       "      <td>931</td>\n",
       "      <td>0</td>\n",
       "      <td>2005-12-27</td>\n",
       "      <td>My friend and I were intrigued by the nightly ...</td>\n",
       "      <td>98</td>\n",
       "      <td>['My', 'I', 'we', 'we', 'we', 'I', 'I', 'they'...</td>\n",
       "      <td>['we', 'we', 'we', 'I', 'I', 'they', 'we', 'ci...</td>\n",
       "      <td>['Shoes', 'sirloin', 'Snack', 'glass', 'wine',...</td>\n",
       "      <td>564</td>\n",
       "      <td>10</td>\n",
       "      <td>...</td>\n",
       "      <td>0.019504</td>\n",
       "      <td>0</td>\n",
       "      <td>0.000000</td>\n",
       "      <td>508.622449</td>\n",
       "      <td>0.009249</td>\n",
       "      <td>0.001444</td>\n",
       "      <td>0.019541</td>\n",
       "      <td>0.022931</td>\n",
       "      <td>0.460085</td>\n",
       "      <td>0.539915</td>\n",
       "    </tr>\n",
       "    <tr>\n",
       "      <th>4</th>\n",
       "      <td>940</td>\n",
       "      <td>0</td>\n",
       "      <td>2014-09-16</td>\n",
       "      <td>For lunch, my friend and I had: -Lamb sandwich...</td>\n",
       "      <td>98</td>\n",
       "      <td>['my', 'I', 'my', 'it', 'I', 'I', 'it', 'they'...</td>\n",
       "      <td>['I', 'friend', 'I', 'I', 'Avolemono', 'friend...</td>\n",
       "      <td>['lunch', 'friend', 'beet', 'portion', 'thing'...</td>\n",
       "      <td>438</td>\n",
       "      <td>9</td>\n",
       "      <td>...</td>\n",
       "      <td>0.013699</td>\n",
       "      <td>1</td>\n",
       "      <td>0.002283</td>\n",
       "      <td>508.622449</td>\n",
       "      <td>0.009249</td>\n",
       "      <td>0.001444</td>\n",
       "      <td>0.019541</td>\n",
       "      <td>0.022931</td>\n",
       "      <td>0.460085</td>\n",
       "      <td>0.539915</td>\n",
       "    </tr>\n",
       "  </tbody>\n",
       "</table>\n",
       "<p>5 rows × 22 columns</p>\n",
       "</div>"
      ],
      "text/plain": [
       "   Reviewer_id  Product_id       Date  \\\n",
       "0          923           0 2014-12-08   \n",
       "1          927           0 2010-11-01   \n",
       "2          930           0 2007-05-20   \n",
       "3          931           0 2005-12-27   \n",
       "4          940           0 2014-09-16   \n",
       "\n",
       "                                                Text  Count (P)  \\\n",
       "0  The food at snack is a selection of popular Gr...         98   \n",
       "1  Snack is great place for a Â casual sit down l...         98   \n",
       "2  Love this place! Â Try the Chicken sandwich or...         98   \n",
       "3  My friend and I were intrigued by the nightly ...         98   \n",
       "4  For lunch, my friend and I had: -Lamb sandwich...         98   \n",
       "\n",
       "                                             Tag_PRP  \\\n",
       "0                                             ['We']   \n",
       "1                 ['it', 'I', 'you', 'their', 'you']   \n",
       "2                                                 []   \n",
       "3  ['My', 'I', 'we', 'we', 'we', 'I', 'I', 'they'...   \n",
       "4  ['my', 'I', 'my', 'it', 'I', 'I', 'it', 'they'...   \n",
       "\n",
       "                                            SUB_Data  \\\n",
       "0                             ['food', 'tray', 'it']   \n",
       "1  ['Snack', 'restaurant', 'soup', 'bean', 'coffe...   \n",
       "2                          ['\\xa0', 'Those', '\\xa0']   \n",
       "3  ['we', 'we', 'we', 'I', 'I', 'they', 'we', 'ci...   \n",
       "4  ['I', 'friend', 'I', 'I', 'Avolemono', 'friend...   \n",
       "\n",
       "                                            OBJ_Data  Sent_len  SUB_Len  ...  \\\n",
       "0                     ['snack', 'dishes', 'courses']       211        3  ...   \n",
       "1  ['casual', 'day', 'ways', 'simple', 'hearty', ...       588       11  ...   \n",
       "2                              ['place', 'sandwich']       134        3  ...   \n",
       "3  ['Shoes', 'sirloin', 'Snack', 'glass', 'wine',...       564       10  ...   \n",
       "4  ['lunch', 'friend', 'beet', 'portion', 'thing'...       438        9  ...   \n",
       "\n",
       "   First_Third_PRP_ratio  Second_PRP  Second_PRP_ratio  \\\n",
       "0               0.004739           0          0.000000   \n",
       "1               0.003401           2          0.003401   \n",
       "2               0.000000           0          0.000000   \n",
       "3               0.019504           0          0.000000   \n",
       "4               0.013699           1          0.002283   \n",
       "\n",
       "   Product_ReviewContent_avg_sent_len  \\\n",
       "0                          508.622449   \n",
       "1                          508.622449   \n",
       "2                          508.622449   \n",
       "3                          508.622449   \n",
       "4                          508.622449   \n",
       "\n",
       "   Product_ReviewContent_avg_first_third_ratio  \\\n",
       "0                                     0.009249   \n",
       "1                                     0.009249   \n",
       "2                                     0.009249   \n",
       "3                                     0.009249   \n",
       "4                                     0.009249   \n",
       "\n",
       "   Product_ReviewContent_avg_second_ratio  \\\n",
       "0                                0.001444   \n",
       "1                                0.001444   \n",
       "2                                0.001444   \n",
       "3                                0.001444   \n",
       "4                                0.001444   \n",
       "\n",
       "   Product_ReviewContent_avg_sub_ratio  Product_ReviewContent_avg_obj_ratio  \\\n",
       "0                             0.019541                             0.022931   \n",
       "1                             0.019541                             0.022931   \n",
       "2                             0.019541                             0.022931   \n",
       "3                             0.019541                             0.022931   \n",
       "4                             0.019541                             0.022931   \n",
       "\n",
       "   Product_ReviewContent_avg_sub_to_allpro_ratio  \\\n",
       "0                                       0.460085   \n",
       "1                                       0.460085   \n",
       "2                                       0.460085   \n",
       "3                                       0.460085   \n",
       "4                                       0.460085   \n",
       "\n",
       "   Product_ReviewContent_avg_obj_to_allpro_ratio  \n",
       "0                                       0.539915  \n",
       "1                                       0.539915  \n",
       "2                                       0.539915  \n",
       "3                                       0.539915  \n",
       "4                                       0.539915  \n",
       "\n",
       "[5 rows x 22 columns]"
      ]
     },
     "execution_count": 610,
     "metadata": {},
     "output_type": "execute_result"
    }
   ],
   "source": [
    "Product_centric_Text_feature.head()"
   ]
  },
  {
   "cell_type": "code",
   "execution_count": 620,
   "id": "7d67b99c",
   "metadata": {},
   "outputs": [],
   "source": [
    "Product_centric_Text_feature.drop([\"Date\",\"Text\",\"Count (P)\",\"Product_ReviewContent_Tag_PRP\",\"Product_ReviewContent_SUB_Data\",\"Product_ReviewContent_OBJ_Data\"],axis=1,inplace=True)"
   ]
  },
  {
   "cell_type": "code",
   "execution_count": 566,
   "id": "fd9c261e",
   "metadata": {},
   "outputs": [],
   "source": [
    "columns = Reviewer_centric_Text_feature.columns.tolist()\n",
    "columns[2:9] = [\"Reviewer_ReviewContent_\"+column for column in columns[2:9]]\n",
    "Reviewer_centric_Text_feature.columns=[columns]"
   ]
  },
  {
   "cell_type": "code",
   "execution_count": 567,
   "id": "8f685b59",
   "metadata": {},
   "outputs": [],
   "source": [
    "columns = Product_centric_Text_feature.columns.tolist()\n",
    "columns[2:9] = [\"Product_ReviewContent_\"+column for column in columns[2:9]]\n",
    "Product_centric_Text_feature.columns = [columns]"
   ]
  },
  {
   "cell_type": "code",
   "execution_count": 8,
   "id": "2b6123fb",
   "metadata": {},
   "outputs": [
    {
     "data": {
      "text/html": [
       "<div>\n",
       "<style scoped>\n",
       "    .dataframe tbody tr th:only-of-type {\n",
       "        vertical-align: middle;\n",
       "    }\n",
       "\n",
       "    .dataframe tbody tr th {\n",
       "        vertical-align: top;\n",
       "    }\n",
       "\n",
       "    .dataframe thead th {\n",
       "        text-align: right;\n",
       "    }\n",
       "</style>\n",
       "<table border=\"1\" class=\"dataframe\">\n",
       "  <thead>\n",
       "    <tr style=\"text-align: right;\">\n",
       "      <th></th>\n",
       "      <th>Reviewer_id</th>\n",
       "      <th>Product_id</th>\n",
       "      <th>Date_x</th>\n",
       "      <th>Text</th>\n",
       "      <th>Count (P)_x</th>\n",
       "      <th>Rating</th>\n",
       "      <th>Label</th>\n",
       "      <th>Date_y</th>\n",
       "      <th>Count (P)_y</th>\n",
       "    </tr>\n",
       "  </thead>\n",
       "  <tbody>\n",
       "    <tr>\n",
       "      <th>0</th>\n",
       "      <td>923</td>\n",
       "      <td>0</td>\n",
       "      <td>2014-12-08</td>\n",
       "      <td>The food at snack is a selection of popular Gr...</td>\n",
       "      <td>98</td>\n",
       "      <td>3</td>\n",
       "      <td>1</td>\n",
       "      <td>12/8/2014</td>\n",
       "      <td>98</td>\n",
       "    </tr>\n",
       "    <tr>\n",
       "      <th>1</th>\n",
       "      <td>927</td>\n",
       "      <td>0</td>\n",
       "      <td>2010-11-01</td>\n",
       "      <td>Snack is great place for a Â casual sit down l...</td>\n",
       "      <td>98</td>\n",
       "      <td>4</td>\n",
       "      <td>1</td>\n",
       "      <td>11/1/2010</td>\n",
       "      <td>98</td>\n",
       "    </tr>\n",
       "    <tr>\n",
       "      <th>2</th>\n",
       "      <td>930</td>\n",
       "      <td>0</td>\n",
       "      <td>2007-05-20</td>\n",
       "      <td>Love this place! Â Try the Chicken sandwich or...</td>\n",
       "      <td>98</td>\n",
       "      <td>4</td>\n",
       "      <td>1</td>\n",
       "      <td>5/20/2007</td>\n",
       "      <td>98</td>\n",
       "    </tr>\n",
       "    <tr>\n",
       "      <th>3</th>\n",
       "      <td>931</td>\n",
       "      <td>0</td>\n",
       "      <td>2005-12-27</td>\n",
       "      <td>My friend and I were intrigued by the nightly ...</td>\n",
       "      <td>98</td>\n",
       "      <td>4</td>\n",
       "      <td>1</td>\n",
       "      <td>12/27/2005</td>\n",
       "      <td>98</td>\n",
       "    </tr>\n",
       "    <tr>\n",
       "      <th>4</th>\n",
       "      <td>940</td>\n",
       "      <td>0</td>\n",
       "      <td>2014-09-16</td>\n",
       "      <td>For lunch, my friend and I had: -Lamb sandwich...</td>\n",
       "      <td>98</td>\n",
       "      <td>4</td>\n",
       "      <td>0</td>\n",
       "      <td>9/16/2014</td>\n",
       "      <td>98</td>\n",
       "    </tr>\n",
       "  </tbody>\n",
       "</table>\n",
       "</div>"
      ],
      "text/plain": [
       "   Reviewer_id  Product_id     Date_x  \\\n",
       "0          923           0 2014-12-08   \n",
       "1          927           0 2010-11-01   \n",
       "2          930           0 2007-05-20   \n",
       "3          931           0 2005-12-27   \n",
       "4          940           0 2014-09-16   \n",
       "\n",
       "                                                Text  Count (P)_x  Rating  \\\n",
       "0  The food at snack is a selection of popular Gr...           98       3   \n",
       "1  Snack is great place for a Â casual sit down l...           98       4   \n",
       "2  Love this place! Â Try the Chicken sandwich or...           98       4   \n",
       "3  My friend and I were intrigued by the nightly ...           98       4   \n",
       "4  For lunch, my friend and I had: -Lamb sandwich...           98       4   \n",
       "\n",
       "   Label      Date_y  Count (P)_y  \n",
       "0      1   12/8/2014           98  \n",
       "1      1   11/1/2010           98  \n",
       "2      1   5/20/2007           98  \n",
       "3      1  12/27/2005           98  \n",
       "4      0   9/16/2014           98  "
      ]
     },
     "execution_count": 8,
     "metadata": {},
     "output_type": "execute_result"
    }
   ],
   "source": [
    "Reveiw_centric_Text_feature.head()"
   ]
  },
  {
   "cell_type": "code",
   "execution_count": 621,
   "id": "b713bf66",
   "metadata": {},
   "outputs": [],
   "source": [
    "Product_Reviewer_Features = Reviewer_centric_Text_feature.merge(Reviewer_centric_Behavior_feature,\n",
    "                                                                how='left',on=[\"Reviewer_id\",'Product_id']).merge(\n",
    "    Product_centric_Text_feature,how='left',on=[\"Reviewer_id\",'Product_id']\n",
    ").merge(Product_centric_Behavior_feature,how='left',on=['Product_id',\"Reviewer_id\"])                "
   ]
  },
  {
   "cell_type": "code",
   "execution_count": 623,
   "id": "a650cccf",
   "metadata": {},
   "outputs": [],
   "source": [
    "Product_Reviewer_Features.drop([\"Reviewer_final_date\",\"Reviewer_early_date\",\"Product_final_date\",\"Product_early_date\"],axis=1,inplace=True)"
   ]
  },
  {
   "cell_type": "code",
   "execution_count": 638,
   "id": "10f96aab",
   "metadata": {},
   "outputs": [
    {
     "data": {
      "text/plain": [
       "Index(['Reviewer_id', 'Product_id', 'Reviewer_ReviewContent_Sent_len',\n",
       "       'Reviewer_ReviewContent_SUB_Len', 'Reviewer_ReviewContent_OBJ_Len',\n",
       "       'Reviewer_ReviewContent_First_Third_PRP',\n",
       "       'Reviewer_ReviewContent_First_Third_PRP_ratio',\n",
       "       'Reviewer_ReviewContent_Second_PRP',\n",
       "       'Reviewer_ReviewContent_Second_PRP_ratio',\n",
       "       'Reviewer_ReviewContent_avg_sent_len',\n",
       "       'Reviewer_ReviewContent_avg_first_third_ratio',\n",
       "       'Reviewer_ReviewContent_avg_second_ratio',\n",
       "       'Reviewer_ReviewContent_avg_sub_ratio',\n",
       "       'Reviewer_ReviewContent_avg_obj_ratio',\n",
       "       'Reviewer_ReviewContent_avg_sub_to_allpro_ratio',\n",
       "       'Reviewer_ReviewContent_avg_obj_to_allpro_ratio',\n",
       "       'Reviewer_Average_Rank', 'Reviewer_Rank_SD',\n",
       "       'Reviewer_Behavior_group_rank_common',\n",
       "       'Reviewer_Behavior_group_extreme_rating_ratio',\n",
       "       'Reviewer_Behavior_group_toprating_rating_ratio',\n",
       "       'Reviewer_Behavior_group_buttomrating_rating_ratio',\n",
       "       'Reviewer_Behavior_group_posrating_rating_ratio',\n",
       "       'Reviewer_Behavior_group_negrating_rating_ratio',\n",
       "       'Reviewer_Behavior_Early_Review_Ratio',\n",
       "       'Product_ReviewContent_Sent_len', 'Product_ReviewContent_SUB_Len',\n",
       "       'Product_ReviewContent_OBJ_Len',\n",
       "       'Product_ReviewContent_First_Third_PRP',\n",
       "       'Product_ReviewContent_First_Third_PRP_ratio',\n",
       "       'Product_ReviewContent_Second_PRP',\n",
       "       'Product_ReviewContent_Second_PRP_ratio',\n",
       "       'Product_ReviewContent_avg_sent_len',\n",
       "       'Product_ReviewContent_avg_first_third_ratio',\n",
       "       'Product_ReviewContent_avg_second_ratio',\n",
       "       'Product_ReviewContent_avg_sub_ratio',\n",
       "       'Product_ReviewContent_avg_obj_ratio',\n",
       "       'Product_ReviewContent_avg_sub_to_allpro_ratio',\n",
       "       'Product_ReviewContent_avg_obj_to_allpro_ratio', 'Product_Average_Rank',\n",
       "       'Product_Rank_SD', 'Product_Behavior_group_rank_common',\n",
       "       'Product_Behavior_group_extreme_rating_ratio',\n",
       "       'Product_Behavior_group_toprating_rating_ratio',\n",
       "       'Product_Behavior_group_buttomrating_rating_ratio',\n",
       "       'Product_Behavior_group_posrating_rating_ratio',\n",
       "       'Product_Behavior_group_negrating_rating_ratio',\n",
       "       'Product_Behavior_Early_Review_Ratio'],\n",
       "      dtype='object')"
      ]
     },
     "execution_count": 638,
     "metadata": {},
     "output_type": "execute_result"
    }
   ],
   "source": [
    "Product_Reviewer_Features.columns"
   ]
  },
  {
   "cell_type": "code",
   "execution_count": 627,
   "id": "84ac9b69",
   "metadata": {},
   "outputs": [],
   "source": [
    "Product_Reviewer_Features.to_excel(\"Product_Reviewer_Features.xlsx\")"
   ]
  },
  {
   "cell_type": "code",
   "execution_count": 655,
   "id": "9861d69d",
   "metadata": {},
   "outputs": [],
   "source": [
    "Reveiw_centric_Text_feature.drop([\"Date_x\",\"Date_y\",\"Count (P)_x\",\"Count (P)_y\"],axis=1,inplace=True)"
   ]
  },
  {
   "cell_type": "code",
   "execution_count": 656,
   "id": "34b9fd08",
   "metadata": {},
   "outputs": [],
   "source": [
    "Product_Reviewer_Features_Label = Product_Reviewer_Features.merge(Reveiw_centric_Text_feature,how='left',on=['Product_id',\"Reviewer_id\"])"
   ]
  },
  {
   "cell_type": "code",
   "execution_count": 657,
   "id": "ac72d0aa",
   "metadata": {},
   "outputs": [
    {
     "data": {
      "text/plain": [
       "Counter({1: 6898, 0: 84008})"
      ]
     },
     "execution_count": 657,
     "metadata": {},
     "output_type": "execute_result"
    }
   ],
   "source": [
    "Counter(Product_Reviewer_Features_Label[\"Label\"])"
   ]
  },
  {
   "cell_type": "code",
   "execution_count": 659,
   "id": "b83b63ec",
   "metadata": {},
   "outputs": [],
   "source": [
    "Product_Reviewer_Features_Label.to_excel(\"Product_Reviewer_Features_Label.xlsx\")"
   ]
  },
  {
   "cell_type": "code",
   "execution_count": 660,
   "id": "7cfe92fc",
   "metadata": {},
   "outputs": [
    {
     "data": {
      "text/html": [
       "<div>\n",
       "<style scoped>\n",
       "    .dataframe tbody tr th:only-of-type {\n",
       "        vertical-align: middle;\n",
       "    }\n",
       "\n",
       "    .dataframe tbody tr th {\n",
       "        vertical-align: top;\n",
       "    }\n",
       "\n",
       "    .dataframe thead th {\n",
       "        text-align: right;\n",
       "    }\n",
       "</style>\n",
       "<table border=\"1\" class=\"dataframe\">\n",
       "  <thead>\n",
       "    <tr style=\"text-align: right;\">\n",
       "      <th></th>\n",
       "      <th>Reviewer_id</th>\n",
       "      <th>Product_id</th>\n",
       "      <th>Reviewer_ReviewContent_Sent_len</th>\n",
       "      <th>Reviewer_ReviewContent_SUB_Len</th>\n",
       "      <th>Reviewer_ReviewContent_OBJ_Len</th>\n",
       "      <th>Reviewer_ReviewContent_First_Third_PRP</th>\n",
       "      <th>Reviewer_ReviewContent_First_Third_PRP_ratio</th>\n",
       "      <th>Reviewer_ReviewContent_Second_PRP</th>\n",
       "      <th>Reviewer_ReviewContent_Second_PRP_ratio</th>\n",
       "      <th>Reviewer_ReviewContent_avg_sent_len</th>\n",
       "      <th>...</th>\n",
       "      <th>Product_Behavior_group_rank_common</th>\n",
       "      <th>Product_Behavior_group_extreme_rating_ratio</th>\n",
       "      <th>Product_Behavior_group_toprating_rating_ratio</th>\n",
       "      <th>Product_Behavior_group_buttomrating_rating_ratio</th>\n",
       "      <th>Product_Behavior_group_posrating_rating_ratio</th>\n",
       "      <th>Product_Behavior_group_negrating_rating_ratio</th>\n",
       "      <th>Product_Behavior_Early_Review_Ratio</th>\n",
       "      <th>Text</th>\n",
       "      <th>Rating</th>\n",
       "      <th>Label</th>\n",
       "    </tr>\n",
       "  </thead>\n",
       "  <tbody>\n",
       "    <tr>\n",
       "      <th>0</th>\n",
       "      <td>923</td>\n",
       "      <td>0</td>\n",
       "      <td>211</td>\n",
       "      <td>3</td>\n",
       "      <td>3</td>\n",
       "      <td>1</td>\n",
       "      <td>0.004739</td>\n",
       "      <td>0</td>\n",
       "      <td>0.000000</td>\n",
       "      <td>342.333333</td>\n",
       "      <td>...</td>\n",
       "      <td>4</td>\n",
       "      <td>0.054124</td>\n",
       "      <td>0.054124</td>\n",
       "      <td>0.000000</td>\n",
       "      <td>0.054124</td>\n",
       "      <td>0.033505</td>\n",
       "      <td>0.010204</td>\n",
       "      <td>The food at snack is a selection of popular Gr...</td>\n",
       "      <td>3</td>\n",
       "      <td>1</td>\n",
       "    </tr>\n",
       "    <tr>\n",
       "      <th>1</th>\n",
       "      <td>923</td>\n",
       "      <td>19</td>\n",
       "      <td>506</td>\n",
       "      <td>9</td>\n",
       "      <td>14</td>\n",
       "      <td>3</td>\n",
       "      <td>0.005929</td>\n",
       "      <td>2</td>\n",
       "      <td>0.003953</td>\n",
       "      <td>342.333333</td>\n",
       "      <td>...</td>\n",
       "      <td>4</td>\n",
       "      <td>0.065637</td>\n",
       "      <td>0.065637</td>\n",
       "      <td>0.003861</td>\n",
       "      <td>0.065637</td>\n",
       "      <td>0.027027</td>\n",
       "      <td>0.030769</td>\n",
       "      <td>The restaurant is on the ground floor of a typ...</td>\n",
       "      <td>5</td>\n",
       "      <td>1</td>\n",
       "    </tr>\n",
       "    <tr>\n",
       "      <th>2</th>\n",
       "      <td>923</td>\n",
       "      <td>40</td>\n",
       "      <td>227</td>\n",
       "      <td>6</td>\n",
       "      <td>5</td>\n",
       "      <td>3</td>\n",
       "      <td>0.013216</td>\n",
       "      <td>0</td>\n",
       "      <td>0.000000</td>\n",
       "      <td>342.333333</td>\n",
       "      <td>...</td>\n",
       "      <td>5</td>\n",
       "      <td>0.109390</td>\n",
       "      <td>0.109390</td>\n",
       "      <td>0.000000</td>\n",
       "      <td>0.109390</td>\n",
       "      <td>0.032914</td>\n",
       "      <td>0.004098</td>\n",
       "      <td>Really nice mousaka and lovely dÃ©cor inside. ...</td>\n",
       "      <td>4</td>\n",
       "      <td>1</td>\n",
       "    </tr>\n",
       "    <tr>\n",
       "      <th>3</th>\n",
       "      <td>923</td>\n",
       "      <td>63</td>\n",
       "      <td>164</td>\n",
       "      <td>6</td>\n",
       "      <td>3</td>\n",
       "      <td>1</td>\n",
       "      <td>0.006098</td>\n",
       "      <td>1</td>\n",
       "      <td>0.006098</td>\n",
       "      <td>342.333333</td>\n",
       "      <td>...</td>\n",
       "      <td>4</td>\n",
       "      <td>0.063409</td>\n",
       "      <td>0.063409</td>\n",
       "      <td>0.002827</td>\n",
       "      <td>0.063409</td>\n",
       "      <td>0.060582</td>\n",
       "      <td>0.009346</td>\n",
       "      <td>I really enjoyed brunch at Jane. The ambiance ...</td>\n",
       "      <td>4</td>\n",
       "      <td>1</td>\n",
       "    </tr>\n",
       "    <tr>\n",
       "      <th>4</th>\n",
       "      <td>923</td>\n",
       "      <td>79</td>\n",
       "      <td>250</td>\n",
       "      <td>6</td>\n",
       "      <td>4</td>\n",
       "      <td>1</td>\n",
       "      <td>0.004000</td>\n",
       "      <td>0</td>\n",
       "      <td>0.000000</td>\n",
       "      <td>342.333333</td>\n",
       "      <td>...</td>\n",
       "      <td>5</td>\n",
       "      <td>0.098234</td>\n",
       "      <td>0.098234</td>\n",
       "      <td>0.003311</td>\n",
       "      <td>0.098234</td>\n",
       "      <td>0.033113</td>\n",
       "      <td>0.009132</td>\n",
       "      <td>We ate at the Blue Ribbon with colleagues. The...</td>\n",
       "      <td>3</td>\n",
       "      <td>1</td>\n",
       "    </tr>\n",
       "  </tbody>\n",
       "</table>\n",
       "<p>5 rows × 51 columns</p>\n",
       "</div>"
      ],
      "text/plain": [
       "   Reviewer_id  Product_id  Reviewer_ReviewContent_Sent_len  \\\n",
       "0          923           0                              211   \n",
       "1          923          19                              506   \n",
       "2          923          40                              227   \n",
       "3          923          63                              164   \n",
       "4          923          79                              250   \n",
       "\n",
       "   Reviewer_ReviewContent_SUB_Len  Reviewer_ReviewContent_OBJ_Len  \\\n",
       "0                               3                               3   \n",
       "1                               9                              14   \n",
       "2                               6                               5   \n",
       "3                               6                               3   \n",
       "4                               6                               4   \n",
       "\n",
       "   Reviewer_ReviewContent_First_Third_PRP  \\\n",
       "0                                       1   \n",
       "1                                       3   \n",
       "2                                       3   \n",
       "3                                       1   \n",
       "4                                       1   \n",
       "\n",
       "   Reviewer_ReviewContent_First_Third_PRP_ratio  \\\n",
       "0                                      0.004739   \n",
       "1                                      0.005929   \n",
       "2                                      0.013216   \n",
       "3                                      0.006098   \n",
       "4                                      0.004000   \n",
       "\n",
       "   Reviewer_ReviewContent_Second_PRP  Reviewer_ReviewContent_Second_PRP_ratio  \\\n",
       "0                                  0                                 0.000000   \n",
       "1                                  2                                 0.003953   \n",
       "2                                  0                                 0.000000   \n",
       "3                                  1                                 0.006098   \n",
       "4                                  0                                 0.000000   \n",
       "\n",
       "   Reviewer_ReviewContent_avg_sent_len  ...  \\\n",
       "0                           342.333333  ...   \n",
       "1                           342.333333  ...   \n",
       "2                           342.333333  ...   \n",
       "3                           342.333333  ...   \n",
       "4                           342.333333  ...   \n",
       "\n",
       "   Product_Behavior_group_rank_common  \\\n",
       "0                                   4   \n",
       "1                                   4   \n",
       "2                                   5   \n",
       "3                                   4   \n",
       "4                                   5   \n",
       "\n",
       "   Product_Behavior_group_extreme_rating_ratio  \\\n",
       "0                                     0.054124   \n",
       "1                                     0.065637   \n",
       "2                                     0.109390   \n",
       "3                                     0.063409   \n",
       "4                                     0.098234   \n",
       "\n",
       "   Product_Behavior_group_toprating_rating_ratio  \\\n",
       "0                                       0.054124   \n",
       "1                                       0.065637   \n",
       "2                                       0.109390   \n",
       "3                                       0.063409   \n",
       "4                                       0.098234   \n",
       "\n",
       "   Product_Behavior_group_buttomrating_rating_ratio  \\\n",
       "0                                          0.000000   \n",
       "1                                          0.003861   \n",
       "2                                          0.000000   \n",
       "3                                          0.002827   \n",
       "4                                          0.003311   \n",
       "\n",
       "   Product_Behavior_group_posrating_rating_ratio  \\\n",
       "0                                       0.054124   \n",
       "1                                       0.065637   \n",
       "2                                       0.109390   \n",
       "3                                       0.063409   \n",
       "4                                       0.098234   \n",
       "\n",
       "   Product_Behavior_group_negrating_rating_ratio  \\\n",
       "0                                       0.033505   \n",
       "1                                       0.027027   \n",
       "2                                       0.032914   \n",
       "3                                       0.060582   \n",
       "4                                       0.033113   \n",
       "\n",
       "   Product_Behavior_Early_Review_Ratio  \\\n",
       "0                             0.010204   \n",
       "1                             0.030769   \n",
       "2                             0.004098   \n",
       "3                             0.009346   \n",
       "4                             0.009132   \n",
       "\n",
       "                                                Text  Rating  Label  \n",
       "0  The food at snack is a selection of popular Gr...       3      1  \n",
       "1  The restaurant is on the ground floor of a typ...       5      1  \n",
       "2  Really nice mousaka and lovely dÃ©cor inside. ...       4      1  \n",
       "3  I really enjoyed brunch at Jane. The ambiance ...       4      1  \n",
       "4  We ate at the Blue Ribbon with colleagues. The...       3      1  \n",
       "\n",
       "[5 rows x 51 columns]"
      ]
     },
     "execution_count": 660,
     "metadata": {},
     "output_type": "execute_result"
    }
   ],
   "source": [
    "Product_Reviewer_Features_Label.head()"
   ]
  },
  {
   "cell_type": "code",
   "execution_count": 27,
   "id": "f115beab",
   "metadata": {},
   "outputs": [],
   "source": [
    "from sklearn.model_selection import train_test_split"
   ]
  },
  {
   "cell_type": "code",
   "execution_count": 22,
   "id": "0bffa978",
   "metadata": {},
   "outputs": [],
   "source": [
    "dataset =Product_Reviewer_Features"
   ]
  },
  {
   "cell_type": "code",
   "execution_count": 32,
   "id": "a8b0424b",
   "metadata": {
    "scrolled": true
   },
   "outputs": [
    {
     "data": {
      "text/html": [
       "<div>\n",
       "<style scoped>\n",
       "    .dataframe tbody tr th:only-of-type {\n",
       "        vertical-align: middle;\n",
       "    }\n",
       "\n",
       "    .dataframe tbody tr th {\n",
       "        vertical-align: top;\n",
       "    }\n",
       "\n",
       "    .dataframe thead th {\n",
       "        text-align: right;\n",
       "    }\n",
       "</style>\n",
       "<table border=\"1\" class=\"dataframe\">\n",
       "  <thead>\n",
       "    <tr style=\"text-align: right;\">\n",
       "      <th></th>\n",
       "      <th>index</th>\n",
       "      <th>Reviewer_id</th>\n",
       "      <th>Product_id</th>\n",
       "      <th>Text_x</th>\n",
       "      <th>Tag_PRP_x</th>\n",
       "      <th>SUB_Data_x</th>\n",
       "      <th>OBJ_Data_x</th>\n",
       "      <th>Sent_len_x</th>\n",
       "      <th>SUB_Len_x</th>\n",
       "      <th>OBJ_Len_x</th>\n",
       "      <th>...</th>\n",
       "      <th>('Reviewer_Behavior_group_rank_common',)_y</th>\n",
       "      <th>('Reviewer_Behavior_group_extreme_rating_ratio',)_y</th>\n",
       "      <th>('Reviewer_Behavior_group_toprating_rating_ratio',)_y</th>\n",
       "      <th>('Reviewer_Behavior_group_buttomrating_rating_ratio',)_y</th>\n",
       "      <th>('Reviewer_Behavior_group_posrating_rating_ratio',)_y</th>\n",
       "      <th>('Reviewer_Behavior_group_negrating_rating_ratio',)_y</th>\n",
       "      <th>Reviewer_Behavior_Early_Review_Ratio_y</th>\n",
       "      <th>Product_Behavior_Early_Review_Ratio</th>\n",
       "      <th>Label</th>\n",
       "      <th>data_type</th>\n",
       "    </tr>\n",
       "  </thead>\n",
       "  <tbody>\n",
       "    <tr>\n",
       "      <th>0</th>\n",
       "      <td>0</td>\n",
       "      <td>923</td>\n",
       "      <td>0</td>\n",
       "      <td>The food at snack is a selection of popular Gr...</td>\n",
       "      <td>['We']</td>\n",
       "      <td>['food', 'tray', 'it']</td>\n",
       "      <td>['snack', 'dishes', 'courses']</td>\n",
       "      <td>211</td>\n",
       "      <td>3</td>\n",
       "      <td>3</td>\n",
       "      <td>...</td>\n",
       "      <td>5</td>\n",
       "      <td>0.132948</td>\n",
       "      <td>0.132948</td>\n",
       "      <td>0.00578</td>\n",
       "      <td>0.132948</td>\n",
       "      <td>0.017341</td>\n",
       "      <td>0.256410</td>\n",
       "      <td>0.010204</td>\n",
       "      <td>-1</td>\n",
       "      <td>train</td>\n",
       "    </tr>\n",
       "    <tr>\n",
       "      <th>1</th>\n",
       "      <td>1</td>\n",
       "      <td>923</td>\n",
       "      <td>19</td>\n",
       "      <td>The restaurant is on the ground floor of a typ...</td>\n",
       "      <td>['You', 'it', 'you', 'it', 'I', 'they', 'I']</td>\n",
       "      <td>['restaurant', 'You', 'you', 'it', 'menu', 're...</td>\n",
       "      <td>['floor', 'Slope', 'it', 'choices', 'feel', 'r...</td>\n",
       "      <td>506</td>\n",
       "      <td>9</td>\n",
       "      <td>14</td>\n",
       "      <td>...</td>\n",
       "      <td>5</td>\n",
       "      <td>0.132948</td>\n",
       "      <td>0.132948</td>\n",
       "      <td>0.00578</td>\n",
       "      <td>0.132948</td>\n",
       "      <td>0.017341</td>\n",
       "      <td>0.256410</td>\n",
       "      <td>0.030769</td>\n",
       "      <td>-1</td>\n",
       "      <td>val</td>\n",
       "    </tr>\n",
       "    <tr>\n",
       "      <th>2</th>\n",
       "      <td>2</td>\n",
       "      <td>923</td>\n",
       "      <td>40</td>\n",
       "      <td>Really nice mousaka and lovely dÃ©cor inside. ...</td>\n",
       "      <td>['I', 'my', 'It', 'I']</td>\n",
       "      <td>['I', 'friend', 'lamb', 'It', 'which', 'I']</td>\n",
       "      <td>['mousaka', 'starters', 'deserts', 'lagers', '...</td>\n",
       "      <td>227</td>\n",
       "      <td>6</td>\n",
       "      <td>5</td>\n",
       "      <td>...</td>\n",
       "      <td>5</td>\n",
       "      <td>0.132948</td>\n",
       "      <td>0.132948</td>\n",
       "      <td>0.00578</td>\n",
       "      <td>0.132948</td>\n",
       "      <td>0.017341</td>\n",
       "      <td>0.256410</td>\n",
       "      <td>0.004098</td>\n",
       "      <td>-1</td>\n",
       "      <td>train</td>\n",
       "    </tr>\n",
       "    <tr>\n",
       "      <th>3</th>\n",
       "      <td>3</td>\n",
       "      <td>923</td>\n",
       "      <td>63</td>\n",
       "      <td>I really enjoyed brunch at Jane. The ambiance ...</td>\n",
       "      <td>['I', 'you']</td>\n",
       "      <td>['I', 'ambiance', 'food', 'you', 'it', 'Service']</td>\n",
       "      <td>['brunch', 'Jane', 'what']</td>\n",
       "      <td>164</td>\n",
       "      <td>6</td>\n",
       "      <td>3</td>\n",
       "      <td>...</td>\n",
       "      <td>5</td>\n",
       "      <td>0.132948</td>\n",
       "      <td>0.132948</td>\n",
       "      <td>0.00578</td>\n",
       "      <td>0.132948</td>\n",
       "      <td>0.017341</td>\n",
       "      <td>0.256410</td>\n",
       "      <td>0.009346</td>\n",
       "      <td>-1</td>\n",
       "      <td>train</td>\n",
       "    </tr>\n",
       "    <tr>\n",
       "      <th>4</th>\n",
       "      <td>4</td>\n",
       "      <td>923</td>\n",
       "      <td>79</td>\n",
       "      <td>We ate at the Blue Ribbon with colleagues. The...</td>\n",
       "      <td>['We', 'it']</td>\n",
       "      <td>['We', 'strip', 'trout', 'what', 'food', 'it']</td>\n",
       "      <td>['Ribbon', 'colleagues', 'flavour', 'Service']</td>\n",
       "      <td>250</td>\n",
       "      <td>6</td>\n",
       "      <td>4</td>\n",
       "      <td>...</td>\n",
       "      <td>5</td>\n",
       "      <td>0.132948</td>\n",
       "      <td>0.132948</td>\n",
       "      <td>0.00578</td>\n",
       "      <td>0.132948</td>\n",
       "      <td>0.017341</td>\n",
       "      <td>0.256410</td>\n",
       "      <td>0.009132</td>\n",
       "      <td>-1</td>\n",
       "      <td>val</td>\n",
       "    </tr>\n",
       "    <tr>\n",
       "      <th>...</th>\n",
       "      <td>...</td>\n",
       "      <td>...</td>\n",
       "      <td>...</td>\n",
       "      <td>...</td>\n",
       "      <td>...</td>\n",
       "      <td>...</td>\n",
       "      <td>...</td>\n",
       "      <td>...</td>\n",
       "      <td>...</td>\n",
       "      <td>...</td>\n",
       "      <td>...</td>\n",
       "      <td>...</td>\n",
       "      <td>...</td>\n",
       "      <td>...</td>\n",
       "      <td>...</td>\n",
       "      <td>...</td>\n",
       "      <td>...</td>\n",
       "      <td>...</td>\n",
       "      <td>...</td>\n",
       "      <td>...</td>\n",
       "      <td>...</td>\n",
       "    </tr>\n",
       "    <tr>\n",
       "      <th>90901</th>\n",
       "      <td>90901</td>\n",
       "      <td>146907</td>\n",
       "      <td>819</td>\n",
       "      <td>just good food. Â sashimi was great quality an...</td>\n",
       "      <td>[]</td>\n",
       "      <td>['sashimi', 'onigiri']</td>\n",
       "      <td>[]</td>\n",
       "      <td>80</td>\n",
       "      <td>2</td>\n",
       "      <td>0</td>\n",
       "      <td>...</td>\n",
       "      <td>4</td>\n",
       "      <td>0.100000</td>\n",
       "      <td>0.100000</td>\n",
       "      <td>0.10000</td>\n",
       "      <td>0.100000</td>\n",
       "      <td>0.000000</td>\n",
       "      <td>0.666667</td>\n",
       "      <td>0.002538</td>\n",
       "      <td>1</td>\n",
       "      <td>val</td>\n",
       "    </tr>\n",
       "    <tr>\n",
       "      <th>90902</th>\n",
       "      <td>90902</td>\n",
       "      <td>146907</td>\n",
       "      <td>909</td>\n",
       "      <td>Food...meh. Â Over sauced and unrefined. Â got...</td>\n",
       "      <td>[]</td>\n",
       "      <td>['Over', 'that']</td>\n",
       "      <td>['sauced', 'food']</td>\n",
       "      <td>92</td>\n",
       "      <td>2</td>\n",
       "      <td>2</td>\n",
       "      <td>...</td>\n",
       "      <td>4</td>\n",
       "      <td>0.100000</td>\n",
       "      <td>0.100000</td>\n",
       "      <td>0.10000</td>\n",
       "      <td>0.100000</td>\n",
       "      <td>0.000000</td>\n",
       "      <td>0.666667</td>\n",
       "      <td>0.009464</td>\n",
       "      <td>1</td>\n",
       "      <td>train</td>\n",
       "    </tr>\n",
       "    <tr>\n",
       "      <th>90903</th>\n",
       "      <td>90903</td>\n",
       "      <td>149108</td>\n",
       "      <td>247</td>\n",
       "      <td>Best ramen and pork buns in NYC...hands down!</td>\n",
       "      <td>[]</td>\n",
       "      <td>[]</td>\n",
       "      <td>['NYChands']</td>\n",
       "      <td>41</td>\n",
       "      <td>0</td>\n",
       "      <td>1</td>\n",
       "      <td>...</td>\n",
       "      <td>4</td>\n",
       "      <td>0.076923</td>\n",
       "      <td>0.076923</td>\n",
       "      <td>0.00000</td>\n",
       "      <td>0.076923</td>\n",
       "      <td>0.000000</td>\n",
       "      <td>0.666667</td>\n",
       "      <td>0.000555</td>\n",
       "      <td>1</td>\n",
       "      <td>train</td>\n",
       "    </tr>\n",
       "    <tr>\n",
       "      <th>90904</th>\n",
       "      <td>90904</td>\n",
       "      <td>149108</td>\n",
       "      <td>841</td>\n",
       "      <td>Ok...I'm a little late to the game here. I've ...</td>\n",
       "      <td>['I', 'I', 'their', 'I', 'They', 'I', 'I']</td>\n",
       "      <td>['I', 'it', 'I', 'It', 'light', 'I', 'salad', ...</td>\n",
       "      <td>['game', 'times', 'Thighs', 'today', 'tables',...</td>\n",
       "      <td>653</td>\n",
       "      <td>14</td>\n",
       "      <td>14</td>\n",
       "      <td>...</td>\n",
       "      <td>4</td>\n",
       "      <td>0.076923</td>\n",
       "      <td>0.076923</td>\n",
       "      <td>0.00000</td>\n",
       "      <td>0.076923</td>\n",
       "      <td>0.000000</td>\n",
       "      <td>0.666667</td>\n",
       "      <td>0.002208</td>\n",
       "      <td>1</td>\n",
       "      <td>train</td>\n",
       "    </tr>\n",
       "    <tr>\n",
       "      <th>90905</th>\n",
       "      <td>90905</td>\n",
       "      <td>149108</td>\n",
       "      <td>920</td>\n",
       "      <td>Seriously the best brisket, ribs, and pulled p...</td>\n",
       "      <td>['I', 'I']</td>\n",
       "      <td>['ribs', 'I', 'I', 'meat']</td>\n",
       "      <td>['pork', 'Loved', 'onions', 'pickles', 'onions...</td>\n",
       "      <td>226</td>\n",
       "      <td>4</td>\n",
       "      <td>6</td>\n",
       "      <td>...</td>\n",
       "      <td>4</td>\n",
       "      <td>0.076923</td>\n",
       "      <td>0.076923</td>\n",
       "      <td>0.00000</td>\n",
       "      <td>0.076923</td>\n",
       "      <td>0.000000</td>\n",
       "      <td>0.666667</td>\n",
       "      <td>0.114286</td>\n",
       "      <td>1</td>\n",
       "      <td>train</td>\n",
       "    </tr>\n",
       "  </tbody>\n",
       "</table>\n",
       "<p>90906 rows × 62 columns</p>\n",
       "</div>"
      ],
      "text/plain": [
       "       index  Reviewer_id  Product_id  \\\n",
       "0          0          923           0   \n",
       "1          1          923          19   \n",
       "2          2          923          40   \n",
       "3          3          923          63   \n",
       "4          4          923          79   \n",
       "...      ...          ...         ...   \n",
       "90901  90901       146907         819   \n",
       "90902  90902       146907         909   \n",
       "90903  90903       149108         247   \n",
       "90904  90904       149108         841   \n",
       "90905  90905       149108         920   \n",
       "\n",
       "                                                  Text_x  \\\n",
       "0      The food at snack is a selection of popular Gr...   \n",
       "1      The restaurant is on the ground floor of a typ...   \n",
       "2      Really nice mousaka and lovely dÃ©cor inside. ...   \n",
       "3      I really enjoyed brunch at Jane. The ambiance ...   \n",
       "4      We ate at the Blue Ribbon with colleagues. The...   \n",
       "...                                                  ...   \n",
       "90901  just good food. Â sashimi was great quality an...   \n",
       "90902  Food...meh. Â Over sauced and unrefined. Â got...   \n",
       "90903      Best ramen and pork buns in NYC...hands down!   \n",
       "90904  Ok...I'm a little late to the game here. I've ...   \n",
       "90905  Seriously the best brisket, ribs, and pulled p...   \n",
       "\n",
       "                                          Tag_PRP_x  \\\n",
       "0                                            ['We']   \n",
       "1      ['You', 'it', 'you', 'it', 'I', 'they', 'I']   \n",
       "2                            ['I', 'my', 'It', 'I']   \n",
       "3                                      ['I', 'you']   \n",
       "4                                      ['We', 'it']   \n",
       "...                                             ...   \n",
       "90901                                            []   \n",
       "90902                                            []   \n",
       "90903                                            []   \n",
       "90904    ['I', 'I', 'their', 'I', 'They', 'I', 'I']   \n",
       "90905                                    ['I', 'I']   \n",
       "\n",
       "                                              SUB_Data_x  \\\n",
       "0                                 ['food', 'tray', 'it']   \n",
       "1      ['restaurant', 'You', 'you', 'it', 'menu', 're...   \n",
       "2            ['I', 'friend', 'lamb', 'It', 'which', 'I']   \n",
       "3      ['I', 'ambiance', 'food', 'you', 'it', 'Service']   \n",
       "4         ['We', 'strip', 'trout', 'what', 'food', 'it']   \n",
       "...                                                  ...   \n",
       "90901                             ['sashimi', 'onigiri']   \n",
       "90902                                   ['Over', 'that']   \n",
       "90903                                                 []   \n",
       "90904  ['I', 'it', 'I', 'It', 'light', 'I', 'salad', ...   \n",
       "90905                         ['ribs', 'I', 'I', 'meat']   \n",
       "\n",
       "                                              OBJ_Data_x  Sent_len_x  \\\n",
       "0                         ['snack', 'dishes', 'courses']         211   \n",
       "1      ['floor', 'Slope', 'it', 'choices', 'feel', 'r...         506   \n",
       "2      ['mousaka', 'starters', 'deserts', 'lagers', '...         227   \n",
       "3                             ['brunch', 'Jane', 'what']         164   \n",
       "4         ['Ribbon', 'colleagues', 'flavour', 'Service']         250   \n",
       "...                                                  ...         ...   \n",
       "90901                                                 []          80   \n",
       "90902                                 ['sauced', 'food']          92   \n",
       "90903                                       ['NYChands']          41   \n",
       "90904  ['game', 'times', 'Thighs', 'today', 'tables',...         653   \n",
       "90905  ['pork', 'Loved', 'onions', 'pickles', 'onions...         226   \n",
       "\n",
       "       SUB_Len_x  OBJ_Len_x  ...  ('Reviewer_Behavior_group_rank_common',)_y  \\\n",
       "0              3          3  ...                                           5   \n",
       "1              9         14  ...                                           5   \n",
       "2              6          5  ...                                           5   \n",
       "3              6          3  ...                                           5   \n",
       "4              6          4  ...                                           5   \n",
       "...          ...        ...  ...                                         ...   \n",
       "90901          2          0  ...                                           4   \n",
       "90902          2          2  ...                                           4   \n",
       "90903          0          1  ...                                           4   \n",
       "90904         14         14  ...                                           4   \n",
       "90905          4          6  ...                                           4   \n",
       "\n",
       "       ('Reviewer_Behavior_group_extreme_rating_ratio',)_y  \\\n",
       "0                                               0.132948     \n",
       "1                                               0.132948     \n",
       "2                                               0.132948     \n",
       "3                                               0.132948     \n",
       "4                                               0.132948     \n",
       "...                                                  ...     \n",
       "90901                                           0.100000     \n",
       "90902                                           0.100000     \n",
       "90903                                           0.076923     \n",
       "90904                                           0.076923     \n",
       "90905                                           0.076923     \n",
       "\n",
       "       ('Reviewer_Behavior_group_toprating_rating_ratio',)_y  \\\n",
       "0                                               0.132948       \n",
       "1                                               0.132948       \n",
       "2                                               0.132948       \n",
       "3                                               0.132948       \n",
       "4                                               0.132948       \n",
       "...                                                  ...       \n",
       "90901                                           0.100000       \n",
       "90902                                           0.100000       \n",
       "90903                                           0.076923       \n",
       "90904                                           0.076923       \n",
       "90905                                           0.076923       \n",
       "\n",
       "       ('Reviewer_Behavior_group_buttomrating_rating_ratio',)_y  \\\n",
       "0                                                0.00578          \n",
       "1                                                0.00578          \n",
       "2                                                0.00578          \n",
       "3                                                0.00578          \n",
       "4                                                0.00578          \n",
       "...                                                  ...          \n",
       "90901                                            0.10000          \n",
       "90902                                            0.10000          \n",
       "90903                                            0.00000          \n",
       "90904                                            0.00000          \n",
       "90905                                            0.00000          \n",
       "\n",
       "       ('Reviewer_Behavior_group_posrating_rating_ratio',)_y  \\\n",
       "0                                               0.132948       \n",
       "1                                               0.132948       \n",
       "2                                               0.132948       \n",
       "3                                               0.132948       \n",
       "4                                               0.132948       \n",
       "...                                                  ...       \n",
       "90901                                           0.100000       \n",
       "90902                                           0.100000       \n",
       "90903                                           0.076923       \n",
       "90904                                           0.076923       \n",
       "90905                                           0.076923       \n",
       "\n",
       "       ('Reviewer_Behavior_group_negrating_rating_ratio',)_y  \\\n",
       "0                                               0.017341       \n",
       "1                                               0.017341       \n",
       "2                                               0.017341       \n",
       "3                                               0.017341       \n",
       "4                                               0.017341       \n",
       "...                                                  ...       \n",
       "90901                                           0.000000       \n",
       "90902                                           0.000000       \n",
       "90903                                           0.000000       \n",
       "90904                                           0.000000       \n",
       "90905                                           0.000000       \n",
       "\n",
       "       Reviewer_Behavior_Early_Review_Ratio_y  \\\n",
       "0                                    0.256410   \n",
       "1                                    0.256410   \n",
       "2                                    0.256410   \n",
       "3                                    0.256410   \n",
       "4                                    0.256410   \n",
       "...                                       ...   \n",
       "90901                                0.666667   \n",
       "90902                                0.666667   \n",
       "90903                                0.666667   \n",
       "90904                                0.666667   \n",
       "90905                                0.666667   \n",
       "\n",
       "       Product_Behavior_Early_Review_Ratio  Label  data_type  \n",
       "0                                 0.010204     -1      train  \n",
       "1                                 0.030769     -1        val  \n",
       "2                                 0.004098     -1      train  \n",
       "3                                 0.009346     -1      train  \n",
       "4                                 0.009132     -1        val  \n",
       "...                                    ...    ...        ...  \n",
       "90901                             0.002538      1        val  \n",
       "90902                             0.009464      1      train  \n",
       "90903                             0.000555      1      train  \n",
       "90904                             0.002208      1      train  \n",
       "90905                             0.114286      1      train  \n",
       "\n",
       "[90906 rows x 62 columns]"
      ]
     },
     "execution_count": 32,
     "metadata": {},
     "output_type": "execute_result"
    }
   ],
   "source": [
    "dataset.reset_index()"
   ]
  },
  {
   "cell_type": "markdown",
   "id": "d8f50506",
   "metadata": {},
   "source": []
  },
  {
   "cell_type": "code",
   "execution_count": null,
   "id": "9f480a04",
   "metadata": {},
   "outputs": [],
   "source": []
  },
  {
   "cell_type": "code",
   "execution_count": null,
   "id": "4abacf20",
   "metadata": {},
   "outputs": [],
   "source": []
  },
  {
   "cell_type": "code",
   "execution_count": null,
   "id": "55befc15",
   "metadata": {},
   "outputs": [],
   "source": []
  },
  {
   "cell_type": "code",
   "execution_count": 701,
   "id": "2b558fea",
   "metadata": {},
   "outputs": [],
   "source": [
    "dataset = Product_Reviewer_Features_Label"
   ]
  },
  {
   "cell_type": "code",
   "execution_count": 31,
   "id": "02a5d3b4",
   "metadata": {},
   "outputs": [
    {
     "data": {
      "text/plain": [
       "Index(['Reviewer_id', 'Product_id', 'Date_x', 'Text', 'Count (P)_x', 'Rating',\n",
       "       'Label', 'Date_y', 'Count (P)_y'],\n",
       "      dtype='object')"
      ]
     },
     "execution_count": 31,
     "metadata": {},
     "output_type": "execute_result"
    }
   ],
   "source": [
    "Reveiw_centric_Text_feature.columns"
   ]
  },
  {
   "cell_type": "code",
   "execution_count": 9,
   "id": "2427612e",
   "metadata": {},
   "outputs": [
    {
     "name": "stderr",
     "output_type": "stream",
     "text": [
      "C:\\Users\\Harmony Chen\\anaconda3\\lib\\site-packages\\pandas\\core\\indexing.py:1720: SettingWithCopyWarning: \n",
      "A value is trying to be set on a copy of a slice from a DataFrame.\n",
      "Try using .loc[row_indexer,col_indexer] = value instead\n",
      "\n",
      "See the caveats in the documentation: https://pandas.pydata.org/pandas-docs/stable/user_guide/indexing.html#returning-a-view-versus-a-copy\n",
      "  self._setitem_single_column(loc, value, pi)\n"
     ]
    }
   ],
   "source": [
    "dataset = Reveiw_centric_Text_feature[[\"Text\",\"Label\"]]\n",
    "dataset.loc[dataset[\"Label\"]==-1,\"Label\"]=0"
   ]
  },
  {
   "cell_type": "code",
   "execution_count": 16,
   "id": "7e812657",
   "metadata": {},
   "outputs": [
    {
     "data": {
      "text/html": [
       "<div>\n",
       "<style scoped>\n",
       "    .dataframe tbody tr th:only-of-type {\n",
       "        vertical-align: middle;\n",
       "    }\n",
       "\n",
       "    .dataframe tbody tr th {\n",
       "        vertical-align: top;\n",
       "    }\n",
       "\n",
       "    .dataframe thead th {\n",
       "        text-align: right;\n",
       "    }\n",
       "</style>\n",
       "<table border=\"1\" class=\"dataframe\">\n",
       "  <thead>\n",
       "    <tr style=\"text-align: right;\">\n",
       "      <th></th>\n",
       "      <th>Text</th>\n",
       "      <th>Label</th>\n",
       "    </tr>\n",
       "  </thead>\n",
       "  <tbody>\n",
       "    <tr>\n",
       "      <th>0</th>\n",
       "      <td>The food at snack is a selection of popular Gr...</td>\n",
       "      <td>0</td>\n",
       "    </tr>\n",
       "    <tr>\n",
       "      <th>1</th>\n",
       "      <td>Snack is great place for a Â casual sit down l...</td>\n",
       "      <td>0</td>\n",
       "    </tr>\n",
       "    <tr>\n",
       "      <th>2</th>\n",
       "      <td>Love this place! Â Try the Chicken sandwich or...</td>\n",
       "      <td>0</td>\n",
       "    </tr>\n",
       "    <tr>\n",
       "      <th>3</th>\n",
       "      <td>My friend and I were intrigued by the nightly ...</td>\n",
       "      <td>0</td>\n",
       "    </tr>\n",
       "    <tr>\n",
       "      <th>4</th>\n",
       "      <td>For lunch, my friend and I had: -Lamb sandwich...</td>\n",
       "      <td>1</td>\n",
       "    </tr>\n",
       "  </tbody>\n",
       "</table>\n",
       "</div>"
      ],
      "text/plain": [
       "                                                Text  Label\n",
       "0  The food at snack is a selection of popular Gr...      0\n",
       "1  Snack is great place for a Â casual sit down l...      0\n",
       "2  Love this place! Â Try the Chicken sandwich or...      0\n",
       "3  My friend and I were intrigued by the nightly ...      0\n",
       "4  For lunch, my friend and I had: -Lamb sandwich...      1"
      ]
     },
     "execution_count": 16,
     "metadata": {},
     "output_type": "execute_result"
    }
   ],
   "source": [
    "dataset.head()"
   ]
  },
  {
   "cell_type": "code",
   "execution_count": 703,
   "id": "6b7057c2",
   "metadata": {},
   "outputs": [
    {
     "data": {
      "text/plain": [
       "Counter({0: 6889, 1: 6898})"
      ]
     },
     "execution_count": 703,
     "metadata": {},
     "output_type": "execute_result"
    }
   ],
   "source": [
    "data_ratio = 0.082 # select 10% of geniune geniune in original dataset with total spam samples\n",
    "random_seed = 100\n",
    "\n",
    "sampledataframe = dataset[dataset[\"Label\"]==0].sample(frac=data_ratio, random_state=random_seed)\n",
    "\n",
    "sampledataframe=pd.concat([sampledataframe,dataset[dataset[\"Label\"]==1]])\n",
    "\n",
    "Counter(sampledataframe[\"Label\"])"
   ]
  },
  {
   "cell_type": "code",
   "execution_count": 26,
   "id": "ca30b3b3",
   "metadata": {},
   "outputs": [],
   "source": [
    "review_corpus = []\n",
    "for index,row in train_dataframe.iterrows():\n",
    "    text = row['Text'].replace('...', '').replace('!', '').replace(\",\",'').replace(\".\",'')\n",
    "    review_corpus.append(text)"
   ]
  },
  {
   "cell_type": "code",
   "execution_count": 27,
   "id": "847b2a1a",
   "metadata": {},
   "outputs": [],
   "source": [
    "# process a text string into a list of tokens\n",
    "en_stop = set(nltk.corpus.stopwords.words('english'))\n",
    "def prepare_text_for_lda(text):\n",
    "    # convert all words into lower case, split by white space\n",
    "    tokens = text.strip().lower().split()\n",
    "    \n",
    "    #  remove words with 1 or 2 letters (small words, punctuation)\n",
    "    tokens = [token for token in tokens if len(token) > 2]\n",
    "    \n",
    "    # remove English stopwords (as defined by NLTK)\n",
    "    tokens = [token for token in tokens if token not in en_stop]\n",
    "    return tokens\n",
    "\n",
    "# convert the corpus into a sparse matrix format for gensim\n",
    "\n",
    "text_data = []\n",
    "for review in review_corpus:\n",
    "    review = prepare_text_for_lda(review)\n",
    "    text_data.append(review)"
   ]
  },
  {
   "cell_type": "code",
   "execution_count": 142,
   "id": "498e0c04",
   "metadata": {},
   "outputs": [
    {
     "data": {
      "text/plain": [
       "8272"
      ]
     },
     "execution_count": 142,
     "metadata": {},
     "output_type": "execute_result"
    }
   ],
   "source": [
    "len(review_corpus)"
   ]
  },
  {
   "cell_type": "code",
   "execution_count": 31,
   "id": "4140bec0",
   "metadata": {},
   "outputs": [],
   "source": [
    "def sent_to_words(sentences):\n",
    "    for sentence in sentences:\n",
    "        yield(gensim.utils.simple_preprocess(str(sentence), deacc=True))  # deacc=True removes punctuations\n",
    "data_words = list(sent_to_words(text_data))\n",
    "\n",
    "def make_bigrams(texts):\n",
    "    return [bigram_mod[doc] for doc in texts]\n",
    "def make_trigrams(texts):\n",
    "    return [trigram_mod[bigram_mod[doc]] for doc in texts]\n",
    "def lemmatization(texts, allowed_postags=['NOUN', 'ADJ', 'VERB', 'ADV']):\n",
    "    \"\"\"https://spacy.io/api/annotation\"\"\"\n",
    "    texts_out = []\n",
    "    for sent in texts:\n",
    "        doc = nlp(\" \".join(sent)) \n",
    "        texts_out.append([token.lemma_ for token in doc if token.pos_ in allowed_postags])\n",
    "    return texts_out"
   ]
  },
  {
   "cell_type": "code",
   "execution_count": 45,
   "id": "0e719c5a",
   "metadata": {
    "collapsed": true
   },
   "outputs": [
    {
     "name": "stdout",
     "output_type": "stream",
     "text": [
      "(0, '0.009*\"good\" + 0.009*\"delicious\" + 0.008*\"salad\" + 0.008*\"dish\" + 0.007*\"menu\" + 0.007*\"also\"')\n",
      "(1, '0.050*\"thai\" + 0.030*\"corn\" + 0.030*\"curry\" + 0.029*\"tacos\" + 0.017*\"mexican\" + 0.015*\"pad\"')\n",
      "(2, '0.015*\"crepe\" + 0.013*\"malaysian\" + 0.011*\"crepes\" + 0.009*\"parents\" + 0.008*\"exquisite\" + 0.008*\"3rd\"')\n",
      "(3, '0.013*\"spumoni\" + 0.009*\"squares\" + 0.009*\"petite\" + 0.009*\"shabu\" + 0.008*\"pickle\" + 0.006*\"(one\"')\n",
      "(4, '0.030*\"soba\" + 0.026*\"tea\" + 0.017*\"udon\" + 0.014*\"sake\" + 0.013*\"brulee\" + 0.012*\"creme\"')\n",
      "(5, '0.015*\"cards\" + 0.013*\"credit\" + 0.011*\"downtown\" + 0.009*\"bouley\" + 0.009*\"fave\" + 0.008*\"grand\"')\n",
      "(6, '0.013*\"like\" + 0.013*\"time\" + 0.011*\"one\" + 0.011*\"get\" + 0.008*\"would\" + 0.008*\"place\"')\n",
      "(7, '0.019*\"indian\" + 0.014*\"filipino\" + 0.014*\"arepas\" + 0.011*\"cuisine\" + 0.008*\"sisig\" + 0.006*\"urchin\"')\n",
      "(8, '0.023*\"pork\" + 0.018*\"dumplings\" + 0.016*\"soup\" + 0.013*\"rice\" + 0.012*\"beef\" + 0.011*\"noodles\"')\n",
      "(9, '0.013*\"alot\" + 0.010*\"macarons\" + 0.008*\"dream\" + 0.007*\"croque\" + 0.007*\"festive\" + 0.006*\"sons\"')\n",
      "(10, '0.031*\"food\" + 0.028*\"great\" + 0.024*\"place\" + 0.022*\"good\" + 0.016*\"service\" + 0.012*\"nice\"')\n",
      "(11, '0.234*\"pizza\" + 0.042*\"pie\" + 0.037*\"slice\" + 0.034*\"crust\" + 0.024*\"artichoke\" + 0.015*\"pizzas\"')\n",
      "(12, '0.038*\"food\" + 0.036*\"place\" + 0.031*\"good\" + 0.022*\"best\" + 0.018*\"great\" + 0.016*\"get\"')\n",
      "(13, '0.025*\"bone\" + 0.023*\"marrow\" + 0.010*\"cons:\" + 0.010*\"pros:\" + 0.006*\"maialino\" + 0.006*\"glazed\"')\n",
      "(14, '0.102*\"ramen\" + 0.044*\"pork\" + 0.038*\"japanese\" + 0.037*\"sushi\" + 0.030*\"broth\" + 0.030*\"buns\"')\n",
      "(15, '0.036*\"tavern\" + 0.017*\"gramercy\" + 0.015*\"burritos\" + 0.010*\"latin\" + 0.008*\"weak\" + 0.007*\"legendary\"')\n",
      "(16, '0.040*\"chicken\" + 0.029*\"sandwich\" + 0.024*\"sauce\" + 0.021*\"good\" + 0.015*\"cheese\" + 0.012*\"fried\"')\n",
      "(17, '0.032*\"brunch\" + 0.023*\"burger\" + 0.015*\"eggs\" + 0.012*\"fries\" + 0.009*\"good\" + 0.009*\"pancakes\"')\n",
      "(18, '0.014*\"halibut\" + 0.011*\"nachos\" + 0.010*\"lasagna\" + 0.008*\"paninis\" + 0.007*\"carnitas\" + 0.007*\"theres\"')\n",
      "(19, '0.037*\"korean\" + 0.025*\"sprouts\" + 0.021*\"free\" + 0.017*\"gluten\" + 0.014*\"paella\" + 0.013*\"consistent\"')\n"
     ]
    }
   ],
   "source": [
    "    \n",
    "# print(text_data)\n",
    "            \n",
    "dictionary = corpora.Dictionary(text_data)\n",
    "corpus = [dictionary.doc2bow(text) for text in text_data]\n",
    "\n",
    "# print(corpus)\n",
    "\n",
    "# train latent Dirichlet topic model\n",
    "\n",
    "NUM_TOPICS = 20\n",
    "ldamodel = gensim.models.ldamodel.LdaModel(corpus, num_topics = NUM_TOPICS, id2word=dictionary, passes=15)\n",
    "\n",
    "\n",
    "topics = ldamodel.print_topics(num_words=6)\n",
    "for topic in topics:\n",
    "    print(topic)"
   ]
  },
  {
   "cell_type": "code",
   "execution_count": 12,
   "id": "4bc57a89",
   "metadata": {},
   "outputs": [
    {
     "name": "stderr",
     "output_type": "stream",
     "text": [
      "C:\\Users\\Harmony Chen\\anaconda3\\lib\\site-packages\\gensim\\similarities\\__init__.py:15: UserWarning: The gensim.similarities.levenshtein submodule is disabled, because the optional Levenshtein package <https://pypi.org/project/python-Levenshtein/> is unavailable. Install Levenhstein (e.g. `pip install python-Levenshtein`) to suppress this warning.\n",
      "  warnings.warn(msg)\n"
     ]
    }
   ],
   "source": [
    "import spacy\n",
    "import gensim.corpora as corpora\n",
    "\n",
    "from gensim.utils import simple_preprocess"
   ]
  },
  {
   "cell_type": "code",
   "execution_count": 155,
   "id": "b0f1534d",
   "metadata": {},
   "outputs": [
    {
     "data": {
      "text/plain": [
       "8266"
      ]
     },
     "execution_count": 155,
     "metadata": {},
     "output_type": "execute_result"
    }
   ],
   "source": [
    "len(corpus)"
   ]
  },
  {
   "cell_type": "code",
   "execution_count": 152,
   "id": "82e8a556",
   "metadata": {},
   "outputs": [],
   "source": [
    "for cop in corpus:\n",
    "    if len(cop)==0:\n",
    "        #corpus.remove(cop)\n",
    "        print(\"1\")"
   ]
  },
  {
   "cell_type": "code",
   "execution_count": 33,
   "id": "9b42478f",
   "metadata": {},
   "outputs": [],
   "source": [
    "# Build the bigram and trigram models\n",
    "bigram = gensim.models.Phrases(data_words, min_count=5, threshold=100) # higher threshold fewer phrases.\n",
    "trigram = gensim.models.Phrases(bigram[data_words], threshold=100)\n",
    "# Faster way to get a sentence clubbed as a trigram/bigram\n",
    "bigram_mod = gensim.models.phrases.Phraser(bigram)\n",
    "trigram_mod = gensim.models.phrases.Phraser(trigram)"
   ]
  },
  {
   "cell_type": "code",
   "execution_count": 148,
   "id": "6865bc51",
   "metadata": {},
   "outputs": [
    {
     "name": "stdout",
     "output_type": "stream",
     "text": [
      "['first', 'visit', 'yuca', 'bar', 'say', 'great', 'place', 'happy', 'hour', 'cocktails', 'pm', 'since', 'went', 'thursday', 'couple', 'special', 'additions', 'brazilian', 'nights', 'guacamole', 'yum', 'calamari', 'frito', 'dipping', 'sauces', 'delicious', 'platano', 'relleno', 'good', 'could']\n"
     ]
    }
   ],
   "source": [
    "print(data_words[:1][0][:30])"
   ]
  },
  {
   "cell_type": "code",
   "execution_count": 34,
   "id": "1b3aa741",
   "metadata": {
    "scrolled": true
   },
   "outputs": [
    {
     "name": "stdout",
     "output_type": "stream",
     "text": [
      "[['first', 'visit', 'yuca', 'bar', 'say', 'great', 'place', 'happy_hour', 'cocktail', 'pm', 'go', 'thursday', 'couple', 'special', 'addition', 'brazilian', 'night', 'guacamole', 'calamari', 'frito', 'dipping_sauce', 'delicious', 'platano', 'relleno', 'good', 'use', 'salmon', 'ceviche', 'salmon', 'fresh', 'mangos', 'ripe', 'enough', 'ceviche', 'pinchos', 'varido', 'beef', 'skewer', 'mix', 'amazing', 'chicken', 'dry', 'chorizo', 'bad', 'order', 'beef', 'skewer', 'ala', 'carte', 'order', 'entire', 'dish', 'beef', 'skewer', 'beef', 'amazing', 'yuca', 'fry', 'amazing', 'chimmichurri', 'sauce', 'brazilian', 'menu', 'shrimp', 'octopus', 'steak', 'skewer', 'ocotopus', 'good', 'dish', 'menu', 'dessert', 'pina', 'colada', 'flan', 'bizcochitod', 'mango', 'delicious', 'filling', 'definitley', 'come', 'get', 'loud', 'think', 'add', 'ambiance', 'waitress', 'special']]\n"
     ]
    }
   ],
   "source": [
    "\n",
    "stop_words = stopwords.words('english')\n",
    "stop_words.extend(['from', 'subject', 're', 'edu', 'use'])\n",
    "# Define functions for stopwords, bigrams, trigrams and lemmatization\n",
    "def remove_stopwords(texts):\n",
    "    return [[word for word in simple_preprocess(str(doc)) if word not in stop_words] for doc in texts]\n",
    "# Remove Stop Words\n",
    "data_words_nostops = remove_stopwords(data_words)\n",
    "# Form Bigrams\n",
    "data_words_bigrams = make_bigrams(data_words_nostops)\n",
    "# Initialize spacy 'en' model, keeping only tagger component (for efficiency)\n",
    "nlp = spacy.load(\"en_core_web_sm\", disable=['parser', 'ner'])\n",
    "# Do lemmatization keeping only noun, adj, vb, adv\n",
    "data_lemmatized = lemmatization(data_words_bigrams, allowed_postags=['NOUN', 'ADJ', 'VERB', 'ADV'])\n",
    "for data in data_lemmatized:\n",
    "    if len(data) ==0:\n",
    "        data_lemmatized.remove(data)\n",
    "print(data_lemmatized[:1])"
   ]
  },
  {
   "cell_type": "code",
   "execution_count": 220,
   "id": "5345c38a",
   "metadata": {},
   "outputs": [
    {
     "name": "stderr",
     "output_type": "stream",
     "text": [
      "C:\\Users\\Harmony Chen\\anaconda3\\lib\\site-packages\\ipykernel\\ipkernel.py:287: DeprecationWarning: `should_run_async` will not call `transform_cell` automatically in the future. Please pass the result to `transformed_cell` argument and any exception that happen during thetransform in `preprocessing_exc_tuple` in IPython 7.17 and above.\n",
      "  and should_run_async(code)\n"
     ]
    }
   ],
   "source": [
    "def preprocess_for_lda(text):\n",
    "    data_words = list(gensim.utils.simple_preprocess(str(text), deacc=True))\n",
    "    # Remove Stop Words\n",
    "    data_words_nostops = remove_stopwords(data_words)\n",
    "    # Form Bigrams\n",
    "    data_words_bigrams = make_bigrams(data_words_nostops)\n",
    "    data_lemmatized = lemmatization(data_words_bigrams, allowed_postags=['NOUN', 'ADJ', 'VERB', 'ADV'])\n",
    "    return data_lemmatized"
   ]
  },
  {
   "cell_type": "code",
   "execution_count": 35,
   "id": "a8d1fd43",
   "metadata": {
    "scrolled": true
   },
   "outputs": [
    {
     "name": "stdout",
     "output_type": "stream",
     "text": [
      "[[(0, 1), (1, 1), (2, 1), (3, 3), (4, 1), (5, 1), (6, 1), (7, 4), (8, 1), (9, 2), (10, 1), (11, 1), (12, 2), (13, 1), (14, 1), (15, 1), (16, 1), (17, 1), (18, 1), (19, 1), (20, 1), (21, 2), (22, 1), (23, 1), (24, 2), (25, 1), (26, 1), (27, 1), (28, 1), (29, 1), (30, 1), (31, 1), (32, 1), (33, 1), (34, 1), (35, 1), (36, 2), (37, 1), (38, 1), (39, 1), (40, 1), (41, 1), (42, 1), (43, 2), (44, 1), (45, 1), (46, 1), (47, 1), (48, 2), (49, 1), (50, 1), (51, 1), (52, 1), (53, 1), (54, 1), (55, 1), (56, 2), (57, 1), (58, 1), (59, 1), (60, 4), (61, 2), (62, 1), (63, 1), (64, 1), (65, 1), (66, 1), (67, 1), (68, 1), (69, 2)]]\n"
     ]
    }
   ],
   "source": [
    "id2word = corpora.Dictionary(data_lemmatized)\n",
    "# Create Corpus\n",
    "texts = data_lemmatized\n",
    "# Term Document Frequency\n",
    "corpus = [id2word.doc2bow(text) for text in texts]\n",
    "# View\n",
    "print(corpus[:1])"
   ]
  },
  {
   "cell_type": "code",
   "execution_count": 151,
   "id": "cf01d0e8",
   "metadata": {},
   "outputs": [
    {
     "data": {
      "text/plain": [
       "8266"
      ]
     },
     "execution_count": 151,
     "metadata": {},
     "output_type": "execute_result"
    }
   ],
   "source": [
    "len(data_lemmatized)"
   ]
  },
  {
   "cell_type": "code",
   "execution_count": 128,
   "id": "d907a757",
   "metadata": {},
   "outputs": [],
   "source": [
    "from gensim.models import CoherenceModel\n"
   ]
  },
  {
   "cell_type": "code",
   "execution_count": 157,
   "id": "721daf1c",
   "metadata": {},
   "outputs": [],
   "source": [
    "# supporting function\n",
    "def compute_coherence_values(corpus, dictionary, k, a, b):\n",
    "    \n",
    "    lda_model = gensim.models.LdaMulticore(corpus=corpus,\n",
    "                                           id2word=dictionary,\n",
    "                                           num_topics=k, \n",
    "                                           random_state=100,\n",
    "                                           chunksize=100,\n",
    "                                           passes=10,\n",
    "                                           alpha=a,\n",
    "                                           eta=b)\n",
    "    \n",
    "    coherence_model_lda = CoherenceModel(model=lda_model, texts=data_lemmatized, dictionary=id2word, coherence='c_v')\n",
    "    \n",
    "    return coherence_model_lda.get_coherence()"
   ]
  },
  {
   "cell_type": "code",
   "execution_count": 158,
   "id": "94299bd1",
   "metadata": {
    "collapsed": true
   },
   "outputs": [
    {
     "name": "stderr",
     "output_type": "stream",
     "text": [
      "\n",
      "  0%|                                                                                          | 0/540 [00:00<?, ?it/s]\u001b[A\n",
      "  0%|▏                                                                               | 1/540 [00:19<2:58:20, 19.85s/it]\u001b[A\n",
      "  0%|▎                                                                               | 2/540 [00:39<2:54:37, 19.47s/it]\u001b[A\n",
      "  1%|▍                                                                               | 3/540 [00:57<2:48:49, 18.86s/it]\u001b[A\n",
      "  1%|▌                                                                               | 4/540 [01:14<2:42:24, 18.18s/it]\u001b[A\n",
      "  1%|▋                                                                               | 5/540 [01:33<2:46:30, 18.67s/it]\u001b[A\n",
      "  1%|▉                                                                               | 6/540 [01:54<2:53:10, 19.46s/it]\u001b[A\n",
      "  1%|█                                                                               | 7/540 [02:15<2:55:09, 19.72s/it]\u001b[A\n",
      "  1%|█▏                                                                              | 8/540 [02:34<2:54:17, 19.66s/it]\u001b[A\n",
      "  2%|█▎                                                                              | 9/540 [02:52<2:48:52, 19.08s/it]\u001b[A\n",
      "  2%|█▍                                                                             | 10/540 [03:12<2:51:37, 19.43s/it]\u001b[A\n",
      "  2%|█▌                                                                             | 11/540 [03:33<2:54:09, 19.75s/it]\u001b[A\n",
      "  2%|█▊                                                                             | 12/540 [03:53<2:55:55, 19.99s/it]\u001b[A\n",
      "  2%|█▉                                                                             | 13/540 [04:13<2:55:24, 19.97s/it]\u001b[A\n",
      "  3%|██                                                                             | 14/540 [04:32<2:50:56, 19.50s/it]\u001b[A\n",
      "  3%|██▏                                                                            | 15/540 [04:52<2:53:02, 19.78s/it]\u001b[A\n",
      "  3%|██▎                                                                            | 16/540 [05:12<2:52:56, 19.80s/it]\u001b[A\n",
      "  3%|██▍                                                                            | 17/540 [05:32<2:53:07, 19.86s/it]\u001b[A\n",
      "  3%|██▋                                                                            | 18/540 [05:52<2:53:11, 19.91s/it]\u001b[A\n",
      "  4%|██▊                                                                            | 19/540 [06:11<2:49:48, 19.56s/it]\u001b[A\n",
      "  4%|██▉                                                                            | 20/540 [06:30<2:50:20, 19.65s/it]\u001b[A\n",
      "  4%|███                                                                            | 21/540 [06:51<2:51:24, 19.82s/it]\u001b[A\n",
      "  4%|███▏                                                                           | 22/540 [07:10<2:50:37, 19.76s/it]\u001b[A\n",
      "  4%|███▎                                                                           | 23/540 [07:29<2:47:13, 19.41s/it]\u001b[A\n",
      "  4%|███▌                                                                           | 24/540 [07:46<2:41:55, 18.83s/it]\u001b[A\n",
      "  5%|███▋                                                                           | 25/540 [08:06<2:43:36, 19.06s/it]\u001b[A\n",
      "  5%|███▊                                                                           | 26/540 [08:26<2:45:55, 19.37s/it]\u001b[A\n",
      "  5%|███▉                                                                           | 27/540 [08:46<2:46:24, 19.46s/it]\u001b[A\n",
      "  5%|████                                                                           | 28/540 [09:05<2:46:09, 19.47s/it]\u001b[A\n",
      "  5%|████▏                                                                          | 29/540 [09:25<2:45:38, 19.45s/it]\u001b[A\n",
      "  6%|████▍                                                                          | 30/540 [09:44<2:45:42, 19.50s/it]\u001b[A\n",
      "  6%|████▌                                                                          | 31/540 [10:05<2:49:47, 20.02s/it]\u001b[A\n",
      "  6%|████▋                                                                          | 32/540 [10:26<2:50:11, 20.10s/it]\u001b[A\n",
      "  6%|████▊                                                                          | 33/540 [10:45<2:47:29, 19.82s/it]\u001b[A\n",
      "  6%|████▉                                                                          | 34/540 [11:03<2:42:40, 19.29s/it]\u001b[A\n",
      "  6%|█████                                                                          | 35/540 [11:23<2:45:29, 19.66s/it]\u001b[A\n",
      "  7%|█████▎                                                                         | 36/540 [11:45<2:50:54, 20.35s/it]\u001b[A\n",
      "  7%|█████▍                                                                         | 37/540 [12:06<2:51:52, 20.50s/it]\u001b[A\n",
      "  7%|█████▌                                                                         | 38/540 [12:27<2:51:56, 20.55s/it]\u001b[A\n",
      "  7%|█████▋                                                                         | 39/540 [12:46<2:48:35, 20.19s/it]\u001b[A\n",
      "  7%|█████▊                                                                         | 40/540 [13:07<2:50:25, 20.45s/it]\u001b[A\n",
      "  8%|█████▉                                                                         | 41/540 [13:29<2:52:39, 20.76s/it]\u001b[A\n",
      "  8%|██████▏                                                                        | 42/540 [13:50<2:52:47, 20.82s/it]\u001b[A\n",
      "  8%|██████▎                                                                        | 43/540 [14:10<2:50:26, 20.58s/it]\u001b[A\n",
      "  8%|██████▍                                                                        | 44/540 [14:28<2:44:49, 19.94s/it]\u001b[A\n",
      "  8%|██████▌                                                                        | 45/540 [14:49<2:47:11, 20.27s/it]\u001b[A\n",
      "  9%|██████▋                                                                        | 46/540 [15:10<2:47:25, 20.33s/it]\u001b[A\n",
      " 34%|█████████████████████████▊                                                  | 183/540 [1:54:03<3:42:31, 37.40s/it]\u001b[A\n",
      "  0%|                                                                                          | 0/540 [16:50<?, ?it/s]\n",
      "\n",
      "  9%|███████                                                                        | 48/540 [15:50<2:45:34, 20.19s/it]\u001b[A\n",
      "  9%|███████▏                                                                       | 49/540 [16:08<2:40:29, 19.61s/it]\u001b[A\n",
      "  9%|███████▎                                                                       | 50/540 [16:28<2:41:27, 19.77s/it]\u001b[A\n",
      "  9%|███████▍                                                                       | 51/540 [16:50<2:44:31, 20.19s/it]\u001b[A\n",
      " 10%|███████▌                                                                       | 52/540 [17:10<2:44:11, 20.19s/it]\u001b[A\n",
      " 10%|███████▊                                                                       | 53/540 [17:29<2:41:21, 19.88s/it]\u001b[A\n",
      " 10%|███████▉                                                                       | 54/540 [17:47<2:36:20, 19.30s/it]\u001b[A\n",
      " 10%|████████                                                                       | 55/540 [18:07<2:37:56, 19.54s/it]\u001b[A\n",
      " 10%|████████▏                                                                      | 56/540 [18:28<2:40:59, 19.96s/it]\u001b[A\n",
      " 11%|████████▎                                                                      | 57/540 [18:47<2:39:23, 19.80s/it]\u001b[A\n",
      " 11%|████████▍                                                                      | 58/540 [19:06<2:36:45, 19.51s/it]\u001b[A\n",
      " 11%|████████▋                                                                      | 59/540 [19:25<2:33:56, 19.20s/it]\u001b[A\n",
      " 11%|████████▊                                                                      | 60/540 [19:45<2:35:51, 19.48s/it]\u001b[A\n",
      " 11%|████████▉                                                                      | 61/540 [20:08<2:44:05, 20.56s/it]\u001b[A\n",
      " 11%|█████████                                                                      | 62/540 [20:29<2:44:55, 20.70s/it]\u001b[A\n",
      " 12%|█████████▏                                                                     | 63/540 [20:49<2:42:15, 20.41s/it]\u001b[A\n",
      " 12%|█████████▎                                                                     | 64/540 [21:07<2:38:11, 19.94s/it]\u001b[A\n",
      " 12%|█████████▌                                                                     | 65/540 [21:29<2:42:38, 20.54s/it]\u001b[A\n",
      " 12%|█████████▋                                                                     | 66/540 [21:53<2:49:42, 21.48s/it]\u001b[A\n",
      " 12%|█████████▊                                                                     | 67/540 [22:15<2:49:46, 21.54s/it]\u001b[A\n",
      " 13%|█████████▉                                                                     | 68/540 [22:35<2:46:51, 21.21s/it]\u001b[A\n",
      " 13%|██████████                                                                     | 69/540 [22:55<2:42:46, 20.74s/it]\u001b[A\n",
      " 13%|██████████▏                                                                    | 70/540 [23:17<2:46:21, 21.24s/it]\u001b[A\n",
      " 13%|██████████▍                                                                    | 71/540 [23:40<2:49:42, 21.71s/it]\u001b[A\n",
      " 13%|██████████▌                                                                    | 72/540 [24:01<2:48:45, 21.64s/it]\u001b[A\n",
      " 14%|██████████▋                                                                    | 73/540 [24:22<2:45:59, 21.33s/it]\u001b[A\n",
      " 14%|██████████▊                                                                    | 74/540 [24:42<2:41:26, 20.79s/it]\u001b[A\n",
      " 14%|██████████▉                                                                    | 75/540 [25:03<2:43:35, 21.11s/it]\u001b[A\n",
      " 14%|███████████                                                                    | 76/540 [25:25<2:44:43, 21.30s/it]\u001b[A\n",
      " 14%|███████████▎                                                                   | 77/540 [25:46<2:43:49, 21.23s/it]\u001b[A\n",
      " 14%|███████████▍                                                                   | 78/540 [26:06<2:41:07, 20.92s/it]\u001b[A\n",
      " 15%|███████████▌                                                                   | 79/540 [26:26<2:36:25, 20.36s/it]\u001b[A\n",
      " 15%|███████████▋                                                                   | 80/540 [26:46<2:37:05, 20.49s/it]\u001b[A\n",
      " 15%|███████████▊                                                                   | 81/540 [27:09<2:41:45, 21.14s/it]\u001b[A\n",
      " 15%|███████████▉                                                                   | 82/540 [27:30<2:40:51, 21.07s/it]\u001b[A\n",
      " 15%|████████████▏                                                                  | 83/540 [27:50<2:37:44, 20.71s/it]\u001b[A\n",
      " 16%|████████████▎                                                                  | 84/540 [28:09<2:33:11, 20.16s/it]\u001b[A\n",
      " 16%|████████████▍                                                                  | 85/540 [28:30<2:36:29, 20.64s/it]\u001b[A\n",
      " 16%|████████████▌                                                                  | 86/540 [28:53<2:40:36, 21.23s/it]\u001b[A\n",
      " 16%|████████████▋                                                                  | 87/540 [29:13<2:37:40, 20.88s/it]\u001b[A\n",
      " 16%|████████████▊                                                                  | 88/540 [29:32<2:33:49, 20.42s/it]\u001b[A\n",
      " 16%|█████████████                                                                  | 89/540 [29:52<2:30:37, 20.04s/it]\u001b[A\n",
      " 17%|█████████████▏                                                                 | 90/540 [30:13<2:33:40, 20.49s/it]\u001b[A\n",
      " 17%|█████████████▎                                                                 | 91/540 [30:38<2:42:33, 21.72s/it]\u001b[A\n",
      " 17%|█████████████▍                                                                 | 92/540 [31:00<2:43:58, 21.96s/it]\u001b[A\n",
      " 17%|█████████████▌                                                                 | 93/540 [31:21<2:41:58, 21.74s/it]\u001b[A\n",
      " 17%|█████████████▊                                                                 | 94/540 [31:42<2:38:18, 21.30s/it]\u001b[A\n",
      " 18%|█████████████▉                                                                 | 95/540 [32:05<2:42:26, 21.90s/it]\u001b[A\n",
      " 18%|██████████████                                                                 | 96/540 [32:30<2:49:54, 22.96s/it]\u001b[A\n",
      " 18%|██████████████▏                                                                | 97/540 [32:54<2:49:52, 23.01s/it]\u001b[A\n",
      " 18%|██████████████▎                                                                | 98/540 [33:15<2:46:44, 22.63s/it]\u001b[A\n",
      " 18%|██████████████▍                                                                | 99/540 [33:36<2:41:41, 22.00s/it]\u001b[A\n",
      " 19%|██████████████▍                                                               | 100/540 [33:59<2:44:23, 22.42s/it]\u001b[A\n",
      " 19%|██████████████▌                                                               | 101/540 [34:23<2:46:41, 22.78s/it]\u001b[A\n",
      " 19%|██████████████▋                                                               | 102/540 [34:45<2:45:24, 22.66s/it]\u001b[A\n",
      " 19%|██████████████▉                                                               | 103/540 [35:07<2:43:31, 22.45s/it]\u001b[A\n",
      " 19%|███████████████                                                               | 104/540 [35:29<2:41:57, 22.29s/it]\u001b[A\n",
      " 19%|███████████████▏                                                              | 105/540 [35:52<2:42:31, 22.42s/it]\u001b[A\n",
      " 20%|███████████████▎                                                              | 106/540 [36:14<2:41:18, 22.30s/it]\u001b[A\n",
      " 20%|███████████████▍                                                              | 107/540 [36:35<2:38:44, 22.00s/it]\u001b[A\n",
      " 20%|███████████████▌                                                              | 108/540 [36:55<2:34:43, 21.49s/it]\u001b[A\n",
      " 20%|███████████████▋                                                              | 109/540 [37:15<2:30:27, 20.95s/it]\u001b[A\n",
      " 20%|███████████████▉                                                              | 110/540 [37:37<2:31:35, 21.15s/it]\u001b[A\n",
      " 21%|████████████████                                                              | 111/540 [38:01<2:37:34, 22.04s/it]\u001b[A\n",
      " 21%|████████████████▏                                                             | 112/540 [38:23<2:37:16, 22.05s/it]\u001b[A\n",
      " 21%|████████████████▎                                                             | 113/540 [38:44<2:35:09, 21.80s/it]\u001b[A\n",
      " 21%|████████████████▍                                                             | 114/540 [39:04<2:30:56, 21.26s/it]\u001b[A\n",
      " 21%|████████████████▌                                                             | 115/540 [39:27<2:33:32, 21.68s/it]\u001b[A\n",
      " 21%|████████████████▊                                                             | 116/540 [39:51<2:38:57, 22.49s/it]\u001b[A\n",
      " 22%|████████████████▉                                                             | 117/540 [40:12<2:35:22, 22.04s/it]\u001b[A\n",
      " 22%|█████████████████                                                             | 118/540 [40:32<2:31:10, 21.49s/it]\u001b[A\n",
      " 22%|█████████████████▏                                                            | 119/540 [40:52<2:27:32, 21.03s/it]\u001b[A\n",
      " 22%|█████████████████▎                                                            | 120/540 [41:15<2:30:13, 21.46s/it]\u001b[A\n",
      " 22%|█████████████████▍                                                            | 121/540 [41:41<2:39:48, 22.88s/it]\u001b[A\n",
      " 23%|█████████████████▌                                                            | 122/540 [42:05<2:41:38, 23.20s/it]\u001b[A\n",
      " 23%|█████████████████▊                                                            | 123/540 [42:28<2:41:52, 23.29s/it]\u001b[A\n",
      " 23%|█████████████████▉                                                            | 124/540 [42:50<2:38:31, 22.87s/it]\u001b[A\n",
      " 23%|██████████████████                                                            | 125/540 [43:14<2:40:33, 23.21s/it]\u001b[A\n",
      " 23%|██████████████████▏                                                           | 126/540 [43:41<2:47:32, 24.28s/it]\u001b[A\n",
      " 24%|██████████████████▎                                                           | 127/540 [44:05<2:46:40, 24.21s/it]\u001b[A\n",
      " 24%|██████████████████▍                                                           | 128/540 [44:29<2:45:31, 24.11s/it]\u001b[A\n",
      " 24%|██████████████████▋                                                           | 129/540 [44:52<2:43:42, 23.90s/it]\u001b[A\n",
      " 24%|██████████████████▊                                                           | 130/540 [45:17<2:45:01, 24.15s/it]\u001b[A\n"
     ]
    },
    {
     "name": "stderr",
     "output_type": "stream",
     "text": [
      " 24%|██████████████████▉                                                           | 131/540 [45:42<2:46:32, 24.43s/it]\u001b[A\n",
      " 24%|███████████████████                                                           | 132/540 [46:06<2:43:40, 24.07s/it]\u001b[A\n",
      " 25%|███████████████████▏                                                          | 133/540 [46:27<2:38:28, 23.36s/it]\u001b[A\n",
      " 25%|███████████████████▎                                                          | 134/540 [46:48<2:33:38, 22.71s/it]\u001b[A\n",
      " 25%|███████████████████▌                                                          | 135/540 [47:12<2:35:32, 23.04s/it]\u001b[A\n",
      " 25%|███████████████████▋                                                          | 136/540 [47:36<2:36:51, 23.30s/it]\u001b[A\n",
      " 25%|███████████████████▊                                                          | 137/540 [47:58<2:34:21, 22.98s/it]\u001b[A\n",
      " 26%|███████████████████▉                                                          | 138/540 [48:19<2:29:39, 22.34s/it]\u001b[A\n",
      " 26%|████████████████████                                                          | 139/540 [48:40<2:25:53, 21.83s/it]\u001b[A\n",
      " 26%|████████████████████▏                                                         | 140/540 [49:02<2:27:05, 22.06s/it]\u001b[A\n",
      " 26%|████████████████████▎                                                         | 141/540 [49:29<2:34:50, 23.28s/it]\u001b[A\n",
      " 26%|████████████████████▌                                                         | 142/540 [49:52<2:35:16, 23.41s/it]\u001b[A\n",
      " 26%|████████████████████▋                                                         | 143/540 [50:15<2:33:42, 23.23s/it]\u001b[A\n",
      " 27%|████████████████████▊                                                         | 144/540 [50:38<2:31:59, 23.03s/it]\u001b[A\n",
      " 27%|████████████████████▉                                                         | 145/540 [51:01<2:32:29, 23.16s/it]\u001b[A\n",
      " 27%|█████████████████████                                                         | 146/540 [51:27<2:37:14, 23.95s/it]\u001b[A\n",
      " 27%|█████████████████████▏                                                        | 147/540 [51:49<2:33:29, 23.43s/it]\u001b[A\n",
      " 27%|█████████████████████▍                                                        | 148/540 [52:10<2:27:53, 22.64s/it]\u001b[A\n",
      " 28%|█████████████████████▌                                                        | 149/540 [52:31<2:23:30, 22.02s/it]\u001b[A\n",
      " 28%|█████████████████████▋                                                        | 150/540 [52:54<2:26:18, 22.51s/it]\u001b[A\n",
      " 28%|█████████████████████▊                                                        | 151/540 [53:16<2:23:40, 22.16s/it]\u001b[A\n",
      " 28%|█████████████████████▉                                                        | 152/540 [53:36<2:20:23, 21.71s/it]\u001b[A\n",
      " 28%|██████████████████████                                                        | 153/540 [53:56<2:16:29, 21.16s/it]\u001b[A\n",
      " 29%|██████████████████████▏                                                       | 154/540 [54:14<2:10:31, 20.29s/it]\u001b[A\n",
      " 29%|██████████████████████▍                                                       | 155/540 [54:35<2:10:55, 20.40s/it]\u001b[A\n",
      " 29%|██████████████████████▌                                                       | 156/540 [54:57<2:13:48, 20.91s/it]\u001b[A\n",
      " 29%|██████████████████████▋                                                       | 157/540 [55:19<2:15:10, 21.18s/it]\u001b[A\n",
      " 29%|██████████████████████▊                                                       | 158/540 [55:40<2:14:56, 21.19s/it]\u001b[A\n",
      " 29%|██████████████████████▉                                                       | 159/540 [55:59<2:11:09, 20.66s/it]\u001b[A\n",
      " 30%|███████████████████████                                                       | 160/540 [56:21<2:12:52, 20.98s/it]\u001b[A\n",
      " 30%|███████████████████████▎                                                      | 161/540 [56:43<2:14:47, 21.34s/it]\u001b[A\n",
      " 30%|███████████████████████▍                                                      | 162/540 [57:06<2:16:08, 21.61s/it]\u001b[A\n",
      " 30%|███████████████████████▌                                                      | 163/540 [57:28<2:16:42, 21.76s/it]\u001b[A\n",
      " 30%|███████████████████████▋                                                      | 164/540 [57:48<2:14:20, 21.44s/it]\u001b[A\n",
      " 31%|███████████████████████▊                                                      | 165/540 [58:11<2:15:18, 21.65s/it]\u001b[A\n",
      " 31%|███████████████████████▉                                                      | 166/540 [58:32<2:14:08, 21.52s/it]\u001b[A\n",
      " 31%|████████████████████████                                                      | 167/540 [58:53<2:13:13, 21.43s/it]\u001b[A\n",
      " 31%|████████████████████████▎                                                     | 168/540 [59:14<2:12:32, 21.38s/it]\u001b[A\n",
      " 31%|████████████████████████▍                                                     | 169/540 [59:35<2:11:35, 21.28s/it]\u001b[A\n",
      " 31%|████████████████████████▌                                                     | 170/540 [59:56<2:10:55, 21.23s/it]\u001b[A\n",
      " 32%|████████████████████████                                                    | 171/540 [1:00:18<2:11:24, 21.37s/it]\u001b[A\n",
      " 32%|████████████████████████▏                                                   | 172/540 [1:00:39<2:10:46, 21.32s/it]\u001b[A\n",
      " 32%|████████████████████████▎                                                   | 173/540 [1:01:00<2:08:47, 21.06s/it]\u001b[A\n",
      " 32%|████████████████████████▍                                                   | 174/540 [1:01:19<2:04:19, 20.38s/it]\u001b[A\n",
      " 32%|████████████████████████▋                                                   | 175/540 [1:01:40<2:05:35, 20.64s/it]\u001b[A\n",
      " 33%|████████████████████████▊                                                   | 176/540 [1:02:02<2:07:20, 20.99s/it]\u001b[A\n",
      " 33%|████████████████████████▉                                                   | 177/540 [1:02:23<2:07:34, 21.09s/it]\u001b[A\n",
      " 33%|█████████████████████████                                                   | 178/540 [1:02:44<2:07:17, 21.10s/it]\u001b[A\n",
      " 33%|█████████████████████████▏                                                  | 179/540 [1:03:05<2:06:42, 21.06s/it]\u001b[A\n",
      " 33%|█████████████████████████▎                                                  | 180/540 [1:03:26<2:06:39, 21.11s/it]\u001b[A\n",
      " 34%|█████████████████████████▍                                                  | 181/540 [1:03:50<2:10:26, 21.80s/it]\u001b[A\n",
      " 34%|█████████████████████████▌                                                  | 182/540 [1:04:12<2:10:49, 21.92s/it]\u001b[A\n",
      " 34%|█████████████████████████▊                                                  | 183/540 [1:04:33<2:08:49, 21.65s/it]\u001b[A\n",
      " 34%|█████████████████████████▉                                                  | 184/540 [1:04:53<2:05:34, 21.17s/it]\u001b[A\n",
      " 34%|██████████████████████████                                                  | 185/540 [1:05:15<2:07:21, 21.53s/it]\u001b[A\n",
      " 34%|██████████████████████████▏                                                 | 186/540 [1:05:39<2:11:33, 22.30s/it]\u001b[A\n",
      " 35%|██████████████████████████▎                                                 | 187/540 [1:06:02<2:12:20, 22.49s/it]\u001b[A\n",
      " 35%|██████████████████████████▍                                                 | 188/540 [1:06:25<2:11:33, 22.42s/it]\u001b[A\n",
      " 35%|██████████████████████████▌                                                 | 189/540 [1:06:46<2:09:01, 22.05s/it]\u001b[A\n",
      " 35%|██████████████████████████▋                                                 | 190/540 [1:07:09<2:10:43, 22.41s/it]\u001b[A\n",
      " 35%|██████████████████████████▉                                                 | 191/540 [1:07:32<2:11:53, 22.67s/it]\u001b[A\n",
      " 36%|███████████████████████████                                                 | 192/540 [1:07:55<2:11:40, 22.70s/it]\u001b[A\n",
      " 36%|███████████████████████████▏                                                | 193/540 [1:08:17<2:10:09, 22.51s/it]\u001b[A\n",
      " 36%|███████████████████████████▎                                                | 194/540 [1:08:38<2:06:57, 22.02s/it]\u001b[A\n",
      " 36%|███████████████████████████▍                                                | 195/540 [1:09:01<2:07:54, 22.24s/it]\u001b[A\n",
      " 36%|███████████████████████████▌                                                | 196/540 [1:09:23<2:07:29, 22.24s/it]\u001b[A\n",
      " 36%|███████████████████████████▋                                                | 197/540 [1:09:45<2:06:24, 22.11s/it]\u001b[A\n",
      " 37%|███████████████████████████▊                                                | 198/540 [1:10:07<2:05:17, 21.98s/it]\u001b[A\n",
      " 37%|████████████████████████████                                                | 199/540 [1:10:27<2:02:11, 21.50s/it]\u001b[A\n",
      " 37%|████████████████████████████▏                                               | 200/540 [1:10:48<2:01:57, 21.52s/it]\u001b[A\n",
      " 37%|████████████████████████████▎                                               | 201/540 [1:11:12<2:04:38, 22.06s/it]\u001b[A\n",
      " 37%|████████████████████████████▍                                               | 202/540 [1:11:34<2:04:11, 22.05s/it]\u001b[A\n",
      " 38%|████████████████████████████▌                                               | 203/540 [1:11:55<2:01:49, 21.69s/it]\u001b[A\n",
      " 38%|████████████████████████████▋                                               | 204/540 [1:12:15<1:58:37, 21.18s/it]\u001b[A\n",
      " 38%|████████████████████████████▊                                               | 205/540 [1:12:37<1:59:49, 21.46s/it]\u001b[A\n",
      " 38%|████████████████████████████▉                                               | 206/540 [1:13:00<2:02:34, 22.02s/it]\u001b[A\n",
      " 38%|█████████████████████████████▏                                              | 207/540 [1:13:21<2:00:59, 21.80s/it]\u001b[A\n",
      " 39%|█████████████████████████████▎                                              | 208/540 [1:13:42<1:59:03, 21.52s/it]\u001b[A\n",
      " 39%|█████████████████████████████▍                                              | 209/540 [1:14:03<1:56:47, 21.17s/it]\u001b[A\n",
      " 39%|█████████████████████████████▌                                              | 210/540 [1:14:25<1:57:45, 21.41s/it]\u001b[A\n",
      " 39%|█████████████████████████████▋                                              | 211/540 [1:14:50<2:03:45, 22.57s/it]\u001b[A\n",
      " 39%|█████████████████████████████▊                                              | 212/540 [1:15:13<2:04:33, 22.79s/it]\u001b[A\n",
      " 39%|█████████████████████████████▉                                              | 213/540 [1:15:35<2:02:46, 22.53s/it]\u001b[A\n",
      " 40%|██████████████████████████████                                              | 214/540 [1:15:56<1:59:34, 22.01s/it]\u001b[A\n",
      " 40%|██████████████████████████████▎                                             | 215/540 [1:16:20<2:02:18, 22.58s/it]\u001b[A\n",
      " 40%|██████████████████████████████▍                                             | 216/540 [1:16:46<2:07:22, 23.59s/it]\u001b[A\n",
      " 40%|██████████████████████████████▌                                             | 217/540 [1:17:10<2:07:40, 23.72s/it]\u001b[A\n",
      " 40%|██████████████████████████████▋                                             | 218/540 [1:17:33<2:05:56, 23.47s/it]\u001b[A\n",
      " 41%|██████████████████████████████▊                                             | 219/540 [1:17:54<2:02:41, 22.93s/it]\u001b[A\n",
      " 41%|██████████████████████████████▉                                             | 220/540 [1:18:19<2:05:10, 23.47s/it]\u001b[A\n",
      " 41%|███████████████████████████████                                             | 221/540 [1:18:44<2:06:59, 23.89s/it]\u001b[A\n",
      " 41%|███████████████████████████████▏                                            | 222/540 [1:19:07<2:06:00, 23.78s/it]\u001b[A\n",
      " 41%|███████████████████████████████▍                                            | 223/540 [1:19:30<2:04:03, 23.48s/it]\u001b[A\n",
      " 41%|███████████████████████████████▌                                            | 224/540 [1:19:52<2:01:26, 23.06s/it]\u001b[A\n",
      " 42%|███████████████████████████████▋                                            | 225/540 [1:20:16<2:02:30, 23.34s/it]\u001b[A\n",
      " 42%|███████████████████████████████▊                                            | 226/540 [1:20:40<2:02:38, 23.43s/it]\u001b[A\n",
      " 42%|███████████████████████████████▉                                            | 227/540 [1:21:02<2:00:50, 23.16s/it]\u001b[A\n",
      " 42%|████████████████████████████████                                            | 228/540 [1:21:24<1:58:26, 22.78s/it]\u001b[A\n",
      " 42%|████████████████████████████████▏                                           | 229/540 [1:21:46<1:55:43, 22.33s/it]\u001b[A\n",
      " 43%|████████████████████████████████▎                                           | 230/540 [1:22:08<1:55:30, 22.36s/it]\u001b[A\n",
      " 43%|████████████████████████████████▌                                           | 231/540 [1:22:33<1:59:09, 23.14s/it]\u001b[A\n",
      " 43%|████████████████████████████████▋                                           | 232/540 [1:22:56<1:58:51, 23.15s/it]\u001b[A\n",
      " 43%|████████████████████████████████▊                                           | 233/540 [1:23:18<1:56:13, 22.72s/it]\u001b[A\n",
      " 43%|████████████████████████████████▉                                           | 234/540 [1:23:39<1:52:46, 22.11s/it]\u001b[A\n",
      " 44%|█████████████████████████████████                                           | 235/540 [1:24:02<1:54:45, 22.57s/it]\u001b[A\n",
      " 44%|█████████████████████████████████▏                                          | 236/540 [1:24:27<1:58:02, 23.30s/it]\u001b[A\n",
      " 44%|█████████████████████████████████▎                                          | 237/540 [1:24:49<1:55:32, 22.88s/it]\u001b[A\n",
      " 44%|█████████████████████████████████▍                                          | 238/540 [1:25:10<1:52:41, 22.39s/it]\u001b[A\n",
      " 44%|█████████████████████████████████▋                                          | 239/540 [1:25:31<1:50:23, 22.01s/it]\u001b[A\n",
      " 44%|█████████████████████████████████▊                                          | 240/540 [1:25:55<1:52:21, 22.47s/it]\u001b[A\n",
      " 45%|█████████████████████████████████▉                                          | 241/540 [1:26:22<1:58:59, 23.88s/it]\u001b[A\n",
      " 45%|██████████████████████████████████                                          | 242/540 [1:26:47<2:00:17, 24.22s/it]\u001b[A\n",
      " 45%|██████████████████████████████████▏                                         | 243/540 [1:27:11<1:59:09, 24.07s/it]\u001b[A\n",
      " 45%|██████████████████████████████████▎                                         | 244/540 [1:27:33<1:56:03, 23.52s/it]\u001b[A\n",
      " 45%|██████████████████████████████████▍                                         | 245/540 [1:27:59<1:58:26, 24.09s/it]\u001b[A\n",
      " 46%|██████████████████████████████████▌                                         | 246/540 [1:28:27<2:04:10, 25.34s/it]\u001b[A\n",
      " 46%|██████████████████████████████████▊                                         | 247/540 [1:28:52<2:03:39, 25.32s/it]\u001b[A\n",
      " 46%|██████████████████████████████████▉                                         | 248/540 [1:29:17<2:01:53, 25.05s/it]\u001b[A\n",
      " 46%|███████████████████████████████████                                         | 249/540 [1:29:40<1:58:28, 24.43s/it]\u001b[A\n",
      " 46%|███████████████████████████████████▏                                        | 250/540 [1:30:06<2:00:22, 24.90s/it]\u001b[A\n",
      " 46%|███████████████████████████████████▎                                        | 251/540 [1:30:32<2:02:19, 25.40s/it]\u001b[A\n",
      " 47%|███████████████████████████████████▍                                        | 252/540 [1:30:57<2:00:30, 25.11s/it]\u001b[A\n",
      " 47%|███████████████████████████████████▌                                        | 253/540 [1:31:21<1:58:37, 24.80s/it]\u001b[A\n",
      " 47%|███████████████████████████████████▋                                        | 254/540 [1:31:44<1:56:48, 24.50s/it]\u001b[A\n",
      " 47%|███████████████████████████████████▉                                        | 255/540 [1:32:10<1:57:21, 24.71s/it]\u001b[A\n",
      " 47%|████████████████████████████████████                                        | 256/540 [1:32:35<1:57:33, 24.84s/it]\u001b[A\n",
      " 48%|████████████████████████████████████▏                                       | 257/540 [1:32:58<1:55:09, 24.42s/it]\u001b[A\n",
      " 48%|████████████████████████████████████▎                                       | 258/540 [1:33:21<1:52:25, 23.92s/it]\u001b[A\n",
      " 48%|████████████████████████████████████▍                                       | 259/540 [1:33:43<1:48:47, 23.23s/it]\u001b[A\n",
      " 48%|████████████████████████████████████▌                                       | 260/540 [1:34:06<1:48:57, 23.35s/it]\u001b[A\n",
      " 48%|████████████████████████████████████▋                                       | 261/540 [1:34:33<1:53:35, 24.43s/it]\u001b[A\n",
      " 49%|████████████████████████████████████▊                                       | 262/540 [1:34:57<1:52:51, 24.36s/it]\u001b[A\n"
     ]
    },
    {
     "name": "stderr",
     "output_type": "stream",
     "text": [
      " 49%|█████████████████████████████████████                                       | 263/540 [1:35:21<1:51:13, 24.09s/it]\u001b[A\n",
      " 49%|█████████████████████████████████████▏                                      | 264/540 [1:35:43<1:48:10, 23.52s/it]\u001b[A\n",
      " 49%|█████████████████████████████████████▎                                      | 265/540 [1:36:08<1:49:26, 23.88s/it]\u001b[A\n",
      " 49%|█████████████████████████████████████▍                                      | 266/540 [1:36:35<1:53:16, 24.81s/it]\u001b[A\n",
      " 49%|█████████████████████████████████████▌                                      | 267/540 [1:36:58<1:50:56, 24.38s/it]\u001b[A\n",
      " 50%|█████████████████████████████████████▋                                      | 268/540 [1:37:21<1:47:58, 23.82s/it]\u001b[A\n",
      " 50%|█████████████████████████████████████▊                                      | 269/540 [1:37:43<1:45:24, 23.34s/it]\u001b[A\n",
      " 50%|██████████████████████████████████████                                      | 270/540 [1:38:08<1:46:54, 23.76s/it]\u001b[A\n",
      " 50%|██████████████████████████████████████▏                                     | 271/540 [1:38:37<1:54:12, 25.48s/it]\u001b[A\n",
      " 50%|██████████████████████████████████████▎                                     | 272/540 [1:39:04<1:55:20, 25.82s/it]\u001b[A\n",
      " 51%|██████████████████████████████████████▍                                     | 273/540 [1:39:30<1:54:58, 25.84s/it]\u001b[A\n",
      " 51%|██████████████████████████████████████▌                                     | 274/540 [1:39:57<1:56:43, 26.33s/it]\u001b[A\n",
      " 51%|██████████████████████████████████████▋                                     | 275/540 [1:40:24<1:57:47, 26.67s/it]\u001b[A\n",
      " 51%|██████████████████████████████████████▊                                     | 276/540 [1:40:55<2:02:17, 27.79s/it]\u001b[A\n",
      " 51%|██████████████████████████████████████▉                                     | 277/540 [1:41:22<2:00:20, 27.46s/it]\u001b[A\n",
      " 51%|███████████████████████████████████████▏                                    | 278/540 [1:41:47<1:57:54, 27.00s/it]\u001b[A\n",
      " 52%|███████████████████████████████████████▎                                    | 279/540 [1:42:13<1:55:50, 26.63s/it]\u001b[A\n",
      " 52%|███████████████████████████████████████▍                                    | 280/540 [1:42:41<1:56:17, 26.84s/it]\u001b[A\n",
      " 52%|███████████████████████████████████████▌                                    | 281/540 [1:43:09<1:58:08, 27.37s/it]\u001b[A\n",
      " 52%|███████████████████████████████████████▋                                    | 282/540 [1:43:35<1:55:33, 26.88s/it]\u001b[A\n",
      " 52%|███████████████████████████████████████▊                                    | 283/540 [1:44:00<1:52:37, 26.29s/it]\u001b[A\n",
      " 53%|███████████████████████████████████████▉                                    | 284/540 [1:44:24<1:48:59, 25.55s/it]\u001b[A\n",
      " 53%|████████████████████████████████████████                                    | 285/540 [1:44:51<1:50:35, 26.02s/it]\u001b[A\n",
      " 53%|████████████████████████████████████████▎                                   | 286/540 [1:45:17<1:50:41, 26.15s/it]\u001b[A\n",
      " 53%|████████████████████████████████████████▍                                   | 287/540 [1:45:42<1:48:19, 25.69s/it]\u001b[A\n",
      " 53%|████████████████████████████████████████▌                                   | 288/540 [1:46:05<1:45:01, 25.01s/it]\u001b[A\n",
      " 54%|████████████████████████████████████████▋                                   | 289/540 [1:46:28<1:41:37, 24.29s/it]\u001b[A\n",
      " 54%|████████████████████████████████████████▊                                   | 290/540 [1:46:53<1:42:32, 24.61s/it]\u001b[A\n",
      " 54%|████████████████████████████████████████▉                                   | 291/540 [1:47:22<1:47:35, 25.93s/it]\u001b[A\n",
      " 54%|█████████████████████████████████████████                                   | 292/540 [1:47:48<1:47:16, 25.95s/it]\u001b[A\n",
      " 54%|█████████████████████████████████████████▏                                  | 293/540 [1:48:13<1:45:53, 25.72s/it]\u001b[A\n",
      " 54%|█████████████████████████████████████████▍                                  | 294/540 [1:48:39<1:44:57, 25.60s/it]\u001b[A\n",
      " 55%|█████████████████████████████████████████▌                                  | 295/540 [1:49:05<1:45:14, 25.77s/it]\u001b[A\n",
      " 55%|█████████████████████████████████████████▋                                  | 296/540 [1:49:34<1:48:56, 26.79s/it]\u001b[A\n",
      " 55%|█████████████████████████████████████████▊                                  | 297/540 [1:49:59<1:45:39, 26.09s/it]\u001b[A\n",
      " 55%|█████████████████████████████████████████▉                                  | 298/540 [1:50:22<1:41:29, 25.16s/it]\u001b[A\n",
      " 55%|██████████████████████████████████████████                                  | 299/540 [1:50:45<1:38:36, 24.55s/it]\u001b[A\n",
      " 56%|██████████████████████████████████████████▏                                 | 300/540 [1:51:11<1:28:57, 22.24s/it]\u001b[A\n"
     ]
    }
   ],
   "source": [
    "import numpy as np\n",
    "import tqdm\n",
    "grid = {}\n",
    "grid['Validation_Set'] = {}\n",
    "# Topics range\n",
    "min_topics = 5\n",
    "max_topics = 30\n",
    "step_size = 5\n",
    "topics_range = range(min_topics, max_topics, step_size)\n",
    "# Alpha parameter\n",
    "alpha = list(np.arange(0.01, 1, 0.3))\n",
    "alpha.append('symmetric')\n",
    "alpha.append('asymmetric')\n",
    "# Beta parameter\n",
    "beta = list(np.arange(0.01, 1, 0.3))\n",
    "beta.append('symmetric')\n",
    "# Validation sets\n",
    "num_of_docs = len(corpus)\n",
    "corpus_sets = [# gensim.utils.ClippedCorpus(corpus, num_of_docs*0.25), \n",
    "               # gensim.utils.ClippedCorpus(corpus, num_of_docs*0.5), \n",
    "               gensim.utils.ClippedCorpus(corpus, int(num_of_docs*0.75)), \n",
    "               corpus]\n",
    "corpus_title = ['75% Corpus', '100% Corpus']\n",
    "model_results = {'Validation_Set': [],\n",
    "                 'Topics': [],\n",
    "                 'Alpha': [],\n",
    "                 'Beta': [],\n",
    "                 'Coherence': []\n",
    "                }\n",
    "# Can take a long time to run\n",
    "if 1 == 1:\n",
    "    pbar = tqdm.tqdm(total=540)\n",
    "    \n",
    "    # iterate through validation corpuses\n",
    "    for i in range(len(corpus_sets)):\n",
    "        # iterate through number of topics\n",
    "        for k in topics_range:\n",
    "            # iterate through alpha values\n",
    "            for a in alpha:\n",
    "                # iterare through beta values\n",
    "                for b in beta:\n",
    "                    # get the coherence score for the given parameters\n",
    "                    cv = compute_coherence_values(corpus=corpus_sets[i], dictionary=id2word, \n",
    "                                                  k=k, a=a, b=b)\n",
    "                    # Save the model results\n",
    "                    model_results['Validation_Set'].append(corpus_title[i])\n",
    "                    model_results['Topics'].append(k)\n",
    "                    model_results['Alpha'].append(a)\n",
    "                    model_results['Beta'].append(b)\n",
    "                    model_results['Coherence'].append(cv)\n",
    "                    \n",
    "                    pbar.update(1)\n",
    "    pd.DataFrame(model_results).to_csv('lda_tuning_results.csv', index=False)\n",
    "    pbar.close()"
   ]
  },
  {
   "cell_type": "code",
   "execution_count": 161,
   "id": "0c755b07",
   "metadata": {},
   "outputs": [
    {
     "data": {
      "text/plain": [
       "5"
      ]
     },
     "execution_count": 161,
     "metadata": {},
     "output_type": "execute_result"
    }
   ],
   "source": [
    "len(model_results)"
   ]
  },
  {
   "cell_type": "code",
   "execution_count": 166,
   "id": "db271b06",
   "metadata": {},
   "outputs": [],
   "source": [
    "import seaborn as sns\n",
    "import matplotlib.pyplot as plt"
   ]
  },
  {
   "cell_type": "code",
   "execution_count": 175,
   "id": "8b5ae06a",
   "metadata": {},
   "outputs": [
    {
     "data": {
      "text/plain": [
       "0.01"
      ]
     },
     "execution_count": 175,
     "metadata": {},
     "output_type": "execute_result"
    }
   ],
   "source": [
    " model_results['Alpha'][1]"
   ]
  },
  {
   "cell_type": "code",
   "execution_count": 189,
   "id": "cc5e03bb",
   "metadata": {},
   "outputs": [
    {
     "name": "stderr",
     "output_type": "stream",
     "text": [
      "C:\\Users\\Harmony Chen\\anaconda3\\lib\\site-packages\\ipykernel\\ipkernel.py:287: DeprecationWarning: `should_run_async` will not call `transform_cell` automatically in the future. Please pass the result to `transformed_cell` argument and any exception that happen during thetransform in `preprocessing_exc_tuple` in IPython 7.17 and above.\n",
      "  and should_run_async(code)\n"
     ]
    },
    {
     "data": {
      "text/plain": [
       "[Text(0.5, 0, 'Number of Topics'),\n",
       " Text(0, 0.5, 'Coherence Score'),\n",
       " Text(0.5, 1.0, 'Topic Coherence:Determing optimal number of topics')]"
      ]
     },
     "execution_count": 189,
     "metadata": {},
     "output_type": "execute_result"
    },
    {
     "data": {
      "image/png": "[encoded data removed]",
      "text/plain": [
       "<Figure size 432x288 with 1 Axes>"
      ]
     },
     "metadata": {
      "needs_background": "light"
     },
     "output_type": "display_data"
    }
   ],
   "source": [
    "\n",
    "\n",
    "sns.lineplot(x = model_results['Topics'],y=model_results['Coherence'],hue = model_results[\"Validation_Set\"]).set(xlabel = 'Number of Topics', ylabel='Coherence Score',\n",
    "                                                                                                             title = \"Topic Coherence:Determing optimal number of topics\")\n"
   ]
  },
  {
   "cell_type": "code",
   "execution_count": 36,
   "id": "602e3e78",
   "metadata": {},
   "outputs": [],
   "source": [
    "lda_model = gensim.models.LdaMulticore(corpus=corpus,\n",
    "                                           id2word=id2word,\n",
    "                                           num_topics=20, \n",
    "                                           random_state=100,\n",
    "                                           chunksize=100,\n",
    "                                           passes=10,\n",
    "                                           alpha=0.31,\n",
    "                                           eta=0.61)"
   ]
  },
  {
   "cell_type": "code",
   "execution_count": 37,
   "id": "c888b564",
   "metadata": {},
   "outputs": [],
   "source": [
    "lda_model.save(\"lda_model.model\")"
   ]
  },
  {
   "cell_type": "code",
   "execution_count": 188,
   "id": "ccc9bf00",
   "metadata": {
    "scrolled": true
   },
   "outputs": [
    {
     "name": "stderr",
     "output_type": "stream",
     "text": [
      "C:\\Users\\Harmony Chen\\anaconda3\\lib\\site-packages\\ipykernel\\ipkernel.py:287: DeprecationWarning: `should_run_async` will not call `transform_cell` automatically in the future. Please pass the result to `transformed_cell` argument and any exception that happen during thetransform in `preprocessing_exc_tuple` in IPython 7.17 and above.\n",
      "  and should_run_async(code)\n"
     ]
    },
    {
     "data": {
      "text/html": [
       "\n",
       "<link rel=\"stylesheet\" type=\"text/css\" href=\"https://cdn.jsdelivr.net/gh/bmabey/pyLDAvis@3.3.1/pyLDAvis/js/ldavis.v1.0.0.css\">\n",
       "\n",
       "\n",
       "<div id=\"ldavis_el296430461845362086168073460\"></div>\n",
       "<script type=\"text/javascript\">\n",
       "\n",
       "var ldavis_el296430461845362086168073460_data = {\"mdsDat\": {\"x\": [-0.3603383867463214, -0.24304862718017617, -0.1953989965899736, -0.08049590478694721, 0.0515712788371234, 0.06119878736744868, 0.05635318791695644, 0.054427899328733355, 0.05660506598423676, 0.05428673084010015, 0.05491452399340214, 0.05484953056117256, 0.05441112994357856, 0.05400836857585782, 0.05425290818019491, 0.05486895074537074, 0.054517342310890414, 0.05446199701804726, 0.054361999866276565, 0.054192213834027995], \"y\": [0.012960867452011006, 0.03780478436972193, -0.10606059079385757, 0.07318438825248429, 0.0054277597634820205, 0.0033463793852202086, -0.001177689254585474, -0.0017060078085049991, -0.0020528034665897206, -0.0017591104929389023, -0.0025211554509683262, -0.001996962572659304, -0.0017131891631092932, -0.0020344470234745634, -0.0019033523587402203, -0.0019879240473733256, -0.0018821534084841921, -0.0020065667396641676, -0.0019272142926217582, -0.0019950123493474897], \"topics\": [1, 2, 3, 4, 5, 6, 7, 8, 9, 10, 11, 12, 13, 14, 15, 16, 17, 18, 19, 20], \"cluster\": [1, 1, 1, 1, 1, 1, 1, 1, 1, 1, 1, 1, 1, 1, 1, 1, 1, 1, 1, 1], \"Freq\": [53.32808719927961, 19.46407658825662, 13.209837395465653, 3.7221065075227053, 1.0567663517780717, 1.01979624266702, 0.6720950786335841, 0.6112985514467514, 0.6048008642342207, 0.6024669429275972, 0.5956592274929269, 0.5919453727965045, 0.5772772705395863, 0.5742060454381233, 0.5719524052857997, 0.5689791713915865, 0.5618765416064265, 0.5586132791979669, 0.5573351737018519, 0.5508237903373924]}, \"tinfo\": {\"Term\": [\"pizza\", \"wait\", \"get\", \"raman\", \"cheese\", \"restaurant\", \"wine\", \"good\", \"pasta\", \"broth\", \"slice\", \"dish\", \"dessert\", \"food\", \"make\", \"line\", \"taco\", \"pie\", \"place\", \"dinner\", \"pancake\", \"say\", \"take\", \"noodle\", \"salad\", \"menu\", \"well\", \"know\", \"time\", \"worth\", \"dumpling\", \"noodle\", \"sandwich\", \"mayo\", \"veggie\", \"brisket\", \"fry\", \"mac_cheese\", \"pork\", \"beef\", \"soba\", \"arepa\", \"hole_wall\", \"dumple\", \"juicy\", \"rice\", \"chicken\", \"quick\", \"udon\", \"spicy\", \"burger\", \"curry\", \"healthy\", \"kimchi\", \"sesame\", \"fatty\", \"soup\", \"pork_belly\", \"bbq\", \"cuban\", \"meat\", \"waffle\", \"cute\", \"sauce\", \"chinatown\", \"great\", \"cheap\", \"good\", \"always\", \"love\", \"brunch\", \"place\", \"pretty\", \"tasty\", \"try\", \"definitely\", \"lunch\", \"really\", \"egg\", \"delicious\", \"price\", \"also\", \"get\", \"come\", \"food\", \"amazing\", \"nice\", \"well\", \"order\", \"wait\", \"time\", \"back\", \"service\", \"eat\", \"little\", \"make\", \"taste\", \"go\", \"dish\", \"restaurant\", \"sushi\", \"attitude\", \"host\", \"hair\", \"dude\", \"tavern\", \"answer\", \"rude\", \"apology\", \"inform\", \"disgusting\", \"craft\", \"poor\", \"omakase\", \"speakeasy\", \"employee\", \"crap\", \"ruin\", \"maharlika\", \"ignore\", \"stupid\", \"earn\", \"filipino\", \"apologize\", \"sisig\", \"manager\", \"pace\", \"manner\", \"count\", \"voice\", \"woman\", \"possible\", \"drunk\", \"question\", \"horrible\", \"hostess\", \"tell\", \"sorry\", \"face\", \"bartender\", \"understand\", \"ask\", \"bar\", \"say\", \"see\", \"call\", \"know\", \"take\", \"check\", \"minute\", \"table\", \"chef\", \"give\", \"experience\", \"let\", \"need\", \"customer\", \"go\", \"leave\", \"drink\", \"people\", \"food\", \"want\", \"restaurant\", \"time\", \"sit\", \"look\", \"even\", \"get\", \"order\", \"wait\", \"star\", \"make\", \"place\", \"service\", \"back\", \"come\", \"well\", \"good\", \"eat\", \"menu\", \"really\", \"goat_cheese\", \"risotto\", \"paella\", \"gnocchi\", \"pasta\", \"ricotta\", \"cheesecake\", \"crostini\", \"sorbet\", \"ravioli\", \"wine_list\", \"fennel\", \"puree\", \"olive\", \"tiramisu\", \"halibut\", \"hanger_steak\", \"escargot\", \"gluten_free\", \"bass\", \"cavatelli\", \"tart\", \"croquette\", \"maialino\", \"poach\", \"bruschetta\", \"tagliatelle\", \"chocolate\", \"aioli\", \"sundae\", \"italian\", \"gelato\", \"ragu\", \"arugula\", \"pear\", \"dessert\", \"wine\", \"scallop\", \"tapa\", \"spaghetti\", \"spanish\", \"wonderful\", \"entree\", \"dinner\", \"cake\", \"excellent\", \"dish\", \"perfect\", \"restaurant\", \"salad\", \"date\", \"start\", \"meal\", \"course\", \"cream\", \"appetizer\", \"share\", \"menu\", \"cheese\", \"bread\", \"delicious\", \"make\", \"service\", \"experience\", \"good\", \"well\", \"nice\", \"flavor\", \"food\", \"great\", \"order\", \"come\", \"also\", \"pizza\", \"pie\", \"lombardi\", \"pepperoni\", \"macaron\", \"thin_crust\", \"margherita\", \"blueberry_pancake\", \"fara\", \"grimaldi\", \"sicilian\", \"calzone\", \"spumoni\", \"lucali\", \"biscuit\", \"luzzo\", \"pizzeria\", \"maple_butter\", \"oven\", \"taim\", \"artichoke_slice\", \"dom\", \"crust\", \"brick_oven\", \"buttermilk\", \"difara\", \"sook\", \"macaroon\", \"coal\", \"laduree\", \"slice\", \"bakery\", \"artichoke\", \"square\", \"dough\", \"basil\", \"mozzarella\", \"pancake\", \"line\", \"cheese\", \"brooklyn\", \"wait\", \"get\", \"make\", \"good\", \"worth\", \"well\", \"eat\", \"place\", \"know\", \"take\", \"long\", \"try\", \"fresh\", \"time\", \"hour\", \"say\", \"nyc\", \"pho\", \"banh\", \"nyonya\", \"laksa\", \"format\", \"bahn\", \"nam\", \"burritos\", \"malay\", \"roti_canai\", \"ssa\", \"file\", \"jewelry_store\", \"viet\", \"malaysian\", \"exfat\", \"ntfs\", \"teow\", \"saigon\", \"singapore\", \"schnitzel\", \"corn_tortilla\", \"pastor\", \"adobada\", \"vietnamese\", \"kueh\", \"din_tai\", \"cheeky\", \"bay_area\", \"jewelry\", \"joju\", \"taco\", \"flour\", \"disk\", \"burrito\", \"carnita\", \"pate\", \"chipotle\", \"support\", \"jelly\", \"fat\", \"sandwich\", \"raman\", \"ippudo\", \"minca\", \"akamaru_modern\", \"totto\", \"ramen\", \"tonkotsu\", \"hirata\", \"chashu\", \"akamaru\", \"sapporo\", \"chuko\", \"shio\", \"nori\", \"dama\", \"hagi\", \"kaedama\", \"tonkotsu_broth\", \"wavy\", \"ganso\", \"torch\", \"kikurage_mushroom\", \"paitan_raman\", \"hirata_bun\", \"shiromaru\", \"chasu\", \"stamina\", \"kimbop\", \"karaka\", \"goma\", \"pork_bun\", \"broth\", \"miso\", \"bamboo_shoot\", \"soft_boile\", \"hawaii\", \"gyoza\", \"slurp\", \"noodle\", \"momofuku\", \"bowl\", \"wait\", \"pork\", \"fragrant\", \"disk\", \"circuit\", \"damage\", \"crystal\", \"datum\", \"maintenance\", \"data\", \"file\", \"clock\", \"repair\", \"delete\", \"tool\", \"recommande\", \"frequency\", \"input\", \"output\", \"software\", \"device\", \"master\", \"kaoru\", \"unplug\", \"pin\", \"plat\", \"flash\", \"interface\", \"usb\", \"operating\", \"sont\", \"peu\", \"jeune\", \"program\", \"phenomenon\", \"refresh\", \"power\", \"mai\", \"computer\", \"loss\", \"normal\", \"format\", \"system\", \"bon\", \"woorijip\", \"cookshop\", \"bfast\", \"cipriani\", \"gook\", \"kin\", \"pegu\", \"caroline\", \"kimbap\", \"cocotte\", \"sundubu\", \"cuba\", \"biscutt\", \"schenker\", \"gratinate\", \"prepackage\", \"soju\", \"paulo\", \"popover\", \"mangos\", \"dixie\", \"demonstration\", \"pina\", \"colada\", \"curative\", \"cardiovascular\", \"japchae\", \"banchan\", \"gehran\", \"tangsooyuk\", \"kimbab\", \"mahree\", \"jesse\", \"gander\", \"ktown\", \"pre_packaged\", \"que\", \"mesa\", \"ele\", \"pessoas\", \"bem\", \"lugar\", \"ambiente\", \"una\", \"para\", \"com\", \"tudo\", \"vamos\", \"comida\", \"extremamente\", \"deixar\", \"tamba\", \"enquanto\", \"muito\", \"nos\", \"italiana\", \"pressa\", \"pena\", \"prato\", \"restaurante\", \"imenso\", \"petisco\", \"buon\", \"foi\", \"comer\", \"che\", \"preso\", \"maleho\", \"diciamo\", \"sono\", \"tutto\", \"antiasto\", \"delle\", \"accompagnato\", \"questo\", \"quale\", \"giudicare\", \"bicchiere\", \"do\", \"violation\", \"sewage\", \"vermin\", \"fly\", \"filth\", \"contaminate\", \"improperly\", \"facility\", \"deff\", \"surface\", \"bashburger\", \"dandy\", \"haut\", \"trad\", \"bulli\", \"mindset\", \"intensity\", \"playroom\", \"kiddy\", \"grungy\", \"dedicate\", \"inspecter\", \"blatant\", \"outrage\", \"altho\", \"patacone\", \"provider\", \"movable\", \"backflow\", \"unit\", \"contamination\", \"subtlety\", \"startling\", \"contact\", \"properly\", \"equipment\", \"drain\", \"associate\", \"shut\", \"health\", \"potential\", \"maintain\", \"non\", \"display\", \"shiksa\", \"thanksgive\", \"hearth\", \"ban\", \"gnocco\", \"ta\\u00aate\", \"canora\", \"swath\", \"consomma\", \"copper\", \"daniel\", \"marcus\", \"erica\", \"prix\", \"norteno\", \"estilo\", \"caballo\", \"weremeh\", \"shore\", \"forfood\", \"doughnutsthank\", \"nextthe\", \"sali\", \"tiramusihuge\", \"bolonease\", \"mojarra\", \"datile\", \"uca\", \"huachinango\", \"sleazy\", \"formidable\", \"piping\", \"traif\", \"limeade\", \"skirt_steak\", \"radicchio\", \"notable\", \"manicotti\", \"episode\", \"kimchee\", \"freddy\", \"curd\", \"donburis\", \"poutine\", \"hollow\", \"fatuous\", \"montreal\", \"harushika\", \"wor\", \"chang\", \"porkiness\", \"housemade\", \"david_chang\", \"omakaze\", \"sushifelt\", \"ankimo\", \"pegleg\", \"sperm\", \"unappeale\", \"milt\", \"stuyvesant\", \"incognito\", \"monsignor\", \"eatjet\", \"omgosh\", \"outshine\", \"okso\", \"omer\", \"weekit\", \"fattiness\", \"canadian\", \"shaving\", \"smoked\", \"bossam\", \"chilie\", \"mash_potatoe\", \"hamachi\", \"invoke\", \"notch\", \"acid\", \"porky\", \"victorian\", \"empenada\", \"doorman\", \"falafell\", \"farren\", \"merc\", \"jgv\", \"roma\", \"hellish\", \"endlessly\", \"sisyphu\", \"againfill\", \"discourse\", \"nicebut\", \"yucky\", \"desayuno\", \"faba\", \"\\u00bca\", \"xoxox\", \"wassup\", \"mollasse\", \"llllove\", \"jamabala\", \"thereshe\", \"cocktailsa\", \"okreally\", \"priceymusic\", \"suckedearly\", \"latent\", \"elicit\", \"awash\", \"boddington\", \"rejoice\", \"dragon\", \"idle\", \"yum_yum\", \"lure\", \"tank\", \"alive\", \"groan\", \"lam\", \"dim_lighte\", \"yummmmmm\", \"billyburg\", \"tylp\", \"scampi\", \"akaushi\", \"trailer\", \"mandatory\", \"irregular\", \"quadronno\", \"quasi\", \"pottery\", \"uovo\", \"crystalline\", \"fetish\", \"predict\", \"realise\", \"renounce\", \"shun\", \"unwarranted\", \"outraging\", \"painfully\", \"heelm\", \"ridden\", \"blending\", \"dishonesty\", \"copycat\", \"unspoken\", \"splendor\", \"vogue\", \"precursor\", \"niman\", \"soggyi\", \"shacksauce\", \"futuristic\", \"clay\", \"walter_food\", \"cheeseburger\", \"tank\", \"sensation\", \"exit\", \"dramatic\", \"bore\", \"herd\", \"realtor\", \"greenpoint\", \"halusky\", \"grappa\", \"gila\", \"coffeeshop\", \"kansa\", \"brat\", \"uncrowded\", \"upthe\", \"shakesdoesn\", \"reviewone\", \"manhattantry\", \"nosh\", \"vet\", \"willy\", \"paperwork\", \"dignified\", \"ymca\", \"thereafter\", \"crib\", \"daylight\", \"glenlivet\", \"marmite\", \"provision\", \"cluttered\", \"characterful\", \"amazonian\", \"sprtiz\", \"sprtzenhaus\", \"pedal\", \"showerhead\", \"spritz\", \"rainfall\", \"loveeee\", \"desperate\", \"overdue\", \"jenga\", \"masse\", \"polish\", \"pleasantly\", \"hunting\", \"scwatche\", \"ricky\", \"haff\", \"dwee\", \"dis\", \"ella\", \"cra\\u00aape\", \"woof\", \"bobby\", \"mah\", \"mouf\", \"girard\", \"tawk\", \"wif\", \"bofe\", \"maff\", \"buht\", \"cahn\", \"cwust\", \"dah\", \"stawz\", \"genewous\", \"powtion\", \"charsius\", \"peoplewill\", \"foodcool\", \"foh\", \"tzaziki\", \"philospher\", \"suzette\", \"yeh\", \"mmmmm\", \"wound\", \"jean\", \"jakob\", \"bloomfield\", \"jape\", \"kappa\", \"whet\", \"wbq\", \"tkt\", \"qotp\", \"abe\", \"anwar\", \"bnb\", \"nwjt\", \"bueno\", \"hehwp\", \"heir\", \"hejaz\", \"bmw\", \"kant\", \"jena\", \"howled\", \"ousted\", \"friedman\", \"april\", \"relocate\", \"goooooo\", \"plz\", \"ltauha\", \"heare\", \"sandfords\", \"reataurant\", \"alba\", \"pbr\", \"queue\", \"kool\", \"whale\", \"hue\", \"tot\", \"jewel\", \"shrimp_grit\", \"mei\", \"tow\", \"cafecito\", \"swanson\", \"ron\", \"mollejas\", \"parrillada\", \"abide\", \"tame\", \"churasco\", \"roundtrip\", \"diatribe\", \"obama\", \"goodthe\", \"seasonedneede\", \"rez\", \"dunnobut\", \"nycnow\", \"eveningit\", \"beansit\", \"memy\", \"prawnshis\", \"suremy\", \"opinionnothe\", \"thoughnice\", \"townmade\", \"thingshe\", \"pissy\", \"nontheless\", \"boxesi\", \"buzzzzz\", \"ftw\", \"cubicle\", \"greatness\", \"cutie\", \"theory\", \"bistec\", \"iron\", \"burgerit\", \"shakshuka\", \"poblano\", \"itreturne\", \"braseola\", \"sandwichheaven\", \"greeeeen\", \"ooooh\", \"declicous\", \"regain\", \"drape\", \"hadfragrant\", \"consciousness\", \"dee\", \"ashkenazi\", \"reticent\", \"arbitrary\", \"kirk\", \"woffle\", \"celeriac\", \"flavorthat\", \"menubut\", \"lankan\", \"tamil\", \"kickin\", \"ironic\", \"ironically\", \"goooooood\", \"harp\", \"licious\", \"homestyle\", \"rejoice\", \"wil\", \"scary\", \"condesa\", \"foreign\", \"shwarma\", \"miriam\", \"eataly\", \"kurobuta\", \"accordian\", \"ohmygod\", \"guitar\", \"bonker\", \"boggle\", \"janpanese\", \"luch\", \"deeeeelicious\", \"sherry\", \"composite\", \"unplanned\", \"outfitter\", \"mockery\", \"hippest\", \"serbian\", \"blood_orange\", \"everything\", \"stereotypical\", \"gelatto\", \"forgettabouttit\", \"puede\", \"inexpensively\", \"reproach\", \"margaritaas\", \"placelove\", \"williamsburgh\", \"bebelieve\", \"porkbuns\", \"pancakeso\", \"bespeckle\", \"band\", \"katsu\", \"port\", \"sis\", \"pork_loin\", \"cutlet\", \"urban\", \"tuesday\", \"double\", \"mince\", \"place\"], \"Freq\": [653.0, 1869.0, 3763.0, 180.0, 654.0, 1789.0, 626.0, 5939.0, 416.0, 195.0, 257.0, 1466.0, 556.0, 4576.0, 1895.0, 474.0, 167.0, 181.0, 4558.0, 875.0, 279.0, 1215.0, 1106.0, 492.0, 679.0, 1339.0, 2218.0, 869.0, 2110.0, 760.0, 401.7189580399961, 477.41123379037276, 757.6352329242001, 117.82436445081034, 182.7407462131982, 106.70469608712878, 1039.8405461520344, 118.78031407862572, 657.8561506953962, 383.629745531254, 73.93113536311391, 67.15444054758446, 76.29506789207935, 60.44326726212282, 179.22002038802748, 540.5593176505286, 1282.183225197789, 248.99064542041722, 51.66820732397366, 599.8565397587424, 743.4502014994766, 155.36040269320495, 94.83840870134033, 67.08697236336246, 56.62448969419798, 75.58339368600859, 454.2418236916341, 148.1314787519412, 154.74979426027954, 48.55794955150081, 671.8777106505373, 147.3320092565323, 224.99632875399877, 1234.353552794421, 117.31343895439028, 2732.4739955444206, 389.30865797208753, 4954.956508827839, 792.8233332502681, 1429.605338428007, 820.5561280007511, 3693.1280692186797, 932.5498003359132, 570.9953977893744, 1691.6836720826207, 987.2535358720473, 533.3231293657137, 1841.9427726060355, 433.5155120357716, 1358.560248416744, 781.8461504747992, 1384.0986416623907, 2798.9544189609596, 2126.852415768364, 3281.990153834588, 842.2300803947466, 1080.363713324189, 1533.9615743257434, 1569.201806999648, 1310.525085301685, 1424.1069425504472, 1178.8478907055005, 1302.9275315347354, 1085.8537528326965, 894.9774759852908, 1128.1222616318746, 896.5688894960247, 941.5086825884455, 850.445815554075, 852.9154074851959, 182.24713089552506, 49.811273193535925, 61.6914305884237, 34.20086520413474, 33.339359465796825, 30.66079360053524, 22.53166904560569, 61.1315186848822, 18.748960285787174, 18.104504890744128, 21.50063225919106, 16.046525381276425, 38.50310193984958, 12.90516031172907, 13.144886134002089, 30.25118147812662, 14.517767463336227, 24.700296574389778, 12.918420528061201, 30.753091984541737, 15.236767304125845, 12.693518897647845, 33.97834527883568, 17.51735446882178, 13.268504102724444, 61.70702268793504, 15.164108510313786, 14.027922529896687, 24.685289341072945, 11.292679881130722, 40.71589336483223, 41.971804704521574, 46.301369854717535, 46.16483609086648, 46.44730046876033, 88.62545029904621, 243.81796207464137, 41.720039303326075, 52.19948548579108, 124.23325662366076, 74.85745746918613, 303.6369500398638, 401.93048114527505, 515.6421595587553, 288.0016657416562, 136.84736477220665, 377.90123188223856, 459.3978564449919, 171.67843413177826, 217.33828808562293, 498.58656019975365, 122.67358744425532, 353.44405118787887, 290.3214790155493, 140.35048799551092, 196.88741482958397, 89.93482274125569, 483.2564114260759, 189.10474334656956, 323.1939051395336, 322.0470475172379, 1017.2905766012553, 343.253758519636, 511.02239246752936, 567.6193135761323, 244.72839511940646, 294.85116804813686, 332.20763764748415, 771.68989037765, 553.3784889205796, 470.93266551522083, 261.8140262744106, 456.44430815678396, 718.0430170247723, 431.53136506492683, 366.61471800711774, 445.66682715862464, 406.2864952444893, 565.2018666388361, 334.48000310980507, 308.3596882400605, 308.22029079802746, 66.66639565627096, 61.44008705471653, 36.19285509388619, 74.81342787947546, 372.8482291769081, 76.85688238794936, 36.82457388782585, 28.813105505205673, 29.233772104699003, 63.465594187948014, 72.00193508847016, 33.53809604873149, 32.673699414063066, 57.49723336257654, 23.16241674994245, 21.463943489370312, 22.085461035209786, 18.525620913835343, 17.913987067517063, 19.085570788657694, 19.950895076813826, 36.497437105904794, 29.62452739220985, 16.816793511402757, 16.407792411790535, 15.142680343209943, 14.523854609630371, 119.38222361805167, 16.497105889897274, 21.17647381744195, 209.2991616354652, 26.801141230815368, 21.908039587490634, 40.53168598350271, 38.92273201956074, 358.8707286584957, 394.87057596191045, 81.30219202052604, 71.29663029187783, 40.05720960119297, 44.47504246089279, 143.05013066151895, 175.5170618466875, 305.16688945687923, 95.63578798710495, 211.66212293917044, 407.6297249101314, 211.7254915222675, 419.83662159630603, 219.1251966869261, 139.88900512398257, 161.91029341372163, 264.2059689427796, 115.20617753887436, 65.82991977443707, 163.0637357021549, 143.08771900442508, 285.2401986384198, 179.46864812474985, 156.9603579254185, 244.872058993893, 248.9686944062048, 252.39351463594969, 160.87082754303032, 332.97901715527354, 228.1445642592739, 189.2371951223543, 156.40389520443583, 271.37454578616433, 234.57320586936822, 195.89429529344724, 194.76409285657294, 169.2663768124732, 643.4090337033998, 162.37924466900188, 20.077159663195616, 17.2001321889866, 20.942157152604967, 16.067826608733462, 15.581820182826634, 13.550488461479612, 11.997110419913556, 12.425383129845802, 19.609768999166167, 12.242433353973185, 11.714030710962977, 8.717498661608158, 83.25138382593056, 8.765759630751145, 9.841966898409582, 8.168544118068706, 24.920487134482553, 9.178567257151348, 6.020527939663579, 5.499946070668611, 68.41619073529405, 5.782207249457426, 14.286789480859783, 4.866289810587086, 4.82068119398751, 7.637716538030678, 4.6745221948594695, 4.638224358849964, 133.4491278871443, 13.06121122881302, 47.220726665664955, 23.97878972363984, 24.63249541608956, 26.914665208426243, 21.447172036033585, 50.84567861893993, 59.051960457047635, 68.54578361183641, 27.5625285175756, 69.60938236681075, 81.00666261696644, 59.551880238760816, 82.86428865104911, 36.75161985230275, 46.681149594697374, 39.85254680768367, 47.30849497066226, 30.30259965767366, 30.933991290025244, 27.836712924555666, 32.50499589811124, 27.840096403483447, 30.241902497985887, 25.988611002557654, 26.73521324059307, 25.082546164850054, 21.194001368994467, 29.432469455466293, 9.85007044875637, 4.440704066642171, 6.585125131551915, 6.304278422047047, 3.059553497761964, 6.523585889317176, 2.6052554980451914, 4.562926362776551, 2.444672671466461, 3.676572913162602, 2.35498294468339, 2.5493233485390285, 8.96073068949891, 1.9344182949362412, 1.9344182949362412, 1.9434998893109339, 1.942119168012304, 2.1667031311140366, 4.503411864824369, 1.870994967931141, 2.2213399429385037, 1.7934487672953208, 14.468168741066822, 1.6813759487887472, 1.6088338631900134, 1.4896724403536006, 1.9324562358710757, 2.0739290093754406, 2.184721661669443, 22.57680386388494, 4.307014492015321, 3.4774841922958153, 5.6998188661324285, 2.332471307101335, 2.723241543653452, 2.964405805559233, 2.2712740697674842, 2.222289041820952, 2.602486058084362, 2.4760491513488154, 173.0910840638272, 40.90746459377604, 7.979263752149457, 4.85031572407022, 14.5443649824372, 4.181761542063044, 4.063380638809284, 3.4574973110704277, 2.9693575050802656, 2.3980988834605745, 2.6361990095385583, 1.9939724516866442, 1.9518448936200359, 1.904848449056403, 1.7284036342076858, 2.1956435462951194, 1.398552917149796, 1.2782588479361217, 1.2887420485878034, 1.3228451369367984, 1.3794138804498959, 1.1776626591778565, 1.1046640908429586, 1.1229302462829842, 1.0971476196325871, 1.0556698139015375, 1.0830387442015592, 1.1189502436797754, 1.0418790617537534, 1.0368359621850989, 9.973191941231583, 28.004587606400182, 7.539066475521044, 1.7231831437393843, 2.0176445465585178, 1.2719742390576547, 2.3798295501925324, 2.282426624615626, 4.607424341293906, 1.7258419643446476, 2.5919799866615265, 2.306068757109056, 2.036035772229772, 1.3921278028754476, 11.131898106705371, 2.394060367855081, 2.3941589515465544, 1.8909071580819004, 1.917959480435883, 1.2574943743108766, 1.2346498103513046, 2.292638393561817, 1.1974158421318173, 1.0582414002645186, 0.8455738635750678, 1.1485032219761515, 0.7324067419725454, 0.698924788268753, 0.6989174580701458, 0.6988992073715726, 0.7237208306126496, 0.7513227682662879, 2.382701551931604, 0.6042041862593828, 0.6042041862593828, 0.6979654298265398, 0.6933326695087971, 1.7212329565768507, 0.559321230591149, 0.5593196972332771, 0.5593068319867419, 0.5164539673429984, 0.5164507884303371, 0.5164490680776028, 0.7163776171629496, 0.7043742673476471, 1.2983063770260537, 1.4095962946036091, 0.9277449411749488, 0.8564165736782368, 0.9232553441238829, 1.1995686765840068, 0.7708873675408843, 0.7784820516815808, 0.7018633003349306, 5.6392497775588195, 2.250278534080261, 0.6432093568252695, 0.5391563002979863, 0.5394180868787567, 0.5356375566569773, 0.5443219250860841, 0.5279814557109923, 0.8319955113680165, 0.6695910899915951, 0.478034304109149, 0.5806895100971682, 0.4628305790111079, 0.41702629529455304, 0.4276471904964321, 0.4716800947699497, 0.9235934658316356, 0.39854523759548816, 0.3993070242997958, 0.3997277332955036, 0.39951441941192634, 0.39727555907238093, 0.452646244227317, 0.4526569592445912, 0.33375125601065603, 0.33375125601065603, 0.37505213702258977, 0.6710412570278997, 0.3222459466845529, 0.3222459466845529, 0.3222459466845529, 0.3222459466845529, 0.38961510408763056, 0.40208660182852063, 0.4191841637098762, 0.33895916259707737, 2.1834315830448356, 1.1877520800294121, 0.9923848083125608, 0.7742748612729954, 0.7287650102522412, 0.7060075270103741, 0.7204935758481591, 0.7002792181034067, 0.7310683820765209, 0.8837576153844969, 0.5561729912802408, 0.5561729912802408, 0.5561729912802408, 0.5561729912802408, 0.5561729912802408, 0.5561729912802408, 0.5561729912802408, 0.5561729912802408, 0.5561729912802408, 0.5503293825300487, 0.5470590535850652, 0.5334083733136907, 0.5334083733136907, 0.5334083733136907, 0.510640087021714, 0.510640087021714, 0.5977090698875112, 0.5569715756293003, 0.7334554859527397, 0.35376071740880904, 0.35376071740880904, 0.35376071740880904, 0.35376071740880904, 0.35376071740880904, 0.35376071740880904, 0.35376071740880904, 0.35376071740880904, 0.35376071740880904, 0.35376071740880904, 0.35376071740880904, 0.35376071740880904, 0.35376071740880904, 0.5607108107960145, 1.1022328600582396, 0.5881007477730111, 0.5852926024076529, 2.355208856792095, 0.4314758399317873, 0.43147453247668427, 0.43146913503382306, 0.43146075391136784, 0.4123327192787442, 0.5689791163179433, 0.3932787402441349, 0.4037496788213268, 0.3452786103899926, 0.3452786103899926, 0.3452786103899926, 0.3452786103899926, 0.3452786103899926, 0.3345793700371204, 0.3345793700371204, 0.3345793700371204, 0.3345793700371204, 0.3211467774556804, 0.3211467774556804, 0.3211467774556804, 0.30248620830911943, 0.2859568915539428, 0.2859568915539428, 0.2750218734641602, 0.27502105211415956, 0.2750185713019128, 0.4237561556607276, 0.34518980401645705, 0.32640348450857787, 0.5459561058844574, 0.8881644429231822, 0.433748532145726, 0.41701877246591024, 0.44480179111110696, 0.45986434438763935, 0.5119545290489117, 0.4056446841329432, 0.40118696624594735, 0.4371684324013361, 0.3856640546751943, 0.7650603146210315, 0.6150206627580258, 0.9229798196822132, 0.7704440998401139, 0.48574465310880754, 0.4592291098421953, 0.4592291098421953, 0.4592291098421953, 0.4592291098421953, 0.4592291098421953, 0.5936719331412831, 0.4227358906479458, 0.41448709297422626, 0.42265753427922914, 0.33778787527717036, 0.33778787527717036, 0.33778787527717036, 0.3257145642344269, 0.3257145642344269, 0.3207275327097348, 0.3207275327097348, 0.3168191607904346, 0.3168191607904346, 0.3168191607904346, 0.3168191607904346, 0.30630962940914774, 0.30630962940914774, 0.30630962940914774, 0.30630962940914774, 0.326247513495254, 0.3396452261559382, 0.3153155073780693, 0.5683744933223601, 0.335854421935385, 0.32949578935575874, 0.32971498168499874, 0.32864895058065635, 0.31823153102198526, 0.3194154944274672, 4.490251558534121, 0.7321712196107345, 1.1609257725788595, 0.6124374452460819, 1.8668801068736467, 0.511874670686889, 0.4732654698003634, 0.4869472159842153, 0.4334018195326516, 0.4000934611118578, 0.5439396142959403, 0.3201043942380168, 0.5437270917823541, 0.3537852270208119, 0.3055083269239535, 0.3055083269239535, 0.30496911527680465, 0.30496911527680465, 0.30496911527680465, 0.30496911527680465, 0.30496911527680465, 0.30496911527680465, 0.2977348186104409, 0.2977348186104409, 0.2977348186104409, 0.2977348186104409, 0.2977348186104409, 0.29573476172498686, 0.29573476172498686, 0.29573476172498686, 0.31856950209789187, 0.4193404182819067, 0.38226278269516634, 0.4784887408898559, 0.3194797058514451, 0.38494635704488345, 0.35474734265927077, 0.40479580170656343, 0.3203194530556243, 0.3328078517278967, 0.3278316891159186, 0.3168595061632499, 0.30767294711967974, 0.8718818307787606, 0.7962753567204419, 0.5114862276337628, 0.5127642975345383, 0.3646273967607106, 0.3386764776549746, 0.4851758222571449, 0.31739932978992363, 0.31739932978992363, 0.31739932978992363, 0.31739932978992363, 0.31739932978992363, 0.30445323047756906, 0.29987496032555633, 0.29987496032555633, 0.30501717837959774, 0.30501717837959774, 0.30501717837959774, 0.30501717837959774, 0.30501717837959774, 0.30501717837959774, 0.30501717837959774, 0.3019630387873683, 0.29704089404597206, 0.29704089404597206, 0.29704089404597206, 0.29704089404597206, 0.3010389942812304, 0.3010389942812304, 0.3072913763529359, 0.3072913763529359, 0.4121750856057961, 0.3721705051169578, 0.3131495795282075, 0.48675510766699553, 0.375022495919744, 0.33377299626121326, 0.3271239297145617, 0.31287210276939437, 0.31358301248799747, 0.30976740188770296, 0.3052063816800619, 0.6656737847779673, 0.5994028560470303, 0.7667788687928949, 0.4763473585327626, 0.47402119616254534, 0.44448329230022054, 0.4679646172806219, 0.47038149110064886, 0.3288169596931543, 0.3288169596931543, 0.44235139749423125, 0.2903772559305173, 0.2903772559305173, 0.2903772559305173, 0.2903772559305173, 0.2903772559305173, 0.2903772559305173, 0.29767439935992646, 0.29767439935992646, 0.28885807079749415, 0.28885807079749415, 0.28885807079749415, 0.28885807079749415, 0.28885807079749415, 0.28885807079749415, 0.28885807079749415, 0.28885807079749415, 0.28885807079749415, 0.28039717519303414, 0.27558272650179494, 0.27558272650179494, 0.27558272650179494, 0.3275346340097399, 0.32782494899141346, 0.3994874097158135, 0.4009736204859611, 0.30403781235686317, 0.290576635799067, 0.2979214514662768, 0.29054391705140753, 0.2983258666900322, 0.2902805055712275, 0.8440227339867181, 2.0196216834893077, 0.581814788354833, 0.5286962687247844, 0.5102781155503998, 0.5527353632569149, 0.42058579452208783, 0.4658493436363172, 0.3275834859383042, 0.3197750775881724, 0.3197750775881724, 0.3197750775881724, 0.3043034851955176, 0.4416035678301102, 0.28693395145726996, 0.28693395145726996, 0.28693395145726996, 0.28693395145726996, 0.28693395145726996, 0.28693395145726996, 0.28693395145726996, 0.28693395145726996, 0.27638458149857364, 0.27634333435795105, 0.27629880908809684, 0.2762815909530067, 0.27627665784591066, 0.28443423469895185, 0.28443423469895185, 0.28443423469895185, 0.28443423469895185, 0.28443423469895185, 0.28443423469895185, 0.28443423469895185, 0.30326801010280435, 0.3199417847815221, 0.3185363266566038, 0.31574632041555517, 0.3200976391392604, 0.3459392591777965, 0.3155365837977288, 0.2868328705015467, 0.8172630296593009, 0.7000654078232489, 0.5819784270723569, 0.5819784270723569, 0.5819784270723569, 0.5507703826620177, 0.5402257963625592, 0.5819865956234438, 0.6765081929982868, 0.5828290328611107, 0.5826665483487945, 0.4018547518716134, 0.34694666963649573, 0.34694666963649573, 0.34694666963649573, 0.34694666963649573, 0.34694666963649573, 0.34694666963649573, 0.34694666963649573, 0.34694666963649573, 0.34694666963649573, 0.34694666963649573, 0.34694666963649573, 0.368938245503151, 0.30971520530904867, 0.30971520530904867, 0.34513914025065684, 0.2565260648398438, 0.2537401931561049, 0.2537396074266665, 0.30066027144615903, 0.39646923880449475, 0.3434608829349245, 0.3054321616891939, 0.5324848434617483, 0.5093770245544159, 0.3222430738348359, 0.3222430738348359, 0.3222430738348359, 0.3222430738348359, 0.3222430738348359, 0.3222430738348359, 0.3222430738348359, 0.3222430738348359, 0.3222430738348359, 0.3222430738348359, 0.3222430738348359, 0.3222430738348359, 0.3222430738348359, 0.3222430738348359, 0.3222430738348359, 0.3222430738348359, 0.3222430738348359, 0.3222430738348359, 0.3199533213362045, 0.31742923149917973, 0.5092745039229827, 0.32279288332057954, 0.2802670815286633, 0.2802670815286633, 0.2802670815286633, 0.2802670815286633, 0.27073757153947975, 0.27073757153947975, 0.32231138965663575, 0.5970321956956463, 0.5167531948278115, 0.31001788717565854, 0.3236214901440755, 0.3226941145878264, 0.5118014076840176, 0.3379565257601744, 0.32788283413326735, 0.32316676002404965, 0.3241300287443382, 0.9294493952266275, 0.4990132841838632, 0.49690704737419117, 0.2945719470982966, 0.2945719470982966, 0.2945719470982966, 0.2866113983592396, 0.31562707256781364, 0.26566254989576266, 0.2603817732218457, 0.26035127958542414, 0.24588724017096175, 0.24587835007920175, 0.24587176022097407, 0.24585082498740635, 0.24584690837355405, 0.24583125746026327, 0.24582553796066942, 0.24582594205574942, 0.24581638365289557, 0.24581417667207403, 0.24581064861118326, 0.245791345300054, 0.24577400029585092, 0.245771140546054, 0.2598486785586146, 0.24107145259717738, 0.24098831780552657, 0.2256373984852929, 0.24803163288145688, 0.25947081857457743, 0.2765453277479598, 0.25998027367562854, 0.2623785624333115, 0.2505664436077061, 0.25704435195612374, 0.24665551817075299, 0.689978074326817, 0.3783678959825702, 0.28748665685673136, 0.28748665685673136, 0.28748665685673136, 0.28723662911325887, 0.28723662911325887, 0.2689715783309267, 0.26897058591120565, 0.2689665231929726, 0.26896354593380944, 0.2689575293892506, 0.2599110809023276, 0.2505337379712246, 0.2502056657206262, 0.2502057587599751, 0.250203231190998, 0.25018068465546034, 0.25016220083815577, 0.24522807606378347, 0.2450491303828313, 0.228733843208087, 0.22862616566835287, 0.22855944094867028, 0.25057605536839256, 0.24784618783382534, 0.2552759225689222, 0.26321321796510455, 0.2389639537976202, 0.2278976210471938, 0.2684860679955184, 0.2526504451837631, 0.252843501832624, 0.25375186050199117, 0.26194989867332175, 0.26784874845590534, 0.2477639565560013, 0.2557137812511619, 0.3971994546497969, 0.30250191408519883, 0.3059645949085592, 0.299740615243931, 0.31012139347725315, 0.3026704321176922, 0.2428959396528398, 0.2428959396528398, 0.26364391782039454, 0.28462208340592393, 0.1909915427482268, 0.19060779488230895, 0.19059518208304174, 0.1905906610918099, 0.19008374303426337, 0.3011402834785267, 0.1714744542510764, 0.1714744542510764, 0.23202606679520044, 0.15574589510464842, 0.12445649026110045, 0.12144014621277968, 0.12156105590879242, 0.12116212057741431, 0.12016575541148845, 0.12210910732385186, 0.12198419003730647, 0.1255498498456922, 0.11615143703087115, 0.12067611401998939, 0.1258600204949858, 0.25189035209356364, 0.21909961801427913, 0.15898989788093285, 0.14785949332518633, 0.15958913611197334, 0.15493761849936194, 0.13295996136752938, 0.13495834676976942, 0.13277570415539158, 0.12941961144734504, 0.13274100746336132], \"Total\": [653.0, 1869.0, 3763.0, 180.0, 654.0, 1789.0, 626.0, 5939.0, 416.0, 195.0, 257.0, 1466.0, 556.0, 4576.0, 1895.0, 474.0, 167.0, 181.0, 4558.0, 875.0, 279.0, 1215.0, 1106.0, 492.0, 679.0, 1339.0, 2218.0, 869.0, 2110.0, 760.0, 408.7774673311812, 492.12936458066093, 785.069703425709, 122.2420014277131, 189.70113103113462, 110.8072302379867, 1082.5324080825017, 124.26173454542074, 688.6342246121509, 402.0076620829599, 77.74064131074871, 70.65734185253835, 80.60302770114916, 63.89451883488529, 189.7150157658392, 573.1569170200481, 1361.5679675209333, 264.92150030163043, 55.00813212380388, 640.8439864443361, 794.3535889952652, 166.18752394258502, 101.45050268576026, 71.85651062003926, 60.67707906247344, 81.0059702053565, 487.1702922493823, 159.01123538905074, 166.25914024183987, 52.19194874862404, 728.4729825289884, 158.50860606006128, 243.5620691025123, 1361.8176026890571, 126.44008114976677, 3203.120414860465, 431.31553079977965, 5939.705113556436, 899.7948811411478, 1666.442146246344, 935.5087259237598, 4558.444093990769, 1083.8472076074618, 650.5956031608013, 2045.7367480425964, 1161.843476517934, 609.5758135878226, 2308.4073574961117, 490.0148190831935, 1691.6563130126247, 929.3966104267821, 1730.1802423615843, 3763.2981255138347, 2793.8053689814633, 4576.582805896515, 1010.9446823051348, 1381.0520157198614, 2218.267256968442, 2343.529392426933, 1869.2932438900107, 2110.5205240402415, 1665.4380622825067, 1991.2435540636948, 1528.111620124277, 1143.5252252492494, 1895.9667716747779, 1209.9395919637427, 1559.4191695500776, 1466.2814780384676, 1789.2550555421578, 190.96930024724222, 55.139729572461206, 68.83058911982404, 39.17302055101796, 39.15283251817066, 36.41454502834212, 27.117236803641173, 73.91025096720915, 22.969945344404504, 22.43686470371778, 26.83060722459198, 20.049318362466394, 48.335354069638505, 16.275030113699756, 16.767597979843433, 38.65385978821283, 18.624284780867125, 31.717395770695312, 16.618268894880643, 39.59666061634661, 19.689975449652625, 16.40587979668857, 43.93704401106284, 22.70617382757775, 17.228354512426783, 81.03370613230497, 20.03133741668011, 18.678949056628912, 32.88557308496247, 15.100171918873748, 54.55883493442182, 57.4811969642533, 63.61672508126647, 63.96604815834614, 64.9202632682122, 131.9352558188106, 404.194607046483, 59.22884694550526, 75.9807524486786, 197.42437564903955, 113.17201145177071, 547.8727795010035, 889.1802308878066, 1215.4636598578702, 610.4861572337587, 249.56338870370297, 869.1439425316084, 1106.783398711858, 334.09903175260746, 457.1830439156993, 1359.955221271868, 231.08949109630183, 920.9634882324898, 723.8737667601712, 278.3279720284354, 439.48696245746817, 155.12406016207808, 1559.4191695500776, 432.65903403665544, 914.710844116, 911.409908763945, 4576.582805896515, 999.7534448853769, 1789.2550555421578, 2110.5205240402415, 629.3076895756118, 829.8697640014708, 1019.6232198683376, 3763.2981255138347, 2343.529392426933, 1869.2932438900107, 731.7017341319398, 1895.9667716747779, 4558.444093990769, 1991.2435540636948, 1665.4380622825067, 2793.8053689814633, 2218.267256968442, 5939.705113556436, 1528.111620124277, 1339.5465931471256, 2308.4073574961117, 71.11314892597704, 66.21615873731035, 39.92935759661745, 83.26598501194326, 416.9407245967205, 86.78448301949877, 41.65986501498552, 32.703780375300546, 33.27922932265569, 72.27823951712544, 82.26009443557435, 38.450597993004045, 37.757664421540724, 66.46521998410124, 26.825789785327522, 25.272983796184963, 26.18787996491027, 22.03387598989821, 21.547490788819278, 22.963220609151993, 24.031656360658342, 44.140917596482375, 36.10995267086926, 20.54877237845458, 20.053330640341336, 18.727815475685645, 17.990995310784186, 147.95268446550128, 20.487772560184897, 26.337900194792276, 271.0018212781542, 33.45367426607976, 27.37278485488687, 52.88733396339296, 50.75812811343098, 556.5445102500065, 626.7493257261616, 113.41650172553052, 98.65693721366966, 54.68862034138177, 62.514553605336076, 269.9269434673162, 368.42909438003295, 875.0240931454672, 184.08647566008597, 567.0716021818299, 1466.2814780384676, 627.9339296845525, 1789.2550555421578, 679.0418580574562, 350.7688130050863, 444.31509494194665, 978.628845341406, 271.48064370805815, 112.69509526373076, 490.08017500450916, 396.9023561104639, 1339.5465931471256, 654.4149546410929, 562.827755290015, 1691.6563130126247, 1895.9667716747779, 1991.2435540636948, 723.8737667601712, 5939.705113556436, 2218.267256968442, 1381.0520157198614, 783.1225855812273, 4576.582805896515, 3203.120414860465, 2343.529392426933, 2793.8053689814633, 1730.1802423615843, 653.3680040208142, 181.59775410462433, 23.672159013676787, 20.820617603692018, 25.434208283036522, 20.237615454305057, 19.729582319941635, 17.497708910984812, 15.546131661528719, 16.10250080267057, 25.51729992367431, 16.100445203140616, 15.448258116980623, 12.305872853150504, 117.67216442111595, 12.399183184181465, 14.267457975825616, 11.854601403432083, 36.39869984120018, 13.506225223914686, 9.579475871513141, 9.018108522490115, 113.56961070505619, 9.787624585988127, 24.501544446786344, 8.42050810573165, 8.423552128970574, 13.419917970769129, 8.242341824755563, 8.202381940426537, 257.9430830750653, 24.262704239918516, 98.90339170333218, 54.217865306091, 68.76062988560108, 79.01845835151158, 62.086171455998226, 279.1411864985438, 474.24250706129624, 654.4149546410929, 183.6009615693768, 1869.2932438900107, 3763.2981255138347, 1895.9667716747779, 5939.705113556436, 760.393448245698, 2218.267256968442, 1528.111620124277, 4558.444093990769, 869.1439425316084, 1106.783398711858, 711.8496158136811, 2045.7367480425964, 807.1212938031516, 2110.5205240402415, 451.2472828925068, 1215.4636598578702, 429.1537048174429, 25.099301357528464, 35.18804651802447, 14.524899382246364, 8.203313414262729, 12.454066499026528, 12.228590833848008, 6.845682604783713, 15.104580929352434, 6.419502785762142, 11.391391031061453, 6.239660806494438, 9.511699356994566, 6.23295047578859, 6.944345711967726, 24.833564836982433, 5.587365954362551, 5.587365954362551, 5.6348698525588246, 5.8272798420303635, 6.510101597030667, 13.547721323603609, 5.646011284501009, 6.703700623433627, 5.483885585756322, 46.23191402421578, 5.374285809888312, 5.324782601712205, 5.349923640707907, 6.954412802585519, 7.510822326380381, 8.253007343323977, 167.19605987896276, 19.790080784613913, 18.439186771235786, 53.303751489305014, 11.552943813787884, 21.64833763574721, 43.43995709379717, 14.563471381672624, 17.877969443212073, 113.3782472390664, 785.069703425709, 180.80739145069492, 46.84854143816984, 11.687305599300242, 8.67328805521829, 26.308674105496962, 8.019796070500577, 7.818545482682983, 7.493244334133768, 6.73855894397501, 6.249464218623566, 7.372409904463474, 5.728886905889463, 5.6294099053192355, 5.883914733716086, 5.471037243233382, 7.507499462975301, 5.152873058919758, 5.025958563170202, 5.133536369480881, 5.441808815830063, 5.734959988040849, 4.897623925636599, 4.860744811694846, 5.0231820385792725, 4.939450299480373, 4.7542003333474545, 4.9140192072950315, 5.1144709986218855, 4.766754181459979, 4.781310260319012, 57.408724121644696, 195.77950695705007, 56.73550483984533, 8.874765239614293, 11.648002592014116, 6.136114960831141, 16.849956817840376, 17.569123393372976, 492.12936458066093, 21.541925419680535, 193.51365741838399, 1869.2932438900107, 688.6342246121509, 14.927280703751348, 18.439186771235786, 6.6852763392952435, 6.812754552344719, 6.431482233058016, 7.122038433145016, 4.994617972088345, 4.939531795896755, 9.511699356994566, 5.987973306215046, 5.640168226952343, 4.568932319022215, 6.558510481239473, 4.421216817896429, 4.395090824336432, 4.3951244839210215, 4.395145408841265, 4.684518735601722, 5.238614039802826, 16.877228405819093, 4.323782180252435, 4.323782180252435, 5.161090917998691, 5.146292165603543, 12.865532446921419, 4.259446820690219, 4.259441755239088, 4.259449910108899, 4.204029839790669, 4.20402198224554, 4.204033244754077, 6.0526188501965565, 6.021231593223097, 15.170480023924835, 17.596642837961056, 10.541372534236919, 9.686644848933213, 11.459082354155745, 54.06536324781897, 12.454066499026528, 25.06633813078613, 11.899114604240252, 10.394777251440702, 9.081671584464733, 4.50516847052314, 4.300591314170797, 4.3103277905842985, 4.327757012794022, 4.437844642559515, 4.479052667695286, 7.080268758552564, 5.769628300460568, 4.383038254781717, 5.413453530158014, 4.538155640458039, 4.179570246155729, 4.2998090077386575, 4.811799033364272, 9.517413482031394, 4.238878702264741, 4.250640022074682, 4.307441824647123, 4.408834411105759, 4.391288466400492, 5.01062829850758, 5.29168797636228, 4.113995893866005, 4.113995893866005, 4.626427396478101, 8.482089114312421, 4.082607361573865, 4.082607361573865, 4.082607361573865, 4.082607361573865, 5.41129623049238, 5.677801315515057, 11.393264688606468, 5.941840620237518, 6.12197630884804, 4.881067710986315, 4.685663711927697, 4.467507187111265, 4.422009251094925, 4.399261395731294, 4.490352386202899, 4.406081010869143, 5.116722807812522, 6.332293981319255, 4.249354966544286, 4.249354966544286, 4.249354966544286, 4.249354966544286, 4.249354966544286, 4.249354966544286, 4.249354966544286, 4.249354966544286, 4.249354966544286, 4.245229702326378, 4.272410841290538, 4.22661098810198, 4.22661098810198, 4.22661098810198, 4.203868725140471, 4.203868725140471, 5.085992369631406, 4.849868669249436, 6.840931672287324, 4.051300971575072, 4.051300971575072, 4.051300971575072, 4.051300971575072, 4.051300971575072, 4.051300971575072, 4.051300971575072, 4.051300971575072, 4.051300971575072, 4.051300971575072, 4.051300971575072, 4.051300971575072, 4.051300971575072, 334.3299056015589, 5.38425372294289, 4.291146862072912, 5.054876944951666, 22.243242546255132, 4.133528122745299, 4.13361579214884, 4.133608515475244, 4.133588677170677, 4.356969501430584, 6.1153169280825885, 4.234125955744537, 4.350207378913595, 4.071199674025153, 4.071199674025153, 4.071199674025153, 4.071199674025153, 4.071199674025153, 4.094063236947943, 4.094063236947943, 4.094063236947943, 4.094063236947943, 4.1361763323364364, 4.1361763323364364, 4.1361763323364364, 4.311606398075811, 4.083620651444702, 4.083620651444702, 3.975679617810901, 3.975692930092925, 3.975704290716495, 6.4995771819129455, 5.1639585510072905, 4.920807387870944, 10.907951868224721, 24.801298080346026, 7.92557253097882, 7.950325489378137, 9.476652449903668, 11.75873440140261, 29.569065262790566, 16.00189572721617, 14.793078626770537, 88.4569613773352, 20.527200062661674, 4.640269043655384, 4.47420904847996, 6.790128731699214, 6.100427504962581, 4.260304276245439, 4.3325472543264505, 4.3325472543264505, 4.3325472543264505, 4.3325472543264505, 4.3325472543264505, 5.88227942404953, 4.282324140144653, 4.348336163600253, 4.840367839372848, 4.075619079482892, 4.075619079482892, 4.075619079482892, 4.10042258750489, 4.10042258750489, 4.101853381740425, 4.101853381740425, 4.071664406504844, 4.071664406504844, 4.071664406504844, 4.071664406504844, 4.099947806636077, 4.099947806636077, 4.099947806636077, 4.099947806636077, 4.48387864906608, 4.743940196945738, 4.386292614842236, 31.338626517520968, 5.979965451403274, 6.414635813251028, 9.276229299551538, 10.439033154772938, 4.790508072105253, 6.08782130831572, 9.585640609549488, 4.7569633944732415, 8.212248065664909, 4.569929342791139, 14.194503243090042, 4.344423584235878, 4.253084830616082, 4.6597412639408935, 4.358101335892206, 4.195555034701547, 6.234420461964365, 4.062242574622049, 7.062030791314783, 4.664830731086392, 4.0832833881781605, 4.0832833881781605, 4.105507013968545, 4.105507013968545, 4.105507013968545, 4.105507013968545, 4.105507013968545, 4.105507013968545, 4.039605743825202, 4.039605743825202, 4.039605743825202, 4.039605743825202, 4.039605743825202, 4.028960075859671, 4.028960075859671, 4.028960075859671, 4.4347750993096815, 6.849002294807011, 6.045445136750452, 8.821726339667007, 4.8182944339188545, 8.4514646004062, 7.020373793177332, 12.603723965224853, 5.541004302315204, 9.958292158661516, 12.500548756760395, 11.516621539875326, 5.746868224089045, 4.5938950599450825, 4.62851661029242, 4.284276485632196, 4.658356985154532, 4.42387962777611, 4.35131102937962, 6.240196195240319, 4.110152257530604, 4.110152257530604, 4.110152257530604, 4.110152257530604, 4.110152257530604, 4.066548891862634, 4.0168971163947, 4.0168971163947, 4.097125217782469, 4.097125217782469, 4.097125217782469, 4.097125217782469, 4.097125217782469, 4.097125217782469, 4.097125217782469, 4.06817240637589, 4.008164438229211, 4.008164438229211, 4.008164438229211, 4.008164438229211, 4.080861657463015, 4.080861657463015, 4.166814487730625, 4.166814487730625, 5.882349335120779, 5.864888600449603, 4.503320465890898, 12.46549711764521, 8.867710768649056, 8.786872929326448, 8.75182268185504, 5.937034091837446, 6.108766743121222, 7.042739424023363, 5.457615715661259, 4.446991272344236, 4.372240430658323, 5.923454928839849, 4.227819231538133, 4.392360806092429, 4.289116472077303, 4.878210362966925, 5.363474330936343, 4.056626388461336, 4.056626388461336, 6.070664214133928, 4.03535347439543, 4.03535347439543, 4.03535347439543, 4.03535347439543, 4.03535347439543, 4.03535347439543, 4.1739541020420985, 4.1739541020420985, 4.052791440972806, 4.052791440972806, 4.052791440972806, 4.052791440972806, 4.052791440972806, 4.052791440972806, 4.052791440972806, 4.052791440972806, 4.052791440972806, 4.119101408980517, 4.071854441077362, 4.071854441077362, 4.071854441077362, 4.894754134417039, 4.958444456584939, 7.680759278145766, 20.834523207432674, 8.786872929326448, 4.545147013608568, 9.303062026798044, 4.9150228264122395, 14.859785158979376, 6.4171463059041765, 4.615434397851823, 13.677885162551268, 4.412636660059729, 4.360739243376852, 4.286748932120219, 4.885300349273348, 4.220776651370559, 5.676173429165993, 4.068251871358815, 4.083427305425874, 4.083427305425874, 4.083427305425874, 4.070231043909737, 5.954184020193111, 4.043859628005032, 4.043859628005032, 4.043859628005032, 4.043859628005032, 4.043859628005032, 4.043859628005032, 4.043859628005032, 4.043859628005032, 3.996307975081215, 3.9964684662282735, 3.996620779953459, 3.9966926015876116, 3.9966998636446314, 4.207506792193584, 4.207506792193584, 4.207506792193584, 4.207506792193584, 4.207506792193584, 4.207506792193584, 4.207506792193584, 4.6100094108490905, 5.708929993968423, 5.694791590413062, 8.043251018463247, 10.246124785552018, 21.971535127993636, 12.925684317193877, 4.796871070509793, 4.524428362788683, 4.450510909995355, 4.288818033649145, 4.288818033649145, 4.288818033649145, 4.299822586840086, 4.303203953326326, 4.670002614180593, 5.454411739550707, 4.760940068594746, 5.068314062461121, 4.147978172091124, 4.052908276507602, 4.052908276507602, 4.052908276507602, 4.052908276507602, 4.052908276507602, 4.052908276507602, 4.052908276507602, 4.052908276507602, 4.052908276507602, 4.052908276507602, 4.052908276507602, 4.692521246564653, 4.035798019186073, 4.035798019186073, 4.733030993870917, 4.032015219219489, 3.9939041422577977, 3.9939200775812225, 4.882452492283408, 7.261722756514891, 11.213842266177902, 10.921046950011013, 4.236489946296552, 4.318496430983197, 4.025548955692499, 4.025548955692499, 4.025548955692499, 4.025548955692499, 4.025548955692499, 4.025548955692499, 4.025548955692499, 4.025548955692499, 4.025548955692499, 4.025548955692499, 4.025548955692499, 4.025548955692499, 4.025548955692499, 4.025548955692499, 4.025548955692499, 4.025548955692499, 4.025548955692499, 4.025548955692499, 4.066219077701852, 4.072025797310219, 6.728960612450514, 4.537180927166489, 4.036785194829006, 4.036785194829006, 4.036785194829006, 4.036785194829006, 4.0457387870256865, 4.0457387870256865, 4.874322996230135, 10.324618108213002, 13.139041376170844, 4.916326197225035, 5.470411216884183, 5.4906209643987385, 18.563772349495004, 6.941033355829727, 8.928088389357836, 5.8541041662208135, 7.324186398102662, 7.76774748966796, 4.273895627893203, 5.02489669273174, 4.097209581513886, 4.097209581513886, 4.097209581513886, 4.07905335363621, 4.566324317839816, 4.006241452416166, 4.022572840038141, 4.022630130987614, 4.0027224050573205, 4.00279056641353, 4.002781536266247, 4.002859786836709, 4.00284636304196, 4.002882819680678, 4.002867820817481, 4.002903465574475, 4.002914196114312, 4.002946287687949, 4.002924488932811, 4.0030069310580725, 4.003030716324696, 4.0030620397883805, 4.364051283559851, 4.1560155775625685, 4.156293904429019, 4.018331164679458, 4.581761704995227, 4.924764358673552, 5.91121702379608, 5.206993113355865, 7.179015833697467, 6.395681561509943, 14.993850869709329, 4.7573914069398135, 6.124735353803663, 5.171044197460083, 4.003548145116819, 4.003548145116819, 4.003548145116819, 4.105929910368206, 4.105929910368206, 3.995750828381106, 3.9957502622932544, 3.9957604443617125, 3.9957718868738334, 3.9957860732465385, 4.0187979705456485, 3.978754690069787, 3.9859403846669506, 3.985958625147336, 3.985959457155997, 3.9859863384859846, 3.9860127560565926, 4.065224342459756, 4.0658232729305315, 4.046533351192145, 4.046894820750436, 4.04710575514647, 4.4429860507738175, 4.630325326095773, 4.954304553124451, 5.1377251731155305, 4.820060499880688, 4.645480531571687, 5.882349335120779, 5.675758809581496, 6.386578453942228, 6.634809439264518, 9.194015651181077, 12.591521100893615, 6.2963992950291345, 38.11786347193795, 4.2651513245156725, 4.030954695756997, 4.084029878201078, 4.247297611655648, 4.828384140529913, 4.75727008373305, 4.067970874492738, 4.067970874492738, 4.696215163388063, 5.456706977743079, 4.169997608985294, 4.17129540630229, 4.171355714927756, 4.171378731068724, 4.173105826886111, 6.680013106505022, 4.094183006495997, 4.094183006495997, 5.556820673827833, 4.978779797893473, 4.068503443965739, 3.9761326551144562, 4.018425163208473, 4.05077171372645, 4.029627258695354, 4.098724753158997, 4.186438702061314, 4.313285463102989, 4.001461658938955, 4.1729331011139985, 4.5977728784610585, 16.17322271045627, 25.613824945730954, 9.622132659726415, 8.222047771979629, 12.367580673338951, 12.505341758203526, 7.5600235318268965, 49.53120099098201, 40.82098178669454, 13.41291860465087, 4558.444093990769], \"Category\": [\"Default\", \"Default\", \"Default\", \"Default\", \"Default\", \"Default\", \"Default\", \"Default\", \"Default\", \"Default\", \"Default\", \"Default\", \"Default\", \"Default\", \"Default\", \"Default\", \"Default\", \"Default\", \"Default\", \"Default\", \"Default\", \"Default\", \"Default\", \"Default\", \"Default\", \"Default\", \"Default\", \"Default\", \"Default\", \"Default\", \"Topic1\", \"Topic1\", \"Topic1\", \"Topic1\", \"Topic1\", \"Topic1\", \"Topic1\", \"Topic1\", \"Topic1\", \"Topic1\", \"Topic1\", \"Topic1\", \"Topic1\", \"Topic1\", \"Topic1\", \"Topic1\", \"Topic1\", \"Topic1\", \"Topic1\", \"Topic1\", \"Topic1\", \"Topic1\", \"Topic1\", \"Topic1\", \"Topic1\", \"Topic1\", \"Topic1\", \"Topic1\", \"Topic1\", \"Topic1\", \"Topic1\", \"Topic1\", \"Topic1\", \"Topic1\", \"Topic1\", \"Topic1\", \"Topic1\", \"Topic1\", \"Topic1\", \"Topic1\", \"Topic1\", \"Topic1\", \"Topic1\", \"Topic1\", \"Topic1\", \"Topic1\", \"Topic1\", \"Topic1\", \"Topic1\", \"Topic1\", \"Topic1\", \"Topic1\", \"Topic1\", \"Topic1\", \"Topic1\", \"Topic1\", \"Topic1\", \"Topic1\", \"Topic1\", \"Topic1\", \"Topic1\", \"Topic1\", \"Topic1\", \"Topic1\", \"Topic1\", \"Topic1\", \"Topic1\", \"Topic1\", \"Topic1\", \"Topic1\", \"Topic2\", \"Topic2\", \"Topic2\", \"Topic2\", \"Topic2\", \"Topic2\", \"Topic2\", \"Topic2\", \"Topic2\", \"Topic2\", \"Topic2\", \"Topic2\", \"Topic2\", \"Topic2\", \"Topic2\", \"Topic2\", \"Topic2\", \"Topic2\", \"Topic2\", \"Topic2\", \"Topic2\", \"Topic2\", \"Topic2\", \"Topic2\", \"Topic2\", \"Topic2\", \"Topic2\", \"Topic2\", \"Topic2\", \"Topic2\", \"Topic2\", \"Topic2\", \"Topic2\", \"Topic2\", \"Topic2\", \"Topic2\", \"Topic2\", \"Topic2\", \"Topic2\", \"Topic2\", \"Topic2\", \"Topic2\", \"Topic2\", \"Topic2\", \"Topic2\", \"Topic2\", \"Topic2\", \"Topic2\", \"Topic2\", \"Topic2\", \"Topic2\", \"Topic2\", \"Topic2\", \"Topic2\", \"Topic2\", \"Topic2\", \"Topic2\", \"Topic2\", \"Topic2\", \"Topic2\", \"Topic2\", \"Topic2\", \"Topic2\", \"Topic2\", \"Topic2\", \"Topic2\", \"Topic2\", \"Topic2\", \"Topic2\", \"Topic2\", \"Topic2\", \"Topic2\", \"Topic2\", \"Topic2\", \"Topic2\", \"Topic2\", \"Topic2\", \"Topic2\", \"Topic2\", \"Topic2\", \"Topic2\", \"Topic2\", \"Topic3\", \"Topic3\", \"Topic3\", \"Topic3\", \"Topic3\", \"Topic3\", \"Topic3\", \"Topic3\", \"Topic3\", \"Topic3\", \"Topic3\", \"Topic3\", \"Topic3\", \"Topic3\", \"Topic3\", \"Topic3\", \"Topic3\", \"Topic3\", \"Topic3\", \"Topic3\", \"Topic3\", \"Topic3\", \"Topic3\", \"Topic3\", \"Topic3\", \"Topic3\", \"Topic3\", \"Topic3\", \"Topic3\", \"Topic3\", \"Topic3\", \"Topic3\", \"Topic3\", \"Topic3\", \"Topic3\", \"Topic3\", \"Topic3\", \"Topic3\", \"Topic3\", \"Topic3\", \"Topic3\", \"Topic3\", \"Topic3\", \"Topic3\", \"Topic3\", \"Topic3\", \"Topic3\", \"Topic3\", \"Topic3\", \"Topic3\", \"Topic3\", \"Topic3\", \"Topic3\", \"Topic3\", \"Topic3\", \"Topic3\", \"Topic3\", \"Topic3\", \"Topic3\", \"Topic3\", \"Topic3\", \"Topic3\", \"Topic3\", \"Topic3\", \"Topic3\", \"Topic3\", \"Topic3\", \"Topic3\", \"Topic3\", \"Topic3\", \"Topic3\", \"Topic3\", \"Topic3\", \"Topic4\", \"Topic4\", \"Topic4\", \"Topic4\", \"Topic4\", \"Topic4\", \"Topic4\", \"Topic4\", \"Topic4\", \"Topic4\", \"Topic4\", \"Topic4\", \"Topic4\", \"Topic4\", \"Topic4\", \"Topic4\", \"Topic4\", \"Topic4\", \"Topic4\", \"Topic4\", \"Topic4\", \"Topic4\", \"Topic4\", \"Topic4\", \"Topic4\", \"Topic4\", \"Topic4\", \"Topic4\", \"Topic4\", \"Topic4\", \"Topic4\", \"Topic4\", \"Topic4\", \"Topic4\", \"Topic4\", \"Topic4\", \"Topic4\", \"Topic4\", \"Topic4\", \"Topic4\", \"Topic4\", \"Topic4\", \"Topic4\", \"Topic4\", \"Topic4\", \"Topic4\", \"Topic4\", \"Topic4\", \"Topic4\", \"Topic4\", \"Topic4\", \"Topic4\", \"Topic4\", \"Topic4\", \"Topic4\", \"Topic4\", \"Topic4\", \"Topic4\", \"Topic5\", \"Topic5\", \"Topic5\", \"Topic5\", \"Topic5\", \"Topic5\", \"Topic5\", \"Topic5\", \"Topic5\", \"Topic5\", \"Topic5\", \"Topic5\", \"Topic5\", \"Topic5\", \"Topic5\", \"Topic5\", \"Topic5\", \"Topic5\", \"Topic5\", \"Topic5\", \"Topic5\", \"Topic5\", \"Topic5\", \"Topic5\", \"Topic5\", \"Topic5\", \"Topic5\", \"Topic5\", \"Topic5\", \"Topic5\", \"Topic5\", \"Topic5\", \"Topic5\", \"Topic5\", \"Topic5\", \"Topic5\", \"Topic5\", \"Topic5\", \"Topic5\", \"Topic5\", \"Topic5\", \"Topic5\", \"Topic6\", \"Topic6\", \"Topic6\", \"Topic6\", \"Topic6\", \"Topic6\", \"Topic6\", \"Topic6\", \"Topic6\", \"Topic6\", \"Topic6\", \"Topic6\", \"Topic6\", \"Topic6\", \"Topic6\", \"Topic6\", \"Topic6\", \"Topic6\", \"Topic6\", \"Topic6\", \"Topic6\", \"Topic6\", \"Topic6\", \"Topic6\", \"Topic6\", \"Topic6\", \"Topic6\", \"Topic6\", \"Topic6\", \"Topic6\", \"Topic6\", \"Topic6\", \"Topic6\", \"Topic6\", \"Topic6\", \"Topic6\", \"Topic6\", \"Topic6\", \"Topic6\", \"Topic6\", \"Topic6\", \"Topic6\", \"Topic6\", \"Topic6\", \"Topic7\", \"Topic7\", \"Topic7\", \"Topic7\", \"Topic7\", \"Topic7\", \"Topic7\", \"Topic7\", \"Topic7\", \"Topic7\", \"Topic7\", \"Topic7\", \"Topic7\", \"Topic7\", \"Topic7\", \"Topic7\", \"Topic7\", \"Topic7\", \"Topic7\", \"Topic7\", \"Topic7\", \"Topic7\", \"Topic7\", \"Topic7\", \"Topic7\", \"Topic7\", \"Topic7\", \"Topic7\", \"Topic7\", \"Topic7\", \"Topic7\", \"Topic7\", \"Topic7\", \"Topic7\", \"Topic7\", \"Topic7\", \"Topic7\", \"Topic7\", \"Topic7\", \"Topic7\", \"Topic7\", \"Topic8\", \"Topic8\", \"Topic8\", \"Topic8\", \"Topic8\", \"Topic8\", \"Topic8\", \"Topic8\", \"Topic8\", \"Topic8\", \"Topic8\", \"Topic8\", \"Topic8\", \"Topic8\", \"Topic8\", \"Topic8\", \"Topic8\", \"Topic8\", \"Topic8\", \"Topic8\", \"Topic8\", \"Topic8\", \"Topic8\", \"Topic8\", \"Topic8\", \"Topic8\", \"Topic8\", \"Topic8\", \"Topic8\", \"Topic8\", \"Topic8\", \"Topic8\", \"Topic8\", \"Topic8\", \"Topic8\", \"Topic8\", \"Topic9\", \"Topic9\", \"Topic9\", \"Topic9\", \"Topic9\", \"Topic9\", \"Topic9\", \"Topic9\", \"Topic9\", \"Topic9\", \"Topic9\", \"Topic9\", \"Topic9\", \"Topic9\", \"Topic9\", \"Topic9\", \"Topic9\", \"Topic9\", \"Topic9\", \"Topic9\", \"Topic9\", \"Topic9\", \"Topic9\", \"Topic9\", \"Topic9\", \"Topic9\", \"Topic9\", \"Topic9\", \"Topic9\", \"Topic9\", \"Topic9\", \"Topic9\", \"Topic9\", \"Topic9\", \"Topic9\", \"Topic9\", \"Topic9\", \"Topic9\", \"Topic9\", \"Topic9\", \"Topic9\", \"Topic9\", \"Topic9\", \"Topic10\", \"Topic10\", \"Topic10\", \"Topic10\", \"Topic10\", \"Topic10\", \"Topic10\", \"Topic10\", \"Topic10\", \"Topic10\", \"Topic10\", \"Topic10\", \"Topic10\", \"Topic10\", \"Topic10\", \"Topic10\", \"Topic10\", \"Topic10\", \"Topic10\", \"Topic10\", \"Topic10\", \"Topic10\", \"Topic10\", \"Topic10\", \"Topic10\", \"Topic10\", \"Topic10\", \"Topic10\", \"Topic10\", \"Topic10\", \"Topic10\", \"Topic10\", \"Topic10\", \"Topic10\", \"Topic10\", \"Topic10\", \"Topic10\", \"Topic10\", \"Topic10\", \"Topic10\", \"Topic10\", \"Topic10\", \"Topic10\", \"Topic10\", \"Topic11\", \"Topic11\", \"Topic11\", \"Topic11\", \"Topic11\", \"Topic11\", \"Topic11\", \"Topic11\", \"Topic11\", \"Topic11\", \"Topic11\", \"Topic11\", \"Topic11\", \"Topic11\", \"Topic11\", \"Topic11\", \"Topic11\", \"Topic11\", \"Topic11\", \"Topic11\", \"Topic11\", \"Topic11\", \"Topic11\", \"Topic11\", \"Topic11\", \"Topic11\", \"Topic11\", \"Topic11\", \"Topic11\", \"Topic11\", \"Topic11\", \"Topic11\", \"Topic11\", \"Topic11\", \"Topic11\", \"Topic11\", \"Topic11\", \"Topic11\", \"Topic11\", \"Topic12\", \"Topic12\", \"Topic12\", \"Topic12\", \"Topic12\", \"Topic12\", \"Topic12\", \"Topic12\", \"Topic12\", \"Topic12\", \"Topic12\", \"Topic12\", \"Topic12\", \"Topic12\", \"Topic12\", \"Topic12\", \"Topic12\", \"Topic12\", \"Topic12\", \"Topic12\", \"Topic12\", \"Topic12\", \"Topic12\", \"Topic12\", \"Topic12\", \"Topic12\", \"Topic12\", \"Topic12\", \"Topic12\", \"Topic12\", \"Topic12\", \"Topic12\", \"Topic12\", \"Topic12\", \"Topic12\", \"Topic12\", \"Topic12\", \"Topic12\", \"Topic12\", \"Topic12\", \"Topic12\", \"Topic12\", \"Topic12\", \"Topic13\", \"Topic13\", \"Topic13\", \"Topic13\", \"Topic13\", \"Topic13\", \"Topic13\", \"Topic13\", \"Topic13\", \"Topic13\", \"Topic13\", \"Topic13\", \"Topic13\", \"Topic13\", \"Topic13\", \"Topic13\", \"Topic13\", \"Topic13\", \"Topic13\", \"Topic13\", \"Topic13\", \"Topic13\", \"Topic13\", \"Topic13\", \"Topic13\", \"Topic13\", \"Topic13\", \"Topic13\", \"Topic13\", \"Topic13\", \"Topic13\", \"Topic13\", \"Topic13\", \"Topic13\", \"Topic13\", \"Topic13\", \"Topic13\", \"Topic13\", \"Topic13\", \"Topic13\", \"Topic13\", \"Topic13\", \"Topic14\", \"Topic14\", \"Topic14\", \"Topic14\", \"Topic14\", \"Topic14\", \"Topic14\", \"Topic14\", \"Topic14\", \"Topic14\", \"Topic14\", \"Topic14\", \"Topic14\", \"Topic14\", \"Topic14\", \"Topic14\", \"Topic14\", \"Topic14\", \"Topic14\", \"Topic14\", \"Topic14\", \"Topic14\", \"Topic14\", \"Topic14\", \"Topic14\", \"Topic14\", \"Topic14\", \"Topic14\", \"Topic14\", \"Topic14\", \"Topic14\", \"Topic14\", \"Topic14\", \"Topic14\", \"Topic14\", \"Topic14\", \"Topic14\", \"Topic14\", \"Topic14\", \"Topic14\", \"Topic14\", \"Topic14\", \"Topic15\", \"Topic15\", \"Topic15\", \"Topic15\", \"Topic15\", \"Topic15\", \"Topic15\", \"Topic15\", \"Topic15\", \"Topic15\", \"Topic15\", \"Topic15\", \"Topic15\", \"Topic15\", \"Topic15\", \"Topic15\", \"Topic15\", \"Topic15\", \"Topic15\", \"Topic15\", \"Topic15\", \"Topic15\", \"Topic15\", \"Topic15\", \"Topic15\", \"Topic15\", \"Topic15\", \"Topic15\", \"Topic15\", \"Topic15\", \"Topic15\", \"Topic15\", \"Topic15\", \"Topic15\", \"Topic15\", \"Topic15\", \"Topic15\", \"Topic15\", \"Topic15\", \"Topic15\", \"Topic15\", \"Topic15\", \"Topic16\", \"Topic16\", \"Topic16\", \"Topic16\", \"Topic16\", \"Topic16\", \"Topic16\", \"Topic16\", \"Topic16\", \"Topic16\", \"Topic16\", \"Topic16\", \"Topic16\", \"Topic16\", \"Topic16\", \"Topic16\", \"Topic16\", \"Topic16\", \"Topic16\", \"Topic16\", \"Topic16\", \"Topic16\", \"Topic16\", \"Topic16\", \"Topic16\", \"Topic16\", \"Topic16\", \"Topic16\", \"Topic16\", \"Topic16\", \"Topic16\", \"Topic16\", \"Topic16\", \"Topic16\", \"Topic17\", \"Topic17\", \"Topic17\", \"Topic17\", \"Topic17\", \"Topic17\", \"Topic17\", \"Topic17\", \"Topic17\", \"Topic17\", \"Topic17\", \"Topic17\", \"Topic17\", \"Topic17\", \"Topic17\", \"Topic17\", \"Topic17\", \"Topic17\", \"Topic17\", \"Topic17\", \"Topic17\", \"Topic17\", \"Topic17\", \"Topic17\", \"Topic17\", \"Topic17\", \"Topic17\", \"Topic17\", \"Topic17\", \"Topic17\", \"Topic17\", \"Topic17\", \"Topic17\", \"Topic17\", \"Topic17\", \"Topic17\", \"Topic17\", \"Topic17\", \"Topic17\", \"Topic17\", \"Topic17\", \"Topic18\", \"Topic18\", \"Topic18\", \"Topic18\", \"Topic18\", \"Topic18\", \"Topic18\", \"Topic18\", \"Topic18\", \"Topic18\", \"Topic18\", \"Topic18\", \"Topic18\", \"Topic18\", \"Topic18\", \"Topic18\", \"Topic18\", \"Topic18\", \"Topic18\", \"Topic18\", \"Topic18\", \"Topic18\", \"Topic18\", \"Topic18\", \"Topic18\", \"Topic18\", \"Topic18\", \"Topic18\", \"Topic18\", \"Topic18\", \"Topic18\", \"Topic18\", \"Topic18\", \"Topic18\", \"Topic18\", \"Topic18\", \"Topic18\", \"Topic19\", \"Topic19\", \"Topic19\", \"Topic19\", \"Topic19\", \"Topic19\", \"Topic19\", \"Topic19\", \"Topic19\", \"Topic19\", \"Topic19\", \"Topic19\", \"Topic19\", \"Topic19\", \"Topic19\", \"Topic19\", \"Topic19\", \"Topic19\", \"Topic19\", \"Topic19\", \"Topic19\", \"Topic19\", \"Topic19\", \"Topic19\", \"Topic19\", \"Topic19\", \"Topic19\", \"Topic19\", \"Topic19\", \"Topic19\", \"Topic19\", \"Topic19\", \"Topic19\", \"Topic19\", \"Topic19\", \"Topic19\", \"Topic19\", \"Topic19\", \"Topic20\", \"Topic20\", \"Topic20\", \"Topic20\", \"Topic20\", \"Topic20\", \"Topic20\", \"Topic20\", \"Topic20\", \"Topic20\", \"Topic20\", \"Topic20\", \"Topic20\", \"Topic20\", \"Topic20\", \"Topic20\", \"Topic20\", \"Topic20\", \"Topic20\", \"Topic20\", \"Topic20\", \"Topic20\", \"Topic20\", \"Topic20\", \"Topic20\", \"Topic20\", \"Topic20\", \"Topic20\", \"Topic20\", \"Topic20\", \"Topic20\", \"Topic20\", \"Topic20\", \"Topic20\", \"Topic20\", \"Topic20\", \"Topic20\", \"Topic20\", \"Topic20\", \"Topic20\", \"Topic20\", \"Topic20\"], \"logprob\": [30.0, 29.0, 28.0, 27.0, 26.0, 25.0, 24.0, 23.0, 22.0, 21.0, 20.0, 19.0, 18.0, 17.0, 16.0, 15.0, 14.0, 13.0, 12.0, 11.0, 10.0, 9.0, 8.0, 7.0, 6.0, 5.0, 4.0, 3.0, 2.0, 1.0, -6.2297, -6.0571, -5.5953, -7.4563, -7.0174, -7.5554, -5.2787, -7.4482, -5.7365, -6.2758, -7.9224, -8.0185, -7.8909, -8.1238, -7.0369, -5.9329, -5.0692, -6.7081, -8.2807, -5.8288, -5.6142, -7.1797, -7.6733, -8.0195, -8.1891, -7.9003, -6.1069, -7.2274, -7.1837, -8.3427, -5.7154, -7.2328, -6.8094, -5.1072, -7.4606, -4.3125, -6.2611, -3.7174, -5.5499, -4.9603, -5.5155, -4.0113, -5.3876, -5.8781, -4.792, -5.3306, -5.9464, -4.7069, -6.1536, -5.0113, -5.5638, -4.9927, -4.2885, -4.5631, -4.1293, -5.4894, -5.2404, -4.8899, -4.8672, -5.0473, -4.9642, -5.1532, -5.0531, -5.2354, -5.4287, -5.1972, -5.4269, -5.378, -5.4797, -5.4768, -6.0122, -7.3094, -7.0955, -7.6854, -7.7109, -7.7946, -8.1027, -7.1046, -8.2865, -8.3214, -8.1495, -8.4421, -7.5669, -8.66, -8.6416, -7.8081, -8.5422, -8.0108, -8.6589, -7.7916, -8.4939, -8.6765, -7.6919, -8.3544, -8.6322, -7.0952, -8.4987, -8.5766, -8.0114, -8.7934, -7.511, -7.4806, -7.3824, -7.3854, -7.3793, -6.7332, -5.7212, -7.4866, -7.2625, -6.3954, -6.902, -5.5018, -5.2213, -4.9722, -5.5546, -6.2987, -5.283, -5.0877, -6.072, -5.8361, -5.0058, -6.4081, -5.3499, -5.5466, -6.2735, -5.935, -6.7185, -5.0371, -5.9753, -5.4393, -5.4429, -4.2927, -5.3791, -4.9812, -4.8762, -5.7175, -5.5311, -5.4118, -4.569, -4.9016, -5.0629, -5.65, -5.0941, -4.6411, -5.1503, -5.3133, -5.118, -5.2105, -4.8804, -5.405, -5.4863, -5.4868, -6.6303, -6.7119, -7.2411, -6.515, -4.9088, -6.488, -7.2238, -7.4692, -7.4547, -6.6795, -6.5533, -7.3173, -7.3434, -6.7783, -7.6875, -7.7636, -7.7351, -7.9108, -7.9444, -7.8811, -7.8367, -7.2328, -7.4414, -8.0076, -8.0322, -8.1125, -8.1542, -6.0477, -8.0268, -7.7771, -5.4862, -7.5415, -7.7431, -7.1279, -7.1684, -4.947, -4.8514, -6.4318, -6.5631, -7.1397, -7.0351, -5.8668, -5.6623, -5.1091, -6.2694, -5.475, -4.8196, -5.4747, -4.7901, -5.4403, -5.8891, -5.743, -5.2533, -6.0833, -6.6429, -5.7359, -5.8665, -5.1767, -5.64, -5.774, -5.3293, -5.3127, -5.299, -5.7494, -5.0219, -5.4, -5.587, -5.7776, -5.2265, -5.3722, -5.5524, -5.5582, -5.6985, -3.0965, -4.4734, -6.5637, -6.7184, -6.5216, -6.7865, -6.8172, -6.9569, -7.0787, -7.0436, -6.5873, -7.0584, -7.1025, -7.398, -5.1415, -7.3925, -7.2767, -7.463, -6.3476, -7.3465, -7.7681, -7.8586, -5.3377, -7.8085, -6.904, -7.981, -7.9904, -7.5302, -8.0212, -8.029, -4.6696, -6.9937, -5.7085, -6.3862, -6.3593, -6.2706, -6.4977, -5.6345, -5.4849, -5.3358, -6.2469, -5.3204, -5.1688, -5.4765, -5.1461, -5.9591, -5.72, -5.8781, -5.7066, -6.1521, -6.1315, -6.237, -6.0819, -6.2368, -6.1541, -6.3057, -6.2773, -6.3411, -5.2505, -4.9221, -6.0168, -6.8134, -6.4194, -6.463, -7.186, -6.4288, -7.3467, -6.7863, -7.4103, -7.0023, -7.4477, -7.3684, -6.1114, -7.6444, -7.6444, -7.6398, -7.6405, -7.531, -6.7994, -7.6778, -7.5061, -7.7201, -5.6323, -7.7846, -7.8287, -7.9057, -7.6455, -7.5748, -7.5228, -5.1873, -6.844, -7.0579, -6.5638, -7.4573, -7.3024, -7.2176, -7.4839, -7.5057, -7.3478, -7.3976, -3.1148, -4.5573, -6.1918, -6.6896, -5.5914, -6.8379, -6.8666, -7.0281, -7.1803, -7.394, -7.2993, -7.5785, -7.5999, -7.6242, -7.7214, -7.4822, -7.9332, -8.0231, -8.015, -7.9888, -7.947, -8.1051, -8.1691, -8.1527, -8.1759, -8.2145, -8.1889, -8.1562, -8.2276, -8.2325, -5.9687, -4.9363, -6.2485, -7.7245, -7.5667, -8.0281, -7.4016, -7.4434, -6.741, -7.7229, -7.3162, -7.4331, -7.5576, -7.9378, -5.4419, -6.9787, -6.9786, -7.2146, -7.2004, -7.6226, -7.6409, -7.022, -7.6715, -7.7951, -8.0194, -7.7132, -8.1631, -8.2099, -8.2099, -8.2099, -8.175, -8.1376, -6.9834, -8.3555, -8.3555, -8.2113, -8.2179, -7.3086, -8.4327, -8.4327, -8.4327, -8.5124, -8.5125, -8.5125, -8.1852, -8.2021, -7.5906, -7.5084, -7.9267, -8.0067, -7.9315, -7.6697, -8.1119, -8.1021, -8.2057, -6.0271, -6.9458, -8.1981, -8.3746, -8.3741, -8.3812, -8.3651, -8.3956, -7.9408, -8.1579, -8.4949, -8.3004, -8.5273, -8.6315, -8.6063, -8.5083, -7.8363, -8.6768, -8.6749, -8.6738, -8.6744, -8.68, -8.5495, -8.5495, -8.8542, -8.8542, -8.7376, -8.1558, -8.8893, -8.8893, -8.8893, -8.8893, -8.6995, -8.6679, -8.6263, -8.8387, -6.9653, -7.5741, -7.7538, -8.002, -8.0626, -8.0943, -8.074, -8.1025, -8.0594, -7.8697, -8.3329, -8.3329, -8.3329, -8.3329, -8.3329, -8.3329, -8.3329, -8.3329, -8.3329, -8.3434, -8.3494, -8.3746, -8.3746, -8.3746, -8.4183, -8.4183, -8.2608, -8.3314, -8.0562, -8.7853, -8.7853, -8.7853, -8.7853, -8.7853, -8.7853, -8.7853, -8.7853, -8.7853, -8.7853, -8.7853, -8.7853, -8.7853, -8.3247, -7.645, -8.2732, -8.278, -6.8857, -8.5829, -8.5829, -8.5829, -8.5829, -8.6282, -8.3062, -8.6755, -8.6493, -8.8057, -8.8057, -8.8057, -8.8057, -8.8057, -8.8372, -8.8372, -8.8372, -8.8372, -8.8782, -8.8782, -8.8782, -8.938, -8.9942, -8.9942, -9.0332, -9.0332, -9.0332, -8.6009, -8.806, -8.8619, -8.3475, -7.8609, -8.5776, -8.6169, -8.5524, -8.5191, -8.4118, -8.6446, -8.6556, -8.5697, -8.6951, -7.9987, -8.217, -7.8111, -7.9917, -8.453, -8.5092, -8.5092, -8.5092, -8.5092, -8.5092, -8.2524, -8.592, -8.6117, -8.5921, -8.8163, -8.8163, -8.8163, -8.8527, -8.8527, -8.8681, -8.8681, -8.8804, -8.8804, -8.8804, -8.8804, -8.9141, -8.9141, -8.9141, -8.9141, -8.851, -8.8108, -8.8851, -8.2959, -8.822, -8.8411, -8.8405, -8.8437, -8.8759, -8.8722, -6.2228, -8.0364, -7.5755, -8.215, -7.1004, -8.3944, -8.4728, -8.4443, -8.5608, -8.6407, -8.3336, -8.8638, -8.334, -8.7638, -8.9105, -8.9105, -8.9122, -8.9122, -8.9122, -8.9122, -8.9122, -8.9122, -8.9362, -8.9362, -8.9362, -8.9362, -8.9362, -8.943, -8.943, -8.943, -8.8686, -8.5938, -8.6863, -8.4618, -8.8658, -8.6793, -8.761, -8.6291, -8.8631, -8.8249, -8.8399, -8.874, -8.9034, -7.8367, -7.9274, -8.37, -8.3675, -8.7085, -8.7823, -8.4228, -8.8472, -8.8472, -8.8472, -8.8472, -8.8472, -8.8888, -8.904, -8.904, -8.887, -8.887, -8.887, -8.887, -8.887, -8.887, -8.887, -8.897, -8.9135, -8.9135, -8.9135, -8.9135, -8.9001, -8.9001, -8.8796, -8.8796, -8.5859, -8.688, -8.8607, -8.4196, -8.6804, -8.7969, -8.817, -8.8616, -8.8593, -8.8715, -8.8864, -8.1012, -8.2061, -7.9598, -8.4359, -8.4408, -8.5051, -8.4536, -8.4485, -8.8065, -8.8065, -8.5099, -8.9308, -8.9308, -8.9308, -8.9308, -8.9308, -8.9308, -8.906, -8.906, -8.9361, -8.9361, -8.9361, -8.9361, -8.9361, -8.9361, -8.9361, -8.9361, -8.9361, -8.9658, -8.9831, -8.9831, -8.9831, -8.8104, -8.8095, -8.6118, -8.6081, -8.8849, -8.9302, -8.9052, -8.9303, -8.9038, -8.9312, -7.8599, -6.9874, -8.2319, -8.3277, -8.3631, -8.2832, -8.5564, -8.4542, -8.8063, -8.8305, -8.8305, -8.8305, -8.8801, -8.5077, -8.9388, -8.9388, -8.9388, -8.9388, -8.9388, -8.9388, -8.9388, -8.9388, -8.9763, -8.9764, -8.9766, -8.9767, -8.9767, -8.9476, -8.9476, -8.9476, -8.9476, -8.9476, -8.9476, -8.9476, -8.8835, -8.8299, -8.8344, -8.8431, -8.8295, -8.7518, -8.8438, -8.9392, -7.8869, -8.0417, -8.2264, -8.2264, -8.2264, -8.2816, -8.3009, -8.2264, -8.0759, -8.225, -8.2253, -8.5968, -8.7437, -8.7437, -8.7437, -8.7437, -8.7437, -8.7437, -8.7437, -8.7437, -8.7437, -8.7437, -8.7437, -8.6822, -8.8572, -8.8572, -8.7489, -9.0456, -9.0566, -9.0566, -8.8869, -8.6103, -8.7538, -8.8711, -8.3028, -8.3471, -8.805, -8.805, -8.805, -8.805, -8.805, -8.805, -8.805, -8.805, -8.805, -8.805, -8.805, -8.805, -8.805, -8.805, -8.805, -8.805, -8.805, -8.805, -8.8121, -8.8201, -8.3473, -8.8033, -8.9446, -8.9446, -8.9446, -8.9446, -8.9792, -8.9792, -8.8048, -8.1883, -8.3327, -8.8437, -8.8007, -8.8036, -8.3424, -8.7574, -8.7877, -8.8021, -8.7992, -7.7399, -8.3619, -8.3661, -8.889, -8.889, -8.889, -8.9164, -8.8199, -8.9923, -9.0123, -9.0125, -9.0696, -9.0697, -9.0697, -9.0698, -9.0698, -9.0698, -9.0699, -9.0699, -9.0699, -9.0699, -9.0699, -9.07, -9.0701, -9.0701, -9.0144, -9.0894, -9.0897, -9.1556, -9.0609, -9.0158, -8.9521, -9.0139, -9.0047, -9.0508, -9.0252, -9.0665, -8.0355, -8.6363, -8.911, -8.911, -8.911, -8.9119, -8.9119, -8.9776, -8.9776, -8.9776, -8.9776, -8.9776, -9.0119, -9.0486, -9.0499, -9.0499, -9.0499, -9.05, -9.0501, -9.07, -9.0707, -9.1396, -9.1401, -9.1404, -9.0484, -9.0594, -9.0299, -8.9992, -9.0959, -9.1433, -8.9794, -9.0402, -9.0394, -9.0358, -9.004, -8.9818, -9.0597, -9.0281, -8.576, -8.8484, -8.837, -8.8575, -8.8235, -8.8478, -9.0678, -9.0678, -8.9858, -8.9093, -9.3082, -9.3102, -9.3103, -9.3103, -9.313, -8.8529, -9.416, -9.416, -9.1136, -9.5122, -9.7365, -9.761, -9.76, -9.7633, -9.7716, -9.7555, -9.7566, -9.7277, -9.8056, -9.7673, -9.7253, -9.0315, -9.1709, -9.4916, -9.5642, -9.4878, -9.5174, -9.6704, -9.6555, -9.6718, -9.6974, -9.672], \"loglift\": [30.0, 29.0, 28.0, 27.0, 26.0, 25.0, 24.0, 23.0, 22.0, 21.0, 20.0, 19.0, 18.0, 17.0, 16.0, 15.0, 14.0, 13.0, 12.0, 11.0, 10.0, 9.0, 8.0, 7.0, 6.0, 5.0, 4.0, 3.0, 2.0, 1.0, 0.6113, 0.5983, 0.5931, 0.5919, 0.5913, 0.591, 0.5885, 0.5836, 0.583, 0.5819, 0.5785, 0.5779, 0.5738, 0.5732, 0.5718, 0.5702, 0.5686, 0.5667, 0.5661, 0.5626, 0.5625, 0.5613, 0.5613, 0.56, 0.5596, 0.5594, 0.5587, 0.5578, 0.557, 0.5565, 0.5478, 0.5556, 0.5494, 0.5304, 0.5538, 0.4698, 0.5262, 0.4474, 0.5021, 0.4754, 0.4976, 0.4182, 0.4784, 0.4982, 0.4387, 0.4659, 0.4951, 0.403, 0.5062, 0.4094, 0.4558, 0.4055, 0.3327, 0.3559, 0.2962, 0.4461, 0.3832, 0.2598, 0.2276, 0.2736, 0.2353, 0.2832, 0.2046, 0.287, 0.3836, 0.1095, 0.329, 0.1241, 0.084, -0.1122, 1.5899, 1.535, 1.5271, 1.5009, 1.4759, 1.4646, 1.4514, 1.4468, 1.4336, 1.4221, 1.4151, 1.4139, 1.4092, 1.4046, 1.3932, 1.3915, 1.3875, 1.3865, 1.3848, 1.3838, 1.3802, 1.3801, 1.3796, 1.3772, 1.3754, 1.3641, 1.3582, 1.3503, 1.3498, 1.346, 1.3439, 1.3221, 1.3189, 1.3105, 1.3018, 1.2387, 1.1311, 1.2862, 1.2612, 1.1734, 1.2233, 1.0464, 0.8426, 0.7791, 0.8853, 1.0358, 0.8037, 0.7573, 0.9708, 0.893, 0.6332, 1.0033, 0.6789, 0.723, 0.9519, 0.8336, 1.0915, 0.4651, 0.809, 0.5962, 0.5963, 0.1328, 0.5676, 0.3835, 0.3234, 0.6921, 0.6018, 0.5152, 0.0521, 0.1932, 0.258, 0.6089, 0.2126, -0.2116, 0.1074, 0.1231, -0.199, -0.0608, -0.7156, 0.1174, 0.1678, -0.3769, 1.9596, 1.9493, 1.926, 1.9172, 1.9124, 1.9027, 1.9008, 1.8975, 1.8946, 1.8942, 1.891, 1.8875, 1.8796, 1.8793, 1.8774, 1.8608, 1.8538, 1.8508, 1.8395, 1.8392, 1.8381, 1.8341, 1.8262, 1.8238, 1.8236, 1.8117, 1.8101, 1.8096, 1.8076, 1.8061, 1.7658, 1.8025, 1.8015, 1.7581, 1.7587, 1.5854, 1.5622, 1.6913, 1.6994, 1.7129, 1.6837, 1.3893, 1.2827, 0.9708, 1.3693, 1.0387, 0.7441, 0.9371, 0.5745, 0.8932, 1.1049, 1.0147, 0.7148, 1.167, 1.4866, 0.9238, 1.004, 0.4775, 0.7305, 0.7472, 0.0915, -0.0059, -0.0413, 0.5202, -0.8571, -0.2503, 0.0366, 0.4134, -0.801, -0.5899, -0.4576, -0.6392, -0.3003, 3.2755, 3.179, 3.1262, 3.0999, 3.0965, 3.0602, 3.0549, 3.0352, 3.0317, 3.0316, 3.0276, 3.0169, 3.0142, 2.9461, 2.9448, 2.9441, 2.9196, 2.9185, 2.912, 2.9046, 2.8264, 2.7964, 2.7841, 2.7645, 2.7515, 2.7425, 2.7328, 2.7272, 2.7237, 2.7208, 2.6319, 2.6716, 2.5516, 2.475, 2.2643, 2.2139, 2.2279, 1.588, 1.2076, 1.0346, 1.3946, 0.0005, -0.5476, -0.1698, -0.9813, 0.2612, -0.5703, -0.3557, -1.2772, -0.0654, -0.2865, 0.0494, -0.8512, -0.0761, -0.9546, 0.4365, -0.526, 0.4512, 4.3808, 4.3713, 4.1616, 3.9362, 3.9127, 3.8874, 3.7446, 3.7104, 3.6481, 3.6351, 3.6129, 3.5994, 3.5766, 3.5479, 3.5306, 3.4893, 3.4893, 3.4855, 3.4512, 3.4498, 3.4486, 3.4455, 3.4454, 3.4323, 3.3882, 3.3879, 3.3531, 3.2714, 3.2694, 3.2631, 3.2209, 2.5477, 3.025, 2.8818, 2.3144, 2.9499, 2.4769, 1.8653, 2.6918, 2.4649, 0.7757, -1.2092, 4.542, 4.45, 4.2039, 4.0044, 3.9929, 3.9344, 3.9311, 3.8121, 3.7661, 3.6277, 3.5572, 3.5302, 3.5263, 3.4577, 3.4333, 3.3561, 3.2815, 3.2165, 3.2034, 3.1712, 3.1606, 3.1603, 3.1039, 3.0874, 3.081, 3.0807, 3.0732, 3.0659, 3.0649, 3.057, 2.8353, 2.6409, 2.5673, 2.9465, 2.8324, 3.0119, 2.6282, 2.5447, -0.0855, 2.0613, 0.2726, -2.1122, -1.2381, 2.2132, 4.4979, 3.9756, 3.9568, 3.7784, 3.6906, 3.6233, 3.616, 3.5797, 3.3929, 3.3292, 3.3155, 3.2602, 3.2047, 3.1638, 3.1638, 3.1638, 3.1349, 3.0605, 3.0448, 3.0346, 3.0346, 3.0018, 2.998, 2.991, 2.9724, 2.9724, 2.9723, 2.9057, 2.9057, 2.9057, 2.8685, 2.8568, 2.5442, 2.4781, 2.5722, 2.5768, 2.4839, 1.1943, 2.2203, 1.5306, 2.172, 4.4858, 3.7021, 3.1508, 3.0208, 3.0191, 3.008, 2.999, 2.9592, 2.9561, 2.9436, 2.8815, 2.8649, 2.8144, 2.7925, 2.7893, 2.7748, 2.7647, 2.7331, 2.7322, 2.72, 2.6962, 2.6946, 2.6931, 2.6386, 2.5856, 2.5856, 2.5849, 2.5605, 2.5582, 2.5582, 2.5582, 2.5582, 2.4663, 2.4497, 1.7949, 2.2334, 4.077, 3.6947, 3.5559, 3.3554, 3.305, 3.2785, 3.2783, 3.2688, 3.1623, 3.1388, 3.0746, 3.0746, 3.0746, 3.0746, 3.0746, 3.0746, 3.0746, 3.0746, 3.0746, 3.065, 3.0526, 3.0382, 3.0382, 3.0382, 2.9999, 2.9999, 2.9669, 2.9438, 2.8751, 2.6699, 2.6699, 2.6699, 2.6699, 2.6699, 2.6699, 2.6699, 2.6699, 2.6699, 2.6699, 2.6699, 2.6699, 2.6699, -1.2827, 3.5258, 3.1245, 2.9559, 2.8665, 2.8522, 2.8522, 2.8522, 2.8522, 2.7542, 2.7372, 2.7355, 2.7347, 2.6446, 2.6446, 2.6446, 2.6446, 2.6446, 2.6075, 2.6075, 2.6075, 2.6075, 2.5563, 2.5563, 2.5563, 2.4549, 2.453, 2.453, 2.4408, 2.4408, 2.4408, 2.3816, 2.4065, 2.3988, 2.1172, 1.7824, 2.2065, 2.1641, 2.0529, 1.8705, 1.0556, 1.4369, 1.5044, -0.1981, 1.1374, 3.3207, 3.1388, 3.1276, 3.0541, 2.9518, 2.8789, 2.8789, 2.8789, 2.8789, 2.8789, 2.8299, 2.8078, 2.7727, 2.6851, 2.6329, 2.6329, 2.6329, 2.5904, 2.5904, 2.5747, 2.5747, 2.5698, 2.5698, 2.5698, 2.5698, 2.5291, 2.5291, 2.5291, 2.5291, 2.5027, 2.4865, 2.4906, 1.1134, 2.2438, 2.1545, 1.7863, 1.6649, 2.4116, 2.1757, 4.3712, 3.2582, 3.1731, 3.1197, 3.1009, 2.9909, 2.9338, 2.871, 2.8214, 2.7794, 2.6905, 2.5887, 2.5655, 2.5504, 2.5368, 2.5368, 2.5296, 2.5296, 2.5296, 2.5296, 2.5296, 2.5296, 2.5218, 2.5218, 2.5218, 2.5218, 2.5218, 2.5177, 2.5177, 2.5177, 2.4961, 2.3363, 2.3686, 2.2152, 2.416, 2.0405, 2.1443, 1.6911, 2.2789, 1.7309, 1.4885, 1.5364, 2.2021, 3.4928, 3.3946, 3.0292, 2.948, 2.6587, 2.6014, 2.6003, 2.5935, 2.5935, 2.5935, 2.5935, 2.5935, 2.5626, 2.5597, 2.5597, 2.5569, 2.5569, 2.5569, 2.5569, 2.5569, 2.5569, 2.5569, 2.554, 2.5524, 2.5524, 2.5524, 2.5524, 2.5478, 2.5478, 2.5475, 2.5475, 2.4963, 2.3972, 2.4887, 1.9116, 1.9914, 1.884, 1.8679, 2.2114, 2.1852, 2.0307, 2.2708, 3.2608, 3.1728, 3.1155, 2.9766, 2.9336, 2.893, 2.8158, 2.7261, 2.6473, 2.6473, 2.5408, 2.5283, 2.5283, 2.5283, 2.5283, 2.5283, 2.5283, 2.5193, 2.5193, 2.5187, 2.5187, 2.5187, 2.5187, 2.5187, 2.5187, 2.5187, 2.5187, 2.5187, 2.4728, 2.467, 2.467, 2.467, 2.4556, 2.4436, 2.2036, 1.2095, 1.7961, 2.41, 1.7187, 2.3316, 1.2517, 2.0641, 3.4649, 3.251, 3.1378, 3.0539, 3.0355, 2.9848, 2.8577, 2.6637, 2.6446, 2.6168, 2.6168, 2.6168, 2.5704, 2.5624, 2.5182, 2.5182, 2.5182, 2.5182, 2.5182, 2.5182, 2.5182, 2.5182, 2.4925, 2.4923, 2.4921, 2.4921, 2.492, 2.4697, 2.4697, 2.4697, 2.4697, 2.4697, 2.4697, 2.4697, 2.4425, 2.2822, 2.2803, 1.9262, 1.6978, 1.0126, 1.4512, 2.3471, 3.4578, 3.3195, 3.1717, 3.1717, 3.1717, 3.1141, 3.094, 3.0866, 3.0818, 3.0688, 3.0059, 2.8348, 2.7111, 2.7111, 2.7111, 2.7111, 2.7111, 2.7111, 2.7111, 2.7111, 2.7111, 2.7111, 2.7111, 2.626, 2.6018, 2.6018, 2.5507, 2.4143, 2.4129, 2.4129, 2.3817, 2.2613, 1.6833, 1.5924, 3.1077, 3.0442, 2.6565, 2.6565, 2.6565, 2.6565, 2.6565, 2.6565, 2.6565, 2.6565, 2.6565, 2.6565, 2.6565, 2.6565, 2.6565, 2.6565, 2.6565, 2.6565, 2.6565, 2.6565, 2.6393, 2.63, 2.6005, 2.5386, 2.5142, 2.5142, 2.5142, 2.5142, 2.4774, 2.4774, 2.4654, 2.3313, 1.9459, 2.418, 2.3541, 2.3476, 1.5906, 2.1594, 1.8773, 2.2849, 2.0639, 3.0643, 3.0398, 2.8737, 2.5549, 2.5549, 2.5549, 2.532, 2.5156, 2.4741, 2.4499, 2.4498, 2.3976, 2.3976, 2.3975, 2.3974, 2.3974, 2.3973, 2.3973, 2.3973, 2.3973, 2.3973, 2.3972, 2.3971, 2.3971, 2.3971, 2.3664, 2.3402, 2.3398, 2.3078, 2.2712, 2.2441, 2.1252, 2.1903, 1.8783, 1.9478, 1.1213, 2.228, 3.0063, 2.5748, 2.556, 2.556, 2.556, 2.5299, 2.5299, 2.4914, 2.4914, 2.4914, 2.4913, 2.4913, 2.4514, 2.4246, 2.4215, 2.4215, 2.4215, 2.4214, 2.4213, 2.3817, 2.3808, 2.3167, 2.3161, 2.3158, 2.3144, 2.2622, 2.2241, 2.2184, 2.1855, 2.175, 2.1028, 2.0778, 1.9606, 1.926, 1.6316, 1.3394, 1.9545, 0.1854, 2.8277, 2.6118, 2.6101, 2.5504, 2.4562, 2.4467, 2.3832, 2.3832, 2.3216, 2.2481, 2.1181, 2.1157, 2.1157, 2.1156, 2.1126, 2.1022, 2.0286, 2.0286, 2.0256, 1.7368, 1.7144, 1.7129, 1.7033, 1.692, 1.689, 1.688, 1.6658, 1.6648, 1.662, 1.6582, 1.6034, 1.0394, 0.4401, 1.0985, 1.1832, 0.8513, 0.8106, 1.1609, -0.7039, -0.5268, 0.5606, -5.2426]}, \"token.table\": {\"Topic\": [1, 1, 1, 1, 1, 2, 3, 1, 2, 5, 1, 2, 1, 2, 3, 1, 2, 6, 1, 2, 6, 1, 1, 2, 4, 1, 2, 3, 4, 1, 2, 3, 4, 1, 1, 2, 3, 4, 1, 2, 3, 4, 1, 2, 1, 9, 1, 1, 2, 3, 1, 1, 1, 2, 3, 1, 2, 3, 4, 1, 2, 3, 4, 1, 2, 3, 17, 1, 2, 1, 2, 3, 1, 2, 3, 4, 1, 2, 4, 1, 2, 3, 4, 1, 1, 2, 3, 4, 1, 2, 4, 1, 2, 3, 1, 2, 1, 2, 3, 4, 1, 2, 1, 2, 5, 1, 2, 3, 4, 1, 2, 6, 1, 2, 3, 11, 1, 2, 8, 1, 2, 3, 4, 1, 2, 4, 5, 1, 2, 3, 4, 1, 2, 3, 1, 1, 2, 3, 4, 1, 2, 3, 1, 2, 3, 5, 1, 2, 3, 4, 1, 3, 1, 1, 2, 3, 1, 9, 1, 2, 1, 3, 8, 1, 1, 2, 3, 14, 1, 2, 3, 4, 1, 1, 2, 3, 1, 2, 1, 2, 1, 1, 17, 1, 2, 4, 1, 1, 1, 2, 3, 16, 1, 2, 1, 1, 3, 4, 1, 1, 2, 3, 4, 6, 7, 1, 2, 3, 1, 2, 3, 1, 2, 3, 1, 2, 3, 6, 1, 1, 1, 2, 4, 1, 2, 3, 4, 1, 2, 3, 4, 1, 2, 3, 4, 1, 2, 3, 4, 1, 2, 3, 5, 6, 1, 2, 3, 4, 1, 2, 3, 1, 1, 1, 2, 1, 3, 9, 1, 2, 3, 1, 2, 1, 2, 5, 1, 2, 5, 1, 2, 3, 4, 1, 1, 1, 18, 1, 1, 2, 3, 4, 1, 2, 3, 4, 1, 2, 3, 4, 1, 3, 1, 2, 3, 1, 1, 2, 3, 5, 1, 2, 3, 8, 1, 2, 3, 1, 2, 1, 2, 3, 12, 1, 1, 1, 2, 6, 1, 6, 1, 1, 2, 3, 4, 5, 1, 2, 3, 4, 1, 2, 5, 1, 2, 3, 4, 1, 2, 1, 2, 3, 1, 2, 3, 1, 2, 3, 4, 1, 2, 1, 2, 1, 2, 3, 5, 1, 2, 3, 4, 1, 2, 6, 1, 2, 3, 1, 2, 8, 1, 2, 7, 1, 2, 3, 1, 2, 3, 7, 1, 1, 2, 4, 1, 1, 3, 8, 1, 2, 3, 4, 15, 1, 2, 1, 9, 1, 2, 3, 4, 1, 2, 9, 1, 9, 1, 1, 2, 7, 1, 2, 3, 1, 1, 2, 3, 1, 2, 3, 10, 1, 2, 1, 2, 3, 1, 2, 3, 8, 1, 2, 3, 1, 2, 1, 2, 5, 1, 2, 3, 4, 1, 2, 3, 4, 1, 2, 3, 4, 1, 2, 3, 4, 1, 16, 1, 2, 3, 4, 1, 2, 1, 2, 3, 1, 2, 3, 1, 2, 3, 4, 1, 2, 3, 7, 1, 1, 2, 3, 8, 1, 2, 3, 1, 2, 3, 1, 1, 3, 4, 12, 1, 2, 3, 1, 2, 3, 4, 1, 2, 3, 4, 1, 2, 3, 1, 2, 3, 1, 1, 1, 6, 1, 2, 4, 7, 1, 1, 2, 3, 11, 1, 2, 7, 1, 2, 3, 1, 3, 1, 2, 3, 7, 1, 2, 1, 2, 1, 1, 2, 1, 1, 2, 3, 1, 1, 2, 3, 4, 1, 9, 1, 2, 7, 1, 2, 3, 4, 1, 1, 2, 1, 1, 2, 1, 2, 3, 4, 1, 2, 4, 7, 1, 2, 1, 1, 2, 4, 1, 2, 1, 2, 3, 1, 2, 5, 1, 2, 3, 4, 1, 16, 1, 2, 1, 2, 4, 1, 2, 3, 4, 1, 2, 1, 2, 3, 5, 7, 1, 2, 3, 4, 1, 2, 1, 2, 3, 4, 9, 1, 2, 4, 1, 3, 12, 1, 2, 13, 1, 2, 3, 4, 1, 2, 3, 4, 1, 2, 1, 2, 1, 2, 3, 1, 2, 1, 1, 2, 3, 4, 1, 2, 3, 4, 1, 2, 4, 1, 2, 1, 2, 1, 3, 1, 16, 1, 2, 3, 1, 2, 3, 4, 1, 2, 3, 4, 1, 1, 2, 3, 4, 1, 9, 1, 2, 1, 3, 16, 1, 13, 1, 2, 1, 2, 1, 9, 1, 2, 3, 1, 2, 3, 1, 2, 3, 1, 3, 1, 2, 3, 1, 1, 2, 3, 4, 5, 1, 3, 1, 1, 2, 3, 4, 1, 2, 5, 1, 2, 3, 1, 2, 3, 4, 1, 9, 1, 2, 1, 2, 3, 4, 1, 2, 1, 13, 1, 2, 4, 1, 2, 13, 1, 2, 3, 4, 5, 1, 2, 1, 2, 3, 4, 1, 3, 1, 2, 3, 1, 1, 2, 5, 7, 1, 2, 3, 4, 1, 2, 1, 2, 5, 7, 1, 2, 3, 4, 1, 1, 2, 3, 4, 5, 1, 2, 3, 4, 10, 1, 2, 4, 1, 3, 9, 1, 2, 3, 4, 1, 1, 2, 3, 1, 2, 1, 1, 2, 3, 5, 7, 1, 2, 3, 1, 2, 3, 4, 6, 1, 12, 1, 2, 7, 1, 2, 3, 4, 1, 1, 2, 3, 4, 1, 2, 4, 1, 3, 1, 2, 3, 1, 2, 6, 1, 1, 2, 3, 4, 1, 1, 1, 2, 3, 4, 1, 2, 15, 1, 1, 1, 2, 3, 4, 1, 1, 2, 3, 1, 2, 3, 1, 3, 1, 2, 3, 4, 1, 2, 3, 1, 2, 3, 6, 1, 2, 3, 4, 5, 1, 3, 1, 8, 1, 2, 1, 2, 3, 1, 3, 15, 1, 3, 1, 2, 3, 4, 1, 2, 1, 2, 1, 2, 3, 4, 15, 1, 2, 4, 1, 2, 3, 4, 1, 2, 1, 1, 2, 6, 1, 1, 16, 1, 2, 6, 1, 2, 3, 1, 2, 3, 1, 15, 1, 2, 3, 1, 2, 3, 1, 2, 1, 3, 1, 2, 1, 2, 6, 1, 2, 3, 4, 10, 1, 2, 3, 1, 2, 1, 2, 3, 11, 1, 2, 1, 1, 1, 1, 2, 1, 2, 1, 1, 2, 6, 1, 2, 6, 1, 2, 3, 1, 12, 1, 2, 3, 1, 2, 4, 1, 2, 3, 1, 2, 3, 4, 1, 2, 3, 4, 6, 1, 2, 3, 12, 1, 1, 3, 1, 2, 1, 2, 3, 1, 2, 1, 2, 3, 4, 1, 9, 1, 2, 1, 1, 1, 2, 3, 4, 1, 2, 7, 1, 2, 1, 2, 1, 2, 7, 1, 3, 4, 1, 2, 6, 1, 2, 3, 1, 2, 4, 1, 2, 3, 1, 4, 1, 2, 3, 4, 1, 9, 1, 1, 17, 1, 2, 1, 2, 1, 2, 1, 1, 2, 3, 1, 2, 3, 4, 5, 1, 1, 2, 4, 1, 2, 1, 7, 1, 2, 3, 1, 2, 4, 5, 1, 2, 5, 1, 2, 3, 1, 2, 5, 1, 2, 3, 1, 2, 6, 1, 2, 3, 1, 1, 2, 7, 1, 1, 2, 6, 1, 2, 1, 2, 1, 2, 1, 2, 6, 1, 1, 2, 8, 1, 2, 6, 1, 2, 3, 12, 1, 2, 3, 1, 8, 1, 2, 1, 2, 3, 4, 5, 1, 1, 2, 1, 2, 5, 1, 2, 1, 2, 4, 1, 2, 5, 1, 2, 1, 2, 1, 2, 1, 2, 3, 4, 1, 2, 3, 4, 1, 2, 1, 2, 1, 2, 3, 4, 1, 2, 3, 4, 1, 2, 1, 2, 4, 1, 2, 3, 4, 1, 2, 3, 4, 1, 2, 3, 7, 1, 2, 3, 4, 1, 2, 4, 1, 2, 1, 2, 4, 1, 2, 1, 9, 1, 2, 3, 4, 1, 2, 3, 1, 2, 3, 4, 1, 2, 3, 1, 2, 4, 1, 2, 3, 4, 1, 1, 2, 4, 16, 1, 2, 1, 1, 2, 3, 7, 1, 2, 3, 1, 2, 3, 4, 1, 2, 7, 1, 2, 3, 4, 5, 1, 2, 5, 1, 2, 3, 4, 5, 1, 1, 2, 3, 1, 2, 1, 1, 2, 1, 2, 3, 1, 2, 3, 1, 2, 4, 1, 2, 3, 1, 1, 2, 3, 4, 1, 1, 2, 3, 1, 2, 3, 4, 1, 2, 3, 4, 7, 1, 2, 3, 1, 2, 3, 4, 1, 2, 3, 4, 1, 1, 3, 1, 2, 3, 4, 1, 1, 2, 1, 9, 1, 1, 2, 6, 1, 2, 3, 4, 1, 2, 1, 2, 3, 4, 1, 2, 3, 1, 2, 3, 6, 1, 2, 3, 4, 1, 1, 3, 1, 2, 1, 1, 2, 3, 5, 6, 1, 1, 4, 1, 2, 3, 16, 1, 2, 1, 2, 3, 4, 1, 9, 1, 2, 5, 1, 2, 3, 4, 5, 1, 1, 2, 3, 4, 1, 1, 1, 2, 3, 4, 1, 1, 2, 3, 6, 1, 2, 3, 6, 1, 2, 3, 4, 7, 1, 1, 9, 1, 2, 3, 1, 2, 3, 1, 2, 3, 4, 1, 2, 5, 1, 1, 2, 3, 4, 5, 6, 1, 3, 1, 2, 5, 1, 2, 1, 3, 1, 1, 2, 1, 2, 3, 4, 1, 2, 1, 2, 1, 2, 1, 1, 2, 1, 2, 7, 1, 3, 1, 2, 3, 4, 1, 2, 1, 1, 2, 7, 1, 2, 1, 2, 1, 1, 2, 3, 4, 1, 2, 3, 1, 2, 3, 4, 1, 2, 3, 1, 2, 1, 2, 6, 1, 2, 3, 4, 1, 1, 2, 1, 2, 3, 9, 1, 1, 2, 3, 4, 1, 2, 5, 1, 1, 2, 3, 5, 1, 1, 2, 3, 17, 1, 2, 3, 1, 2, 1, 1, 2, 8, 1, 9, 1, 2, 3, 4, 1, 1, 2, 4, 1, 2, 3, 4, 1, 9, 1, 9, 1, 7, 1, 2, 3, 7, 1, 1, 2, 5, 1, 2, 3, 4, 1, 2, 7, 1, 2, 1, 1, 2, 1, 2, 3, 4, 1, 2, 3, 4, 1, 2, 3, 4, 5, 1, 1, 2, 3, 7, 1, 2, 1, 2, 3, 1, 2, 1, 2, 3, 1, 1, 2, 3, 1, 2, 3, 4, 1, 3, 1, 2, 3, 4, 6, 1, 2, 3, 1, 2, 3, 6, 1, 2, 3, 4, 1, 1, 1, 2, 3, 1, 2, 3, 1, 2, 3, 4, 1, 2, 3, 1, 1, 12, 1, 2, 3, 4, 7, 1, 1, 9, 1, 3, 1, 2, 3, 1, 2, 1, 1, 2, 1, 1, 9, 1, 2, 3, 4, 1, 2, 3, 4, 1, 1, 2, 3, 1, 2, 3, 7, 1, 2, 3, 10, 1, 1, 1, 1, 2, 3, 1, 1, 2, 3, 1, 1, 1, 2, 9, 1, 2, 3, 4, 1, 1, 2, 3, 17, 1, 2, 3, 4, 1, 2, 3, 1, 2, 3, 1, 2, 1, 2, 6, 1, 2, 6, 1, 2, 3, 1, 1, 2, 3, 4, 1, 2, 15, 1, 1, 7, 1, 2, 3, 7, 1, 1, 2, 3, 1, 2, 1, 1, 2, 7, 1, 1, 2, 3, 4, 1, 9, 1, 2, 1, 1, 3, 1, 2, 3, 1, 2, 3, 16, 1, 2, 3, 4, 1, 2, 1, 2, 3, 1, 3, 1, 3, 1, 2, 5, 1, 1, 2, 3, 1, 2, 3, 4, 1, 5, 1, 2, 3, 4, 1, 1, 1, 2, 3, 4, 5, 1, 1, 2, 6, 1, 2, 3, 4, 1, 2, 3, 4, 1, 2, 3, 1, 2, 3, 14, 1, 2, 3, 1, 2, 1, 2, 3, 5, 1, 16, 1, 3, 1, 2, 3, 4, 1, 4, 1, 2, 3, 4, 1, 2, 3, 4, 1, 2, 3, 1, 2, 10, 1, 1, 1, 2, 19, 1, 2, 3, 4, 1, 2, 3, 1, 2, 3, 1, 2, 3, 11, 1, 6, 1, 2, 6, 1, 1, 2, 1, 2, 3, 1, 1, 2, 4, 1, 2, 1, 2, 3, 4, 1, 2, 5, 1, 2, 4, 1, 2, 1, 2, 1, 2, 3, 4, 1, 2, 3, 1, 2, 1, 2, 3, 4, 1, 2, 3, 6, 1, 2, 3, 4, 1, 2, 3, 1, 2, 6, 1, 2, 7, 1, 1, 2, 8, 1, 1, 7, 1, 4, 1, 2, 3, 1, 2, 3, 4, 1, 2, 3, 1, 2, 3, 1, 2, 3, 4, 1, 2, 3, 1, 1, 2, 3, 4, 6, 1, 2, 1, 2, 1, 2, 1, 2, 1, 2, 3, 4, 1, 2, 3, 4, 1, 2, 5, 1, 2, 6, 1, 2, 3, 4, 1, 2, 3, 4, 1, 2, 1, 1, 2, 3, 1, 2, 1, 1, 2, 3, 4, 1, 1, 2, 3, 4, 1, 2, 1, 2, 3, 5, 1, 3, 1, 2, 10, 1, 2, 3, 1, 2, 1, 1, 1, 2, 3, 1, 2, 3, 4, 5, 7, 1, 2, 3, 4, 1, 2, 3, 4, 5, 1, 2, 3, 1, 2, 4, 1, 2, 3, 4, 5, 1, 9, 1, 2, 1, 2, 1, 1, 2, 4, 1, 2, 3, 1, 2, 3, 4, 1, 2, 3, 4, 1, 2, 3, 4, 1, 2, 3, 1, 1, 2, 3, 1, 2, 3, 4, 1, 2, 5, 1, 2, 3, 11, 1, 2, 3, 1, 2, 1, 1, 2, 3, 4, 1, 3, 1, 3, 1, 2, 3, 4, 1, 2, 3, 1, 1, 1, 2, 6, 1, 2, 3, 6, 1, 2, 7, 1, 2, 4, 6, 1, 2, 3, 4, 17, 1, 2, 6, 1, 2, 3, 1, 3, 1, 2, 1, 2, 3, 11, 1, 2, 1, 2, 3, 4, 1, 9, 1, 2, 3, 1, 1, 2, 14, 1, 1, 3, 1, 2, 1, 9, 1, 1, 2, 1, 2, 3, 4, 1, 2, 1, 1, 2, 7, 1, 2, 1, 2, 1, 3, 1, 1, 2, 1, 2, 7, 1, 9, 1, 2, 3, 1, 2, 10, 1, 2, 1, 2, 1, 2, 5, 1, 2, 5, 1, 2, 4, 10, 1, 2, 1, 2, 3, 1, 2, 3, 4, 1, 2, 3, 4, 6, 1, 2, 3, 1, 2, 3, 4, 1, 2, 1, 2, 6, 1, 1, 2, 1, 2, 3, 4, 5, 1, 1, 2, 4, 1, 1, 1, 2, 3, 1, 2, 1, 2, 1, 2, 3, 1, 2, 3, 1, 2, 1, 2, 3, 4, 1, 2, 3, 4, 1, 2, 6, 16, 1, 2, 8, 1, 2, 1, 2, 3, 4, 6, 1, 2, 3, 1, 2, 1, 1, 2, 1, 1, 2, 3, 1, 3, 4, 1, 2], \"Freq\": [0.24841332474317754, 0.24406854960797686, 0.24683429027274123, 0.2480801883118669, 0.47997892866544384, 0.23998946433272192, 0.0799964881109073, 0.18235245509085196, 0.18235245509085196, 0.3647049101817039, 0.24329998923222468, 0.24329998923222468, 0.04880960080274218, 0.04880960080274218, 0.7809536128438749, 0.16001371717914217, 0.16001371717914217, 0.32002743435828435, 0.11529652810255152, 0.11529652810255152, 0.5764826405127577, 0.2365285612356202, 0.20515669576542486, 0.20515669576542486, 0.20515669576542486, 0.34278573836051696, 0.11426191278683899, 0.11426191278683899, 0.22852382557367798, 0.7999166596139887, 0.09536578673143652, 0.09767768459159255, 0.005201770185351083, 0.23193211709823078, 0.8813119707841556, 0.09891143177779299, 0.010002279617979067, 0.006668186411986045, 0.8328843454422148, 0.053415385574678856, 0.09792820688691124, 0.012859259490200465, 0.23767044223323758, 0.23767044223323758, 0.2226996712045607, 0.2226996712045607, 0.2435752750141719, 0.07375382729745715, 0.8481690139207572, 0.036876913648728575, 0.24683429027274123, 0.24841332474317754, 0.04404088542585944, 0.7927359376654699, 0.08808177085171888, 0.043535149300805834, 0.8271678367153109, 0.043535149300805834, 0.043535149300805834, 0.5590921934303483, 0.1020241228887497, 0.332598640617324, 0.002040482457774994, 0.14861136178293452, 0.14861136178293452, 0.29722272356586904, 0.14861136178293452, 0.25088067740869646, 0.25088067740869646, 0.9482383322575139, 0.014152810929216624, 0.014152810929216624, 0.040443506851598046, 0.010110876712899512, 0.454989452080478, 0.47521120550627705, 0.10438984485296725, 0.10438984485296725, 0.6263390691178035, 0.09454059460552221, 0.01890811892110444, 0.7752328757652821, 0.09454059460552221, 0.25133492207896335, 0.383300663689234, 0.5548733417215578, 0.049281513902901516, 0.009126206278315096, 0.5276124693219942, 0.10552249386439884, 0.10552249386439884, 0.036271487283442774, 0.9067871820860693, 0.018135743641721387, 0.2399914858087744, 0.2399914858087744, 0.707921853535738, 0.22036244295811352, 0.059443819762542885, 0.01140840985341732, 0.25152848008727546, 0.25152848008727546, 0.24532671349966012, 0.08177557116655337, 0.49065342699932024, 0.2060776058001683, 0.12364656348010097, 0.04121552116003366, 0.5358017750804376, 0.45071614763906076, 0.11267903690976519, 0.22535807381953038, 0.16392293805418048, 0.32784587610836097, 0.16392293805418048, 0.16392293805418048, 0.11789548382751959, 0.47158193531007836, 0.11789548382751959, 0.18549178810605557, 0.3091529801767593, 0.18549178810605557, 0.12366119207070371, 0.05683748312017078, 0.02841874156008539, 0.02841874156008539, 0.8241435052424763, 0.48696539234533914, 0.45210181922130793, 0.05735620094598683, 0.001124631391097781, 0.34443568468406, 0.6280886014826976, 0.015195691971355589, 0.23617625230144054, 0.35434758642648684, 0.025310541887606203, 0.253105418876062, 0.3416923154826837, 0.04354789848604468, 0.04354789848604468, 0.8274100712348489, 0.1437935924120321, 0.1437935924120321, 0.1437935924120321, 0.2875871848240642, 0.932279571363942, 0.02405882764810173, 0.0060147069120254325, 0.030073534560127162, 0.24982088961303153, 0.24982088961303153, 0.2318418311410804, 0.9552056744648719, 0.022387632995270437, 0.017412603440765895, 0.22614154408482792, 0.22614154408482792, 0.21749660682123875, 0.21749660682123875, 0.22196728192139728, 0.22196728192139728, 0.22196728192139728, 0.24683429027274123, 0.2248711406786389, 0.2248711406786389, 0.2248711406786389, 0.2248711406786389, 0.25494559522707805, 0.008498186507569267, 0.008498186507569267, 0.7053494801282492, 0.2203538351758842, 0.15635550181518296, 0.15635550181518296, 0.3127110036303659, 0.24176918962135294, 0.24176918962135294, 0.24674351359170027, 0.24674351359170027, 0.2442489743163311, 0.2315620762878178, 0.2315620762878178, 0.05715033922939559, 0.05715033922939559, 0.8001047492115382, 0.24841332474317754, 0.24841332474317754, 0.18333782775305707, 0.18333782775305707, 0.18333782775305707, 0.18333782775305707, 0.2399914858087744, 0.2399914858087744, 0.2467364005734918, 0.21020458842969364, 0.21020458842969364, 0.21020458842969364, 0.24559980886499672, 0.08403986626396974, 0.33615946505587896, 0.2521195987919092, 0.08403986626396974, 0.08403986626396974, 0.08403986626396974, 0.20710862493435547, 0.20710862493435547, 0.20710862493435547, 0.20188717184697513, 0.40377434369395027, 0.20188717184697513, 0.20754231890861677, 0.20754231890861677, 0.20754231890861677, 0.8629881850609622, 0.08784909668285244, 0.025837969612603658, 0.015502781767562195, 0.24059896219908383, 0.24977843746420617, 0.17617502574211008, 0.17617502574211008, 0.17617502574211008, 0.6698319271865665, 0.01776742512431211, 0.27894857445170007, 0.030204622711330585, 0.10216983612464978, 0.10216983612464978, 0.10216983612464978, 0.6130190167478986, 0.9656409583579546, 0.00902468185381266, 0.00902468185381266, 0.00902468185381266, 0.46296053829697004, 0.3213490795237792, 0.054465945681996475, 0.15250464790959015, 0.7712758211875885, 0.020431147581128174, 0.05107786895282043, 0.005107786895282043, 0.1430180330678972, 0.8775973726907901, 0.029930239263510502, 0.0780324095084381, 0.012827245398647357, 0.05339651073016507, 0.05339651073016507, 0.800947660952476, 0.24841332474317754, 0.2467364005734918, 0.24562784438703553, 0.24562784438703553, 0.1966184624992806, 0.1966184624992806, 0.1966184624992806, 0.9353517253441007, 0.059167605775468014, 0.0012588852292652769, 0.21019922778295191, 0.21019922778295191, 0.8066974424610174, 0.03752081127725662, 0.11256243383176986, 0.3310254037093872, 0.06620508074187743, 0.46343556519314205, 0.2856962758083656, 0.04081375368690937, 0.04081375368690937, 0.5713925516167312, 0.2488595287491119, 0.2453614973573238, 0.5149497979073704, 0.1287374494768426, 0.2467364005734918, 0.4454428262911191, 0.02172891835566435, 0.5214940405359443, 0.005432229588916087, 0.3165528421870953, 0.5489587263244563, 0.068118966040261, 0.05609797203315613, 0.06211008375128261, 0.06211008375128261, 0.06211008375128261, 0.7453210050153913, 0.43802000216507925, 0.14600666738835977, 0.23081110056016288, 0.23081110056016288, 0.23081110056016288, 0.2430726781937256, 0.5193481502817738, 0.08655802504696232, 0.08655802504696232, 0.17311605009392464, 0.22326149616690127, 0.22326149616690127, 0.22326149616690127, 0.22326149616690127, 0.04161178010339214, 0.04161178010339214, 0.8322356020678429, 0.2508772703952185, 0.2508772703952185, 0.1603998328474811, 0.3207996656949622, 0.1603998328474811, 0.1603998328474811, 0.25020642883303473, 0.21310505535421703, 0.14839968134345793, 0.14839968134345793, 0.4451990440303738, 0.21034031590669117, 0.21034031590669117, 0.24683429027274123, 0.9018919380869156, 0.08114708954509524, 0.0023184882727170066, 0.00695546481815102, 0.0023184882727170066, 0.40407180856472624, 0.5148174153565401, 0.0688418636813978, 0.0059862490157737225, 0.1869185556950639, 0.1869185556950639, 0.1869185556950639, 0.6081768107183293, 0.009168494633944663, 0.2735267565793491, 0.10543768829036362, 0.8159533976729203, 0.04799725868664237, 0.048007836782010156, 0.024003918391005078, 0.8881449804671879, 0.1341471646024846, 0.5322613305195356, 0.32454959178020465, 0.9415615162673031, 0.042597946913809345, 0.011016710408743796, 0.0029377894423316788, 0.5916134346418118, 0.11832268692836236, 0.9253394883653617, 0.04745330709565958, 0.8517503808787892, 0.0230202805642916, 0.0230202805642916, 0.0690608416928748, 0.12841943401459746, 0.006758917579715655, 0.8043111919861631, 0.040553505478293936, 0.17455397818587948, 0.17455397818587948, 0.34910795637175895, 0.2189945195292367, 0.2189945195292367, 0.2189945195292367, 0.23252616371728208, 0.23252616371728208, 0.23252616371728208, 0.14958244794192296, 0.14958244794192296, 0.2991648958838459, 0.2016761524215472, 0.2016761524215472, 0.2016761524215472, 0.1670014124749151, 0.1670014124749151, 0.1670014124749151, 0.1670014124749151, 0.2502068834622829, 0.12132474256242778, 0.12132474256242778, 0.6066237128121389, 0.2494907620211798, 0.34664278110261404, 0.17332139055130702, 0.17332139055130702, 0.20469570517782854, 0.20469570517782854, 0.20469570517782854, 0.20469570517782854, 0.20469570517782854, 0.18897561694244874, 0.18897561694244874, 0.3158413058364237, 0.15792065291821186, 0.7613271932308726, 0.15963889430228922, 0.06979727441467803, 0.008590433774114219, 0.14617891946662895, 0.4385367583998868, 0.14617891946662895, 0.23532983426264167, 0.23532983426264167, 0.23980829097965237, 0.30970475812689563, 0.30970475812689563, 0.10323491937563187, 0.15072022929280274, 0.15072022929280274, 0.4521606878784082, 0.25026364817061125, 0.23081110056016288, 0.23081110056016288, 0.23081110056016288, 0.09167623877338862, 0.4583811938669431, 0.18335247754677725, 0.09167623877338862, 0.24191895190146712, 0.24191895190146712, 0.15385616202586297, 0.15385616202586297, 0.30771232405172594, 0.22022377503952414, 0.11011188751976207, 0.22022377503952414, 0.22022377503952414, 0.23081110056016288, 0.23081110056016288, 0.23081110056016288, 0.24674351359170027, 0.24674351359170027, 0.1771161886879543, 0.1771161886879543, 0.3542323773759086, 0.12163388455070205, 0.7602117784418878, 0.030408471137675513, 0.030408471137675513, 0.2541617665906246, 0.30941432454510825, 0.4236029443177077, 0.0036835038636322407, 0.04987700738355594, 0.798032118136895, 0.04987700738355594, 0.04987700738355594, 0.053693337047085316, 0.8054000557062797, 0.053693337047085316, 0.053693337047085316, 0.2323849882195362, 0.2323849882195362, 0.3460665249781422, 0.008873500640465186, 0.5856510422707022, 0.03549400256186074, 0.2472885045451819, 0.2472885045451819, 0.0830795882604457, 0.05538639217363047, 0.830795882604457, 0.030577504757072296, 0.030577504757072296, 0.8867476379550966, 0.1849086200932541, 0.008805172385393053, 0.17610344770786104, 0.5987517222067276, 0.15548515315178346, 0.15548515315178346, 0.15548515315178346, 0.3109703063035669, 0.24780976594617113, 0.18472496243461997, 0.18472496243461997, 0.18472496243461997, 0.18472496243461997, 0.9388421236386926, 0.019160043339565155, 0.019160043339565155, 0.20305540065867078, 0.20305540065867078, 0.20305540065867078, 0.2430726781937256, 0.12176933672777875, 0.36530801018333625, 0.12176933672777875, 0.12176933672777875, 0.9326813248240576, 0.04813839095866104, 0.00601729886983263, 0.36744783459409686, 0.5801807914643635, 0.025785812953971712, 0.012892906476985856, 0.9237891631857514, 0.02463437768495337, 0.04105729614158895, 0.004105729614158895, 0.19204941858575036, 0.19204941858575036, 0.19204941858575036, 0.639726618806878, 0.1599316547017195, 0.07996582735085975, 0.2467364005734918, 0.2467364005734918, 0.18278069688463686, 0.3655613937692737, 0.14678350618925995, 0.14678350618925995, 0.14678350618925995, 0.2935670123785199, 0.22987409861130262, 0.17000212467152254, 0.17000212467152254, 0.17000212467152254, 0.17000212467152254, 0.20244833747819885, 0.20244833747819885, 0.20244833747819885, 0.4105268047245464, 0.18530723824371886, 0.3991232823710868, 0.24390554396361436, 0.24390554396361436, 0.14040923948769127, 0.28081847897538254, 0.14040923948769127, 0.28081847897538254, 0.21437005062927764, 0.21437005062927764, 0.2472885045451819, 0.2472885045451819, 0.25026585564274384, 0.24425611968453217, 0.24425611968453217, 0.24883062232268072, 0.21293743263640302, 0.21293743263640302, 0.21293743263640302, 0.2295173284255619, 0.8495120211528466, 0.06024907951438628, 0.08090590677646158, 0.006885609087358432, 0.23532983426264167, 0.23532983426264167, 0.2188695148397399, 0.2188695148397399, 0.2188695148397399, 0.8033546705357626, 0.046108656587041566, 0.14482847261314338, 0.004729092983286314, 0.24683429027274123, 0.22772359585379115, 0.22772359585379115, 0.2489483725930062, 0.17516417280585264, 0.17516417280585264, 0.27491062652162457, 0.07546566218240675, 0.6450517315115243, 0.0017968014805334939, 0.19089018438885386, 0.19089018438885386, 0.19089018438885386, 0.19089018438885386, 0.24859711427637401, 0.24859711427637401, 0.24683429027274123, 0.1187576791618219, 0.1187576791618219, 0.5937883958091095, 0.2472885045451819, 0.2472885045451819, 0.28398040585994644, 0.14199020292997322, 0.28398040585994644, 0.18780109439180595, 0.18780109439180595, 0.3756021887836119, 0.5154143794815763, 0.13142495263942633, 0.34856183091326115, 0.0011428256751254463, 0.23316447379073088, 0.23316447379073088, 0.24329998923222468, 0.24329998923222468, 0.07454173449219857, 0.8199590794141842, 0.037270867246099286, 0.5796976997466379, 0.1391274479391931, 0.2782548958783862, 0.001363994587639148, 0.24674351359170027, 0.24674351359170027, 0.05423232664251496, 0.05423232664251496, 0.05423232664251496, 0.1626969799275449, 0.5965555930676646, 0.09743170008061336, 0.3410109502821468, 0.19486340016122672, 0.2435792502015334, 0.22681731876366723, 0.22681731876366723, 0.5922294018051993, 0.257230952299228, 0.10767807305549079, 0.03589269101849693, 0.002991057584874744, 0.11088799802154922, 0.11088799802154922, 0.5544399901077461, 0.21882176396828887, 0.21882176396828887, 0.21882176396828887, 0.21605194151757018, 0.21605194151757018, 0.21605194151757018, 0.5389385320264596, 0.29396647201443254, 0.07349161800360814, 0.048994412002405424, 0.538098619247059, 0.01454320592559619, 0.05817282370238476, 0.36358014813990475, 0.24379223412800236, 0.24379223412800236, 0.1705062223898575, 0.341012444779715, 0.2515620275763624, 0.3773430413645436, 0.1257810137881812, 0.20345785468710795, 0.20345785468710795, 0.25026525336649436, 0.6133085702533294, 0.3531170556004018, 0.02951752477155061, 0.0021864833164111563, 0.14147223058878072, 0.7230802896759904, 0.015719136732086747, 0.07859568366043373, 0.07662280879953481, 0.842850896794883, 0.025540936266511605, 0.939047685061227, 0.01565079475102045, 0.9834201543068658, 0.009785275167232496, 0.24982139101860917, 0.24982139101860917, 0.23316447379073088, 0.23316447379073088, 0.06095375636007306, 0.7923988326809498, 0.06095375636007306, 0.7106810691693312, 0.21857042090474826, 0.042536159756912086, 0.0261760983119459, 0.026234418955201715, 0.31481302746242057, 0.49845396014883253, 0.13117209477600858, 0.24754891031843007, 0.8856874998433804, 0.02652980990314273, 0.06734490206182385, 0.01632603686347245, 0.2134169375950791, 0.2134169375950791, 0.24504628775425794, 0.24504628775425794, 0.232567735017852, 0.232567735017852, 0.232567735017852, 0.2176802009952649, 0.2176802009952649, 0.15522382584493283, 0.7761191292246641, 0.24329998923222468, 0.24329998923222468, 0.23532983426264167, 0.23532983426264167, 0.439704688014942, 0.07871256760761307, 0.4777038585841345, 0.1642623771880492, 0.1642623771880492, 0.3285247543760984, 0.3785215501181585, 0.1261738500393862, 0.1261738500393862, 0.22997302011076323, 0.22997302011076323, 0.0453846613486645, 0.0453846613486645, 0.8623085656246254, 0.2453614973573238, 0.5982602083922416, 0.32561047407577737, 0.059826020839224156, 0.013730562159821937, 0.0009807544399872813, 0.2498199535303342, 0.2498199535303342, 0.2442489743163311, 0.5695929733692271, 0.0529033721395567, 0.37385049645286733, 0.0017634457379852233, 0.17897521088970583, 0.17897521088970583, 0.35795042177941166, 0.10749149012652376, 0.5374574506326187, 0.10749149012652376, 0.37023029747228275, 0.40062233681702236, 0.22241446975014, 0.0041443690015554036, 0.23532983426264167, 0.23532983426264167, 0.24407357521312, 0.24407357521312, 0.17109596287271417, 0.6843838514908567, 0.07896736747971424, 0.03948368373985712, 0.241920538809989, 0.241920538809989, 0.2334116398308122, 0.2334116398308122, 0.06432468357865855, 0.06432468357865855, 0.7718962029439025, 0.21466796194169885, 0.21466796194169885, 0.21466796194169885, 0.793803063564992, 0.13230051059416534, 0.008820034039611022, 0.026460102118833068, 0.026460102118833068, 0.22549057790002933, 0.22549057790002933, 0.9382024535640278, 0.01234476912584247, 0.01234476912584247, 0.01234476912584247, 0.23512345505112925, 0.23512345505112925, 0.026007397861066987, 0.026007397861066987, 0.8842515272762775, 0.24780976594617113, 0.10513368457810177, 0.10513368457810177, 0.42053473831240706, 0.21026736915620353, 0.0910393516457968, 0.7738344889892728, 0.0227598379114492, 0.0682795137343476, 0.24192408284278127, 0.24192408284278127, 0.07772705903355667, 0.5440894132348967, 0.07772705903355667, 0.15545411806711334, 0.7214706999934902, 0.056185328849050566, 0.19920252955572473, 0.019154089380358147, 0.24598888419400916, 0.353712553080746, 0.15159109417746255, 0.050530364725820856, 0.20212145890328342, 0.20212145890328342, 0.31470231848811625, 0.35965979255784714, 0.08991494813946178, 0.04495747406973089, 0.08991494813946178, 0.21128110111574577, 0.21128110111574577, 0.21128110111574577, 0.20619115035846108, 0.20619115035846108, 0.20619115035846108, 0.7171289451534534, 0.2222182014689403, 0.05921448633046492, 0.0006555109187874346, 0.24778246959982325, 0.1087664017486786, 0.543832008743393, 0.1087664017486786, 0.24379223412800236, 0.24379223412800236, 0.2457906239413819, 0.08029505865238194, 0.08029505865238194, 0.16059011730476389, 0.5620654105666736, 0.08029505865238194, 0.21079523739439715, 0.21079523739439715, 0.21079523739439715, 0.46894006610600164, 0.0669914380151431, 0.2009743140454293, 0.0669914380151431, 0.0669914380151431, 0.21021814066549785, 0.21021814066549785, 0.22752658362890132, 0.22752658362890132, 0.22752658362890132, 0.7347098937333035, 0.05451473073231932, 0.17345596142101602, 0.034691192284203205, 0.24557801197147403, 0.960710268103807, 0.02309399682941844, 0.012932638224474326, 0.0009237598731767375, 0.21825665854899404, 0.21825665854899404, 0.21825665854899404, 0.20430035350878745, 0.20430035350878745, 0.17612451447841582, 0.17612451447841582, 0.17612451447841582, 0.18376242786976074, 0.18376242786976074, 0.18376242786976074, 0.2449415070898454, 0.08967624829903482, 0.029892082766344943, 0.8070862346913135, 0.029892082766344943, 0.4017048516277426, 0.2467364005734918, 0.7437624941334747, 0.20513920881423456, 0.028963955648641924, 0.021523673463669686, 0.23327701618051183, 0.23327701618051183, 0.23327701618051183, 0.24108130720848736, 0.24683429027274123, 0.5494246041948021, 0.3832942396853066, 0.0488618719145575, 0.015201471262306778, 0.2502309647393173, 0.046409116021940124, 0.046409116021940124, 0.8353640883949223, 0.07205823601485517, 0.01200970600247586, 0.9007279501856895, 0.23472501848654095, 0.23472501848654095, 0.6040710659416769, 0.3097307057853821, 0.07118034853452881, 0.014107816826663367, 0.02812419405139598, 0.01406209702569799, 0.9421605007217654, 0.20914769081169798, 0.20914769081169798, 0.20914769081169798, 0.20914769081169798, 0.8342164981710957, 0.0951225673999332, 0.05606338928173054, 0.013973757688839746, 0.0001683585263715632, 0.24982996540967461, 0.24982996540967461, 0.23200091700321526, 0.23200091700321526, 0.24772187563533682, 0.24772187563533682, 0.20184467653877802, 0.20184467653877802, 0.20184467653877802, 0.22931891685998268, 0.22931891685998268, 0.22931891685998268, 0.2325684694832334, 0.2325684694832334, 0.8529182940876145, 0.07118058969691658, 0.07336595867883947, 0.0018731734130767522, 0.1691699012190585, 0.338339802438117, 0.243550187613973, 0.243550187613973, 0.21933215291306224, 0.14622143527537482, 0.21933215291306224, 0.14622143527537482, 0.14622143527537482, 0.06210215495435044, 0.06210215495435044, 0.7452258594522052, 0.16843426945700948, 0.16843426945700948, 0.16843426945700948, 0.16843426945700948, 0.24425611968453217, 0.24425611968453217, 0.23544382603558314, 0.6528206641071883, 0.05934733310065349, 0.11869466620130698, 0.2502645366931516, 0.23316447379073088, 0.23316447379073088, 0.13320014272817404, 0.2664002854563481, 0.2664002854563481, 0.025527773603713427, 0.8679443025262565, 0.05105554720742685, 0.039567943700852336, 0.039567943700852336, 0.8309268177178991, 0.22662187645117923, 0.22662187645117923, 0.23802488917381484, 0.3173665188984198, 0.23802488917381484, 0.03818560346770806, 0.03818560346770806, 0.8400832762895774, 0.1946386710664785, 0.1946386710664785, 0.2294577209034256, 0.2294577209034256, 0.24562784438703553, 0.24562784438703553, 0.1629695672886398, 0.1629695672886398, 0.1629695672886398, 0.5749251742966877, 0.16909563949902578, 0.03381912789980516, 0.13527651159922063, 0.03381912789980516, 0.936417242744075, 0.009857023607832369, 0.02957107082349711, 0.24772187563533682, 0.24772187563533682, 0.14727261286396146, 0.14727261286396146, 0.2945452257279229, 0.14727261286396146, 0.24674351359170027, 0.24674351359170027, 0.24841332474317754, 0.24841332474317754, 0.24841332474317754, 0.24329998923222468, 0.24329998923222468, 0.15583250752440184, 0.4674975225732055, 0.23962967666846355, 0.13345354233876078, 0.13345354233876078, 0.40036062701628233, 0.19907699787102165, 0.19907699787102165, 0.19907699787102165, 0.9428926203837436, 0.01240648184715452, 0.01240648184715452, 0.23018013336190044, 0.23018013336190044, 0.21526298371154165, 0.21526298371154165, 0.21526298371154165, 0.20024564512764953, 0.708561513528606, 0.04621053349099605, 0.01452842424839842, 0.900762303400702, 0.05811369699359368, 0.15916897928207857, 0.6745732931478569, 0.14401002887426156, 0.007579475203908503, 0.5473717169369389, 0.3767335703614559, 0.013296478953933736, 0.05761807546704619, 0.002216079825655623, 0.1416023279351666, 0.2832046558703332, 0.2832046558703332, 0.1416023279351666, 0.24841332474317754, 0.24390554396361436, 0.24390554396361436, 0.36425752441627773, 0.18212876220813887, 0.20846922614781135, 0.20846922614781135, 0.20846922614781135, 0.22205836950184016, 0.22205836950184016, 0.10101861969513379, 0.7828943026372869, 0.025254654923783447, 0.050509309847566894, 0.23787612444215542, 0.23787612444215542, 0.2419193777679329, 0.2419193777679329, 0.24754891031843007, 0.24885370745627114, 0.044569507068173406, 0.8022511272271212, 0.044569507068173406, 0.044569507068173406, 0.22752484114121616, 0.22752484114121616, 0.22752484114121616, 0.24176918962135294, 0.24176918962135294, 0.24562784438703553, 0.24562784438703553, 0.2347722702259153, 0.2347722702259153, 0.2347722702259153, 0.1804726987095406, 0.1804726987095406, 0.1804726987095406, 0.042690763439019265, 0.021345381719509633, 0.8751606504998949, 0.06669400734271716, 0.33347003671358577, 0.4668580513990201, 0.225073855414386, 0.225073855414386, 0.225073855414386, 0.2159675464624829, 0.2159675464624829, 0.2159675464624829, 0.20499320972123894, 0.20499320972123894, 0.08856029043202106, 0.08487027833068685, 0.7712125291788501, 0.04797015731734474, 0.23555851393671395, 0.23555851393671395, 0.24977843746420617, 0.2360444643269314, 0.2360444643269314, 0.24407357521312, 0.24407357521312, 0.2458228022895313, 0.2458228022895313, 0.2161495068011349, 0.2161495068011349, 0.24841332474317754, 0.0915663126966954, 0.5493978761801724, 0.1831326253933908, 0.33560858346125466, 0.055934763910209115, 0.33560858346125466, 0.055934763910209115, 0.11186952782041823, 0.24841332474317754, 0.2486556736087198, 0.37298351041307964, 0.1243278368043599, 0.18479860599112108, 0.36959721198224216, 0.23786681545580804, 0.23786681545580804, 0.2881415341881643, 0.14407076709408215, 0.2881415341881643, 0.13314121364416837, 0.13314121364416837, 0.26628242728833673, 0.26628242728833673, 0.16043766172768772, 0.16043766172768772, 0.32087532345537545, 0.22981579419354287, 0.22981579419354287, 0.22981579419354287, 0.363503856860949, 0.121167952286983, 0.242335904573966, 0.9435204655647051, 0.010542128106868215, 0.03162638432060464, 0.19406649233653714, 0.19406649233653714, 0.19406649233653714, 0.23692322115061046, 0.23692322115061046, 0.23692322115061046, 0.24841332474317754, 0.23127899563655105, 0.23127899563655105, 0.23127899563655105, 0.24841332474317754, 0.20978635816578153, 0.20978635816578153, 0.20978635816578153, 0.7808283238592756, 0.11712424857889132, 0.24709015788093946, 0.24709015788093946, 0.24425611968453217, 0.24425611968453217, 0.2041806425286153, 0.2041806425286153, 0.2041806425286153, 0.2449415070898454, 0.4237127293192324, 0.14123757643974413, 0.14123757643974413, 0.19552364267378855, 0.19552364267378855, 0.19552364267378855, 0.10432270942891095, 0.10432270942891095, 0.10432270942891095, 0.4172908377156438, 0.9324137704693264, 0.013916623439840693, 0.027833246879681386, 0.23106657722319648, 0.23106657722319648, 0.25088062504115516, 0.25088062504115516, 0.45907240501246366, 0.4349106994854919, 0.06788288695673021, 0.034516722181388244, 0.001150557406046275, 0.20340391582731812, 0.08777115491752101, 0.614398084422647, 0.1860712353928162, 0.1860712353928162, 0.3721424707856324, 0.23445826980442588, 0.23445826980442588, 0.12191580534324623, 0.12191580534324623, 0.6095790267162311, 0.12190196198786522, 0.12190196198786522, 0.4876078479514609, 0.3273983250796244, 0.1636991625398122, 0.24712511011564778, 0.24712511011564778, 0.24504628775425794, 0.24504628775425794, 0.4507013251998324, 0.43683359211676065, 0.09245155388714511, 0.013867733083071767, 0.3988100771583953, 0.5030037009204985, 0.04670748651404629, 0.03952171935803917, 0.20746627558404157, 0.20746627558404157, 0.16722504638640304, 0.3344500927728061, 0.7148241563175272, 0.15392968557870054, 0.0021086258298452128, 0.12440892396086756, 0.7826674744362728, 0.1119345661763608, 0.09182132381654597, 0.011368354377286644, 0.24407357521312, 0.24407357521312, 0.04224371758495884, 0.04224371758495884, 0.8448743516991768, 0.719253039723506, 0.23319532147285543, 0.00561916437283989, 0.03933415060987923, 0.5603288855324242, 0.35547746501519384, 0.07230050135902248, 0.009640066847869663, 0.08726702270686976, 0.26180106812060927, 0.349068090827479, 0.08726702270686976, 0.8581155986849412, 0.06960937723598125, 0.06180832633884542, 0.009001212573618265, 0.21691929687749073, 0.21691929687749073, 0.21691929687749073, 0.24772187563533682, 0.24772187563533682, 0.08126201301876637, 0.08126201301876637, 0.7313581171688974, 0.2458228022895313, 0.2458228022895313, 0.22731088472495026, 0.22731088472495026, 0.8743785237522548, 0.057416976231386335, 0.06233843133693374, 0.0016404850351824669, 0.225537351429053, 0.451074702858106, 0.1127686757145265, 0.08065047391797327, 0.08065047391797327, 0.08065047391797327, 0.7258542652617594, 0.9576560349437465, 0.01609505941081927, 0.008047529705409635, 0.03931712710974987, 0.03931712710974987, 0.8256596693047473, 0.07451610376294182, 0.07451610376294182, 0.14903220752588364, 0.5961288301035346, 0.2467364005734918, 0.210042551595312, 0.210042551595312, 0.210042551595312, 0.210042551595312, 0.060174739398280885, 0.7822716121776515, 0.2449415070898454, 0.2845929209176903, 0.2845929209176903, 0.09486430697256343, 0.09486430697256343, 0.04866470763229153, 0.04866470763229153, 0.8273000297489561, 0.33799590512225547, 0.4055950861467066, 0.0675991810244511, 0.0675991810244511, 0.20021551309596577, 0.20021551309596577, 0.20021551309596577, 0.594947135599637, 0.24051054417857665, 0.13133141557119646, 0.03164612423402324, 0.0005274354039003873, 0.15577530431451897, 0.15577530431451897, 0.4673259129435569, 0.4429488908341775, 0.04026808098492522, 0.04026808098492522, 0.04026808098492522, 0.362412728864327, 0.24683429027274123, 0.12340543802442958, 0.7651137157514634, 0.0863838066171007, 0.23314825011401016, 0.23314825011401016, 0.2321563565358013, 0.24568629869213301, 0.24568629869213301, 0.20874612566105885, 0.20874612566105885, 0.20874612566105885, 0.05353620254374607, 0.7495068356124449, 0.10707240508749213, 0.08435543009573356, 0.08435543009573356, 0.6748434407658684, 0.2335180540458156, 0.2335180540458156, 0.2335180540458156, 0.24816191071820462, 0.050685310199864296, 0.050685310199864296, 0.050685310199864296, 0.8109649631978287, 0.2502209159037266, 0.4273276734802233, 0.14244255782674112, 0.14244255782674112, 0.0975978744090734, 0.487989372045367, 0.0975978744090734, 0.0975978744090734, 0.1777543046680361, 0.1777543046680361, 0.1777543046680361, 0.1777543046680361, 0.11850286977869072, 0.9652983313577242, 0.008180494333540036, 0.008180494333540036, 0.5385085494962597, 0.18597448957935345, 0.26976519367554563, 0.003065513564494837, 0.9224775882107047, 0.02470922111278673, 0.04530023870677567, 0.0041182035187977886, 0.34164065811133726, 0.24981866502655853, 0.24981866502655853, 0.5539187690789822, 0.22992854565542659, 0.2127585568564824, 0.0014930425042560167, 0.24595264793179955, 0.226045933465577, 0.226045933465577, 0.20487320791498106, 0.20487320791498106, 0.2435752750141719, 0.08556292051265206, 0.08556292051265206, 0.6845033641012165, 0.5218849235074595, 0.14910997814498844, 0.07455498907249422, 0.07455498907249422, 0.24562784438703553, 0.24562784438703553, 0.4702711591369609, 0.4746457745707931, 0.010936538584580486, 0.03937153890448975, 0.15882093132014, 0.15882093132014, 0.31764186264028, 0.6874002462847622, 0.12337953138444449, 0.017625647340634928, 0.14100517872507942, 0.41312510826835613, 0.1377083694227854, 0.1377083694227854, 0.1377083694227854, 0.2397288916856025, 0.24390554396361436, 0.24390554396361436, 0.24407357521312, 0.24407357521312, 0.24406854960797686, 0.6963165876665842, 0.0928422116888779, 0.04642110584443895, 0.04642110584443895, 0.0928422116888779, 0.24754891031843007, 0.2146041900949384, 0.2146041900949384, 0.19730426877185475, 0.19730426877185475, 0.19730426877185475, 0.19730426877185475, 0.2515293223126019, 0.2515293223126019, 0.28991963230905576, 0.016106646239391988, 0.3221329247878398, 0.33823957102723173, 0.23532983426264167, 0.23532983426264167, 0.14607747068220886, 0.14607747068220886, 0.43823241204662655, 0.4641775921162674, 0.44824992964168964, 0.05460912848426676, 0.02730456424213338, 0.002275380353511115, 0.24559980886499672, 0.7820125438483643, 0.07602899731859097, 0.13685219517346375, 0.0028963427549939416, 0.24590876111216803, 0.24558834665401555, 0.6669910324900354, 0.21479372232729957, 0.05652466377034199, 0.022609865508136796, 0.24061507502493115, 0.9692573423381218, 0.014223902298463003, 0.002031986042637572, 0.010159930213187859, 0.16995487617619384, 0.16995487617619384, 0.16995487617619384, 0.3399097523523877, 0.6103722978561739, 0.16646517214259288, 0.12947291166646113, 0.03699226047613175, 0.018496130238065876, 0.2453614973573238, 0.23532983426264167, 0.23532983426264167, 0.167949125624701, 0.167949125624701, 0.167949125624701, 0.09579431209515603, 0.19158862419031206, 0.47897156047578016, 0.5020941262153173, 0.10041882524306346, 0.10041882524306346, 0.10041882524306346, 0.17897521088970583, 0.17897521088970583, 0.35795042177941166, 0.24841332474317754, 0.680408899473939, 0.19573406697195506, 0.060584354062747994, 0.05825418659879615, 0.002330167463951846, 0.002330167463951846, 0.24982222881021363, 0.24982222881021363, 0.06884729275455703, 0.06884729275455703, 0.6884729275455703, 0.24859357371603177, 0.24859357371603177, 0.2448561910228916, 0.2448561910228916, 0.2494907620211798, 0.24820300553279298, 0.24820300553279298, 0.09027277727261303, 0.01504546287876884, 0.8575913840898238, 0.01504546287876884, 0.06144381872192265, 0.7987696433849945, 0.24490095468151435, 0.24490095468151435, 0.24820300553279298, 0.24820300553279298, 0.24754891031843007, 0.243550187613973, 0.243550187613973, 0.23477209994340173, 0.23477209994340173, 0.23477209994340173, 0.2498173529789972, 0.2498173529789972, 0.6695030175726369, 0.23596887744911932, 0.08363453884272583, 0.009387550278265143, 0.2459287069611558, 0.2459287069611558, 0.23973021442917605, 0.22752375791444854, 0.22752375791444854, 0.22752375791444854, 0.24176918962135294, 0.24176918962135294, 0.239580976587824, 0.239580976587824, 0.24754891031843007, 0.05494701757825353, 0.027473508789126765, 0.19231456152388735, 0.6868377197281691, 0.17559905118976737, 0.35119810237953475, 0.17559905118976737, 0.04992177902047116, 0.7488266853070673, 0.04992177902047116, 0.04992177902047116, 0.025044229614270413, 0.025044229614270413, 0.9015922661137349, 0.24674351359170027, 0.24674351359170027, 0.20572978807569198, 0.20572978807569198, 0.20572978807569198, 0.8024613021452803, 0.0035824165274342874, 0.0035824165274342874, 0.18270324289914866, 0.2396395954042594, 0.2472885045451819, 0.2472885045451819, 0.19543759503116712, 0.19543759503116712, 0.19543759503116712, 0.19543759503116712, 0.24406854960797686, 0.0887416311654077, 0.009593689855719751, 0.8946115790458669, 0.0023984224639299377, 0.14917133926064277, 0.14917133926064277, 0.29834267852128554, 0.24488072848936646, 0.138578769902692, 0.04619292330089733, 0.554315079610768, 0.138578769902692, 0.23591144503986908, 0.5811352959609358, 0.09685588266015596, 0.09685588266015596, 0.09685588266015596, 0.1773115032904165, 0.019701278143379613, 0.7683498475918049, 0.23767044223323758, 0.23767044223323758, 0.2435752750141719, 0.2253346118541123, 0.2253346118541123, 0.2253346118541123, 0.23659617665667035, 0.23659617665667035, 0.6078494370895476, 0.3532987702939248, 0.01865241954967926, 0.017555218399698126, 0.24778246959982325, 0.04802931493361056, 0.04802931493361056, 0.8164983538713796, 0.5749012482592734, 0.06370096933620757, 0.33761513748190014, 0.02070281503426746, 0.2238384759368703, 0.2238384759368703, 0.23787612444215542, 0.23787612444215542, 0.23786745269725235, 0.23786745269725235, 0.3321579595528268, 0.1660789797764134, 0.1660789797764134, 0.1660789797764134, 0.25038157261197785, 0.03984174641976849, 0.03984174641976849, 0.8366766748151382, 0.027533380160193712, 0.01652002809611623, 0.04956008428834868, 0.8920815171902763, 0.19375748575027402, 0.19375748575027402, 0.19375748575027402, 0.19957576982867614, 0.19957576982867614, 0.22798296598275797, 0.2291448782389831, 0.2291448782389831, 0.007652655118141837, 0.0015305310236283674, 0.0015305310236283674, 0.9841314481930402, 0.07008957038418281, 0.07008957038418281, 0.07008957038418281, 0.7008957038418282, 0.8101448485171393, 0.15750988389799783, 0.021279190443044278, 0.01031053557549568, 0.00021937309735097193, 0.24397832502152605, 0.19431465758662825, 0.19431465758662825, 0.19431465758662825, 0.19431465758662825, 0.24425611968453217, 0.24425611968453217, 0.4641920576706905, 0.23209602883534525, 0.07736534294511509, 0.24772187563533682, 0.24772187563533682, 0.049867027973313195, 0.049867027973313195, 0.7978724475730111, 0.386769078667392, 0.8192418005907308, 0.04551343336615171, 0.04551343336615171, 0.10344395104246713, 0.8068628181312436, 0.020688790208493426, 0.04137758041698685, 0.2352586892342657, 0.2352586892342657, 0.9555145191492559, 0.031947293953318585, 0.0043564491754525345, 0.0029042994503016895, 0.0029042994503016895, 0.9307518405091961, 0.025155455148897193, 0.025155455148897193, 0.7490150784205949, 0.034837910624213715, 0.017418955312106858, 0.1741895531210686, 0.2425696730215928, 0.16171311534772853, 0.40428278836932136, 0.08085655767386427, 0.24990867968610359, 0.24616944498767163, 0.6078171428802356, 0.08683102041146223, 0.08683102041146223, 0.20785412867679853, 0.10392706433839927, 0.41570825735359707, 0.15657293994063773, 0.7306737197229761, 0.03479398665347505, 0.03479398665347505, 0.562433361235614, 0.249970382771384, 0.062492595692846, 0.24651025365421847, 0.6340482541635437, 0.14089961203634305, 0.3409741309891374, 0.22731608732609163, 0.22731608732609163, 0.056829021831522906, 0.056829021831522906, 0.2467364005734918, 0.23659617665667035, 0.23659617665667035, 0.24981799534217217, 0.24981799534217217, 0.33659603611516126, 0.16829801805758063, 0.16829801805758063, 0.24277139616417004, 0.24277139616417004, 0.24780976594617113, 0.20782247825941075, 0.20782247825941075, 0.24683429027274123, 0.23405988729724708, 0.23405988729724708, 0.8608224419930468, 0.09779976297027113, 0.035060292385568896, 0.004613196366522223, 0.8414061243895681, 0.1301919962290764, 0.01829143748672974, 0.007531768376888717, 0.2494907620211798, 0.20659586898866078, 0.20659586898866078, 0.20659586898866078, 0.16521773875907045, 0.16521773875907045, 0.3304354775181409, 0.16521773875907045, 0.5644865827040886, 0.16128188077259673, 0.16128188077259673, 0.04032047019314918, 0.24488072848936646, 0.2502113798276466, 0.2515006632672858, 0.0529693780227307, 0.02648468901136535, 0.8739947373750565, 0.24841332474317754, 0.3728926208267775, 0.18644631041338874, 0.18644631041338874, 0.24683429027274123, 0.24651025365421847, 0.16334594411198694, 0.16334594411198694, 0.3266918882239739, 0.1250663473878553, 0.7191314974801679, 0.10943305396437339, 0.015633293423481912, 0.24683429027274123, 0.6849814794192315, 0.0761090532688035, 0.0761090532688035, 0.0761090532688035, 0.9399010639623331, 0.04529643681746184, 0.0037747030681218197, 0.0037747030681218197, 0.10780242356108481, 0.10780242356108481, 0.6468145413665088, 0.03653263653301501, 0.07306527306603001, 0.8037180037263302, 0.23767044223323758, 0.23767044223323758, 0.022122989375081913, 0.005530747343770478, 0.9568192904722927, 0.12469144990834939, 0.12469144990834939, 0.49876579963339757, 0.08301253655435774, 0.013835422759059624, 0.8716316338207563, 0.24780976594617113, 0.7979527504183597, 0.13342532417418826, 0.06194747193801598, 0.005631588358001453, 0.21666432968160773, 0.21666432968160773, 0.21666432968160773, 0.24717364433089659, 0.22618207638045448, 0.22618207638045448, 0.39550495373499117, 0.0659174922891652, 0.329587461445826, 0.0659174922891652, 0.2502658910985284, 0.1700001042150734, 0.1700001042150734, 0.1700001042150734, 0.22040117333925874, 0.22040117333925874, 0.24780976594617113, 0.17729967613755884, 0.17729967613755884, 0.17729967613755884, 0.2468665406671521, 0.47673471557778246, 0.28559371589712407, 0.23473456101133486, 0.001676675435795249, 0.23659617665667035, 0.23659617665667035, 0.25088182549011107, 0.25088182549011107, 0.24489232333614586, 0.2498262747891032, 0.2498262747891032, 0.9438950903929799, 0.048852241277270676, 0.0034894458055193343, 0.22469330380790903, 0.22469330380790903, 0.22469330380790903, 0.22469330380790903, 0.06913678334238528, 0.011522797223730879, 0.8872553862272777, 0.011522797223730879, 0.24674351359170027, 0.24674351359170027, 0.030204107851292107, 0.015102053925646054, 0.9212252894644093, 0.3205027434114156, 0.1602513717057078, 0.19900906648418257, 0.19900906648418257, 0.26335677458703294, 0.17557118305802197, 0.43892795764505493, 0.24961051695895653, 0.13529922939155728, 0.8253252992884995, 0.013529922939155729, 0.03152843970008191, 0.7882109925020476, 0.03152843970008191, 0.12611375880032763, 0.17160665475292775, 0.3432133095058555, 0.6612258061446463, 0.011781306122844478, 0.3225132551128676, 0.0014726632653555597, 0.24559980886499672, 0.24717364433089659, 0.965519363048162, 0.007642633480592311, 0.005095088987061541, 0.01655903920795001, 0.0025475444935307706, 0.24977843746420617, 0.1356408573259838, 0.1356408573259838, 0.4069225719779514, 0.9061419073768269, 0.016889192763101312, 0.057276392848778356, 0.017623505491931802, 0.4969297067019087, 0.4245293520830876, 0.05512299726660246, 0.022213745167138303, 0.18515824135380482, 0.07935353200877349, 0.7141817880789614, 0.33764078971251904, 0.16882039485625952, 0.16882039485625952, 0.16882039485625952, 0.4697350892398726, 0.15657836307995754, 0.15657836307995754, 0.2392590484439822, 0.2392590484439822, 0.14762630203468138, 0.14762630203468138, 0.2214394530520221, 0.3690657550867035, 0.2210223966025265, 0.2210223966025265, 0.24982571119027902, 0.24982571119027902, 0.42916616027327653, 0.4717551685446704, 0.07371174508510475, 0.021294504135696928, 0.22001488554845697, 0.22001488554845697, 0.1497003050826646, 0.2994006101653292, 0.1497003050826646, 0.1497003050826646, 0.6543649556785058, 0.2169498548373864, 0.12655408198847543, 0.001004397476099011, 0.9393992077521152, 0.016480687855300265, 0.016480687855300265, 0.2330379341798926, 0.2330379341798926, 0.2330379341798926, 0.24558834665401555, 0.24489232333614586, 0.32654472143974905, 0.16327236071987453, 0.16327236071987453, 0.599643706659582, 0.025195113725192522, 0.3602901262702531, 0.0075585341175577565, 0.16541379127253483, 0.16541379127253483, 0.16541379127253483, 0.18326071091572613, 0.18326071091572613, 0.18326071091572613, 0.21550474564988745, 0.21550474564988745, 0.21550474564988745, 0.21550474564988745, 0.17763851217426874, 0.3552770243485375, 0.2024516776907745, 0.2024516776907745, 0.2024516776907745, 0.2438773025607833, 0.23767044223323758, 0.23767044223323758, 0.5600302978586026, 0.11200605957172051, 0.11200605957172051, 0.24780976594617113, 0.08504316585981546, 0.5953021610187083, 0.08504316585981546, 0.7147667011701448, 0.07941852235223831, 0.03918909927739749, 0.03918909927739749, 0.11756729783219247, 0.7837819855479498, 0.15360743378507513, 0.15360743378507513, 0.30721486757015026, 0.3648726063382733, 0.24324840422551552, 0.12162420211275776, 0.05804384854506573, 0.7545700310858545, 0.24329998923222468, 0.24329998923222468, 0.532331013189931, 0.38931671113890476, 0.06515095982324529, 0.011123334603968707, 0.15589349561112276, 0.15589349561112276, 0.3117869912222455, 0.22302120067595585, 0.22302120067595585, 0.39931289791564384, 0.007753648503216385, 0.06590601227733928, 0.5156176254638897, 0.5122623251308471, 0.11383607225129937, 0.11383607225129937, 0.11383607225129937, 0.11335649752628202, 0.11335649752628202, 0.4534259901051281, 0.11335649752628202, 0.9518830659526407, 0.012863284675035684, 0.012863284675035684, 0.5151097754831895, 0.08585162924719825, 0.1717032584943965, 0.2134691003368462, 0.2134691003368462, 0.2134691003368462, 0.24558834665401555, 0.10507056375011672, 0.5253528187505836, 0.10507056375011672, 0.24683429027274123, 0.23786700811091124, 0.23786700811091124, 0.11871476364000469, 0.5935738182000235, 0.030048772773689936, 0.030048772773689936, 0.8714144104370082, 0.0675346593135653, 0.7091139227924356, 0.10130198897034794, 0.10130198897034794, 0.9319123255725896, 0.022579373527089174, 0.03900073609224494, 0.20113873656594192, 0.0182853396878129, 0.7314135875125161, 0.12797020115516175, 0.11197392601076653, 0.7038361063533897, 0.01599627514439522, 0.05963883444737369, 0.775304847815858, 0.05963883444737369, 0.2435752750141719, 0.9362653199401071, 0.048373708196905535, 0.00936265319940107, 0.0015604421999001784, 0.0015604421999001784, 0.24674351359170027, 0.24674351359170027, 0.23767044223323758, 0.23767044223323758, 0.23767044223323758, 0.23767044223323758, 0.23767044223323758, 0.23767044223323758, 0.06473221721359035, 0.06473221721359035, 0.06473221721359035, 0.7767866065630842, 0.40577030976408535, 0.03688820997855321, 0.07377641995710642, 0.44265851974263853, 0.1602651219372643, 0.1602651219372643, 0.3205302438745286, 0.20349940808441802, 0.20349940808441802, 0.20349940808441802, 0.5917711818924319, 0.3580693987432267, 0.024600187699916336, 0.02323351060547654, 0.3668567686661586, 0.25207336251907825, 0.3646061136436668, 0.013503930134950621, 0.20321868367879034, 0.20321868367879034, 0.2467364005734918, 0.17995901950011048, 0.17995901950011048, 0.17995901950011048, 0.10157452989791739, 0.7618089742343804, 0.2435752750141719, 0.19364988896065757, 0.19364988896065757, 0.19364988896065757, 0.19364988896065757, 0.2494907620211798, 0.03796809892224162, 0.03796809892224162, 0.7973300773670741, 0.07593619784448324, 0.22815224095045045, 0.22815224095045045, 0.06866494764829546, 0.48065463353806825, 0.06866494764829546, 0.13732989529659093, 0.2498159925542212, 0.2498159925542212, 0.1635238225197827, 0.3270476450395654, 0.1635238225197827, 0.03141866254016735, 0.9530327637184095, 0.005236443756694558, 0.24490095468151435, 0.24490095468151435, 0.2503805736156881, 0.23397857296130214, 0.23081110056016288, 0.23081110056016288, 0.23081110056016288, 0.11968241967961972, 0.558517958504892, 0.07978827978641315, 0.03989413989320657, 0.03989413989320657, 0.03989413989320657, 0.5323704697592139, 0.3669238458699554, 0.09632670101996826, 0.002941273313586817, 0.8134162975996783, 0.029905010941164642, 0.005981002188232928, 0.005981002188232928, 0.13756305032935737, 0.05558336171654598, 0.05558336171654598, 0.8337504257481897, 0.07403993221061932, 0.07403993221061932, 0.6663593898955738, 0.5068742453608592, 0.4147152916588849, 0.04788651515886906, 0.028009093772168696, 0.0009035191539409256, 0.23532983426264167, 0.23532983426264167, 0.24515492034654687, 0.24515492034654687, 0.2471030368450656, 0.2471030368450656, 0.2449415070898454, 0.45522451868512653, 0.11380612967128163, 0.11380612967128163, 0.16217815443983882, 0.09122521187240934, 0.7196655603267847, 0.022654717084533166, 0.0679641512535995, 0.815569815043194, 0.04530943416906633, 0.7413593256702684, 0.13389098189362708, 0.10826986807447621, 0.01405028822340531, 0.8776573300309741, 0.043037487286982964, 0.07070444340004345, 0.004611159352176746, 0.02746155414606118, 0.8513081785278965, 0.05492310829212236, 0.2467364005734918, 0.23081110056016288, 0.23081110056016288, 0.23081110056016288, 0.3290494174869206, 0.6036696080211175, 0.03958489232925361, 0.022266501935205154, 0.177466388073878, 0.177466388073878, 0.354932776147756, 0.22350319110362843, 0.22350319110362843, 0.22350319110362843, 0.22350319110362843, 0.13929485923489904, 0.2785897184697981, 0.13929485923489904, 0.2472885045451819, 0.2472885045451819, 0.24581062455286765, 0.04941293613656813, 0.04941293613656813, 0.04941293613656813, 0.7906069781850901, 0.24980876890253353, 0.24980876890253353, 0.2498122079782861, 0.2498122079782861, 0.674715068524417, 0.26912792059120005, 0.04074824149796338, 0.014214502848126762, 0.03727756043726825, 0.03727756043726825, 0.8573838900571698, 0.24559980886499672, 0.24841332474317754, 0.1279010273988767, 0.1279010273988767, 0.5116041095955068, 0.19896702040639871, 0.19896702040639871, 0.19896702040639871, 0.19896702040639871, 0.15247364517606335, 0.3049472903521267, 0.15247364517606335, 0.17436913284230524, 0.17436913284230524, 0.17436913284230524, 0.17436913284230524, 0.5925519766621807, 0.0538683615147437, 0.0538683615147437, 0.2154734460589748, 0.0538683615147437, 0.03801027737049884, 0.30408221896399074, 0.5701541605574826, 0.13653393641907463, 0.27306787283814926, 0.27306787283814926, 0.24981072364044468, 0.24981072364044468, 0.24562784438703553, 0.24562784438703553, 0.2552760247972998, 0.5743710557939246, 0.09572850929898744, 0.03190950309966248, 0.2276679999996696, 0.2276679999996696, 0.8270858905081218, 0.1041189684859515, 0.05181507351883032, 0.01613110779359812, 0.23532983426264167, 0.23532983426264167, 0.7066253048532447, 0.08075717769751369, 0.16151435539502737, 0.24683429027274123, 0.22871569298613142, 0.22871569298613142, 0.22871569298613142, 0.2480149368567062, 0.24390554396361436, 0.24390554396361436, 0.9453147742404043, 0.01817913027385393, 0.22695905897625337, 0.22695905897625337, 0.2435752750141719, 0.2458058231448672, 0.2458058231448672, 0.2650832093126203, 0.6627080232815508, 0.008836106977087343, 0.05301664186252406, 0.2515277613415714, 0.2515277613415714, 0.23973368045071292, 0.23127899563655105, 0.23127899563655105, 0.23127899563655105, 0.24674351359170027, 0.24674351359170027, 0.239580976587824, 0.239580976587824, 0.16472662046959635, 0.3294532409391927, 0.24489232333614586, 0.39682416164054496, 0.26454944109369666, 0.23477254942387837, 0.23477254942387837, 0.23477254942387837, 0.23532983426264167, 0.23532983426264167, 0.9646753237858408, 0.010542899713506457, 0.015814349570259685, 0.19782875248797213, 0.19782875248797213, 0.19782875248797213, 0.2472885045451819, 0.2472885045451819, 0.174007817998735, 0.174007817998735, 0.14400204734574532, 0.14400204734574532, 0.432006142037236, 0.5407520005964985, 0.08652032009543976, 0.30282112033403913, 0.1857267601894189, 0.1857267601894189, 0.1857267601894189, 0.1857267601894189, 0.24674351359170027, 0.24674351359170027, 0.06622441157442037, 0.728468527318624, 0.06622441157442037, 0.9273944403012383, 0.01892641714900486, 0.006308805716334955, 0.03154402858167477, 0.7013345842259617, 0.2519668872390755, 0.007489461616448105, 0.037447308082240525, 0.0010699230880640148, 0.1301954616446999, 0.5207818465787996, 0.1301954616446999, 0.5741415575375286, 0.3430845892602305, 0.059014550339223315, 0.021005178934299824, 0.24407357521312, 0.24407357521312, 0.19479749007819402, 0.19479749007819402, 0.19479749007819402, 0.24841332474317754, 0.24820300553279298, 0.24820300553279298, 0.6915307410237014, 0.18302573719401743, 0.10278292630599994, 0.0211877084929035, 0.0004508023083596489, 0.2438773025607833, 0.18280161405664425, 0.18280161405664425, 0.18280161405664425, 0.24841332474317754, 0.2467364005734918, 0.17618789549546332, 0.35237579099092664, 0.17618789549546332, 0.23886650950069355, 0.23886650950069355, 0.2472885045451819, 0.2472885045451819, 0.13562040916680312, 0.2297569284708194, 0.6302360190692615, 0.08509593926472285, 0.012156562752103263, 0.8752725181514349, 0.25087893311240866, 0.25087893311240866, 0.16495953424991106, 0.7514823226940393, 0.018328837138879006, 0.018328837138879006, 0.40381296731572164, 0.05557059183243875, 0.5297729754692495, 0.0037047061221625838, 0.21413264244509675, 0.21413264244509675, 0.21413264244509675, 0.21413264244509675, 0.09620215766157003, 0.09620215766157003, 0.5772129459694202, 0.2383474872165836, 0.2383474872165836, 0.825888231216165, 0.09337271403877025, 0.027617281617101058, 0.048659019992035195, 0.0013151086484333838, 0.26752650240571935, 0.3567020032076258, 0.1783510016038129, 0.24407357521312, 0.24407357521312, 0.20481510093144267, 0.2472885045451819, 0.2472885045451819, 0.2489483725930062, 0.5615500075076294, 0.08022142964394706, 0.16044285928789412, 0.1832301964996151, 0.1832301964996151, 0.1832301964996151, 0.24407357521312, 0.24407357521312], \"Term\": [\"abe\", \"abide\", \"accompagnato\", \"accordian\", \"acid\", \"acid\", \"acid\", \"adobada\", \"adobada\", \"adobada\", \"againfill\", \"againfill\", \"aioli\", \"aioli\", \"aioli\", \"akamaru\", \"akamaru\", \"akamaru\", \"akamaru_modern\", \"akamaru_modern\", \"akamaru_modern\", \"akaushi\", \"alba\", \"alba\", \"alba\", \"alive\", \"alive\", \"alive\", \"alive\", \"also\", \"also\", \"also\", \"also\", \"altho\", \"always\", \"always\", \"always\", \"always\", \"amazing\", \"amazing\", \"amazing\", \"amazing\", \"amazonian\", \"amazonian\", \"ambiente\", \"ambiente\", \"ankimo\", \"answer\", \"answer\", \"answer\", \"antiasto\", \"anwar\", \"apologize\", \"apologize\", \"apologize\", \"apology\", \"apology\", \"apology\", \"apology\", \"appetizer\", \"appetizer\", \"appetizer\", \"appetizer\", \"april\", \"april\", \"april\", \"april\", \"arbitrary\", \"arbitrary\", \"arepa\", \"arepa\", \"arepa\", \"artichoke\", \"artichoke\", \"artichoke\", \"artichoke\", \"artichoke_slice\", \"artichoke_slice\", \"artichoke_slice\", \"arugula\", \"arugula\", \"arugula\", \"arugula\", \"ashkenazi\", \"ask\", \"ask\", \"ask\", \"ask\", \"associate\", \"associate\", \"associate\", \"attitude\", \"attitude\", \"attitude\", \"awash\", \"awash\", \"back\", \"back\", \"back\", \"back\", \"backflow\", \"backflow\", \"bahn\", \"bahn\", \"bahn\", \"bakery\", \"bakery\", \"bakery\", \"bakery\", \"bamboo_shoot\", \"bamboo_shoot\", \"bamboo_shoot\", \"ban\", \"ban\", \"ban\", \"ban\", \"banchan\", \"banchan\", \"banchan\", \"band\", \"band\", \"band\", \"band\", \"banh\", \"banh\", \"banh\", \"banh\", \"bar\", \"bar\", \"bar\", \"bar\", \"bartender\", \"bartender\", \"bartender\", \"bashburger\", \"basil\", \"basil\", \"basil\", \"basil\", \"bass\", \"bass\", \"bass\", \"bay_area\", \"bay_area\", \"bay_area\", \"bay_area\", \"bbq\", \"bbq\", \"bbq\", \"bbq\", \"beansit\", \"beansit\", \"bebelieve\", \"beef\", \"beef\", \"beef\", \"bem\", \"bem\", \"bespeckle\", \"bespeckle\", \"bfast\", \"bfast\", \"bfast\", \"bicchiere\", \"billyburg\", \"billyburg\", \"billyburg\", \"billyburg\", \"biscuit\", \"biscuit\", \"biscuit\", \"biscuit\", \"biscutt\", \"bistec\", \"bistec\", \"bistec\", \"blatant\", \"blatant\", \"blending\", \"blending\", \"blood_orange\", \"bloomfield\", \"bloomfield\", \"blueberry_pancake\", \"blueberry_pancake\", \"blueberry_pancake\", \"bmw\", \"bnb\", \"bobby\", \"bobby\", \"bobby\", \"bobby\", \"boddington\", \"boddington\", \"bofe\", \"boggle\", \"boggle\", \"boggle\", \"bolonease\", \"bon\", \"bon\", \"bon\", \"bon\", \"bon\", \"bon\", \"bonker\", \"bonker\", \"bonker\", \"bore\", \"bore\", \"bore\", \"bossam\", \"bossam\", \"bossam\", \"bowl\", \"bowl\", \"bowl\", \"bowl\", \"boxesi\", \"braseola\", \"brat\", \"brat\", \"brat\", \"bread\", \"bread\", \"bread\", \"bread\", \"brick_oven\", \"brick_oven\", \"brick_oven\", \"brick_oven\", \"brisket\", \"brisket\", \"brisket\", \"brisket\", \"brooklyn\", \"brooklyn\", \"brooklyn\", \"brooklyn\", \"broth\", \"broth\", \"broth\", \"broth\", \"broth\", \"brunch\", \"brunch\", \"brunch\", \"brunch\", \"bruschetta\", \"bruschetta\", \"bruschetta\", \"bueno\", \"buht\", \"bulli\", \"bulli\", \"buon\", \"buon\", \"buon\", \"burger\", \"burger\", \"burger\", \"burgerit\", \"burgerit\", \"burrito\", \"burrito\", \"burrito\", \"burritos\", \"burritos\", \"burritos\", \"buttermilk\", \"buttermilk\", \"buttermilk\", \"buttermilk\", \"buzzzzz\", \"caballo\", \"cafecito\", \"cafecito\", \"cahn\", \"cake\", \"cake\", \"cake\", \"cake\", \"call\", \"call\", \"call\", \"call\", \"calzone\", \"calzone\", \"calzone\", \"calzone\", \"canadian\", \"canadian\", \"canora\", \"canora\", \"canora\", \"cardiovascular\", \"carnita\", \"carnita\", \"carnita\", \"carnita\", \"caroline\", \"caroline\", \"caroline\", \"caroline\", \"cavatelli\", \"cavatelli\", \"cavatelli\", \"celeriac\", \"celeriac\", \"chang\", \"chang\", \"chang\", \"chang\", \"characterful\", \"charsius\", \"chashu\", \"chashu\", \"chashu\", \"chasu\", \"chasu\", \"che\", \"cheap\", \"cheap\", \"cheap\", \"cheap\", \"cheap\", \"check\", \"check\", \"check\", \"check\", \"cheeky\", \"cheeky\", \"cheeky\", \"cheese\", \"cheese\", \"cheese\", \"cheese\", \"cheeseburger\", \"cheeseburger\", \"cheesecake\", \"cheesecake\", \"cheesecake\", \"chef\", \"chef\", \"chef\", \"chicken\", \"chicken\", \"chicken\", \"chicken\", \"chilie\", \"chilie\", \"chinatown\", \"chinatown\", \"chipotle\", \"chipotle\", \"chipotle\", \"chipotle\", \"chocolate\", \"chocolate\", \"chocolate\", \"chocolate\", \"chuko\", \"chuko\", \"chuko\", \"churasco\", \"churasco\", \"churasco\", \"cipriani\", \"cipriani\", \"cipriani\", \"circuit\", \"circuit\", \"circuit\", \"clay\", \"clay\", \"clay\", \"clock\", \"clock\", \"clock\", \"clock\", \"cluttered\", \"coal\", \"coal\", \"coal\", \"cocktailsa\", \"cocotte\", \"cocotte\", \"cocotte\", \"coffeeshop\", \"coffeeshop\", \"coffeeshop\", \"coffeeshop\", \"coffeeshop\", \"colada\", \"colada\", \"com\", \"com\", \"come\", \"come\", \"come\", \"come\", \"comer\", \"comer\", \"comer\", \"comida\", \"comida\", \"composite\", \"computer\", \"computer\", \"computer\", \"condesa\", \"condesa\", \"condesa\", \"consciousness\", \"consomma\", \"consomma\", \"consomma\", \"contact\", \"contact\", \"contact\", \"contact\", \"contaminate\", \"contaminate\", \"contamination\", \"contamination\", \"contamination\", \"cookshop\", \"cookshop\", \"cookshop\", \"cookshop\", \"copper\", \"copper\", \"copper\", \"copycat\", \"copycat\", \"corn_tortilla\", \"corn_tortilla\", \"corn_tortilla\", \"count\", \"count\", \"count\", \"count\", \"course\", \"course\", \"course\", \"course\", \"craft\", \"craft\", \"craft\", \"craft\", \"crap\", \"crap\", \"crap\", \"crap\", \"cra\\u00aape\", \"cra\\u00aape\", \"cream\", \"cream\", \"cream\", \"cream\", \"crib\", \"crib\", \"croquette\", \"croquette\", \"croquette\", \"crostini\", \"crostini\", \"crostini\", \"crust\", \"crust\", \"crust\", \"crust\", \"crystal\", \"crystal\", \"crystal\", \"crystal\", \"crystalline\", \"cuba\", \"cuba\", \"cuba\", \"cuba\", \"cuban\", \"cuban\", \"cuban\", \"cubicle\", \"cubicle\", \"cubicle\", \"curative\", \"curd\", \"curd\", \"curd\", \"curd\", \"curry\", \"curry\", \"curry\", \"customer\", \"customer\", \"customer\", \"customer\", \"cute\", \"cute\", \"cute\", \"cute\", \"cutie\", \"cutie\", \"cutie\", \"cutlet\", \"cutlet\", \"cutlet\", \"cwust\", \"dah\", \"dama\", \"dama\", \"damage\", \"damage\", \"damage\", \"damage\", \"dandy\", \"daniel\", \"daniel\", \"daniel\", \"daniel\", \"data\", \"data\", \"data\", \"date\", \"date\", \"date\", \"datile\", \"datile\", \"datum\", \"datum\", \"datum\", \"datum\", \"david_chang\", \"david_chang\", \"daylight\", \"daylight\", \"declicous\", \"dedicate\", \"dedicate\", \"dee\", \"deeeeelicious\", \"deeeeelicious\", \"deeeeelicious\", \"deff\", \"definitely\", \"definitely\", \"definitely\", \"definitely\", \"deixar\", \"deixar\", \"delete\", \"delete\", \"delete\", \"delicious\", \"delicious\", \"delicious\", \"delicious\", \"delle\", \"demonstration\", \"demonstration\", \"desayuno\", \"desperate\", \"desperate\", \"dessert\", \"dessert\", \"dessert\", \"dessert\", \"device\", \"device\", \"device\", \"device\", \"diatribe\", \"diatribe\", \"diciamo\", \"difara\", \"difara\", \"difara\", \"dignified\", \"dignified\", \"dim_lighte\", \"dim_lighte\", \"dim_lighte\", \"din_tai\", \"din_tai\", \"din_tai\", \"dinner\", \"dinner\", \"dinner\", \"dinner\", \"dis\", \"dis\", \"discourse\", \"discourse\", \"disgusting\", \"disgusting\", \"disgusting\", \"dish\", \"dish\", \"dish\", \"dish\", \"dishonesty\", \"dishonesty\", \"disk\", \"disk\", \"disk\", \"disk\", \"disk\", \"display\", \"display\", \"display\", \"display\", \"dixie\", \"dixie\", \"do\", \"do\", \"do\", \"do\", \"do\", \"dom\", \"dom\", \"dom\", \"donburis\", \"donburis\", \"donburis\", \"doorman\", \"doorman\", \"doorman\", \"double\", \"double\", \"double\", \"double\", \"dough\", \"dough\", \"dough\", \"dough\", \"doughnutsthank\", \"doughnutsthank\", \"dragon\", \"dragon\", \"drain\", \"drain\", \"drain\", \"dramatic\", \"dramatic\", \"drape\", \"drink\", \"drink\", \"drink\", \"drink\", \"drunk\", \"drunk\", \"drunk\", \"drunk\", \"dude\", \"dude\", \"dude\", \"dumple\", \"dumple\", \"dumpling\", \"dumpling\", \"dunnobut\", \"dunnobut\", \"dwee\", \"dwee\", \"earn\", \"earn\", \"earn\", \"eat\", \"eat\", \"eat\", \"eat\", \"eataly\", \"eataly\", \"eataly\", \"eataly\", \"eatjet\", \"egg\", \"egg\", \"egg\", \"egg\", \"ele\", \"ele\", \"elicit\", \"elicit\", \"ella\", \"ella\", \"ella\", \"empenada\", \"empenada\", \"employee\", \"employee\", \"endlessly\", \"endlessly\", \"enquanto\", \"enquanto\", \"entree\", \"entree\", \"entree\", \"episode\", \"episode\", \"episode\", \"equipment\", \"equipment\", \"equipment\", \"erica\", \"erica\", \"escargot\", \"escargot\", \"escargot\", \"estilo\", \"even\", \"even\", \"even\", \"even\", \"even\", \"eveningit\", \"eveningit\", \"everything\", \"excellent\", \"excellent\", \"excellent\", \"excellent\", \"exfat\", \"exfat\", \"exfat\", \"exit\", \"exit\", \"exit\", \"experience\", \"experience\", \"experience\", \"experience\", \"extremamente\", \"extremamente\", \"faba\", \"faba\", \"face\", \"face\", \"face\", \"face\", \"facility\", \"facility\", \"falafell\", \"falafell\", \"fara\", \"fara\", \"fara\", \"farren\", \"farren\", \"farren\", \"fat\", \"fat\", \"fat\", \"fat\", \"fat\", \"fattiness\", \"fattiness\", \"fatty\", \"fatty\", \"fatty\", \"fatty\", \"fatuous\", \"fatuous\", \"fennel\", \"fennel\", \"fennel\", \"fetish\", \"file\", \"file\", \"file\", \"file\", \"filipino\", \"filipino\", \"filipino\", \"filipino\", \"filth\", \"filth\", \"flash\", \"flash\", \"flash\", \"flash\", \"flavor\", \"flavor\", \"flavor\", \"flavor\", \"flavorthat\", \"flour\", \"flour\", \"flour\", \"flour\", \"flour\", \"fly\", \"fly\", \"fly\", \"fly\", \"fly\", \"foh\", \"foh\", \"foh\", \"foi\", \"foi\", \"foi\", \"food\", \"food\", \"food\", \"food\", \"foodcool\", \"foreign\", \"foreign\", \"foreign\", \"forfood\", \"forfood\", \"forgettabouttit\", \"format\", \"format\", \"format\", \"format\", \"format\", \"formidable\", \"formidable\", \"formidable\", \"fragrant\", \"fragrant\", \"fragrant\", \"fragrant\", \"fragrant\", \"freddy\", \"freddy\", \"frequency\", \"frequency\", \"frequency\", \"fresh\", \"fresh\", \"fresh\", \"fresh\", \"friedman\", \"fry\", \"fry\", \"fry\", \"fry\", \"ftw\", \"ftw\", \"ftw\", \"futuristic\", \"futuristic\", \"gander\", \"gander\", \"gander\", \"ganso\", \"ganso\", \"ganso\", \"gehran\", \"gelato\", \"gelato\", \"gelato\", \"gelato\", \"gelatto\", \"genewous\", \"get\", \"get\", \"get\", \"get\", \"gila\", \"gila\", \"gila\", \"girard\", \"giudicare\", \"give\", \"give\", \"give\", \"give\", \"glenlivet\", \"gluten_free\", \"gluten_free\", \"gluten_free\", \"gnocchi\", \"gnocchi\", \"gnocchi\", \"gnocco\", \"gnocco\", \"go\", \"go\", \"go\", \"go\", \"goat_cheese\", \"goat_cheese\", \"goat_cheese\", \"goma\", \"goma\", \"goma\", \"goma\", \"good\", \"good\", \"good\", \"good\", \"good\", \"goodthe\", \"goodthe\", \"gook\", \"gook\", \"goooooo\", \"goooooo\", \"goooooood\", \"goooooood\", \"goooooood\", \"grappa\", \"grappa\", \"grappa\", \"gratinate\", \"gratinate\", \"great\", \"great\", \"great\", \"great\", \"greatness\", \"greatness\", \"greeeeen\", \"greeeeen\", \"greenpoint\", \"greenpoint\", \"greenpoint\", \"greenpoint\", \"greenpoint\", \"grimaldi\", \"grimaldi\", \"grimaldi\", \"groan\", \"groan\", \"groan\", \"groan\", \"grungy\", \"grungy\", \"guitar\", \"gyoza\", \"gyoza\", \"gyoza\", \"hadfragrant\", \"haff\", \"haff\", \"hagi\", \"hagi\", \"hagi\", \"hair\", \"hair\", \"hair\", \"halibut\", \"halibut\", \"halibut\", \"halusky\", \"halusky\", \"hamachi\", \"hamachi\", \"hamachi\", \"hanger_steak\", \"hanger_steak\", \"hanger_steak\", \"harp\", \"harp\", \"harushika\", \"harushika\", \"haut\", \"haut\", \"hawaii\", \"hawaii\", \"hawaii\", \"health\", \"health\", \"health\", \"health\", \"health\", \"healthy\", \"healthy\", \"healthy\", \"heare\", \"heare\", \"hearth\", \"hearth\", \"hearth\", \"hearth\", \"heelm\", \"heelm\", \"hehwp\", \"heir\", \"hejaz\", \"hellish\", \"hellish\", \"herd\", \"herd\", \"hippest\", \"hirata\", \"hirata\", \"hirata\", \"hirata_bun\", \"hirata_bun\", \"hirata_bun\", \"hole_wall\", \"hole_wall\", \"hole_wall\", \"hollow\", \"hollow\", \"homestyle\", \"homestyle\", \"homestyle\", \"horrible\", \"horrible\", \"horrible\", \"host\", \"host\", \"host\", \"hostess\", \"hostess\", \"hostess\", \"hostess\", \"hour\", \"hour\", \"hour\", \"hour\", \"hour\", \"housemade\", \"housemade\", \"housemade\", \"housemade\", \"howled\", \"huachinango\", \"huachinango\", \"hue\", \"hue\", \"hunting\", \"hunting\", \"hunting\", \"idle\", \"idle\", \"ignore\", \"ignore\", \"ignore\", \"ignore\", \"imenso\", \"imenso\", \"improperly\", \"improperly\", \"incognito\", \"inexpensively\", \"inform\", \"inform\", \"inform\", \"inform\", \"input\", \"input\", \"input\", \"inspecter\", \"inspecter\", \"intensity\", \"intensity\", \"interface\", \"interface\", \"interface\", \"invoke\", \"invoke\", \"invoke\", \"ippudo\", \"ippudo\", \"ippudo\", \"iron\", \"iron\", \"iron\", \"ironic\", \"ironic\", \"ironic\", \"ironically\", \"ironically\", \"ironically\", \"irregular\", \"irregular\", \"italian\", \"italian\", \"italian\", \"italian\", \"italiana\", \"italiana\", \"itreturne\", \"jakob\", \"jakob\", \"jamabala\", \"jamabala\", \"janpanese\", \"janpanese\", \"japchae\", \"japchae\", \"jape\", \"jean\", \"jean\", \"jean\", \"jelly\", \"jelly\", \"jelly\", \"jelly\", \"jelly\", \"jena\", \"jenga\", \"jenga\", \"jenga\", \"jesse\", \"jesse\", \"jeune\", \"jeune\", \"jewel\", \"jewel\", \"jewel\", \"jewelry\", \"jewelry\", \"jewelry\", \"jewelry\", \"jewelry_store\", \"jewelry_store\", \"jewelry_store\", \"jgv\", \"jgv\", \"jgv\", \"joju\", \"joju\", \"joju\", \"juicy\", \"juicy\", \"juicy\", \"kaedama\", \"kaedama\", \"kaedama\", \"kansa\", \"kansa\", \"kansa\", \"kant\", \"kaoru\", \"kaoru\", \"kaoru\", \"kappa\", \"karaka\", \"karaka\", \"karaka\", \"katsu\", \"katsu\", \"kickin\", \"kickin\", \"kiddy\", \"kiddy\", \"kikurage_mushroom\", \"kikurage_mushroom\", \"kikurage_mushroom\", \"kimbab\", \"kimbap\", \"kimbap\", \"kimbap\", \"kimbop\", \"kimbop\", \"kimbop\", \"kimchee\", \"kimchee\", \"kimchee\", \"kimchee\", \"kimchi\", \"kimchi\", \"kimchi\", \"kin\", \"kin\", \"kirk\", \"kirk\", \"know\", \"know\", \"know\", \"know\", \"know\", \"kool\", \"ktown\", \"ktown\", \"kueh\", \"kueh\", \"kueh\", \"kurobuta\", \"kurobuta\", \"laduree\", \"laduree\", \"laduree\", \"laksa\", \"laksa\", \"laksa\", \"lam\", \"lam\", \"lankan\", \"lankan\", \"latent\", \"latent\", \"leave\", \"leave\", \"leave\", \"leave\", \"let\", \"let\", \"let\", \"let\", \"licious\", \"licious\", \"limeade\", \"limeade\", \"line\", \"line\", \"line\", \"line\", \"little\", \"little\", \"little\", \"little\", \"llllove\", \"llllove\", \"lombardi\", \"lombardi\", \"lombardi\", \"long\", \"long\", \"long\", \"long\", \"look\", \"look\", \"look\", \"look\", \"loss\", \"loss\", \"loss\", \"loss\", \"love\", \"love\", \"love\", \"love\", \"loveeee\", \"loveeee\", \"loveeee\", \"ltauha\", \"ltauha\", \"lucali\", \"lucali\", \"lucali\", \"luch\", \"luch\", \"lugar\", \"lugar\", \"lunch\", \"lunch\", \"lunch\", \"lunch\", \"lure\", \"lure\", \"lure\", \"luzzo\", \"luzzo\", \"luzzo\", \"luzzo\", \"mac_cheese\", \"mac_cheese\", \"mac_cheese\", \"macaron\", \"macaron\", \"macaron\", \"macaroon\", \"macaroon\", \"macaroon\", \"macaroon\", \"maff\", \"mah\", \"mah\", \"mah\", \"mah\", \"maharlika\", \"maharlika\", \"mahree\", \"mai\", \"mai\", \"mai\", \"mai\", \"maialino\", \"maialino\", \"maialino\", \"maintain\", \"maintain\", \"maintain\", \"maintain\", \"maintenance\", \"maintenance\", \"maintenance\", \"make\", \"make\", \"make\", \"make\", \"make\", \"malay\", \"malay\", \"malay\", \"malaysian\", \"malaysian\", \"malaysian\", \"malaysian\", \"malaysian\", \"maleho\", \"manager\", \"manager\", \"manager\", \"mandatory\", \"mandatory\", \"mangos\", \"manhattantry\", \"manhattantry\", \"manicotti\", \"manicotti\", \"manicotti\", \"manner\", \"manner\", \"manner\", \"maple_butter\", \"maple_butter\", \"maple_butter\", \"marcus\", \"marcus\", \"marcus\", \"margaritaas\", \"margherita\", \"margherita\", \"margherita\", \"margherita\", \"marmite\", \"mash_potatoe\", \"mash_potatoe\", \"mash_potatoe\", \"masse\", \"masse\", \"masse\", \"masse\", \"master\", \"master\", \"master\", \"master\", \"master\", \"mayo\", \"mayo\", \"mayo\", \"meal\", \"meal\", \"meal\", \"meal\", \"meat\", \"meat\", \"meat\", \"meat\", \"mei\", \"memy\", \"memy\", \"menu\", \"menu\", \"menu\", \"menu\", \"menubut\", \"merc\", \"merc\", \"mesa\", \"mesa\", \"milt\", \"minca\", \"minca\", \"minca\", \"mince\", \"mince\", \"mince\", \"mince\", \"mindset\", \"mindset\", \"minute\", \"minute\", \"minute\", \"minute\", \"miriam\", \"miriam\", \"miriam\", \"miso\", \"miso\", \"miso\", \"miso\", \"mmmmm\", \"mmmmm\", \"mmmmm\", \"mmmmm\", \"mockery\", \"mojarra\", \"mojarra\", \"mollasse\", \"mollasse\", \"mollejas\", \"momofuku\", \"momofuku\", \"momofuku\", \"momofuku\", \"momofuku\", \"monsignor\", \"montreal\", \"montreal\", \"mouf\", \"mouf\", \"mouf\", \"mouf\", \"movable\", \"movable\", \"mozzarella\", \"mozzarella\", \"mozzarella\", \"mozzarella\", \"muito\", \"muito\", \"nam\", \"nam\", \"nam\", \"need\", \"need\", \"need\", \"need\", \"need\", \"nextthe\", \"nice\", \"nice\", \"nice\", \"nice\", \"nicebut\", \"niman\", \"non\", \"non\", \"non\", \"non\", \"nontheless\", \"noodle\", \"noodle\", \"noodle\", \"noodle\", \"nori\", \"nori\", \"nori\", \"nori\", \"normal\", \"normal\", \"normal\", \"normal\", \"normal\", \"norteno\", \"nos\", \"nos\", \"nosh\", \"nosh\", \"nosh\", \"notable\", \"notable\", \"notable\", \"notch\", \"notch\", \"notch\", \"notch\", \"ntfs\", \"ntfs\", \"ntfs\", \"nwjt\", \"nyc\", \"nyc\", \"nyc\", \"nyc\", \"nyc\", \"nyc\", \"nycnow\", \"nycnow\", \"nyonya\", \"nyonya\", \"nyonya\", \"obama\", \"obama\", \"ohmygod\", \"ohmygod\", \"okreally\", \"okso\", \"okso\", \"olive\", \"olive\", \"olive\", \"olive\", \"omakase\", \"omakase\", \"omakaze\", \"omakaze\", \"omer\", \"omer\", \"omgosh\", \"ooooh\", \"ooooh\", \"operating\", \"operating\", \"operating\", \"opinionnothe\", \"opinionnothe\", \"order\", \"order\", \"order\", \"order\", \"ousted\", \"ousted\", \"outfitter\", \"output\", \"output\", \"output\", \"outrage\", \"outrage\", \"outraging\", \"outraging\", \"outshine\", \"oven\", \"oven\", \"oven\", \"oven\", \"overdue\", \"overdue\", \"overdue\", \"pace\", \"pace\", \"pace\", \"pace\", \"paella\", \"paella\", \"paella\", \"painfully\", \"painfully\", \"paitan_raman\", \"paitan_raman\", \"paitan_raman\", \"pancake\", \"pancake\", \"pancake\", \"pancake\", \"pancakeso\", \"paperwork\", \"paperwork\", \"para\", \"para\", \"para\", \"para\", \"parrillada\", \"pasta\", \"pasta\", \"pasta\", \"pasta\", \"pastor\", \"pastor\", \"pastor\", \"patacone\", \"pate\", \"pate\", \"pate\", \"pate\", \"paulo\", \"pbr\", \"pbr\", \"pbr\", \"pbr\", \"pear\", \"pear\", \"pear\", \"pedal\", \"pedal\", \"pegleg\", \"pegu\", \"pegu\", \"pegu\", \"pena\", \"pena\", \"people\", \"people\", \"people\", \"people\", \"peoplewill\", \"pepperoni\", \"pepperoni\", \"pepperoni\", \"perfect\", \"perfect\", \"perfect\", \"perfect\", \"pessoas\", \"pessoas\", \"petisco\", \"petisco\", \"peu\", \"peu\", \"phenomenon\", \"phenomenon\", \"phenomenon\", \"phenomenon\", \"philospher\", \"pho\", \"pho\", \"pho\", \"pie\", \"pie\", \"pie\", \"pie\", \"pin\", \"pin\", \"pin\", \"pina\", \"pina\", \"piping\", \"pissy\", \"pissy\", \"pizza\", \"pizza\", \"pizza\", \"pizza\", \"pizzeria\", \"pizzeria\", \"pizzeria\", \"pizzeria\", \"place\", \"place\", \"place\", \"place\", \"place\", \"placelove\", \"plat\", \"plat\", \"plat\", \"plat\", \"playroom\", \"playroom\", \"pleasantly\", \"pleasantly\", \"pleasantly\", \"plz\", \"plz\", \"poach\", \"poach\", \"poach\", \"poblano\", \"polish\", \"polish\", \"polish\", \"poor\", \"poor\", \"poor\", \"poor\", \"popover\", \"popover\", \"pork\", \"pork\", \"pork\", \"pork\", \"pork\", \"pork_belly\", \"pork_belly\", \"pork_belly\", \"pork_bun\", \"pork_bun\", \"pork_bun\", \"pork_bun\", \"pork_loin\", \"pork_loin\", \"pork_loin\", \"pork_loin\", \"porkbuns\", \"porkiness\", \"porky\", \"porky\", \"porky\", \"port\", \"port\", \"port\", \"possible\", \"possible\", \"possible\", \"possible\", \"potential\", \"potential\", \"potential\", \"pottery\", \"poutine\", \"poutine\", \"power\", \"power\", \"power\", \"power\", \"power\", \"powtion\", \"prato\", \"prato\", \"prawnshis\", \"prawnshis\", \"pre_packaged\", \"pre_packaged\", \"pre_packaged\", \"precursor\", \"precursor\", \"predict\", \"prepackage\", \"prepackage\", \"preso\", \"pressa\", \"pressa\", \"pretty\", \"pretty\", \"pretty\", \"pretty\", \"price\", \"price\", \"price\", \"price\", \"priceymusic\", \"prix\", \"prix\", \"prix\", \"program\", \"program\", \"program\", \"program\", \"properly\", \"properly\", \"properly\", \"properly\", \"provider\", \"provision\", \"puede\", \"puree\", \"puree\", \"puree\", \"qotp\", \"quadronno\", \"quadronno\", \"quadronno\", \"quale\", \"quasi\", \"que\", \"que\", \"que\", \"question\", \"question\", \"question\", \"question\", \"questo\", \"queue\", \"queue\", \"queue\", \"queue\", \"quick\", \"quick\", \"quick\", \"quick\", \"radicchio\", \"radicchio\", \"radicchio\", \"ragu\", \"ragu\", \"ragu\", \"rainfall\", \"rainfall\", \"raman\", \"raman\", \"raman\", \"ramen\", \"ramen\", \"ramen\", \"ravioli\", \"ravioli\", \"ravioli\", \"realise\", \"really\", \"really\", \"really\", \"really\", \"realtor\", \"realtor\", \"realtor\", \"reataurant\", \"recommande\", \"recommande\", \"refresh\", \"refresh\", \"refresh\", \"refresh\", \"regain\", \"rejoice\", \"rejoice\", \"rejoice\", \"relocate\", \"relocate\", \"renounce\", \"repair\", \"repair\", \"repair\", \"reproach\", \"restaurant\", \"restaurant\", \"restaurant\", \"restaurant\", \"restaurante\", \"restaurante\", \"reticent\", \"reticent\", \"reviewone\", \"rez\", \"rez\", \"rice\", \"rice\", \"rice\", \"ricky\", \"ricky\", \"ricky\", \"ricky\", \"ricotta\", \"ricotta\", \"ricotta\", \"ricotta\", \"ridden\", \"ridden\", \"risotto\", \"risotto\", \"risotto\", \"roma\", \"roma\", \"ron\", \"ron\", \"roti_canai\", \"roti_canai\", \"roti_canai\", \"roundtrip\", \"rude\", \"rude\", \"rude\", \"ruin\", \"ruin\", \"ruin\", \"ruin\", \"saigon\", \"saigon\", \"salad\", \"salad\", \"salad\", \"salad\", \"sali\", \"sandfords\", \"sandwich\", \"sandwich\", \"sandwich\", \"sandwich\", \"sandwich\", \"sandwichheaven\", \"sapporo\", \"sapporo\", \"sapporo\", \"sauce\", \"sauce\", \"sauce\", \"sauce\", \"say\", \"say\", \"say\", \"say\", \"scallop\", \"scallop\", \"scallop\", \"scampi\", \"scampi\", \"scampi\", \"scampi\", \"scary\", \"scary\", \"scary\", \"schenker\", \"schenker\", \"schnitzel\", \"schnitzel\", \"schnitzel\", \"schnitzel\", \"scwatche\", \"scwatche\", \"seasonedneede\", \"seasonedneede\", \"see\", \"see\", \"see\", \"see\", \"sensation\", \"sensation\", \"serbian\", \"serbian\", \"serbian\", \"serbian\", \"service\", \"service\", \"service\", \"service\", \"sesame\", \"sesame\", \"sesame\", \"sewage\", \"sewage\", \"sewage\", \"shacksauce\", \"shakesdoesn\", \"shakshuka\", \"shakshuka\", \"shakshuka\", \"share\", \"share\", \"share\", \"share\", \"shaving\", \"shaving\", \"shaving\", \"sherry\", \"sherry\", \"sherry\", \"shiksa\", \"shiksa\", \"shiksa\", \"shiksa\", \"shio\", \"shio\", \"shiromaru\", \"shiromaru\", \"shiromaru\", \"shore\", \"showerhead\", \"showerhead\", \"shrimp_grit\", \"shrimp_grit\", \"shrimp_grit\", \"shun\", \"shut\", \"shut\", \"shut\", \"shwarma\", \"shwarma\", \"sicilian\", \"sicilian\", \"sicilian\", \"sicilian\", \"singapore\", \"singapore\", \"singapore\", \"sis\", \"sis\", \"sis\", \"sisig\", \"sisig\", \"sisyphu\", \"sisyphu\", \"sit\", \"sit\", \"sit\", \"sit\", \"skirt_steak\", \"skirt_steak\", \"skirt_steak\", \"sleazy\", \"sleazy\", \"slice\", \"slice\", \"slice\", \"slice\", \"slurp\", \"slurp\", \"slurp\", \"slurp\", \"smoked\", \"smoked\", \"smoked\", \"smoked\", \"soba\", \"soba\", \"soba\", \"soft_boile\", \"soft_boile\", \"soft_boile\", \"software\", \"software\", \"software\", \"soggyi\", \"soju\", \"soju\", \"soju\", \"sono\", \"sont\", \"sont\", \"sook\", \"sook\", \"sorbet\", \"sorbet\", \"sorbet\", \"sorry\", \"sorry\", \"sorry\", \"sorry\", \"soup\", \"soup\", \"soup\", \"spaghetti\", \"spaghetti\", \"spaghetti\", \"spanish\", \"spanish\", \"spanish\", \"spanish\", \"speakeasy\", \"speakeasy\", \"speakeasy\", \"sperm\", \"spicy\", \"spicy\", \"spicy\", \"spicy\", \"spicy\", \"splendor\", \"splendor\", \"spritz\", \"spritz\", \"sprtiz\", \"sprtiz\", \"sprtzenhaus\", \"sprtzenhaus\", \"spumoni\", \"spumoni\", \"spumoni\", \"spumoni\", \"square\", \"square\", \"square\", \"square\", \"ssa\", \"ssa\", \"ssa\", \"stamina\", \"stamina\", \"stamina\", \"star\", \"star\", \"star\", \"star\", \"start\", \"start\", \"start\", \"start\", \"startling\", \"startling\", \"stawz\", \"stereotypical\", \"stereotypical\", \"stereotypical\", \"stupid\", \"stupid\", \"stuyvesant\", \"subtlety\", \"subtlety\", \"subtlety\", \"subtlety\", \"suckedearly\", \"sundae\", \"sundae\", \"sundae\", \"sundae\", \"sundubu\", \"sundubu\", \"support\", \"support\", \"support\", \"support\", \"suremy\", \"suremy\", \"surface\", \"surface\", \"surface\", \"sushi\", \"sushi\", \"sushi\", \"sushifelt\", \"sushifelt\", \"suzette\", \"swanson\", \"swath\", \"swath\", \"swath\", \"system\", \"system\", \"system\", \"system\", \"system\", \"system\", \"table\", \"table\", \"table\", \"table\", \"taco\", \"taco\", \"taco\", \"taco\", \"taco\", \"tagliatelle\", \"tagliatelle\", \"tagliatelle\", \"taim\", \"taim\", \"taim\", \"take\", \"take\", \"take\", \"take\", \"take\", \"tamba\", \"tamba\", \"tame\", \"tame\", \"tamil\", \"tamil\", \"tangsooyuk\", \"tank\", \"tank\", \"tank\", \"tapa\", \"tapa\", \"tapa\", \"tart\", \"tart\", \"tart\", \"tart\", \"taste\", \"taste\", \"taste\", \"taste\", \"tasty\", \"tasty\", \"tasty\", \"tasty\", \"tavern\", \"tavern\", \"tavern\", \"tawk\", \"ta\\u00aate\", \"ta\\u00aate\", \"ta\\u00aate\", \"tell\", \"tell\", \"tell\", \"tell\", \"teow\", \"teow\", \"teow\", \"thanksgive\", \"thanksgive\", \"thanksgive\", \"thanksgive\", \"theory\", \"theory\", \"theory\", \"thereafter\", \"thereafter\", \"thereshe\", \"thin_crust\", \"thin_crust\", \"thin_crust\", \"thin_crust\", \"thingshe\", \"thingshe\", \"thoughnice\", \"thoughnice\", \"time\", \"time\", \"time\", \"time\", \"tiramisu\", \"tiramisu\", \"tiramisu\", \"tiramusihuge\", \"tkt\", \"tonkotsu\", \"tonkotsu\", \"tonkotsu\", \"tonkotsu_broth\", \"tonkotsu_broth\", \"tonkotsu_broth\", \"tonkotsu_broth\", \"tool\", \"tool\", \"tool\", \"torch\", \"torch\", \"torch\", \"torch\", \"tot\", \"tot\", \"tot\", \"tot\", \"tot\", \"totto\", \"totto\", \"totto\", \"tow\", \"tow\", \"tow\", \"townmade\", \"townmade\", \"trad\", \"trad\", \"traif\", \"traif\", \"traif\", \"traif\", \"trailer\", \"trailer\", \"try\", \"try\", \"try\", \"try\", \"tudo\", \"tudo\", \"tuesday\", \"tuesday\", \"tuesday\", \"tutto\", \"tylp\", \"tylp\", \"tylp\", \"tzaziki\", \"uca\", \"uca\", \"udon\", \"udon\", \"una\", \"una\", \"unappeale\", \"uncrowded\", \"uncrowded\", \"understand\", \"understand\", \"understand\", \"understand\", \"unit\", \"unit\", \"unplanned\", \"unplug\", \"unplug\", \"unplug\", \"unspoken\", \"unspoken\", \"unwarranted\", \"unwarranted\", \"uovo\", \"uovo\", \"upthe\", \"urban\", \"urban\", \"usb\", \"usb\", \"usb\", \"vamos\", \"vamos\", \"veggie\", \"veggie\", \"veggie\", \"vermin\", \"vermin\", \"vermin\", \"vet\", \"vet\", \"victorian\", \"victorian\", \"viet\", \"viet\", \"viet\", \"vietnamese\", \"vietnamese\", \"vietnamese\", \"violation\", \"violation\", \"violation\", \"violation\", \"vogue\", \"vogue\", \"voice\", \"voice\", \"voice\", \"waffle\", \"waffle\", \"waffle\", \"waffle\", \"wait\", \"wait\", \"wait\", \"wait\", \"wait\", \"walter_food\", \"walter_food\", \"walter_food\", \"want\", \"want\", \"want\", \"want\", \"wassup\", \"wassup\", \"wavy\", \"wavy\", \"wavy\", \"wbq\", \"weekit\", \"weekit\", \"well\", \"well\", \"well\", \"well\", \"well\", \"weremeh\", \"whale\", \"whale\", \"whale\", \"whet\", \"wif\", \"wil\", \"wil\", \"wil\", \"williamsburgh\", \"williamsburgh\", \"willy\", \"willy\", \"wine\", \"wine\", \"wine\", \"wine_list\", \"wine_list\", \"wine_list\", \"woffle\", \"woffle\", \"woman\", \"woman\", \"woman\", \"woman\", \"wonderful\", \"wonderful\", \"wonderful\", \"wonderful\", \"woof\", \"woof\", \"woof\", \"woof\", \"woorijip\", \"woorijip\", \"woorijip\", \"wor\", \"wor\", \"worth\", \"worth\", \"worth\", \"worth\", \"worth\", \"wound\", \"wound\", \"wound\", \"xoxox\", \"xoxox\", \"yeh\", \"ymca\", \"ymca\", \"yucky\", \"yum_yum\", \"yum_yum\", \"yum_yum\", \"yummmmmm\", \"yummmmmm\", \"yummmmmm\", \"\\u00bca\", \"\\u00bca\"]}, \"R\": 30, \"lambda.step\": 0.01, \"plot.opts\": {\"xlab\": \"PC1\", \"ylab\": \"PC2\"}, \"topic.order\": [16, 20, 2, 15, 8, 14, 19, 10, 1, 12, 7, 6, 9, 4, 11, 18, 17, 5, 13, 3]};\n",
       "\n",
       "function LDAvis_load_lib(url, callback){\n",
       "  var s = document.createElement('script');\n",
       "  s.src = url;\n",
       "  s.async = true;\n",
       "  s.onreadystatechange = s.onload = callback;\n",
       "  s.onerror = function(){console.warn(\"failed to load library \" + url);};\n",
       "  document.getElementsByTagName(\"head\")[0].appendChild(s);\n",
       "}\n",
       "\n",
       "if(typeof(LDAvis) !== \"undefined\"){\n",
       "   // already loaded: just create the visualization\n",
       "   !function(LDAvis){\n",
       "       new LDAvis(\"#\" + \"ldavis_el296430461845362086168073460\", ldavis_el296430461845362086168073460_data);\n",
       "   }(LDAvis);\n",
       "}else if(typeof define === \"function\" && define.amd){\n",
       "   // require.js is available: use it to load d3/LDAvis\n",
       "   require.config({paths: {d3: \"https://d3js.org/d3.v5\"}});\n",
       "   require([\"d3\"], function(d3){\n",
       "      window.d3 = d3;\n",
       "      LDAvis_load_lib(\"https://cdn.jsdelivr.net/gh/bmabey/pyLDAvis@3.3.1/pyLDAvis/js/ldavis.v3.0.0.js\", function(){\n",
       "        new LDAvis(\"#\" + \"ldavis_el296430461845362086168073460\", ldavis_el296430461845362086168073460_data);\n",
       "      });\n",
       "    });\n",
       "}else{\n",
       "    // require.js not available: dynamically load d3 & LDAvis\n",
       "    LDAvis_load_lib(\"https://d3js.org/d3.v5.js\", function(){\n",
       "         LDAvis_load_lib(\"https://cdn.jsdelivr.net/gh/bmabey/pyLDAvis@3.3.1/pyLDAvis/js/ldavis.v3.0.0.js\", function(){\n",
       "                 new LDAvis(\"#\" + \"ldavis_el296430461845362086168073460\", ldavis_el296430461845362086168073460_data);\n",
       "            })\n",
       "         });\n",
       "}\n",
       "</script>"
      ],
      "text/plain": [
       "PreparedData(topic_coordinates=              x         y  topics  cluster       Freq\n",
       "topic                                                \n",
       "15    -0.360338  0.012961       1        1  53.328087\n",
       "19    -0.243049  0.037805       2        1  19.464077\n",
       "1     -0.195399 -0.106061       3        1  13.209837\n",
       "14    -0.080496  0.073184       4        1   3.722107\n",
       "7      0.051571  0.005428       5        1   1.056766\n",
       "13     0.061199  0.003346       6        1   1.019796\n",
       "18     0.056353 -0.001178       7        1   0.672095\n",
       "9      0.054428 -0.001706       8        1   0.611299\n",
       "0      0.056605 -0.002053       9        1   0.604801\n",
       "11     0.054287 -0.001759      10        1   0.602467\n",
       "6      0.054915 -0.002521      11        1   0.595659\n",
       "5      0.054850 -0.001997      12        1   0.591945\n",
       "8      0.054411 -0.001713      13        1   0.577277\n",
       "3      0.054008 -0.002034      14        1   0.574206\n",
       "10     0.054253 -0.001903      15        1   0.571952\n",
       "17     0.054869 -0.001988      16        1   0.568979\n",
       "16     0.054517 -0.001882      17        1   0.561877\n",
       "4      0.054462 -0.002007      18        1   0.558613\n",
       "12     0.054362 -0.001927      19        1   0.557335\n",
       "2      0.054192 -0.001995      20        1   0.550824, topic_info=         Term         Freq        Total Category  logprob  loglift\n",
       "479     pizza   653.000000   653.000000  Default  30.0000  30.0000\n",
       "307      wait  1869.000000  1869.000000  Default  29.0000  29.0000\n",
       "34        get  3763.000000  3763.000000  Default  28.0000  28.0000\n",
       "702     raman   180.000000   180.000000  Default  27.0000  27.0000\n",
       "233    cheese   654.000000   654.000000  Default  26.0000  26.0000\n",
       "...       ...          ...          ...      ...      ...      ...\n",
       "5546    urban     0.132960     7.560024  Topic20  -9.6704   1.1609\n",
       "2962  tuesday     0.134958    49.531201  Topic20  -9.6555  -0.7039\n",
       "1311   double     0.132776    40.820982  Topic20  -9.6718  -0.5268\n",
       "1707    mince     0.129420    13.412919  Topic20  -9.6974   0.5606\n",
       "51      place     0.132741  4558.444094  Topic20  -9.6720  -5.2426\n",
       "\n",
       "[963 rows x 6 columns], token_table=       Topic      Freq          Term\n",
       "term                                \n",
       "16414      1  0.248413           abe\n",
       "15670      1  0.244069         abide\n",
       "14873      1  0.246834  accompagnato\n",
       "13294      1  0.248080     accordian\n",
       "4779       1  0.479979          acid\n",
       "...      ...       ...           ...\n",
       "14314      1  0.183230      yummmmmm\n",
       "14314      3  0.183230      yummmmmm\n",
       "14314      4  0.183230      yummmmmm\n",
       "16248      1  0.244074            ¼a\n",
       "16248      2  0.244074            ¼a\n",
       "\n",
       "[2375 rows x 3 columns], R=30, lambda_step=0.01, plot_opts={'xlab': 'PC1', 'ylab': 'PC2'}, topic_order=[16, 20, 2, 15, 8, 14, 19, 10, 1, 12, 7, 6, 9, 4, 11, 18, 17, 5, 13, 3])"
      ]
     },
     "execution_count": 188,
     "metadata": {},
     "output_type": "execute_result"
    }
   ],
   "source": [
    "import pyLDAvis.gensim\n",
    "import pickle \n",
    "import pyLDAvis\n",
    "# Visualize the topics\n",
    "pyLDAvis.enable_notebook()\n",
    "LDAvis_prepared = pyLDAvis.gensim.prepare(lda_model, corpus, id2word)\n",
    "LDAvis_prepared"
   ]
  },
  {
   "cell_type": "code",
   "execution_count": 38,
   "id": "b1cf71b2",
   "metadata": {},
   "outputs": [],
   "source": [
    "traintopicvector = np.zeros((len(train_dataframe),20))\n",
    "trainrow=0\n",
    "for index, row in train_dataframe.iterrows():\n",
    "    review_text = prepare_text_for_lda(row[\"Text\"])\n",
    "    review_doc_bow = id2word.doc2bow(review_text)\n",
    "    predicted_topics = lda_model.get_document_topics(review_doc_bow)\n",
    "    for k,v in predicted_topics:\n",
    "        traintopicvector[trainrow,k]=v\n",
    "    trainrow+=1\n",
    "traintopicfeature = pd.DataFrame(traintopicvector)"
   ]
  },
  {
   "cell_type": "code",
   "execution_count": 233,
   "id": "18a4e6ee",
   "metadata": {},
   "outputs": [
    {
     "name": "stderr",
     "output_type": "stream",
     "text": [
      "C:\\Users\\Harmony Chen\\anaconda3\\lib\\site-packages\\ipykernel\\ipkernel.py:287: DeprecationWarning: `should_run_async` will not call `transform_cell` automatically in the future. Please pass the result to `transformed_cell` argument and any exception that happen during thetransform in `preprocessing_exc_tuple` in IPython 7.17 and above.\n",
      "  and should_run_async(code)\n"
     ]
    },
    {
     "data": {
      "text/html": [
       "<div>\n",
       "<style scoped>\n",
       "    .dataframe tbody tr th:only-of-type {\n",
       "        vertical-align: middle;\n",
       "    }\n",
       "\n",
       "    .dataframe tbody tr th {\n",
       "        vertical-align: top;\n",
       "    }\n",
       "\n",
       "    .dataframe thead th {\n",
       "        text-align: right;\n",
       "    }\n",
       "</style>\n",
       "<table border=\"1\" class=\"dataframe\">\n",
       "  <thead>\n",
       "    <tr style=\"text-align: right;\">\n",
       "      <th></th>\n",
       "      <th>0</th>\n",
       "      <th>1</th>\n",
       "      <th>2</th>\n",
       "      <th>3</th>\n",
       "      <th>4</th>\n",
       "      <th>5</th>\n",
       "      <th>6</th>\n",
       "      <th>7</th>\n",
       "      <th>8</th>\n",
       "      <th>9</th>\n",
       "      <th>10</th>\n",
       "      <th>11</th>\n",
       "      <th>12</th>\n",
       "      <th>13</th>\n",
       "      <th>14</th>\n",
       "      <th>15</th>\n",
       "      <th>16</th>\n",
       "      <th>17</th>\n",
       "      <th>18</th>\n",
       "      <th>19</th>\n",
       "    </tr>\n",
       "  </thead>\n",
       "  <tbody>\n",
       "    <tr>\n",
       "      <th>0</th>\n",
       "      <td>0.000000</td>\n",
       "      <td>0.102167</td>\n",
       "      <td>0.000000</td>\n",
       "      <td>0.000000</td>\n",
       "      <td>0.000000</td>\n",
       "      <td>0.000000</td>\n",
       "      <td>0.000000</td>\n",
       "      <td>0.000000</td>\n",
       "      <td>0.000000</td>\n",
       "      <td>0.110515</td>\n",
       "      <td>0.000000</td>\n",
       "      <td>0.000000</td>\n",
       "      <td>0.000000</td>\n",
       "      <td>0.000000</td>\n",
       "      <td>0.000000</td>\n",
       "      <td>0.711352</td>\n",
       "      <td>0.000000</td>\n",
       "      <td>0.000000</td>\n",
       "      <td>0.000000</td>\n",
       "      <td>0.000000</td>\n",
       "    </tr>\n",
       "    <tr>\n",
       "      <th>1</th>\n",
       "      <td>0.000000</td>\n",
       "      <td>0.120385</td>\n",
       "      <td>0.000000</td>\n",
       "      <td>0.000000</td>\n",
       "      <td>0.000000</td>\n",
       "      <td>0.000000</td>\n",
       "      <td>0.000000</td>\n",
       "      <td>0.000000</td>\n",
       "      <td>0.000000</td>\n",
       "      <td>0.000000</td>\n",
       "      <td>0.000000</td>\n",
       "      <td>0.000000</td>\n",
       "      <td>0.000000</td>\n",
       "      <td>0.000000</td>\n",
       "      <td>0.000000</td>\n",
       "      <td>0.660521</td>\n",
       "      <td>0.000000</td>\n",
       "      <td>0.000000</td>\n",
       "      <td>0.000000</td>\n",
       "      <td>0.159236</td>\n",
       "    </tr>\n",
       "    <tr>\n",
       "      <th>2</th>\n",
       "      <td>0.043301</td>\n",
       "      <td>0.043680</td>\n",
       "      <td>0.043309</td>\n",
       "      <td>0.043305</td>\n",
       "      <td>0.043307</td>\n",
       "      <td>0.043305</td>\n",
       "      <td>0.043345</td>\n",
       "      <td>0.043400</td>\n",
       "      <td>0.043307</td>\n",
       "      <td>0.043310</td>\n",
       "      <td>0.043306</td>\n",
       "      <td>0.043304</td>\n",
       "      <td>0.043308</td>\n",
       "      <td>0.043313</td>\n",
       "      <td>0.049301</td>\n",
       "      <td>0.164739</td>\n",
       "      <td>0.043306</td>\n",
       "      <td>0.043306</td>\n",
       "      <td>0.043300</td>\n",
       "      <td>0.049249</td>\n",
       "    </tr>\n",
       "    <tr>\n",
       "      <th>3</th>\n",
       "      <td>0.000000</td>\n",
       "      <td>0.000000</td>\n",
       "      <td>0.000000</td>\n",
       "      <td>0.000000</td>\n",
       "      <td>0.000000</td>\n",
       "      <td>0.000000</td>\n",
       "      <td>0.000000</td>\n",
       "      <td>0.000000</td>\n",
       "      <td>0.000000</td>\n",
       "      <td>0.000000</td>\n",
       "      <td>0.000000</td>\n",
       "      <td>0.000000</td>\n",
       "      <td>0.000000</td>\n",
       "      <td>0.000000</td>\n",
       "      <td>0.076763</td>\n",
       "      <td>0.290324</td>\n",
       "      <td>0.000000</td>\n",
       "      <td>0.000000</td>\n",
       "      <td>0.000000</td>\n",
       "      <td>0.521313</td>\n",
       "    </tr>\n",
       "    <tr>\n",
       "      <th>4</th>\n",
       "      <td>0.000000</td>\n",
       "      <td>0.542915</td>\n",
       "      <td>0.000000</td>\n",
       "      <td>0.000000</td>\n",
       "      <td>0.000000</td>\n",
       "      <td>0.000000</td>\n",
       "      <td>0.000000</td>\n",
       "      <td>0.000000</td>\n",
       "      <td>0.000000</td>\n",
       "      <td>0.000000</td>\n",
       "      <td>0.000000</td>\n",
       "      <td>0.000000</td>\n",
       "      <td>0.000000</td>\n",
       "      <td>0.000000</td>\n",
       "      <td>0.000000</td>\n",
       "      <td>0.313249</td>\n",
       "      <td>0.000000</td>\n",
       "      <td>0.000000</td>\n",
       "      <td>0.000000</td>\n",
       "      <td>0.000000</td>\n",
       "    </tr>\n",
       "    <tr>\n",
       "      <th>...</th>\n",
       "      <td>...</td>\n",
       "      <td>...</td>\n",
       "      <td>...</td>\n",
       "      <td>...</td>\n",
       "      <td>...</td>\n",
       "      <td>...</td>\n",
       "      <td>...</td>\n",
       "      <td>...</td>\n",
       "      <td>...</td>\n",
       "      <td>...</td>\n",
       "      <td>...</td>\n",
       "      <td>...</td>\n",
       "      <td>...</td>\n",
       "      <td>...</td>\n",
       "      <td>...</td>\n",
       "      <td>...</td>\n",
       "      <td>...</td>\n",
       "      <td>...</td>\n",
       "      <td>...</td>\n",
       "      <td>...</td>\n",
       "    </tr>\n",
       "    <tr>\n",
       "      <th>8267</th>\n",
       "      <td>0.000000</td>\n",
       "      <td>0.061177</td>\n",
       "      <td>0.000000</td>\n",
       "      <td>0.000000</td>\n",
       "      <td>0.000000</td>\n",
       "      <td>0.000000</td>\n",
       "      <td>0.000000</td>\n",
       "      <td>0.000000</td>\n",
       "      <td>0.000000</td>\n",
       "      <td>0.000000</td>\n",
       "      <td>0.000000</td>\n",
       "      <td>0.000000</td>\n",
       "      <td>0.000000</td>\n",
       "      <td>0.000000</td>\n",
       "      <td>0.493228</td>\n",
       "      <td>0.329618</td>\n",
       "      <td>0.000000</td>\n",
       "      <td>0.000000</td>\n",
       "      <td>0.000000</td>\n",
       "      <td>0.000000</td>\n",
       "    </tr>\n",
       "    <tr>\n",
       "      <th>8268</th>\n",
       "      <td>0.018779</td>\n",
       "      <td>0.109607</td>\n",
       "      <td>0.018878</td>\n",
       "      <td>0.018834</td>\n",
       "      <td>0.018867</td>\n",
       "      <td>0.018804</td>\n",
       "      <td>0.018846</td>\n",
       "      <td>0.019462</td>\n",
       "      <td>0.018833</td>\n",
       "      <td>0.018931</td>\n",
       "      <td>0.018839</td>\n",
       "      <td>0.018871</td>\n",
       "      <td>0.018866</td>\n",
       "      <td>0.018273</td>\n",
       "      <td>0.017454</td>\n",
       "      <td>0.551058</td>\n",
       "      <td>0.018852</td>\n",
       "      <td>0.018846</td>\n",
       "      <td>0.018697</td>\n",
       "      <td>0.020403</td>\n",
       "    </tr>\n",
       "    <tr>\n",
       "      <th>8269</th>\n",
       "      <td>0.014195</td>\n",
       "      <td>0.014909</td>\n",
       "      <td>0.014200</td>\n",
       "      <td>0.014199</td>\n",
       "      <td>0.014201</td>\n",
       "      <td>0.014197</td>\n",
       "      <td>0.014197</td>\n",
       "      <td>0.014195</td>\n",
       "      <td>0.014200</td>\n",
       "      <td>0.014206</td>\n",
       "      <td>0.014201</td>\n",
       "      <td>0.014197</td>\n",
       "      <td>0.014200</td>\n",
       "      <td>0.014171</td>\n",
       "      <td>0.014647</td>\n",
       "      <td>0.726543</td>\n",
       "      <td>0.014199</td>\n",
       "      <td>0.014211</td>\n",
       "      <td>0.014191</td>\n",
       "      <td>0.016739</td>\n",
       "    </tr>\n",
       "    <tr>\n",
       "      <th>8270</th>\n",
       "      <td>0.000000</td>\n",
       "      <td>0.000000</td>\n",
       "      <td>0.000000</td>\n",
       "      <td>0.000000</td>\n",
       "      <td>0.000000</td>\n",
       "      <td>0.000000</td>\n",
       "      <td>0.000000</td>\n",
       "      <td>0.000000</td>\n",
       "      <td>0.000000</td>\n",
       "      <td>0.000000</td>\n",
       "      <td>0.000000</td>\n",
       "      <td>0.000000</td>\n",
       "      <td>0.000000</td>\n",
       "      <td>0.000000</td>\n",
       "      <td>0.000000</td>\n",
       "      <td>0.521295</td>\n",
       "      <td>0.000000</td>\n",
       "      <td>0.000000</td>\n",
       "      <td>0.000000</td>\n",
       "      <td>0.377940</td>\n",
       "    </tr>\n",
       "    <tr>\n",
       "      <th>8271</th>\n",
       "      <td>0.000000</td>\n",
       "      <td>0.000000</td>\n",
       "      <td>0.000000</td>\n",
       "      <td>0.000000</td>\n",
       "      <td>0.000000</td>\n",
       "      <td>0.000000</td>\n",
       "      <td>0.000000</td>\n",
       "      <td>0.000000</td>\n",
       "      <td>0.000000</td>\n",
       "      <td>0.000000</td>\n",
       "      <td>0.000000</td>\n",
       "      <td>0.000000</td>\n",
       "      <td>0.000000</td>\n",
       "      <td>0.000000</td>\n",
       "      <td>0.619509</td>\n",
       "      <td>0.142521</td>\n",
       "      <td>0.000000</td>\n",
       "      <td>0.000000</td>\n",
       "      <td>0.000000</td>\n",
       "      <td>0.217683</td>\n",
       "    </tr>\n",
       "  </tbody>\n",
       "</table>\n",
       "<p>8272 rows × 20 columns</p>\n",
       "</div>"
      ],
      "text/plain": [
       "            0         1         2         3         4         5         6   \\\n",
       "0     0.000000  0.102167  0.000000  0.000000  0.000000  0.000000  0.000000   \n",
       "1     0.000000  0.120385  0.000000  0.000000  0.000000  0.000000  0.000000   \n",
       "2     0.043301  0.043680  0.043309  0.043305  0.043307  0.043305  0.043345   \n",
       "3     0.000000  0.000000  0.000000  0.000000  0.000000  0.000000  0.000000   \n",
       "4     0.000000  0.542915  0.000000  0.000000  0.000000  0.000000  0.000000   \n",
       "...        ...       ...       ...       ...       ...       ...       ...   \n",
       "8267  0.000000  0.061177  0.000000  0.000000  0.000000  0.000000  0.000000   \n",
       "8268  0.018779  0.109607  0.018878  0.018834  0.018867  0.018804  0.018846   \n",
       "8269  0.014195  0.014909  0.014200  0.014199  0.014201  0.014197  0.014197   \n",
       "8270  0.000000  0.000000  0.000000  0.000000  0.000000  0.000000  0.000000   \n",
       "8271  0.000000  0.000000  0.000000  0.000000  0.000000  0.000000  0.000000   \n",
       "\n",
       "            7         8         9         10        11        12        13  \\\n",
       "0     0.000000  0.000000  0.110515  0.000000  0.000000  0.000000  0.000000   \n",
       "1     0.000000  0.000000  0.000000  0.000000  0.000000  0.000000  0.000000   \n",
       "2     0.043400  0.043307  0.043310  0.043306  0.043304  0.043308  0.043313   \n",
       "3     0.000000  0.000000  0.000000  0.000000  0.000000  0.000000  0.000000   \n",
       "4     0.000000  0.000000  0.000000  0.000000  0.000000  0.000000  0.000000   \n",
       "...        ...       ...       ...       ...       ...       ...       ...   \n",
       "8267  0.000000  0.000000  0.000000  0.000000  0.000000  0.000000  0.000000   \n",
       "8268  0.019462  0.018833  0.018931  0.018839  0.018871  0.018866  0.018273   \n",
       "8269  0.014195  0.014200  0.014206  0.014201  0.014197  0.014200  0.014171   \n",
       "8270  0.000000  0.000000  0.000000  0.000000  0.000000  0.000000  0.000000   \n",
       "8271  0.000000  0.000000  0.000000  0.000000  0.000000  0.000000  0.000000   \n",
       "\n",
       "            14        15        16        17        18        19  \n",
       "0     0.000000  0.711352  0.000000  0.000000  0.000000  0.000000  \n",
       "1     0.000000  0.660521  0.000000  0.000000  0.000000  0.159236  \n",
       "2     0.049301  0.164739  0.043306  0.043306  0.043300  0.049249  \n",
       "3     0.076763  0.290324  0.000000  0.000000  0.000000  0.521313  \n",
       "4     0.000000  0.313249  0.000000  0.000000  0.000000  0.000000  \n",
       "...        ...       ...       ...       ...       ...       ...  \n",
       "8267  0.493228  0.329618  0.000000  0.000000  0.000000  0.000000  \n",
       "8268  0.017454  0.551058  0.018852  0.018846  0.018697  0.020403  \n",
       "8269  0.014647  0.726543  0.014199  0.014211  0.014191  0.016739  \n",
       "8270  0.000000  0.521295  0.000000  0.000000  0.000000  0.377940  \n",
       "8271  0.619509  0.142521  0.000000  0.000000  0.000000  0.217683  \n",
       "\n",
       "[8272 rows x 20 columns]"
      ]
     },
     "execution_count": 233,
     "metadata": {},
     "output_type": "execute_result"
    }
   ],
   "source": [
    "traintopicfeature"
   ]
  },
  {
   "cell_type": "code",
   "execution_count": 39,
   "id": "b66a8700",
   "metadata": {},
   "outputs": [],
   "source": [
    "validtopicvector = np.zeros((len(valid_dataframe),20))\n",
    "validrow=0\n",
    "for index, row in valid_dataframe.iterrows():\n",
    "    review_text = prepare_text_for_lda(row[\"Text\"])\n",
    "    review_doc_bow = id2word.doc2bow(review_text)\n",
    "    predicted_topics = lda_model.get_document_topics(review_doc_bow)\n",
    "    for k,v in predicted_topics:\n",
    "        validtopicvector[validrow,k]=v\n",
    "    validrow+=1\n",
    "Validtopicfeature = pd.DataFrame(validtopicvector)"
   ]
  },
  {
   "cell_type": "markdown",
   "id": "5d1eb44d",
   "metadata": {},
   "source": [
    "# Word2Vect"
   ]
  },
  {
   "cell_type": "code",
   "execution_count": 10,
   "id": "0b90ac92",
   "metadata": {},
   "outputs": [
    {
     "name": "stderr",
     "output_type": "stream",
     "text": [
      "C:\\Users\\Harmony Chen\\anaconda3\\lib\\site-packages\\gensim\\similarities\\__init__.py:15: UserWarning: The gensim.similarities.levenshtein submodule is disabled, because the optional Levenshtein package <https://pypi.org/project/python-Levenshtein/> is unavailable. Install Levenhstein (e.g. `pip install python-Levenshtein`) to suppress this warning.\n",
      "  warnings.warn(msg)\n"
     ]
    }
   ],
   "source": [
    "import gensim\n",
    "from gensim import utils\n",
    "import gensim.downloader\n",
    "import numpy as np\n",
    "import sys\n",
    "from sklearn.datasets import fetch_20newsgroups\n",
    "from nltk import word_tokenize\n",
    "from nltk import download\n",
    "from nltk.corpus import stopwords\n",
    "import matplotlib.pyplot as plt"
   ]
  },
  {
   "cell_type": "code",
   "execution_count": 43,
   "id": "532e3480",
   "metadata": {},
   "outputs": [
    {
     "data": {
      "text/plain": [
       "['fasttext-wiki-news-subwords-300',\n",
       " 'conceptnet-numberbatch-17-06-300',\n",
       " 'word2vec-ruscorpora-300',\n",
       " 'word2vec-google-news-300',\n",
       " 'glove-wiki-gigaword-50',\n",
       " 'glove-wiki-gigaword-100',\n",
       " 'glove-wiki-gigaword-200',\n",
       " 'glove-wiki-gigaword-300',\n",
       " 'glove-twitter-25',\n",
       " 'glove-twitter-50',\n",
       " 'glove-twitter-100',\n",
       " 'glove-twitter-200',\n",
       " '__testing_word2vec-matrix-synopsis']"
      ]
     },
     "execution_count": 43,
     "metadata": {},
     "output_type": "execute_result"
    }
   ],
   "source": [
    "list(gensim.downloader.info()['models'].keys())"
   ]
  },
  {
   "cell_type": "code",
   "execution_count": 157,
   "id": "44e24dfe",
   "metadata": {},
   "outputs": [],
   "source": [
    "model = gensim.downloader.load('glove-twitter-200')"
   ]
  },
  {
   "cell_type": "code",
   "execution_count": 162,
   "id": "dddfa229",
   "metadata": {},
   "outputs": [],
   "source": [
    "def preprocess(text):\n",
    "    text = text.lower()\n",
    "    doc = word_tokenize(text)\n",
    " #   doc = [word for word in doc if word not in en_stop]\n",
    "    doc = [word for word in doc if word.isalpha()] #restricts string to alphabetic characters only\n",
    "    \n",
    "    return doc\n",
    "\n",
    "#Filter corpus, texts given the function condition_on_doc which takes a doc.\n",
    "def filter_test_docs(corpus, texts, condition_on_doc):\n",
    "    number_of_docs = len(corpus)\n",
    "\n",
    "    if texts is not None:\n",
    "        texts = [text for (text, doc) in zip(texts, corpus)\n",
    "                 if condition_on_doc(doc)]\n",
    "        #texts = [text for (text, doc) in zip(texts, corpus)]\n",
    "\n",
    "    #labels = [i for (i, doc) in zip(labels, corpus) if condition_on_doc(doc)]\n",
    "    missing_index = [corpus.index(doc) for doc in corpus if not condition_on_doc(doc) ]\n",
    "    corpus = [doc for doc in corpus if condition_on_doc(doc)]\n",
    " #   corpus = [doc for doc in corpus if not condition_on_doc(doc)]\n",
    "    \n",
    "    print(\"{} docs removed\".format(number_of_docs - len(corpus)))\n",
    "\n",
    "    return (corpus, texts, missing_index)\n",
    "\n",
    "def document_vector(word2vec_model, doc):\n",
    "    # remove out-of-vocabulary words\n",
    "    doc = [word for word in doc if word in word2vec_model.index_to_key]\n",
    "    return np.mean(word2vec_model[doc], axis=0)\n",
    "\n",
    "def has_vector_representation(word2vec_model, doc):\n",
    "    \"\"\"check if at least one word of the document is in the\n",
    "    word2vec dictionary\"\"\"\n",
    "    return not all(word not in word2vec_model.index_to_key for word in doc)"
   ]
  },
  {
   "cell_type": "code",
   "execution_count": null,
   "id": "a6b2849b",
   "metadata": {},
   "outputs": [],
   "source": [
    "dataset[\"tokenized\"]"
   ]
  },
  {
   "cell_type": "code",
   "execution_count": 174,
   "id": "4b789fe6",
   "metadata": {},
   "outputs": [],
   "source": [
    "traincorpus=dataset[\"tokenized\"].tolist()\n"
   ]
  },
  {
   "cell_type": "code",
   "execution_count": 175,
   "id": "1ca220f7",
   "metadata": {},
   "outputs": [],
   "source": [
    "#train dataset preparation\n",
    "train_corpus = []\n",
    "for index,row in dataset.iterrows():\n",
    "    train_corpus.append(row[\"Text\"])"
   ]
  },
  {
   "cell_type": "code",
   "execution_count": 176,
   "id": "893087fd",
   "metadata": {},
   "outputs": [
    {
     "name": "stdout",
     "output_type": "stream",
     "text": [
      "26 docs removed\n",
      "7 docs removed\n"
     ]
    }
   ],
   "source": [
    "traincorpus, train_corpus,missing_index1 = filter_test_docs(traincorpus, train_corpus, lambda doc: (len(doc) != 0))\n",
    "traincorpus, train_corpus,missing_index2 = filter_test_docs(traincorpus, train_corpus, lambda doc: has_vector_representation(model, doc))\n"
   ]
  },
  {
   "cell_type": "code",
   "execution_count": 179,
   "id": "580f3e13",
   "metadata": {},
   "outputs": [
    {
     "data": {
      "text/plain": [
       "{6208}"
      ]
     },
     "execution_count": 179,
     "metadata": {},
     "output_type": "execute_result"
    }
   ],
   "source": [
    "set(missing_index1)"
   ]
  },
  {
   "cell_type": "code",
   "execution_count": 180,
   "id": "57eb20ea",
   "metadata": {},
   "outputs": [
    {
     "data": {
      "text/plain": [
       "{5605, 43717, 52034, 60080, 68782, 81958}"
      ]
     },
     "execution_count": 180,
     "metadata": {},
     "output_type": "execute_result"
    }
   ],
   "source": [
    "set(missing_index2)"
   ]
  },
  {
   "cell_type": "code",
   "execution_count": 190,
   "id": "3128d21d",
   "metadata": {
    "scrolled": true
   },
   "outputs": [
    {
     "data": {
      "text/plain": [
       "90873"
      ]
     },
     "execution_count": 190,
     "metadata": {},
     "output_type": "execute_result"
    }
   ],
   "source": [
    "len(traincorpus)"
   ]
  },
  {
   "cell_type": "code",
   "execution_count": 191,
   "id": "b7ec8088",
   "metadata": {},
   "outputs": [],
   "source": [
    "trainx =[]\n",
    "for doc in traincorpus: #look up each doc in model\n",
    "    trainx.append(document_vector(model, doc))"
   ]
  },
  {
   "cell_type": "code",
   "execution_count": 193,
   "id": "2ec0619b",
   "metadata": {},
   "outputs": [
    {
     "data": {
      "text/plain": [
       "(200,)"
      ]
     },
     "execution_count": 193,
     "metadata": {},
     "output_type": "execute_result"
    }
   ],
   "source": [
    "trainx[1].shape"
   ]
  },
  {
   "cell_type": "code",
   "execution_count": 194,
   "id": "4ee62fff",
   "metadata": {},
   "outputs": [],
   "source": [
    "for index in reversed(missing_index2):\n",
    "    trainx.insert(index,np.zeros((200,)).astype('float32'))\n",
    "for index in reversed(missing_index1):\n",
    "    trainx.insert(index,np.zeros((200,)).astype('float32'))"
   ]
  },
  {
   "cell_type": "code",
   "execution_count": 195,
   "id": "1611f253",
   "metadata": {
    "scrolled": true
   },
   "outputs": [
    {
     "data": {
      "text/plain": [
       "90906"
      ]
     },
     "execution_count": 195,
     "metadata": {},
     "output_type": "execute_result"
    }
   ],
   "source": [
    "len(trainx)"
   ]
  },
  {
   "cell_type": "code",
   "execution_count": 204,
   "id": "999e30ba",
   "metadata": {},
   "outputs": [],
   "source": [
    "wordembedding_list = [embed.tolist() for embed in trainx]"
   ]
  },
  {
   "cell_type": "code",
   "execution_count": 231,
   "id": "ff2876a5",
   "metadata": {},
   "outputs": [
    {
     "data": {
      "text/plain": [
       "(90906, 1)"
      ]
     },
     "execution_count": 231,
     "metadata": {},
     "output_type": "execute_result"
    }
   ],
   "source": [
    "X_wordembedding = pd.DataFrame({\"Word_Embedding_Vector\":pd.Series(wordembedding_list)}) #list to pandas\n",
    "X_wordembedding.shape"
   ]
  },
  {
   "cell_type": "code",
   "execution_count": 232,
   "id": "f9b13057",
   "metadata": {
    "scrolled": false
   },
   "outputs": [
    {
     "data": {
      "text/html": [
       "<div>\n",
       "<style scoped>\n",
       "    .dataframe tbody tr th:only-of-type {\n",
       "        vertical-align: middle;\n",
       "    }\n",
       "\n",
       "    .dataframe tbody tr th {\n",
       "        vertical-align: top;\n",
       "    }\n",
       "\n",
       "    .dataframe thead th {\n",
       "        text-align: right;\n",
       "    }\n",
       "</style>\n",
       "<table border=\"1\" class=\"dataframe\">\n",
       "  <thead>\n",
       "    <tr style=\"text-align: right;\">\n",
       "      <th></th>\n",
       "      <th>Word_Embedding_Vector</th>\n",
       "    </tr>\n",
       "  </thead>\n",
       "  <tbody>\n",
       "    <tr>\n",
       "      <th>0</th>\n",
       "      <td>[-0.15083123743534088, 0.011999939568340778, 0...</td>\n",
       "    </tr>\n",
       "    <tr>\n",
       "      <th>1</th>\n",
       "      <td>[-0.22720351815223694, -0.15442503988742828, 0...</td>\n",
       "    </tr>\n",
       "    <tr>\n",
       "      <th>2</th>\n",
       "      <td>[-0.4370470643043518, -0.05270380154252052, 0....</td>\n",
       "    </tr>\n",
       "    <tr>\n",
       "      <th>3</th>\n",
       "      <td>[-0.3542546331882477, -0.03530864045023918, -0...</td>\n",
       "    </tr>\n",
       "    <tr>\n",
       "      <th>4</th>\n",
       "      <td>[-0.3014901280403137, -0.05742964521050453, -0...</td>\n",
       "    </tr>\n",
       "  </tbody>\n",
       "</table>\n",
       "</div>"
      ],
      "text/plain": [
       "                               Word_Embedding_Vector\n",
       "0  [-0.15083123743534088, 0.011999939568340778, 0...\n",
       "1  [-0.22720351815223694, -0.15442503988742828, 0...\n",
       "2  [-0.4370470643043518, -0.05270380154252052, 0....\n",
       "3  [-0.3542546331882477, -0.03530864045023918, -0...\n",
       "4  [-0.3014901280403137, -0.05742964521050453, -0..."
      ]
     },
     "execution_count": 232,
     "metadata": {},
     "output_type": "execute_result"
    }
   ],
   "source": [
    "X_wordembedding.head()"
   ]
  },
  {
   "cell_type": "code",
   "execution_count": 792,
   "id": "b5a78b42",
   "metadata": {},
   "outputs": [
    {
     "data": {
      "text/html": [
       "<div>\n",
       "<style scoped>\n",
       "    .dataframe tbody tr th:only-of-type {\n",
       "        vertical-align: middle;\n",
       "    }\n",
       "\n",
       "    .dataframe tbody tr th {\n",
       "        vertical-align: top;\n",
       "    }\n",
       "\n",
       "    .dataframe thead th {\n",
       "        text-align: right;\n",
       "    }\n",
       "</style>\n",
       "<table border=\"1\" class=\"dataframe\">\n",
       "  <thead>\n",
       "    <tr style=\"text-align: right;\">\n",
       "      <th></th>\n",
       "      <th>Word_Embedding_Vector</th>\n",
       "    </tr>\n",
       "  </thead>\n",
       "  <tbody>\n",
       "    <tr>\n",
       "      <th>0</th>\n",
       "      <td>[-0.15083123743534088, 0.011999939568340778, 0...</td>\n",
       "    </tr>\n",
       "    <tr>\n",
       "      <th>1</th>\n",
       "      <td>[-0.22720351815223694, -0.15442503988742828, 0...</td>\n",
       "    </tr>\n",
       "    <tr>\n",
       "      <th>2</th>\n",
       "      <td>[-0.4370470643043518, -0.05270380154252052, 0....</td>\n",
       "    </tr>\n",
       "    <tr>\n",
       "      <th>3</th>\n",
       "      <td>[-0.3542546331882477, -0.03530864045023918, -0...</td>\n",
       "    </tr>\n",
       "    <tr>\n",
       "      <th>4</th>\n",
       "      <td>[-0.3014901280403137, -0.05742964521050453, -0...</td>\n",
       "    </tr>\n",
       "    <tr>\n",
       "      <th>...</th>\n",
       "      <td>...</td>\n",
       "    </tr>\n",
       "    <tr>\n",
       "      <th>90901</th>\n",
       "      <td>[-0.26058366894721985, -0.05718192830681801, 0...</td>\n",
       "    </tr>\n",
       "    <tr>\n",
       "      <th>90902</th>\n",
       "      <td>[-0.2896883189678192, -0.004868207033723593, 0...</td>\n",
       "    </tr>\n",
       "    <tr>\n",
       "      <th>90903</th>\n",
       "      <td>[-0.08450919389724731, -0.0708717331290245, -0...</td>\n",
       "    </tr>\n",
       "    <tr>\n",
       "      <th>90904</th>\n",
       "      <td>[-0.30610382556915283, -0.06229681149125099, 0...</td>\n",
       "    </tr>\n",
       "    <tr>\n",
       "      <th>90905</th>\n",
       "      <td>[-0.14019443094730377, -0.048116397112607956, ...</td>\n",
       "    </tr>\n",
       "  </tbody>\n",
       "</table>\n",
       "<p>90906 rows × 1 columns</p>\n",
       "</div>"
      ],
      "text/plain": [
       "                                   Word_Embedding_Vector\n",
       "0      [-0.15083123743534088, 0.011999939568340778, 0...\n",
       "1      [-0.22720351815223694, -0.15442503988742828, 0...\n",
       "2      [-0.4370470643043518, -0.05270380154252052, 0....\n",
       "3      [-0.3542546331882477, -0.03530864045023918, -0...\n",
       "4      [-0.3014901280403137, -0.05742964521050453, -0...\n",
       "...                                                  ...\n",
       "90901  [-0.26058366894721985, -0.05718192830681801, 0...\n",
       "90902  [-0.2896883189678192, -0.004868207033723593, 0...\n",
       "90903  [-0.08450919389724731, -0.0708717331290245, -0...\n",
       "90904  [-0.30610382556915283, -0.06229681149125099, 0...\n",
       "90905  [-0.14019443094730377, -0.048116397112607956, ...\n",
       "\n",
       "[90906 rows x 1 columns]"
      ]
     },
     "execution_count": 792,
     "metadata": {},
     "output_type": "execute_result"
    }
   ],
   "source": [
    "X_wordembedding"
   ]
  },
  {
   "cell_type": "code",
   "execution_count": 94,
   "id": "333343c5",
   "metadata": {},
   "outputs": [],
   "source": [
    "dataset_word_embedding[\"Word_Embedding_Vector\"] = dataset_word_embedding[\"Word_Embedding_Vector\"].apply(lambda x: \n",
    "                           np.fromstring(x.replace('[','')\n",
    "                                .replace(']','').replace(',',' '), sep=' '))\n"
   ]
  },
  {
   "cell_type": "code",
   "execution_count": 96,
   "id": "0a2910e1",
   "metadata": {},
   "outputs": [
    {
     "data": {
      "text/plain": [
       "array([-1.50831237e-01,  1.19999396e-02,  1.91452190e-01,  1.02365464e-01,\n",
       "        1.99825287e-01,  1.53795823e-01,  3.35302114e-01,  1.22496188e-01,\n",
       "        1.13664351e-01, -2.52542317e-01, -1.61405146e-01, -8.31401348e-02,\n",
       "       -6.36944175e-01,  7.82181025e-02,  4.51555429e-03,  1.12217784e-01,\n",
       "        1.67640019e-02, -9.63678807e-02, -1.70440376e-01,  5.50897829e-02,\n",
       "        8.69138837e-02,  1.73381791e-02, -1.91165105e-01,  1.63298532e-01,\n",
       "        3.49388681e-02,  8.21373403e-01, -6.28563389e-02, -3.44889238e-02,\n",
       "        2.49641035e-02,  5.97838722e-02,  1.55812399e-02, -7.53535628e-02,\n",
       "       -6.02812357e-02, -2.22967431e-01, -8.72971714e-02, -1.63134366e-01,\n",
       "        1.47938818e-01,  3.19700062e-01,  2.39805669e-01,  1.07741661e-01,\n",
       "        6.46143556e-02, -1.24283932e-01, -1.45794451e-01, -1.25292167e-01,\n",
       "        2.24074423e-01, -7.50548244e-02,  4.26745340e-02,  1.21519648e-01,\n",
       "        1.07570179e-01, -1.70571581e-01, -1.50812194e-02, -8.03049207e-02,\n",
       "        2.63224076e-02,  3.84873226e-02,  3.51730585e-02,  1.76177695e-02,\n",
       "       -3.98190022e-02, -8.88749361e-02,  2.94304322e-02, -1.24575108e-01,\n",
       "        1.62440594e-02, -1.36686414e-01,  1.31282890e-02, -1.26591818e-02,\n",
       "        1.29643576e-02, -7.52576217e-02,  7.19661564e-02, -4.05405872e-02,\n",
       "        2.02024773e-01, -2.95964684e-02, -2.67492741e-01, -2.05455378e-01,\n",
       "        1.65555432e-01,  6.11163229e-02, -2.71957032e-02,  1.56476766e-01,\n",
       "        3.46271694e-02,  6.59245923e-02,  2.89266467e-01, -1.93920564e-02,\n",
       "        4.43509161e-01,  3.09788827e-02, -8.97799898e-03, -1.96845144e-01,\n",
       "        2.21477002e-01,  7.07704714e-03, -2.42824126e-02, -2.66391993e-01,\n",
       "       -1.89604551e-01,  6.16108887e-02,  5.35899363e-02,  1.85861319e-01,\n",
       "        4.22422327e-02, -1.99236020e-01,  1.88661605e-01,  2.35117793e-01,\n",
       "       -1.22397773e-01, -1.51175335e-02, -3.52593422e-01,  1.07492104e-01,\n",
       "       -9.35906842e-02, -4.06866521e-02, -8.12475234e-02, -1.17881522e-01,\n",
       "       -3.89877893e-02, -1.21218123e-01, -8.92339423e-02,  9.67523456e-02,\n",
       "        1.97709531e-01, -4.61511686e-02,  1.61467437e-02, -4.65098172e-02,\n",
       "        9.72643048e-02, -2.56829411e-01,  1.15277633e-01, -5.48467226e-03,\n",
       "        2.19080038e-02, -1.92463789e-02,  3.49451542e-01,  1.27971172e-01,\n",
       "       -5.54760061e-02,  2.23691925e-01, -4.91177700e-02, -1.11740649e-01,\n",
       "        4.48307097e-02, -4.41717505e-02,  9.97535512e-02,  1.61602408e-01,\n",
       "       -1.22684777e-01,  7.66024143e-02,  6.07015118e-02,  1.30761400e-01,\n",
       "        1.02276757e-01,  1.91999018e-01, -3.75077665e-01, -4.07053530e-02,\n",
       "        4.80982056e-03,  1.04814589e-01, -1.41446128e-01,  4.37519327e-02,\n",
       "       -1.03543565e-01,  2.62661725e-01,  1.65762946e-01, -2.72753954e-01,\n",
       "        1.06844895e-01, -1.28534436e-01,  2.67699003e-01,  1.22423634e-01,\n",
       "       -3.49286459e-02,  7.02801114e-03,  4.69050072e-02,  1.61949202e-01,\n",
       "       -2.86641932e+00,  2.22800091e-01,  4.80325222e-02,  2.63941400e-02,\n",
       "        1.44006470e-02, -2.05470845e-01,  1.03421751e-02,  1.74253096e-03,\n",
       "       -2.73632884e-01,  2.76263664e-03,  1.63842931e-01,  1.40612647e-01,\n",
       "       -1.39650041e-02,  3.59142780e-01, -1.80890933e-01,  2.09183484e-01,\n",
       "        2.65588790e-01,  4.89267893e-02,  9.31095332e-02,  1.98207945e-01,\n",
       "       -1.25168324e-01,  2.81277373e-02,  8.76074582e-02, -2.67528772e-01,\n",
       "        2.79465137e-04,  6.75314069e-02, -3.51159982e-02, -9.78258252e-03,\n",
       "       -2.29062945e-01, -4.81169485e-02, -7.24604912e-03, -1.83401465e-01,\n",
       "        1.30254284e-01,  3.34360898e-02,  8.44515935e-02, -5.86013906e-02,\n",
       "        8.95962343e-02, -4.98842970e-02,  3.76050770e-02, -9.27183628e-02,\n",
       "        2.13760957e-01,  8.21248367e-02,  2.55123973e-01,  2.85384711e-02,\n",
       "        1.64384693e-02,  1.39675230e-01,  1.19514883e-01,  8.49285275e-02])"
      ]
     },
     "execution_count": 96,
     "metadata": {},
     "output_type": "execute_result"
    }
   ],
   "source": [
    "dataset_word_embedding[\"Word_Embedding_Vector\"][0]"
   ]
  },
  {
   "cell_type": "code",
   "execution_count": 92,
   "id": "7a26d7bb",
   "metadata": {},
   "outputs": [
    {
     "data": {
      "text/plain": [
       "0        [-0.15083123743534088, 0.011999939568340778, 0...\n",
       "1        [-0.22720351815223694, -0.15442503988742828, 0...\n",
       "2        [-0.4370470643043518, -0.05270380154252052, 0....\n",
       "3        [-0.3542546331882477, -0.03530864045023918, -0...\n",
       "4        [-0.3014901280403137, -0.05742964521050453, -0...\n",
       "                               ...                        \n",
       "90901    [-0.26058366894721985, -0.05718192830681801, 0...\n",
       "90902    [-0.2896883189678192, -0.004868207033723593, 0...\n",
       "90903    [-0.08450919389724731, -0.0708717331290245, -0...\n",
       "90904    [-0.30610382556915283, -0.06229681149125099, 0...\n",
       "90905    [-0.14019443094730377, -0.048116397112607956, ...\n",
       "Name: Word_Embedding_Vector, Length: 90906, dtype: object"
      ]
     },
     "execution_count": 92,
     "metadata": {},
     "output_type": "execute_result"
    }
   ],
   "source": [
    "dataset_word_embedding[\"Word_Embedding_Vector\"]"
   ]
  },
  {
   "cell_type": "code",
   "execution_count": 784,
   "id": "659e44ae",
   "metadata": {
    "collapsed": true
   },
   "outputs": [
    {
     "data": {
      "text/html": [
       "<div>\n",
       "<style scoped>\n",
       "    .dataframe tbody tr th:only-of-type {\n",
       "        vertical-align: middle;\n",
       "    }\n",
       "\n",
       "    .dataframe tbody tr th {\n",
       "        vertical-align: top;\n",
       "    }\n",
       "\n",
       "    .dataframe thead th {\n",
       "        text-align: right;\n",
       "    }\n",
       "</style>\n",
       "<table border=\"1\" class=\"dataframe\">\n",
       "  <thead>\n",
       "    <tr style=\"text-align: right;\">\n",
       "      <th></th>\n",
       "      <th>Reviewer_id</th>\n",
       "      <th>Product_id</th>\n",
       "      <th>Text</th>\n",
       "      <th>Rating</th>\n",
       "      <th>Label</th>\n",
       "      <th>Word_Embedding_Vector</th>\n",
       "    </tr>\n",
       "  </thead>\n",
       "  <tbody>\n",
       "    <tr>\n",
       "      <th>0</th>\n",
       "      <td>923</td>\n",
       "      <td>0</td>\n",
       "      <td>The food at snack is a selection of popular Gr...</td>\n",
       "      <td>3</td>\n",
       "      <td>1</td>\n",
       "      <td>[-0.15083123743534088, 0.011999939568340778, 0...</td>\n",
       "    </tr>\n",
       "    <tr>\n",
       "      <th>1</th>\n",
       "      <td>927</td>\n",
       "      <td>0</td>\n",
       "      <td>Snack is great place for a Â casual sit down l...</td>\n",
       "      <td>4</td>\n",
       "      <td>1</td>\n",
       "      <td>[-0.22720351815223694, -0.15442503988742828, 0...</td>\n",
       "    </tr>\n",
       "    <tr>\n",
       "      <th>2</th>\n",
       "      <td>930</td>\n",
       "      <td>0</td>\n",
       "      <td>Love this place! Â Try the Chicken sandwich or...</td>\n",
       "      <td>4</td>\n",
       "      <td>1</td>\n",
       "      <td>[-0.4370470643043518, -0.05270380154252052, 0....</td>\n",
       "    </tr>\n",
       "    <tr>\n",
       "      <th>3</th>\n",
       "      <td>931</td>\n",
       "      <td>0</td>\n",
       "      <td>My friend and I were intrigued by the nightly ...</td>\n",
       "      <td>4</td>\n",
       "      <td>1</td>\n",
       "      <td>[-0.3542546331882477, -0.03530864045023918, -0...</td>\n",
       "    </tr>\n",
       "    <tr>\n",
       "      <th>4</th>\n",
       "      <td>940</td>\n",
       "      <td>0</td>\n",
       "      <td>For lunch, my friend and I had: -Lamb sandwich...</td>\n",
       "      <td>4</td>\n",
       "      <td>0</td>\n",
       "      <td>[-0.3014901280403137, -0.05742964521050453, -0...</td>\n",
       "    </tr>\n",
       "  </tbody>\n",
       "</table>\n",
       "</div>"
      ],
      "text/plain": [
       "   Reviewer_id  Product_id                                               Text  \\\n",
       "0          923           0  The food at snack is a selection of popular Gr...   \n",
       "1          927           0  Snack is great place for a Â casual sit down l...   \n",
       "2          930           0  Love this place! Â Try the Chicken sandwich or...   \n",
       "3          931           0  My friend and I were intrigued by the nightly ...   \n",
       "4          940           0  For lunch, my friend and I had: -Lamb sandwich...   \n",
       "\n",
       "   Rating  Label                              Word_Embedding_Vector  \n",
       "0       3      1  [-0.15083123743534088, 0.011999939568340778, 0...  \n",
       "1       4      1  [-0.22720351815223694, -0.15442503988742828, 0...  \n",
       "2       4      1  [-0.4370470643043518, -0.05270380154252052, 0....  \n",
       "3       4      1  [-0.3542546331882477, -0.03530864045023918, -0...  \n",
       "4       4      0  [-0.3014901280403137, -0.05742964521050453, -0...  "
      ]
     },
     "execution_count": 784,
     "metadata": {},
     "output_type": "execute_result"
    }
   ],
   "source": [
    "dataset_word_embedding = pd.concat([Reveiw_centric_Text_feature,X_wordembedding],axis=1)\n",
    "dataset_word_embedding.head()"
   ]
  },
  {
   "cell_type": "code",
   "execution_count": 237,
   "id": "23fea0d6",
   "metadata": {},
   "outputs": [
    {
     "data": {
      "text/html": [
       "<div>\n",
       "<style scoped>\n",
       "    .dataframe tbody tr th:only-of-type {\n",
       "        vertical-align: middle;\n",
       "    }\n",
       "\n",
       "    .dataframe tbody tr th {\n",
       "        vertical-align: top;\n",
       "    }\n",
       "\n",
       "    .dataframe thead th {\n",
       "        text-align: right;\n",
       "    }\n",
       "</style>\n",
       "<table border=\"1\" class=\"dataframe\">\n",
       "  <thead>\n",
       "    <tr style=\"text-align: right;\">\n",
       "      <th></th>\n",
       "      <th>Reviewer_id</th>\n",
       "      <th>Product_id</th>\n",
       "      <th>Text</th>\n",
       "      <th>Rating</th>\n",
       "      <th>Label</th>\n",
       "      <th>Word_Embedding_Vector</th>\n",
       "    </tr>\n",
       "  </thead>\n",
       "  <tbody>\n",
       "    <tr>\n",
       "      <th>0</th>\n",
       "      <td>923</td>\n",
       "      <td>0</td>\n",
       "      <td>The food at snack is a selection of popular Gr...</td>\n",
       "      <td>3</td>\n",
       "      <td>0</td>\n",
       "      <td>[-0.15083123743534088, 0.011999939568340778, 0...</td>\n",
       "    </tr>\n",
       "    <tr>\n",
       "      <th>1</th>\n",
       "      <td>927</td>\n",
       "      <td>0</td>\n",
       "      <td>Snack is great place for a Â casual sit down l...</td>\n",
       "      <td>4</td>\n",
       "      <td>0</td>\n",
       "      <td>[-0.22720351815223694, -0.15442503988742828, 0...</td>\n",
       "    </tr>\n",
       "    <tr>\n",
       "      <th>2</th>\n",
       "      <td>930</td>\n",
       "      <td>0</td>\n",
       "      <td>Love this place! Â Try the Chicken sandwich or...</td>\n",
       "      <td>4</td>\n",
       "      <td>0</td>\n",
       "      <td>[-0.4370470643043518, -0.05270380154252052, 0....</td>\n",
       "    </tr>\n",
       "    <tr>\n",
       "      <th>3</th>\n",
       "      <td>931</td>\n",
       "      <td>0</td>\n",
       "      <td>My friend and I were intrigued by the nightly ...</td>\n",
       "      <td>4</td>\n",
       "      <td>0</td>\n",
       "      <td>[-0.3542546331882477, -0.03530864045023918, -0...</td>\n",
       "    </tr>\n",
       "    <tr>\n",
       "      <th>4</th>\n",
       "      <td>940</td>\n",
       "      <td>0</td>\n",
       "      <td>For lunch, my friend and I had: -Lamb sandwich...</td>\n",
       "      <td>4</td>\n",
       "      <td>1</td>\n",
       "      <td>[-0.3014901280403137, -0.05742964521050453, -0...</td>\n",
       "    </tr>\n",
       "  </tbody>\n",
       "</table>\n",
       "</div>"
      ],
      "text/plain": [
       "   Reviewer_id  Product_id                                               Text  \\\n",
       "0          923           0  The food at snack is a selection of popular Gr...   \n",
       "1          927           0  Snack is great place for a Â casual sit down l...   \n",
       "2          930           0  Love this place! Â Try the Chicken sandwich or...   \n",
       "3          931           0  My friend and I were intrigued by the nightly ...   \n",
       "4          940           0  For lunch, my friend and I had: -Lamb sandwich...   \n",
       "\n",
       "   Rating  Label                              Word_Embedding_Vector  \n",
       "0       3      0  [-0.15083123743534088, 0.011999939568340778, 0...  \n",
       "1       4      0  [-0.22720351815223694, -0.15442503988742828, 0...  \n",
       "2       4      0  [-0.4370470643043518, -0.05270380154252052, 0....  \n",
       "3       4      0  [-0.3542546331882477, -0.03530864045023918, -0...  \n",
       "4       4      1  [-0.3014901280403137, -0.05742964521050453, -0...  "
      ]
     },
     "execution_count": 237,
     "metadata": {},
     "output_type": "execute_result"
    }
   ],
   "source": [
    "dataset_word_embedding.drop([\"Date_x\",\"Count (P)_x\",\"Date_y\",\"Count (P)_y\"],axis=1,inplace=True)\n",
    "dataset_word_embedding.head()"
   ]
  },
  {
   "cell_type": "code",
   "execution_count": 238,
   "id": "8f53c34a",
   "metadata": {},
   "outputs": [],
   "source": [
    "dataset_word_embedding.to_csv(\"dataset_word_embedding.csv\",index=False)"
   ]
  },
  {
   "cell_type": "code",
   "execution_count": 77,
   "id": "6b7da45e",
   "metadata": {},
   "outputs": [
    {
     "data": {
      "text/html": [
       "<div>\n",
       "<style scoped>\n",
       "    .dataframe tbody tr th:only-of-type {\n",
       "        vertical-align: middle;\n",
       "    }\n",
       "\n",
       "    .dataframe tbody tr th {\n",
       "        vertical-align: top;\n",
       "    }\n",
       "\n",
       "    .dataframe thead th {\n",
       "        text-align: right;\n",
       "    }\n",
       "</style>\n",
       "<table border=\"1\" class=\"dataframe\">\n",
       "  <thead>\n",
       "    <tr style=\"text-align: right;\">\n",
       "      <th></th>\n",
       "      <th>Reviewer_id</th>\n",
       "      <th>Product_id</th>\n",
       "      <th>Text</th>\n",
       "      <th>Rating</th>\n",
       "      <th>Label</th>\n",
       "      <th>Word_Embedding_Vector</th>\n",
       "    </tr>\n",
       "  </thead>\n",
       "  <tbody>\n",
       "    <tr>\n",
       "      <th>0</th>\n",
       "      <td>923</td>\n",
       "      <td>0</td>\n",
       "      <td>The food at snack is a selection of popular Gr...</td>\n",
       "      <td>3</td>\n",
       "      <td>0</td>\n",
       "      <td>[-0.15083123743534088, 0.011999939568340778, 0...</td>\n",
       "    </tr>\n",
       "    <tr>\n",
       "      <th>1</th>\n",
       "      <td>927</td>\n",
       "      <td>0</td>\n",
       "      <td>Snack is great place for a Â casual sit down l...</td>\n",
       "      <td>4</td>\n",
       "      <td>0</td>\n",
       "      <td>[-0.22720351815223694, -0.15442503988742828, 0...</td>\n",
       "    </tr>\n",
       "    <tr>\n",
       "      <th>2</th>\n",
       "      <td>930</td>\n",
       "      <td>0</td>\n",
       "      <td>Love this place! Â Try the Chicken sandwich or...</td>\n",
       "      <td>4</td>\n",
       "      <td>0</td>\n",
       "      <td>[-0.4370470643043518, -0.05270380154252052, 0....</td>\n",
       "    </tr>\n",
       "    <tr>\n",
       "      <th>3</th>\n",
       "      <td>931</td>\n",
       "      <td>0</td>\n",
       "      <td>My friend and I were intrigued by the nightly ...</td>\n",
       "      <td>4</td>\n",
       "      <td>0</td>\n",
       "      <td>[-0.3542546331882477, -0.03530864045023918, -0...</td>\n",
       "    </tr>\n",
       "    <tr>\n",
       "      <th>4</th>\n",
       "      <td>940</td>\n",
       "      <td>0</td>\n",
       "      <td>For lunch, my friend and I had: -Lamb sandwich...</td>\n",
       "      <td>4</td>\n",
       "      <td>1</td>\n",
       "      <td>[-0.3014901280403137, -0.05742964521050453, -0...</td>\n",
       "    </tr>\n",
       "  </tbody>\n",
       "</table>\n",
       "</div>"
      ],
      "text/plain": [
       "   Reviewer_id  Product_id                                               Text  \\\n",
       "0          923           0  The food at snack is a selection of popular Gr...   \n",
       "1          927           0  Snack is great place for a Â casual sit down l...   \n",
       "2          930           0  Love this place! Â Try the Chicken sandwich or...   \n",
       "3          931           0  My friend and I were intrigued by the nightly ...   \n",
       "4          940           0  For lunch, my friend and I had: -Lamb sandwich...   \n",
       "\n",
       "   Rating  Label                              Word_Embedding_Vector  \n",
       "0       3      0  [-0.15083123743534088, 0.011999939568340778, 0...  \n",
       "1       4      0  [-0.22720351815223694, -0.15442503988742828, 0...  \n",
       "2       4      0  [-0.4370470643043518, -0.05270380154252052, 0....  \n",
       "3       4      0  [-0.3542546331882477, -0.03530864045023918, -0...  \n",
       "4       4      1  [-0.3014901280403137, -0.05742964521050453, -0...  "
      ]
     },
     "execution_count": 77,
     "metadata": {},
     "output_type": "execute_result"
    }
   ],
   "source": [
    "dataset_word_embedding = pd.read_csv(\"dataset_word_embedding.csv\")\n",
    "dataset_word_embedding.head()"
   ]
  },
  {
   "cell_type": "code",
   "execution_count": 98,
   "id": "c9fb7f85",
   "metadata": {},
   "outputs": [
    {
     "data": {
      "text/plain": [
       "0.0"
      ]
     },
     "execution_count": 98,
     "metadata": {},
     "output_type": "execute_result"
    }
   ],
   "source": [
    "np.zeros((200,)).astype(np.float16).mean()"
   ]
  },
  {
   "cell_type": "code",
   "execution_count": 160,
   "id": "502bb482",
   "metadata": {},
   "outputs": [
    {
     "name": "stdout",
     "output_type": "stream",
     "text": [
      "[5605, 6208, 6209, 6210, 6211, 6212, 6213, 6214, 6215, 6216, 6217, 6218, 6219, 6220, 6221, 6222, 6223, 6224, 6225, 6226, 6227, 6228, 6229, 6230, 6231, 6232, 6233, 43744, 43745, 52063, 60110, 68813, 81990]\n"
     ]
    }
   ],
   "source": [
    "rowindex = []\n",
    "for index,row in dataset_word_embedding.iterrows():\n",
    "    if (row[\"Word_Embedding_Vector\"].mean()==0):\n",
    "        rowindex.append(index)\n",
    "print (rowindex)"
   ]
  },
  {
   "cell_type": "code",
   "execution_count": 808,
   "id": "0a823b08",
   "metadata": {},
   "outputs": [
    {
     "data": {
      "text/plain": [
       "<function __main__.cosine_distance_wordembedding_method(df)>"
      ]
     },
     "execution_count": 808,
     "metadata": {},
     "output_type": "execute_result"
    }
   ],
   "source": [
    "cosine_distance_wordembedding_method"
   ]
  },
  {
   "cell_type": "code",
   "execution_count": null,
   "id": "7cdb347b",
   "metadata": {},
   "outputs": [],
   "source": []
  },
  {
   "cell_type": "code",
   "execution_count": 241,
   "id": "a1061481",
   "metadata": {},
   "outputs": [],
   "source": [
    "from scipy.spatial.distance import cosine\n",
    "def cosine_distance_wordembedding_method(vector_1, vector_2):\n",
    "    return cosine(vector_1, vector_2)"
   ]
  },
  {
   "cell_type": "code",
   "execution_count": 156,
   "id": "f455f671",
   "metadata": {},
   "outputs": [],
   "source": [
    "dataset_word_embedding[\"Word_Embedding_Vector\"]=dataset_word_embedding[\"Word_Embedding_Vector\"].apply(np.float16)"
   ]
  },
  {
   "cell_type": "code",
   "execution_count": 167,
   "id": "7a7f5282",
   "metadata": {},
   "outputs": [],
   "source": [
    "from scipy.spatial.distance import pdist, squareform\n",
    "# only pairwise distance with itself\n",
    "# vectorized, no doubling data\n",
    "def cosine_distance_wordembedding_method(df):\n",
    "    out = pdist(np.stack(df), metric = \"cosine\")\n",
    "    cosine_similarity = squareform(out)\n",
    "    return np.mean(cosine_similarity)"
   ]
  },
  {
   "cell_type": "code",
   "execution_count": 12,
   "id": "c12cd872",
   "metadata": {},
   "outputs": [],
   "source": [
    "from scipy.spatial.distance import pdist, squareform\n",
    "# only pairwise distance with itself\n",
    "# vectorized, no doubling data\n",
    "def cosine_distance_wordembedding_method_max(df):\n",
    "    out = pdist(np.stack(df), metric = \"cosine\")\n",
    "    cosine_similarity = squareform(out)\n",
    "    return np.max(cosine_similarity)"
   ]
  },
  {
   "cell_type": "code",
   "execution_count": 119,
   "id": "319111fe",
   "metadata": {},
   "outputs": [],
   "source": [
    "# only pairwise distance with itself\n",
    "# vectorized, no doubling data\n",
    "def cosine_distance_wordembedding_method_min(df):\n",
    "    out = pdist(np.stack(df), metric = \"cosine\")\n",
    "    cosine_similarity = squareform(out)\n",
    "    return np.min(cosine_similarity)"
   ]
  },
  {
   "cell_type": "code",
   "execution_count": 168,
   "id": "48ebfc34",
   "metadata": {},
   "outputs": [],
   "source": [
    "Reviewer_content_similarity_word_vector =  dataset_word_embedding.drop(rowindex).groupby(\"Reviewer_id\")[\"Word_Embedding_Vector\"].apply(cosine_distance_wordembedding_method)\n",
    "Product_content_similarity_word_vector =  dataset_word_embedding.drop(rowindex).groupby(\"Product_id\")[\"Word_Embedding_Vector\"].apply(cosine_distance_wordembedding_method)"
   ]
  },
  {
   "cell_type": "code",
   "execution_count": 162,
   "id": "e674afb5",
   "metadata": {
    "scrolled": true
   },
   "outputs": [],
   "source": [
    "Reviewer_most_content_similarity_word_vector = dataset_word_embedding.drop(rowindex).groupby(\"Reviewer_id\")[\"Word_Embedding_Vector\"].apply(cosine_distance_wordembedding_method_max)\n",
    "Product_most_content_similarity_word_vector =  dataset_word_embedding.drop(rowindex).groupby(\"Product_id\")[\"Word_Embedding_Vector\"].apply(cosine_distance_wordembedding_method_max)"
   ]
  },
  {
   "cell_type": "code",
   "execution_count": 120,
   "id": "6d2e77e5",
   "metadata": {},
   "outputs": [],
   "source": [
    "Reviewer_least_content_similarity_word_vector = dataset_word_embedding.groupby(\"Reviewer_id\")[\"Word_Embedding_Vector\"].apply(cosine_distance_wordembedding_method_min)\n",
    "Product_least_content_similarity_word_vector = dataset_word_embedding.groupby(\"Product_id\")[\"Word_Embedding_Vector\"].apply(cosine_distance_wordembedding_method_min)"
   ]
  },
  {
   "cell_type": "code",
   "execution_count": 816,
   "id": "4d9b1ac4",
   "metadata": {},
   "outputs": [
    {
     "data": {
      "text/plain": [
       "Product_id\n",
       "0      0.102539\n",
       "1      0.119379\n",
       "2      0.077351\n",
       "3      0.063187\n",
       "4      0.090170\n",
       "         ...   \n",
       "918    0.066818\n",
       "919    0.103355\n",
       "920    0.081404\n",
       "921    0.095212\n",
       "922    0.100877\n",
       "Name: Word_Embedding_Vector, Length: 873, dtype: float64"
      ]
     },
     "execution_count": 816,
     "metadata": {},
     "output_type": "execute_result"
    }
   ],
   "source": [
    "Product_content_similarity_word_vector"
   ]
  },
  {
   "cell_type": "code",
   "execution_count": 169,
   "id": "3a6544cd",
   "metadata": {},
   "outputs": [],
   "source": [
    "Product_content_simi = pd.DataFrame(Product_content_similarity_word_vector)\n",
    "Reviewer_content_simi= pd.DataFrame(Reviewer_content_similarity_word_vector)\n",
    "Product_most_content_simi= pd.DataFrame(Product_most_content_similarity_word_vector)\n",
    "Reviewer_most_content_simi = pd.DataFrame(Reviewer_most_content_similarity_word_vector)"
   ]
  },
  {
   "cell_type": "code",
   "execution_count": 170,
   "id": "144c4802",
   "metadata": {},
   "outputs": [],
   "source": [
    "Product_content_simi.rename(columns = {\"Word_Embedding_Vector\":\"Product_content_consine_similarity\"},inplace=True)\n",
    "Reviewer_content_simi.rename(columns = {\"Word_Embedding_Vector\":\"Reviewer_content_consine_similarity\"},inplace=True)\n",
    "Product_most_content_simi.rename(columns = {\"Word_Embedding_Vector\":\"Product_most_content_consine_similarity\"},inplace=True)\n",
    "Reviewer_most_content_simi.rename(columns = {\"Word_Embedding_Vector\":\"Reviewer_most_content_consine_similarity\"},inplace=True)\n"
   ]
  },
  {
   "cell_type": "code",
   "execution_count": 164,
   "id": "e3e8747b",
   "metadata": {},
   "outputs": [
    {
     "data": {
      "text/html": [
       "<div>\n",
       "<style scoped>\n",
       "    .dataframe tbody tr th:only-of-type {\n",
       "        vertical-align: middle;\n",
       "    }\n",
       "\n",
       "    .dataframe tbody tr th {\n",
       "        vertical-align: top;\n",
       "    }\n",
       "\n",
       "    .dataframe thead th {\n",
       "        text-align: right;\n",
       "    }\n",
       "</style>\n",
       "<table border=\"1\" class=\"dataframe\">\n",
       "  <thead>\n",
       "    <tr style=\"text-align: right;\">\n",
       "      <th></th>\n",
       "      <th>Word_Embedding_Vector</th>\n",
       "    </tr>\n",
       "    <tr>\n",
       "      <th>Reviewer_id</th>\n",
       "      <th></th>\n",
       "    </tr>\n",
       "  </thead>\n",
       "  <tbody>\n",
       "  </tbody>\n",
       "</table>\n",
       "</div>"
      ],
      "text/plain": [
       "Empty DataFrame\n",
       "Columns: [Word_Embedding_Vector]\n",
       "Index: []"
      ]
     },
     "execution_count": 164,
     "metadata": {},
     "output_type": "execute_result"
    }
   ],
   "source": [
    "Reviewer_content_simi[Reviewer_content_simi[\"Word_Embedding_Vector\"].isna()]"
   ]
  },
  {
   "cell_type": "code",
   "execution_count": 122,
   "id": "2b76502a",
   "metadata": {},
   "outputs": [],
   "source": [
    "Reviewer_content_simi.rename(columns = {\"Word_Embedding_Vector\":\"Reviewer_least_content_consine_similarity\"},inplace=True)"
   ]
  },
  {
   "cell_type": "code",
   "execution_count": 123,
   "id": "6da2bed9",
   "metadata": {},
   "outputs": [
    {
     "data": {
      "text/html": [
       "<div>\n",
       "<style scoped>\n",
       "    .dataframe tbody tr th:only-of-type {\n",
       "        vertical-align: middle;\n",
       "    }\n",
       "\n",
       "    .dataframe tbody tr th {\n",
       "        vertical-align: top;\n",
       "    }\n",
       "\n",
       "    .dataframe thead th {\n",
       "        text-align: right;\n",
       "    }\n",
       "</style>\n",
       "<table border=\"1\" class=\"dataframe\">\n",
       "  <thead>\n",
       "    <tr style=\"text-align: right;\">\n",
       "      <th></th>\n",
       "      <th>Reviewer_least_content_consine_similarity</th>\n",
       "    </tr>\n",
       "    <tr>\n",
       "      <th>Reviewer_id</th>\n",
       "      <th></th>\n",
       "    </tr>\n",
       "  </thead>\n",
       "  <tbody>\n",
       "    <tr>\n",
       "      <th>923</th>\n",
       "      <td>0.0</td>\n",
       "    </tr>\n",
       "    <tr>\n",
       "      <th>927</th>\n",
       "      <td>0.0</td>\n",
       "    </tr>\n",
       "    <tr>\n",
       "      <th>930</th>\n",
       "      <td>0.0</td>\n",
       "    </tr>\n",
       "    <tr>\n",
       "      <th>931</th>\n",
       "      <td>0.0</td>\n",
       "    </tr>\n",
       "    <tr>\n",
       "      <th>940</th>\n",
       "      <td>0.0</td>\n",
       "    </tr>\n",
       "    <tr>\n",
       "      <th>...</th>\n",
       "      <td>...</td>\n",
       "    </tr>\n",
       "    <tr>\n",
       "      <th>146523</th>\n",
       "      <td>0.0</td>\n",
       "    </tr>\n",
       "    <tr>\n",
       "      <th>146783</th>\n",
       "      <td>0.0</td>\n",
       "    </tr>\n",
       "    <tr>\n",
       "      <th>146796</th>\n",
       "      <td>0.0</td>\n",
       "    </tr>\n",
       "    <tr>\n",
       "      <th>146907</th>\n",
       "      <td>0.0</td>\n",
       "    </tr>\n",
       "    <tr>\n",
       "      <th>149108</th>\n",
       "      <td>0.0</td>\n",
       "    </tr>\n",
       "  </tbody>\n",
       "</table>\n",
       "<p>15351 rows × 1 columns</p>\n",
       "</div>"
      ],
      "text/plain": [
       "             Reviewer_least_content_consine_similarity\n",
       "Reviewer_id                                           \n",
       "923                                                0.0\n",
       "927                                                0.0\n",
       "930                                                0.0\n",
       "931                                                0.0\n",
       "940                                                0.0\n",
       "...                                                ...\n",
       "146523                                             0.0\n",
       "146783                                             0.0\n",
       "146796                                             0.0\n",
       "146907                                             0.0\n",
       "149108                                             0.0\n",
       "\n",
       "[15351 rows x 1 columns]"
      ]
     },
     "execution_count": 123,
     "metadata": {},
     "output_type": "execute_result"
    }
   ],
   "source": [
    "Reviewer_content_simi"
   ]
  },
  {
   "cell_type": "code",
   "execution_count": 124,
   "id": "aeb09d97",
   "metadata": {},
   "outputs": [],
   "source": [
    "Product_content_simi.rename(columns = {\"Word_Embedding_Vector\":\"Product_least_content_consine_similarity\"},inplace=True)"
   ]
  },
  {
   "cell_type": "code",
   "execution_count": 827,
   "id": "f98079a7",
   "metadata": {},
   "outputs": [
    {
     "data": {
      "text/plain": [
       "(873, 1)"
      ]
     },
     "execution_count": 827,
     "metadata": {},
     "output_type": "execute_result"
    }
   ],
   "source": [
    "Product_content_simi.shape"
   ]
  },
  {
   "cell_type": "code",
   "execution_count": 175,
   "id": "543f5abd",
   "metadata": {},
   "outputs": [],
   "source": [
    "Product_Reviewer_Features_Label = pd.read_excel(\"Product_Reviewer_Features_Label_contentsimilarity.xlsx\")"
   ]
  },
  {
   "cell_type": "code",
   "execution_count": 177,
   "id": "0eea6e82",
   "metadata": {},
   "outputs": [],
   "source": [
    "Product_Reviewer_Features_Label = Product_Reviewer_Features_Label.merge(Reviewer_content_simi,how=\"left\",on=\"Reviewer_id\")\n",
    "Product_Reviewer_Features_Label = Product_Reviewer_Features_Label.merge(Product_content_simi,how=\"left\",on=\"Product_id\")\n",
    "Product_Reviewer_Features_Label = Product_Reviewer_Features_Label.merge(Product_most_content_simi,how=\"left\",on=\"Product_id\")\n",
    "Product_Reviewer_Features_Label = Product_Reviewer_Features_Label.merge(Reviewer_most_content_simi,how=\"left\",on=\"Reviewer_id\")\n"
   ]
  },
  {
   "cell_type": "code",
   "execution_count": 176,
   "id": "8133f76c",
   "metadata": {},
   "outputs": [],
   "source": [
    "Product_Reviewer_Features_Label.drop([\"Reviewer_content_consine_similarity\",\"Product_content_consine_similarity\"],axis=1,inplace=True)"
   ]
  },
  {
   "cell_type": "code",
   "execution_count": 171,
   "id": "8ba7f36a",
   "metadata": {},
   "outputs": [],
   "source": [
    "Product_Reviewer_Features_Label.drop([\"Reviewer_content_consine_similarity\",\"Product_content_consine_similarity\",\"Product_most_content_consine_similarity\",\"Reviewer_most_content_consine_similarity\"],axis=1,inplace=True)"
   ]
  },
  {
   "cell_type": "code",
   "execution_count": 178,
   "id": "5bc330cc",
   "metadata": {},
   "outputs": [
    {
     "data": {
      "text/plain": [
       "Reviewer_id                                          0\n",
       "Product_id                                           0\n",
       "Reviewer_ReviewContent_Sent_len                      0\n",
       "Reviewer_ReviewContent_SUB_Len                       0\n",
       "Reviewer_ReviewContent_OBJ_Len                       0\n",
       "Reviewer_ReviewContent_First_Third_PRP               0\n",
       "Reviewer_ReviewContent_First_Third_PRP_ratio         0\n",
       "Reviewer_ReviewContent_Second_PRP                    0\n",
       "Reviewer_ReviewContent_Second_PRP_ratio              0\n",
       "Reviewer_ReviewContent_avg_sent_len                  0\n",
       "Reviewer_ReviewContent_avg_first_third_ratio         0\n",
       "Reviewer_ReviewContent_avg_second_ratio              0\n",
       "Reviewer_ReviewContent_avg_sub_ratio                 0\n",
       "Reviewer_ReviewContent_avg_obj_ratio                 0\n",
       "Reviewer_ReviewContent_avg_sub_to_allpro_ratio       0\n",
       "Reviewer_ReviewContent_avg_obj_to_allpro_ratio       0\n",
       "Reviewer_Average_Rank                                0\n",
       "Reviewer_Rank_SD                                     0\n",
       "Reviewer_Behavior_group_rank_common                  0\n",
       "Reviewer_Behavior_group_extreme_rating_ratio         0\n",
       "Reviewer_Behavior_group_toprating_rating_ratio       0\n",
       "Reviewer_Behavior_group_buttomrating_rating_ratio    0\n",
       "Reviewer_Behavior_group_posrating_rating_ratio       0\n",
       "Reviewer_Behavior_group_negrating_rating_ratio       0\n",
       "Reviewer_Behavior_Early_Review_Ratio                 0\n",
       "Product_ReviewContent_Sent_len                       0\n",
       "Product_ReviewContent_SUB_Len                        0\n",
       "Product_ReviewContent_OBJ_Len                        0\n",
       "Product_ReviewContent_First_Third_PRP                0\n",
       "Product_ReviewContent_First_Third_PRP_ratio          0\n",
       "Product_ReviewContent_Second_PRP                     0\n",
       "Product_ReviewContent_Second_PRP_ratio               0\n",
       "Product_ReviewContent_avg_sent_len                   0\n",
       "Product_ReviewContent_avg_first_third_ratio          0\n",
       "Product_ReviewContent_avg_second_ratio               0\n",
       "Product_ReviewContent_avg_sub_ratio                  0\n",
       "Product_ReviewContent_avg_obj_ratio                  0\n",
       "Product_ReviewContent_avg_sub_to_allpro_ratio        0\n",
       "Product_ReviewContent_avg_obj_to_allpro_ratio        0\n",
       "Product_Average_Rank                                 0\n",
       "Product_Rank_SD                                      0\n",
       "Product_Behavior_group_rank_common                   0\n",
       "Product_Behavior_group_extreme_rating_ratio          0\n",
       "Product_Behavior_group_toprating_rating_ratio        0\n",
       "Product_Behavior_group_buttomrating_rating_ratio     0\n",
       "Product_Behavior_group_posrating_rating_ratio        0\n",
       "Product_Behavior_group_negrating_rating_ratio        0\n",
       "Product_Behavior_Early_Review_Ratio                  0\n",
       "Text                                                 1\n",
       "Rating                                               0\n",
       "Label                                                0\n",
       "Reviewer_content_consine_similarity                  0\n",
       "Product_content_consine_similarity                   0\n",
       "Product_most_content_consine_similarity              0\n",
       "Reviewer_most_content_consine_similarity             0\n",
       "dtype: int64"
      ]
     },
     "execution_count": 178,
     "metadata": {},
     "output_type": "execute_result"
    }
   ],
   "source": [
    "Product_Reviewer_Features_Label.isnull().sum()"
   ]
  },
  {
   "cell_type": "code",
   "execution_count": 179,
   "id": "31a9b4dd",
   "metadata": {},
   "outputs": [],
   "source": [
    "Product_Reviewer_Features_Label.to_excel(\"Product_Reviewer_Features_Label_contentsimilarity_new.xlsx\")"
   ]
  },
  {
   "cell_type": "code",
   "execution_count": 132,
   "id": "e4184a8f",
   "metadata": {},
   "outputs": [],
   "source": [
    "Product_Reviewer_Features_Label.drop([\"Reviewer_least_content_consine_similarity\",\"Product_least_content_consine_similarity\"],axis=1,inplace=True)"
   ]
  },
  {
   "cell_type": "code",
   "execution_count": 129,
   "id": "be961d24",
   "metadata": {},
   "outputs": [
    {
     "data": {
      "text/html": [
       "<div>\n",
       "<style scoped>\n",
       "    .dataframe tbody tr th:only-of-type {\n",
       "        vertical-align: middle;\n",
       "    }\n",
       "\n",
       "    .dataframe tbody tr th {\n",
       "        vertical-align: top;\n",
       "    }\n",
       "\n",
       "    .dataframe thead th {\n",
       "        text-align: right;\n",
       "    }\n",
       "</style>\n",
       "<table border=\"1\" class=\"dataframe\">\n",
       "  <thead>\n",
       "    <tr style=\"text-align: right;\">\n",
       "      <th></th>\n",
       "      <th>Reviewer_id</th>\n",
       "      <th>Label</th>\n",
       "      <th>Reviewer_content_consine_similarity</th>\n",
       "      <th>Reviewer_most_content_consine_similarity</th>\n",
       "      <th>Reviewer_least_content_consine_similarity</th>\n",
       "    </tr>\n",
       "  </thead>\n",
       "  <tbody>\n",
       "    <tr>\n",
       "      <th>0</th>\n",
       "      <td>923</td>\n",
       "      <td>1</td>\n",
       "      <td>0.089281</td>\n",
       "      <td>0.265426</td>\n",
       "      <td>0.0</td>\n",
       "    </tr>\n",
       "    <tr>\n",
       "      <th>1</th>\n",
       "      <td>923</td>\n",
       "      <td>1</td>\n",
       "      <td>0.089281</td>\n",
       "      <td>0.265426</td>\n",
       "      <td>0.0</td>\n",
       "    </tr>\n",
       "    <tr>\n",
       "      <th>2</th>\n",
       "      <td>923</td>\n",
       "      <td>1</td>\n",
       "      <td>0.089281</td>\n",
       "      <td>0.265426</td>\n",
       "      <td>0.0</td>\n",
       "    </tr>\n",
       "    <tr>\n",
       "      <th>3</th>\n",
       "      <td>923</td>\n",
       "      <td>1</td>\n",
       "      <td>0.089281</td>\n",
       "      <td>0.265426</td>\n",
       "      <td>0.0</td>\n",
       "    </tr>\n",
       "    <tr>\n",
       "      <th>4</th>\n",
       "      <td>923</td>\n",
       "      <td>1</td>\n",
       "      <td>0.089281</td>\n",
       "      <td>0.265426</td>\n",
       "      <td>0.0</td>\n",
       "    </tr>\n",
       "    <tr>\n",
       "      <th>...</th>\n",
       "      <td>...</td>\n",
       "      <td>...</td>\n",
       "      <td>...</td>\n",
       "      <td>...</td>\n",
       "      <td>...</td>\n",
       "    </tr>\n",
       "    <tr>\n",
       "      <th>90901</th>\n",
       "      <td>146907</td>\n",
       "      <td>0</td>\n",
       "      <td>0.095073</td>\n",
       "      <td>0.177968</td>\n",
       "      <td>0.0</td>\n",
       "    </tr>\n",
       "    <tr>\n",
       "      <th>90902</th>\n",
       "      <td>146907</td>\n",
       "      <td>0</td>\n",
       "      <td>0.095073</td>\n",
       "      <td>0.177968</td>\n",
       "      <td>0.0</td>\n",
       "    </tr>\n",
       "    <tr>\n",
       "      <th>90903</th>\n",
       "      <td>149108</td>\n",
       "      <td>0</td>\n",
       "      <td>0.074956</td>\n",
       "      <td>0.142913</td>\n",
       "      <td>0.0</td>\n",
       "    </tr>\n",
       "    <tr>\n",
       "      <th>90904</th>\n",
       "      <td>149108</td>\n",
       "      <td>0</td>\n",
       "      <td>0.074956</td>\n",
       "      <td>0.142913</td>\n",
       "      <td>0.0</td>\n",
       "    </tr>\n",
       "    <tr>\n",
       "      <th>90905</th>\n",
       "      <td>149108</td>\n",
       "      <td>0</td>\n",
       "      <td>0.074956</td>\n",
       "      <td>0.142913</td>\n",
       "      <td>0.0</td>\n",
       "    </tr>\n",
       "  </tbody>\n",
       "</table>\n",
       "<p>90906 rows × 5 columns</p>\n",
       "</div>"
      ],
      "text/plain": [
       "       Reviewer_id  Label  Reviewer_content_consine_similarity  \\\n",
       "0              923      1                             0.089281   \n",
       "1              923      1                             0.089281   \n",
       "2              923      1                             0.089281   \n",
       "3              923      1                             0.089281   \n",
       "4              923      1                             0.089281   \n",
       "...            ...    ...                                  ...   \n",
       "90901       146907      0                             0.095073   \n",
       "90902       146907      0                             0.095073   \n",
       "90903       149108      0                             0.074956   \n",
       "90904       149108      0                             0.074956   \n",
       "90905       149108      0                             0.074956   \n",
       "\n",
       "       Reviewer_most_content_consine_similarity  \\\n",
       "0                                      0.265426   \n",
       "1                                      0.265426   \n",
       "2                                      0.265426   \n",
       "3                                      0.265426   \n",
       "4                                      0.265426   \n",
       "...                                         ...   \n",
       "90901                                  0.177968   \n",
       "90902                                  0.177968   \n",
       "90903                                  0.142913   \n",
       "90904                                  0.142913   \n",
       "90905                                  0.142913   \n",
       "\n",
       "       Reviewer_least_content_consine_similarity  \n",
       "0                                            0.0  \n",
       "1                                            0.0  \n",
       "2                                            0.0  \n",
       "3                                            0.0  \n",
       "4                                            0.0  \n",
       "...                                          ...  \n",
       "90901                                        0.0  \n",
       "90902                                        0.0  \n",
       "90903                                        0.0  \n",
       "90904                                        0.0  \n",
       "90905                                        0.0  \n",
       "\n",
       "[90906 rows x 5 columns]"
      ]
     },
     "execution_count": 129,
     "metadata": {},
     "output_type": "execute_result"
    }
   ],
   "source": [
    "Product_Reviewer_Features_Label[[\"Reviewer_id\",\"Label\",\"Reviewer_content_consine_similarity\",\"Reviewer_most_content_consine_similarity\",\"Reviewer_least_content_consine_similarity\"]]"
   ]
  },
  {
   "cell_type": "code",
   "execution_count": 113,
   "id": "30f86321",
   "metadata": {
    "collapsed": true
   },
   "outputs": [
    {
     "ename": "KeyError",
     "evalue": "'Word_Embedding_Vector'",
     "output_type": "error",
     "traceback": [
      "\u001b[1;31m---------------------------------------------------------------------------\u001b[0m",
      "\u001b[1;31mKeyError\u001b[0m                                  Traceback (most recent call last)",
      "\u001b[1;32m~\\anaconda3\\lib\\site-packages\\pandas\\core\\indexes\\base.py\u001b[0m in \u001b[0;36mget_loc\u001b[1;34m(self, key, method, tolerance)\u001b[0m\n\u001b[0;32m   3079\u001b[0m             \u001b[1;32mtry\u001b[0m\u001b[1;33m:\u001b[0m\u001b[1;33m\u001b[0m\u001b[1;33m\u001b[0m\u001b[0m\n\u001b[1;32m-> 3080\u001b[1;33m                 \u001b[1;32mreturn\u001b[0m \u001b[0mself\u001b[0m\u001b[1;33m.\u001b[0m\u001b[0m_engine\u001b[0m\u001b[1;33m.\u001b[0m\u001b[0mget_loc\u001b[0m\u001b[1;33m(\u001b[0m\u001b[0mcasted_key\u001b[0m\u001b[1;33m)\u001b[0m\u001b[1;33m\u001b[0m\u001b[1;33m\u001b[0m\u001b[0m\n\u001b[0m\u001b[0;32m   3081\u001b[0m             \u001b[1;32mexcept\u001b[0m \u001b[0mKeyError\u001b[0m \u001b[1;32mas\u001b[0m \u001b[0merr\u001b[0m\u001b[1;33m:\u001b[0m\u001b[1;33m\u001b[0m\u001b[1;33m\u001b[0m\u001b[0m\n",
      "\u001b[1;32mpandas\\_libs\\index.pyx\u001b[0m in \u001b[0;36mpandas._libs.index.IndexEngine.get_loc\u001b[1;34m()\u001b[0m\n",
      "\u001b[1;32mpandas\\_libs\\index.pyx\u001b[0m in \u001b[0;36mpandas._libs.index.IndexEngine.get_loc\u001b[1;34m()\u001b[0m\n",
      "\u001b[1;32mpandas\\_libs\\hashtable_class_helper.pxi\u001b[0m in \u001b[0;36mpandas._libs.hashtable.PyObjectHashTable.get_item\u001b[1;34m()\u001b[0m\n",
      "\u001b[1;32mpandas\\_libs\\hashtable_class_helper.pxi\u001b[0m in \u001b[0;36mpandas._libs.hashtable.PyObjectHashTable.get_item\u001b[1;34m()\u001b[0m\n",
      "\u001b[1;31mKeyError\u001b[0m: 'Word_Embedding_Vector'",
      "\nThe above exception was the direct cause of the following exception:\n",
      "\u001b[1;31mKeyError\u001b[0m                                  Traceback (most recent call last)",
      "\u001b[1;32m<ipython-input-113-6287459cbbd6>\u001b[0m in \u001b[0;36m<module>\u001b[1;34m\u001b[0m\n\u001b[1;32m----> 1\u001b[1;33m \u001b[0mProduct_content_simi\u001b[0m\u001b[1;33m[\u001b[0m\u001b[0mProduct_content_simi\u001b[0m\u001b[1;33m[\u001b[0m\u001b[1;34m\"Word_Embedding_Vector\"\u001b[0m\u001b[1;33m]\u001b[0m\u001b[1;33m.\u001b[0m\u001b[0misnull\u001b[0m\u001b[1;33m(\u001b[0m\u001b[1;33m)\u001b[0m\u001b[1;33m]\u001b[0m\u001b[1;33m\u001b[0m\u001b[1;33m\u001b[0m\u001b[0m\n\u001b[0m",
      "\u001b[1;32m~\\anaconda3\\lib\\site-packages\\pandas\\core\\frame.py\u001b[0m in \u001b[0;36m__getitem__\u001b[1;34m(self, key)\u001b[0m\n\u001b[0;32m   3022\u001b[0m             \u001b[1;32mif\u001b[0m \u001b[0mself\u001b[0m\u001b[1;33m.\u001b[0m\u001b[0mcolumns\u001b[0m\u001b[1;33m.\u001b[0m\u001b[0mnlevels\u001b[0m \u001b[1;33m>\u001b[0m \u001b[1;36m1\u001b[0m\u001b[1;33m:\u001b[0m\u001b[1;33m\u001b[0m\u001b[1;33m\u001b[0m\u001b[0m\n\u001b[0;32m   3023\u001b[0m                 \u001b[1;32mreturn\u001b[0m \u001b[0mself\u001b[0m\u001b[1;33m.\u001b[0m\u001b[0m_getitem_multilevel\u001b[0m\u001b[1;33m(\u001b[0m\u001b[0mkey\u001b[0m\u001b[1;33m)\u001b[0m\u001b[1;33m\u001b[0m\u001b[1;33m\u001b[0m\u001b[0m\n\u001b[1;32m-> 3024\u001b[1;33m             \u001b[0mindexer\u001b[0m \u001b[1;33m=\u001b[0m \u001b[0mself\u001b[0m\u001b[1;33m.\u001b[0m\u001b[0mcolumns\u001b[0m\u001b[1;33m.\u001b[0m\u001b[0mget_loc\u001b[0m\u001b[1;33m(\u001b[0m\u001b[0mkey\u001b[0m\u001b[1;33m)\u001b[0m\u001b[1;33m\u001b[0m\u001b[1;33m\u001b[0m\u001b[0m\n\u001b[0m\u001b[0;32m   3025\u001b[0m             \u001b[1;32mif\u001b[0m \u001b[0mis_integer\u001b[0m\u001b[1;33m(\u001b[0m\u001b[0mindexer\u001b[0m\u001b[1;33m)\u001b[0m\u001b[1;33m:\u001b[0m\u001b[1;33m\u001b[0m\u001b[1;33m\u001b[0m\u001b[0m\n\u001b[0;32m   3026\u001b[0m                 \u001b[0mindexer\u001b[0m \u001b[1;33m=\u001b[0m \u001b[1;33m[\u001b[0m\u001b[0mindexer\u001b[0m\u001b[1;33m]\u001b[0m\u001b[1;33m\u001b[0m\u001b[1;33m\u001b[0m\u001b[0m\n",
      "\u001b[1;32m~\\anaconda3\\lib\\site-packages\\pandas\\core\\indexes\\base.py\u001b[0m in \u001b[0;36mget_loc\u001b[1;34m(self, key, method, tolerance)\u001b[0m\n\u001b[0;32m   3080\u001b[0m                 \u001b[1;32mreturn\u001b[0m \u001b[0mself\u001b[0m\u001b[1;33m.\u001b[0m\u001b[0m_engine\u001b[0m\u001b[1;33m.\u001b[0m\u001b[0mget_loc\u001b[0m\u001b[1;33m(\u001b[0m\u001b[0mcasted_key\u001b[0m\u001b[1;33m)\u001b[0m\u001b[1;33m\u001b[0m\u001b[1;33m\u001b[0m\u001b[0m\n\u001b[0;32m   3081\u001b[0m             \u001b[1;32mexcept\u001b[0m \u001b[0mKeyError\u001b[0m \u001b[1;32mas\u001b[0m \u001b[0merr\u001b[0m\u001b[1;33m:\u001b[0m\u001b[1;33m\u001b[0m\u001b[1;33m\u001b[0m\u001b[0m\n\u001b[1;32m-> 3082\u001b[1;33m                 \u001b[1;32mraise\u001b[0m \u001b[0mKeyError\u001b[0m\u001b[1;33m(\u001b[0m\u001b[0mkey\u001b[0m\u001b[1;33m)\u001b[0m \u001b[1;32mfrom\u001b[0m \u001b[0merr\u001b[0m\u001b[1;33m\u001b[0m\u001b[1;33m\u001b[0m\u001b[0m\n\u001b[0m\u001b[0;32m   3083\u001b[0m \u001b[1;33m\u001b[0m\u001b[0m\n\u001b[0;32m   3084\u001b[0m         \u001b[1;32mif\u001b[0m \u001b[0mtolerance\u001b[0m \u001b[1;32mis\u001b[0m \u001b[1;32mnot\u001b[0m \u001b[1;32mNone\u001b[0m\u001b[1;33m:\u001b[0m\u001b[1;33m\u001b[0m\u001b[1;33m\u001b[0m\u001b[0m\n",
      "\u001b[1;31mKeyError\u001b[0m: 'Word_Embedding_Vector'"
     ]
    }
   ],
   "source": [
    "Product_content_simi[Product_content_simi[\"Word_Embedding_Vector\"].isnull()]"
   ]
  },
  {
   "cell_type": "code",
   "execution_count": 722,
   "id": "20f968fd",
   "metadata": {},
   "outputs": [
    {
     "data": {
      "text/plain": [
       "0"
      ]
     },
     "execution_count": 722,
     "metadata": {},
     "output_type": "execute_result"
    }
   ],
   "source": [
    "dataset_word_embedding[\"Word_Embedding_Vector\"]"
   ]
  },
  {
   "cell_type": "code",
   "execution_count": 757,
   "id": "9d53cd47",
   "metadata": {},
   "outputs": [
    {
     "data": {
      "text/plain": [
       "33"
      ]
     },
     "execution_count": 757,
     "metadata": {},
     "output_type": "execute_result"
    }
   ],
   "source": [
    "Reviewer_content_similarity_word_vector.isnull().sum()"
   ]
  },
  {
   "cell_type": "code",
   "execution_count": null,
   "id": "e76dc926",
   "metadata": {},
   "outputs": [],
   "source": []
  },
  {
   "cell_type": "code",
   "execution_count": 182,
   "id": "910d666d",
   "metadata": {},
   "outputs": [],
   "source": [
    "reviewer_similarity = Product_Reviewer_Features_Label.groupby([\"Label\",\"Reviewer_id\"])[\"Reviewer_most_content_consine_similarity\"].agg(['mean'])"
   ]
  },
  {
   "cell_type": "code",
   "execution_count": 180,
   "id": "83781e80",
   "metadata": {},
   "outputs": [],
   "source": [
    "product_similarity = Product_Reviewer_Features_Label.groupby([\"Label\",\"Product_id\"])[\"Product_most_content_consine_similarity\"].agg(['mean'])"
   ]
  },
  {
   "cell_type": "code",
   "execution_count": 181,
   "id": "27d2a764",
   "metadata": {},
   "outputs": [
    {
     "data": {
      "text/plain": [
       "array([<AxesSubplot:title={'center':'0'}>,\n",
       "       <AxesSubplot:title={'center':'1'}>], dtype=object)"
      ]
     },
     "execution_count": 181,
     "metadata": {},
     "output_type": "execute_result"
    },
    {
     "data": {
      "image/png": "[encoded data removed]",
      "text/plain": [
       "<Figure size 432x288 with 2 Axes>"
      ]
     },
     "metadata": {
      "needs_background": "light"
     },
     "output_type": "display_data"
    }
   ],
   "source": [
    "product_similarity.hist(by=\"Label\")"
   ]
  },
  {
   "cell_type": "code",
   "execution_count": 183,
   "id": "7be96919",
   "metadata": {},
   "outputs": [
    {
     "data": {
      "text/plain": [
       "array([<AxesSubplot:title={'center':'0'}>,\n",
       "       <AxesSubplot:title={'center':'1'}>], dtype=object)"
      ]
     },
     "execution_count": 183,
     "metadata": {},
     "output_type": "execute_result"
    },
    {
     "data": {
      "image/png": "[encoded data removed]",
      "text/plain": [
       "<Figure size 432x288 with 2 Axes>"
      ]
     },
     "metadata": {
      "needs_background": "light"
     },
     "output_type": "display_data"
    }
   ],
   "source": [
    "reviewer_similarity.hist(by=\"Label\")"
   ]
  },
  {
   "cell_type": "code",
   "execution_count": null,
   "id": "5dff8451",
   "metadata": {},
   "outputs": [],
   "source": []
  },
  {
   "cell_type": "code",
   "execution_count": 46,
   "id": "2f1bbb99",
   "metadata": {
    "collapsed": true
   },
   "outputs": [
    {
     "name": "stdout",
     "output_type": "stream",
     "text": [
      "0 docs removed\n",
      "0 docs removed\n"
     ]
    },
    {
     "data": {
      "text/plain": [
       "array([-5.90702221e-02,  1.20855376e-01, -8.22401717e-02, -8.81951526e-02,\n",
       "       -3.57059799e-02,  3.62629108e-02, -2.97691114e-02,  7.18608201e-02,\n",
       "        4.55867909e-02, -1.58788586e+00,  1.67962223e-01, -8.80596265e-02,\n",
       "       -7.95242339e-02,  2.06512928e-01, -3.30446661e-02,  9.60668027e-02,\n",
       "       -8.35262015e-02, -1.58707146e-02, -1.64288599e-02, -8.23438168e-03,\n",
       "        4.53482009e-02,  3.10096383e-01,  1.71733096e-01,  4.27705161e-02,\n",
       "       -2.16241494e-01, -4.55259979e-02,  1.53873507e-02, -1.89402595e-01,\n",
       "       -3.15978602e-02,  1.59100331e-02,  6.79605082e-03,  2.46605575e-01,\n",
       "       -2.37089321e-01, -4.94822394e-04, -9.80428278e-01,  1.31311104e-01,\n",
       "       -4.85807881e-02,  9.68958437e-02,  2.71684211e-02,  1.36904540e-02,\n",
       "        6.37773750e-03, -2.27274746e-01, -4.15931791e-02,  1.98425744e-02,\n",
       "        1.00991167e-01,  1.62561014e-01,  1.96166024e-01,  1.64258271e-01,\n",
       "       -5.01016490e-02,  9.14116427e-02,  5.96663170e-02, -1.44651413e-01,\n",
       "        3.74630876e-02, -8.07079747e-02, -1.80178002e-01,  2.49482080e-01,\n",
       "        2.42793765e-02,  2.09686041e-01,  2.07488209e-01,  4.58192937e-02,\n",
       "        1.57823831e-01, -2.99626626e-02,  1.95731044e-01,  1.21558957e-01,\n",
       "       -9.98577103e-02, -3.00418586e-01,  1.07091695e-01, -1.09576378e-02,\n",
       "        4.07590717e-02, -3.02501973e-02,  4.76733334e-02, -1.75443664e-02,\n",
       "       -3.59276868e-02,  1.68435544e-01, -2.53904145e-02, -4.76227626e-02,\n",
       "        1.63873181e-01,  1.96819752e-01, -1.82494611e-01, -4.53985743e-02,\n",
       "       -1.85014129e-01,  1.04907705e-02,  2.85169810e-01,  5.52172512e-02,\n",
       "        1.12284623e-01,  9.54230949e-02, -1.58048108e-01,  2.11703539e-01,\n",
       "        7.78936520e-02,  1.16704933e-01, -1.40712589e-01,  1.85229480e-01,\n",
       "       -2.25411624e-01, -1.54103786e-01,  3.59500609e-02,  1.39836669e-02,\n",
       "       -2.10462466e-01, -6.35881955e-03, -3.19023505e-02, -1.92348540e-01,\n",
       "        2.50998978e-02, -8.73798802e-02, -5.02342731e-02, -7.71447197e-02,\n",
       "       -5.97465746e-02, -6.72804890e-03,  7.95684755e-02,  1.21278517e-01,\n",
       "       -2.04147220e-01,  1.37938246e-01, -4.59508188e-02, -1.40888065e-01,\n",
       "       -8.06925744e-02, -2.96132803e-01,  1.22362696e-01,  7.51801580e-02,\n",
       "       -1.11184001e-01, -3.91742215e-02,  4.35606837e-02, -2.06817791e-01,\n",
       "       -7.87026137e-02, -1.53760180e-01,  1.21680357e-01,  1.50954276e-01,\n",
       "       -2.05246676e-02, -9.07451957e-02,  6.52155951e-02,  1.79424509e-01,\n",
       "        2.03704834e-02,  8.25463682e-02,  1.17158845e-01,  9.87964422e-02,\n",
       "        9.98555273e-02, -1.18597625e-02, -1.65711388e-01,  1.67107340e-02,\n",
       "       -3.09805572e-02, -7.80009478e-02, -1.79991368e-02,  1.79502726e-01,\n",
       "       -9.93512124e-02,  1.39532566e-01,  8.47028941e-02,  1.27775952e-01,\n",
       "       -3.69841784e-01, -8.16117004e-02,  2.02730317e-02,  3.65471467e-02,\n",
       "       -1.37428701e-01,  2.37959865e-02, -4.62989472e-02, -4.60441820e-02,\n",
       "        5.76276295e-02,  2.38515493e-02,  1.55998901e-01, -1.83056686e-02,\n",
       "       -6.29335567e-02, -3.59353870e-02,  1.32353157e-01, -6.99744448e-02,\n",
       "        6.71757162e-02, -2.37882152e-01, -3.83545570e-02, -7.34638721e-02,\n",
       "        3.61457877e-02,  1.13303721e-01, -9.59888194e-03,  1.26588464e-01,\n",
       "        1.04292341e-01,  8.24990273e-02,  4.52276394e-02, -2.65672207e-02,\n",
       "       -5.04582286e-01, -1.05877947e-02,  5.00385510e-03,  2.46116295e-02,\n",
       "       -6.86535463e-02,  7.58124217e-02,  4.38213460e-02,  2.01852143e-01,\n",
       "        1.24864534e-01,  9.09899622e-02,  1.86067238e-01, -3.98719981e-02,\n",
       "       -1.71578154e-02, -5.61962053e-02, -1.01248212e-01,  8.59931037e-02,\n",
       "        1.03245296e-01,  1.07968017e-01, -9.82438177e-02,  9.01328400e-02,\n",
       "        7.92812034e-02, -1.05277859e-01, -4.89289314e-03, -2.19116867e-01,\n",
       "       -1.46411374e-01,  3.49038914e-02,  2.52191927e-02, -1.49976850e-01,\n",
       "        9.69110966e-01, -1.26965433e-01,  2.67469790e-02,  4.66810241e-02,\n",
       "        6.65431023e-02,  6.10676259e-02,  3.26467380e-02,  1.05133317e-01,\n",
       "       -4.17950526e-02, -1.54377714e-01, -1.73321366e-01, -1.45047745e-02,\n",
       "        6.29532188e-02,  3.40346061e-02,  3.14322114e-02,  5.21641895e-02,\n",
       "        6.82673603e-02,  6.43645003e-02,  5.65776303e-02, -2.05385238e-02,\n",
       "        2.43127346e-01, -1.19551003e-01, -2.03575626e-01,  4.26495522e-02,\n",
       "        2.43118629e-02,  5.44825569e-02,  1.80751026e-01, -4.90840673e-02,\n",
       "       -3.30340378e-02, -2.97040474e-02, -2.17602700e-02, -2.56944876e-02,\n",
       "       -1.60693638e-02, -2.15244755e-01,  1.07885748e-02,  8.89273435e-02,\n",
       "        6.21872060e-02,  2.97708474e-02, -1.14792161e-01,  9.19413418e-02,\n",
       "        1.06432494e-02,  4.83784489e-02,  2.29446411e-01,  1.15713328e-01,\n",
       "       -4.96543318e-01, -5.83297312e-02,  1.01277895e-01,  3.92086729e-02,\n",
       "       -3.79065499e-02, -3.03230546e-02,  1.13521867e-01, -2.05254346e-01,\n",
       "       -8.52733254e-02,  7.15416744e-02,  3.59291643e-01,  5.61098047e-02,\n",
       "       -4.01565880e-02, -1.14509091e-01,  6.66538626e-02,  1.41980704e-02,\n",
       "       -5.71483746e-02, -1.28817528e-01, -1.00867609e-02,  2.64377147e-02,\n",
       "       -8.62576440e-02,  4.57612276e-02, -9.45431069e-02, -1.13260187e-01,\n",
       "        1.02036066e-01,  1.22164525e-01, -3.53792682e-02, -1.86977237e-01,\n",
       "        9.44144204e-02,  9.99842882e-02,  6.10818341e-02,  8.34691152e-02,\n",
       "       -1.86133051e+00, -1.13188159e-02,  2.51292050e-01,  3.92666226e-03,\n",
       "       -1.85819015e-01,  6.61151707e-02,  1.98112503e-02, -1.64768454e-02,\n",
       "       -6.20636195e-02,  1.45469084e-01, -5.29169664e-03,  6.44742474e-02,\n",
       "       -5.23732640e-02, -8.02246556e-02, -2.55330764e-02, -2.04934910e-01,\n",
       "        2.57208534e-02,  5.49067706e-02,  1.01705156e-01, -8.74891877e-02,\n",
       "        5.50900772e-02, -2.28546724e-01, -9.02167410e-02,  6.02784231e-02],\n",
       "      dtype=float32)"
      ]
     },
     "execution_count": 46,
     "metadata": {},
     "output_type": "execute_result"
    }
   ],
   "source": [
    "#train dataset preparation\n",
    "train_corpus = []\n",
    "for index,row in train_dataframe.iterrows():\n",
    "    train_corpus.append(row[\"Text\"])\n",
    "#TrainY = train_Y.tolist()\n",
    "traincorpus = [preprocess(text) for text in train_corpus]\n",
    "traincorpus, train_corpus,missing_index1 = filter_test_docs(traincorpus, train_corpus, lambda doc: (len(doc) != 0))\n",
    "traincorpus, train_corpus,missing_index2 = filter_test_docs(traincorpus, train_corpus, lambda doc: has_vector_representation(model, doc))\n",
    "\n",
    "trainx =[]\n",
    "for doc in traincorpus: #look up each doc in model\n",
    "    trainx.append(document_vector(model, doc))\n",
    "    \n",
    "train_X_wordfeature = np.array(trainx) #list to array\n",
    "train_X_wordfeature.shape\n",
    "\n",
    "train_X_wordfeature[1]"
   ]
  },
  {
   "cell_type": "code",
   "execution_count": 47,
   "id": "f7950af9",
   "metadata": {},
   "outputs": [
    {
     "data": {
      "text/plain": [
       "(8272, 300)"
      ]
     },
     "execution_count": 47,
     "metadata": {},
     "output_type": "execute_result"
    }
   ],
   "source": [
    "train_X_wordfeature.shape"
   ]
  },
  {
   "cell_type": "code",
   "execution_count": 48,
   "id": "b430967a",
   "metadata": {
    "scrolled": true
   },
   "outputs": [
    {
     "name": "stdout",
     "output_type": "stream",
     "text": [
      "1 docs removed\n",
      "3 docs removed\n"
     ]
    },
    {
     "data": {
      "text/plain": [
       "(2754, 300)"
      ]
     },
     "execution_count": 48,
     "metadata": {},
     "output_type": "execute_result"
    }
   ],
   "source": [
    "#valid dataset preparation\n",
    "valid_edit_corpus = []\n",
    "for index,row in valid_dataframe.iterrows():\n",
    "\n",
    "    valid_edit_corpus.append(row[\"Text\"])\n",
    "#ValidY=valid_dataframe['label'].tolist()\n",
    "validcorpus = [preprocess(text) for text in valid_edit_corpus]\n",
    "validcorpus, valid_edit_corpus, missing_index1 = filter_test_docs(validcorpus, valid_edit_corpus, lambda doc: (len(doc) != 0))\n",
    "validcorpus, valid_edit_corpus, missing_index2 = filter_test_docs(validcorpus, valid_edit_corpus, lambda doc: has_vector_representation(model, doc))\n",
    "valid_x =[]\n",
    "for doc in validcorpus: #look up each doc in model\n",
    "    valid_x.append(document_vector(model, doc))\n",
    "    \n",
    "Valid_X_wordfeature = np.array(valid_x) #list to array\n",
    "Valid_X_wordfeature.shape"
   ]
  },
  {
   "cell_type": "code",
   "execution_count": 50,
   "id": "b5e566c9",
   "metadata": {},
   "outputs": [
    {
     "data": {
      "text/plain": [
       "[684]"
      ]
     },
     "execution_count": 50,
     "metadata": {},
     "output_type": "execute_result"
    }
   ],
   "source": [
    "missing_index1"
   ]
  },
  {
   "cell_type": "code",
   "execution_count": 49,
   "id": "f1401fc7",
   "metadata": {},
   "outputs": [
    {
     "data": {
      "text/plain": [
       "[680, 1742, 680]"
      ]
     },
     "execution_count": 49,
     "metadata": {},
     "output_type": "execute_result"
    }
   ],
   "source": [
    "missing_index2"
   ]
  },
  {
   "cell_type": "code",
   "execution_count": 51,
   "id": "4008ccb6",
   "metadata": {},
   "outputs": [],
   "source": [
    "valid_x.insert(missing_index2[2],np.zeros((300,)).astype('float32'))\n",
    "valid_x.insert(missing_index2[1],np.zeros((300,)).astype('float32'))\n",
    "valid_x.insert(missing_index2[0],np.zeros((300,)).astype('float32'))\n",
    "valid_x.insert(missing_index1[0],np.zeros((300,)).astype('float32'))\n"
   ]
  },
  {
   "cell_type": "code",
   "execution_count": 52,
   "id": "106e1a60",
   "metadata": {},
   "outputs": [],
   "source": [
    "Valid_X_wordfeature = np.array(valid_x) "
   ]
  },
  {
   "cell_type": "code",
   "execution_count": 53,
   "id": "9f53dd5b",
   "metadata": {},
   "outputs": [],
   "source": [
    "train_X_wordfeature = pd.DataFrame(train_X_wordfeature)\n",
    "Valid_X_wordfeature = pd.DataFrame(Valid_X_wordfeature)"
   ]
  },
  {
   "cell_type": "code",
   "execution_count": 294,
   "id": "6a780eea",
   "metadata": {
    "scrolled": true
   },
   "outputs": [
    {
     "name": "stderr",
     "output_type": "stream",
     "text": [
      "C:\\Users\\Harmony Chen\\anaconda3\\lib\\site-packages\\ipykernel\\ipkernel.py:287: DeprecationWarning: `should_run_async` will not call `transform_cell` automatically in the future. Please pass the result to `transformed_cell` argument and any exception that happen during thetransform in `preprocessing_exc_tuple` in IPython 7.17 and above.\n",
      "  and should_run_async(code)\n"
     ]
    },
    {
     "name": "stdout",
     "output_type": "stream",
     "text": [
      "magnificent!!! 0\n",
      "Delicious!!! 1\n",
      "yumm 0\n",
      "A-Ok 0\n",
      "soulful 0\n",
      "Excellent! 0\n",
      "nom 0\n",
      "Delisshhhhhh! 0\n",
      "YUMM 0\n",
      "Good. 0\n",
      "Excellent! 0\n",
      "Yummy 0\n"
     ]
    }
   ],
   "source": [
    "for index,row in valid_dataframe.iterrows():\n",
    "    if len(preprocess(row[\"Text\"]))<2:\n",
    "        print( row[\"Text\"],row[\"Label\"])"
   ]
  },
  {
   "cell_type": "code",
   "execution_count": 257,
   "id": "dd7fc695",
   "metadata": {},
   "outputs": [
    {
     "name": "stderr",
     "output_type": "stream",
     "text": [
      "C:\\Users\\Harmony Chen\\anaconda3\\lib\\site-packages\\ipykernel\\ipkernel.py:287: DeprecationWarning: `should_run_async` will not call `transform_cell` automatically in the future. Please pass the result to `transformed_cell` argument and any exception that happen during thetransform in `preprocessing_exc_tuple` in IPython 7.17 and above.\n",
      "  and should_run_async(code)\n"
     ]
    },
    {
     "data": {
      "text/plain": [
       "8272"
      ]
     },
     "execution_count": 257,
     "metadata": {},
     "output_type": "execute_result"
    }
   ],
   "source": [
    "len(train_Y)"
   ]
  },
  {
   "cell_type": "code",
   "execution_count": null,
   "id": "d706e8f5",
   "metadata": {},
   "outputs": [],
   "source": []
  },
  {
   "cell_type": "code",
   "execution_count": null,
   "id": "0315e73c",
   "metadata": {},
   "outputs": [],
   "source": []
  },
  {
   "cell_type": "code",
   "execution_count": null,
   "id": "ffa7ca93",
   "metadata": {},
   "outputs": [],
   "source": []
  },
  {
   "cell_type": "code",
   "execution_count": null,
   "id": "97d3aa02",
   "metadata": {},
   "outputs": [],
   "source": []
  },
  {
   "cell_type": "code",
   "execution_count": null,
   "id": "4f5e07ee",
   "metadata": {},
   "outputs": [],
   "source": []
  },
  {
   "cell_type": "code",
   "execution_count": null,
   "id": "7612440d",
   "metadata": {},
   "outputs": [],
   "source": []
  },
  {
   "cell_type": "code",
   "execution_count": 159,
   "id": "dd966a11",
   "metadata": {},
   "outputs": [],
   "source": [
    "train_ratio = 0.8 # 80% for training, 20% for validation\n",
    "random_seed = 500\n",
    "\n",
    "train_data = sampledataframe.sample(frac=train_ratio, random_state=random_seed)\n",
    "valid_data = sampledataframe.drop(train_data.index)\n"
   ]
  },
  {
   "cell_type": "code",
   "execution_count": 160,
   "id": "21f81fd5",
   "metadata": {},
   "outputs": [],
   "source": [
    "train_X = train_data[feature_columns[:-2]]\n",
    "train_Y = train_data['Label']\n",
    "valid_X = valid_data[feature_columns[:-2]]\n",
    "valid_Y = valid_data['Label']"
   ]
  },
  {
   "cell_type": "code",
   "execution_count": 177,
   "id": "207c8964",
   "metadata": {},
   "outputs": [
    {
     "data": {
      "text/plain": [
       "0.7633472169632715"
      ]
     },
     "execution_count": 177,
     "metadata": {},
     "output_type": "execute_result"
    }
   ],
   "source": [
    "valid_Y_hat = adb_model.predict(valid_X)\n",
    "accuracy = accuracy_score(valid_Y, valid_Y_hat)\n",
    "accuracy"
   ]
  },
  {
   "cell_type": "code",
   "execution_count": 375,
   "id": "bfa51000",
   "metadata": {},
   "outputs": [
    {
     "name": "stderr",
     "output_type": "stream",
     "text": [
      "C:\\Users\\Harmony Chen\\anaconda3\\lib\\site-packages\\ipykernel\\ipkernel.py:287: DeprecationWarning: `should_run_async` will not call `transform_cell` automatically in the future. Please pass the result to `transformed_cell` argument and any exception that happen during thetransform in `preprocessing_exc_tuple` in IPython 7.17 and above.\n",
      "  and should_run_async(code)\n"
     ]
    }
   ],
   "source": [
    "train_X = pd.concat([traintopicfeature,train_X_wordfeature],axis=1)\n",
    "train_Y = train_dataframe[\"Label\"]\n",
    "valid_X = pd.concat([Validtopicfeature,Valid_X_wordfeature],axis=1)\n",
    "valid_Y = valid_dataframe[\"Label\"]"
   ]
  },
  {
   "cell_type": "code",
   "execution_count": 368,
   "id": "3d346dfa",
   "metadata": {},
   "outputs": [
    {
     "name": "stderr",
     "output_type": "stream",
     "text": [
      "C:\\Users\\Harmony Chen\\anaconda3\\lib\\site-packages\\ipykernel\\ipkernel.py:287: DeprecationWarning: `should_run_async` will not call `transform_cell` automatically in the future. Please pass the result to `transformed_cell` argument and any exception that happen during thetransform in `preprocessing_exc_tuple` in IPython 7.17 and above.\n",
      "  and should_run_async(code)\n"
     ]
    },
    {
     "data": {
      "text/plain": [
       "(2758, 20)"
      ]
     },
     "execution_count": 368,
     "metadata": {},
     "output_type": "execute_result"
    }
   ],
   "source": [
    "Validtopicfeature.shape"
   ]
  },
  {
   "cell_type": "code",
   "execution_count": 388,
   "id": "5c3062eb",
   "metadata": {},
   "outputs": [
    {
     "name": "stderr",
     "output_type": "stream",
     "text": [
      "C:\\Users\\Harmony Chen\\anaconda3\\lib\\site-packages\\ipykernel\\ipkernel.py:287: DeprecationWarning: `should_run_async` will not call `transform_cell` automatically in the future. Please pass the result to `transformed_cell` argument and any exception that happen during thetransform in `preprocessing_exc_tuple` in IPython 7.17 and above.\n",
      "  and should_run_async(code)\n"
     ]
    },
    {
     "data": {
      "text/html": [
       "<div>\n",
       "<style scoped>\n",
       "    .dataframe tbody tr th:only-of-type {\n",
       "        vertical-align: middle;\n",
       "    }\n",
       "\n",
       "    .dataframe tbody tr th {\n",
       "        vertical-align: top;\n",
       "    }\n",
       "\n",
       "    .dataframe thead th {\n",
       "        text-align: right;\n",
       "    }\n",
       "</style>\n",
       "<table border=\"1\" class=\"dataframe\">\n",
       "  <thead>\n",
       "    <tr style=\"text-align: right;\">\n",
       "      <th></th>\n",
       "      <th>0</th>\n",
       "      <th>1</th>\n",
       "      <th>2</th>\n",
       "      <th>3</th>\n",
       "      <th>4</th>\n",
       "      <th>5</th>\n",
       "      <th>6</th>\n",
       "      <th>7</th>\n",
       "      <th>8</th>\n",
       "      <th>9</th>\n",
       "      <th>...</th>\n",
       "      <th>190</th>\n",
       "      <th>191</th>\n",
       "      <th>192</th>\n",
       "      <th>193</th>\n",
       "      <th>194</th>\n",
       "      <th>195</th>\n",
       "      <th>196</th>\n",
       "      <th>197</th>\n",
       "      <th>198</th>\n",
       "      <th>199</th>\n",
       "    </tr>\n",
       "  </thead>\n",
       "  <tbody>\n",
       "    <tr>\n",
       "      <th>2753</th>\n",
       "      <td>0.030528</td>\n",
       "      <td>0.033098</td>\n",
       "      <td>0.030532</td>\n",
       "      <td>0.030532</td>\n",
       "      <td>0.030531</td>\n",
       "      <td>0.03053</td>\n",
       "      <td>0.03053</td>\n",
       "      <td>0.030537</td>\n",
       "      <td>0.030531</td>\n",
       "      <td>0.03053</td>\n",
       "      <td>...</td>\n",
       "      <td>-0.094567</td>\n",
       "      <td>-0.261025</td>\n",
       "      <td>0.032923</td>\n",
       "      <td>0.037032</td>\n",
       "      <td>-0.020807</td>\n",
       "      <td>-0.006334</td>\n",
       "      <td>-0.097025</td>\n",
       "      <td>0.006673</td>\n",
       "      <td>0.017068</td>\n",
       "      <td>-0.107368</td>\n",
       "    </tr>\n",
       "    <tr>\n",
       "      <th>2754</th>\n",
       "      <td>0.000000</td>\n",
       "      <td>0.064281</td>\n",
       "      <td>0.000000</td>\n",
       "      <td>0.000000</td>\n",
       "      <td>0.000000</td>\n",
       "      <td>0.00000</td>\n",
       "      <td>0.00000</td>\n",
       "      <td>0.000000</td>\n",
       "      <td>0.000000</td>\n",
       "      <td>0.00000</td>\n",
       "      <td>...</td>\n",
       "      <td>-0.131909</td>\n",
       "      <td>0.026793</td>\n",
       "      <td>0.080834</td>\n",
       "      <td>0.045878</td>\n",
       "      <td>0.050292</td>\n",
       "      <td>-0.117947</td>\n",
       "      <td>0.139120</td>\n",
       "      <td>0.161393</td>\n",
       "      <td>-0.002296</td>\n",
       "      <td>0.022572</td>\n",
       "    </tr>\n",
       "    <tr>\n",
       "      <th>2755</th>\n",
       "      <td>0.000000</td>\n",
       "      <td>0.000000</td>\n",
       "      <td>0.000000</td>\n",
       "      <td>0.000000</td>\n",
       "      <td>0.000000</td>\n",
       "      <td>0.00000</td>\n",
       "      <td>0.00000</td>\n",
       "      <td>0.162693</td>\n",
       "      <td>0.000000</td>\n",
       "      <td>0.00000</td>\n",
       "      <td>...</td>\n",
       "      <td>-0.100793</td>\n",
       "      <td>-0.029638</td>\n",
       "      <td>0.125978</td>\n",
       "      <td>0.026953</td>\n",
       "      <td>0.066923</td>\n",
       "      <td>-0.093242</td>\n",
       "      <td>0.071059</td>\n",
       "      <td>0.101375</td>\n",
       "      <td>-0.000959</td>\n",
       "      <td>-0.023929</td>\n",
       "    </tr>\n",
       "    <tr>\n",
       "      <th>2756</th>\n",
       "      <td>0.000000</td>\n",
       "      <td>0.000000</td>\n",
       "      <td>0.000000</td>\n",
       "      <td>0.000000</td>\n",
       "      <td>0.000000</td>\n",
       "      <td>0.00000</td>\n",
       "      <td>0.00000</td>\n",
       "      <td>0.000000</td>\n",
       "      <td>0.000000</td>\n",
       "      <td>0.00000</td>\n",
       "      <td>...</td>\n",
       "      <td>-0.151384</td>\n",
       "      <td>-0.042414</td>\n",
       "      <td>0.127405</td>\n",
       "      <td>0.023186</td>\n",
       "      <td>0.017712</td>\n",
       "      <td>-0.072819</td>\n",
       "      <td>0.081367</td>\n",
       "      <td>0.109436</td>\n",
       "      <td>-0.169670</td>\n",
       "      <td>-0.074346</td>\n",
       "    </tr>\n",
       "    <tr>\n",
       "      <th>2757</th>\n",
       "      <td>0.000000</td>\n",
       "      <td>0.000000</td>\n",
       "      <td>0.000000</td>\n",
       "      <td>0.000000</td>\n",
       "      <td>0.000000</td>\n",
       "      <td>0.00000</td>\n",
       "      <td>0.00000</td>\n",
       "      <td>0.000000</td>\n",
       "      <td>0.000000</td>\n",
       "      <td>0.00000</td>\n",
       "      <td>...</td>\n",
       "      <td>-0.165665</td>\n",
       "      <td>-0.077816</td>\n",
       "      <td>0.090741</td>\n",
       "      <td>0.047345</td>\n",
       "      <td>-0.033364</td>\n",
       "      <td>-0.118698</td>\n",
       "      <td>0.029050</td>\n",
       "      <td>0.160180</td>\n",
       "      <td>-0.048188</td>\n",
       "      <td>-0.019399</td>\n",
       "    </tr>\n",
       "  </tbody>\n",
       "</table>\n",
       "<p>5 rows × 220 columns</p>\n",
       "</div>"
      ],
      "text/plain": [
       "           0         1         2         3         4        5        6    \\\n",
       "2753  0.030528  0.033098  0.030532  0.030532  0.030531  0.03053  0.03053   \n",
       "2754  0.000000  0.064281  0.000000  0.000000  0.000000  0.00000  0.00000   \n",
       "2755  0.000000  0.000000  0.000000  0.000000  0.000000  0.00000  0.00000   \n",
       "2756  0.000000  0.000000  0.000000  0.000000  0.000000  0.00000  0.00000   \n",
       "2757  0.000000  0.000000  0.000000  0.000000  0.000000  0.00000  0.00000   \n",
       "\n",
       "           7         8        9    ...       190       191       192  \\\n",
       "2753  0.030537  0.030531  0.03053  ... -0.094567 -0.261025  0.032923   \n",
       "2754  0.000000  0.000000  0.00000  ... -0.131909  0.026793  0.080834   \n",
       "2755  0.162693  0.000000  0.00000  ... -0.100793 -0.029638  0.125978   \n",
       "2756  0.000000  0.000000  0.00000  ... -0.151384 -0.042414  0.127405   \n",
       "2757  0.000000  0.000000  0.00000  ... -0.165665 -0.077816  0.090741   \n",
       "\n",
       "           193       194       195       196       197       198       199  \n",
       "2753  0.037032 -0.020807 -0.006334 -0.097025  0.006673  0.017068 -0.107368  \n",
       "2754  0.045878  0.050292 -0.117947  0.139120  0.161393 -0.002296  0.022572  \n",
       "2755  0.026953  0.066923 -0.093242  0.071059  0.101375 -0.000959 -0.023929  \n",
       "2756  0.023186  0.017712 -0.072819  0.081367  0.109436 -0.169670 -0.074346  \n",
       "2757  0.047345 -0.033364 -0.118698  0.029050  0.160180 -0.048188 -0.019399  \n",
       "\n",
       "[5 rows x 220 columns]"
      ]
     },
     "execution_count": 388,
     "metadata": {},
     "output_type": "execute_result"
    }
   ],
   "source": [
    "valid_X.tail()"
   ]
  },
  {
   "cell_type": "code",
   "execution_count": 395,
   "id": "da11e09a",
   "metadata": {},
   "outputs": [
    {
     "name": "stderr",
     "output_type": "stream",
     "text": [
      "C:\\Users\\Harmony Chen\\anaconda3\\lib\\site-packages\\ipykernel\\ipkernel.py:287: DeprecationWarning: `should_run_async` will not call `transform_cell` automatically in the future. Please pass the result to `transformed_cell` argument and any exception that happen during thetransform in `preprocessing_exc_tuple` in IPython 7.17 and above.\n",
      "  and should_run_async(code)\n"
     ]
    }
   ],
   "source": [
    "valid_dataframe.to_csv(\"valid_dataset.csv\",index=False)"
   ]
  },
  {
   "cell_type": "code",
   "execution_count": 396,
   "id": "51897565",
   "metadata": {},
   "outputs": [
    {
     "name": "stderr",
     "output_type": "stream",
     "text": [
      "C:\\Users\\Harmony Chen\\anaconda3\\lib\\site-packages\\ipykernel\\ipkernel.py:287: DeprecationWarning: `should_run_async` will not call `transform_cell` automatically in the future. Please pass the result to `transformed_cell` argument and any exception that happen during thetransform in `preprocessing_exc_tuple` in IPython 7.17 and above.\n",
      "  and should_run_async(code)\n"
     ]
    }
   ],
   "source": [
    "train_dataframe.to_csv(\"train_dataset.csv\",index=False)"
   ]
  },
  {
   "cell_type": "code",
   "execution_count": 2,
   "id": "fb73fa35",
   "metadata": {},
   "outputs": [],
   "source": [
    "train_dataframe = pd.read_csv(\"train_dataset.csv\")\n",
    "valid_dataframe = pd.read_csv(\"valid_dataset.csv\")"
   ]
  },
  {
   "cell_type": "code",
   "execution_count": 706,
   "id": "befc768c",
   "metadata": {},
   "outputs": [
    {
     "data": {
      "text/html": [
       "<div>\n",
       "<style scoped>\n",
       "    .dataframe tbody tr th:only-of-type {\n",
       "        vertical-align: middle;\n",
       "    }\n",
       "\n",
       "    .dataframe tbody tr th {\n",
       "        vertical-align: top;\n",
       "    }\n",
       "\n",
       "    .dataframe thead th {\n",
       "        text-align: right;\n",
       "    }\n",
       "</style>\n",
       "<table border=\"1\" class=\"dataframe\">\n",
       "  <thead>\n",
       "    <tr style=\"text-align: right;\">\n",
       "      <th></th>\n",
       "      <th>Reviewer_id</th>\n",
       "      <th>Product_id</th>\n",
       "      <th>Reviewer_ReviewContent_Sent_len</th>\n",
       "      <th>Reviewer_ReviewContent_SUB_Len</th>\n",
       "      <th>Reviewer_ReviewContent_OBJ_Len</th>\n",
       "      <th>Reviewer_ReviewContent_First_Third_PRP</th>\n",
       "      <th>Reviewer_ReviewContent_First_Third_PRP_ratio</th>\n",
       "      <th>Reviewer_ReviewContent_Second_PRP</th>\n",
       "      <th>Reviewer_ReviewContent_Second_PRP_ratio</th>\n",
       "      <th>Reviewer_ReviewContent_avg_sent_len</th>\n",
       "      <th>...</th>\n",
       "      <th>Product_Behavior_group_extreme_rating_ratio</th>\n",
       "      <th>Product_Behavior_group_toprating_rating_ratio</th>\n",
       "      <th>Product_Behavior_group_buttomrating_rating_ratio</th>\n",
       "      <th>Product_Behavior_group_posrating_rating_ratio</th>\n",
       "      <th>Product_Behavior_group_negrating_rating_ratio</th>\n",
       "      <th>Product_Behavior_Early_Review_Ratio</th>\n",
       "      <th>Text</th>\n",
       "      <th>Rating</th>\n",
       "      <th>Label</th>\n",
       "      <th>Reviewer_content_consine_similarity</th>\n",
       "    </tr>\n",
       "  </thead>\n",
       "  <tbody>\n",
       "    <tr>\n",
       "      <th>38508</th>\n",
       "      <td>13025</td>\n",
       "      <td>337</td>\n",
       "      <td>93</td>\n",
       "      <td>3</td>\n",
       "      <td>0</td>\n",
       "      <td>0</td>\n",
       "      <td>0.000000</td>\n",
       "      <td>0</td>\n",
       "      <td>0.000000</td>\n",
       "      <td>163.666667</td>\n",
       "      <td>...</td>\n",
       "      <td>0.095833</td>\n",
       "      <td>0.095833</td>\n",
       "      <td>0.008333</td>\n",
       "      <td>0.095833</td>\n",
       "      <td>0.037500</td>\n",
       "      <td>0.017241</td>\n",
       "      <td>This place is highly recommended! The food is ...</td>\n",
       "      <td>4</td>\n",
       "      <td>0</td>\n",
       "      <td>0.029831</td>\n",
       "    </tr>\n",
       "    <tr>\n",
       "      <th>70057</th>\n",
       "      <td>39806</td>\n",
       "      <td>133</td>\n",
       "      <td>320</td>\n",
       "      <td>8</td>\n",
       "      <td>6</td>\n",
       "      <td>3</td>\n",
       "      <td>0.009375</td>\n",
       "      <td>0</td>\n",
       "      <td>0.000000</td>\n",
       "      <td>425.333333</td>\n",
       "      <td>...</td>\n",
       "      <td>0.093628</td>\n",
       "      <td>0.093628</td>\n",
       "      <td>0.009103</td>\n",
       "      <td>0.093628</td>\n",
       "      <td>0.031209</td>\n",
       "      <td>0.005263</td>\n",
       "      <td>So I went to this place for breakfast and must...</td>\n",
       "      <td>4</td>\n",
       "      <td>0</td>\n",
       "      <td>0.034621</td>\n",
       "    </tr>\n",
       "    <tr>\n",
       "      <th>79011</th>\n",
       "      <td>56726</td>\n",
       "      <td>508</td>\n",
       "      <td>142</td>\n",
       "      <td>5</td>\n",
       "      <td>3</td>\n",
       "      <td>3</td>\n",
       "      <td>0.021127</td>\n",
       "      <td>0</td>\n",
       "      <td>0.000000</td>\n",
       "      <td>159.428571</td>\n",
       "      <td>...</td>\n",
       "      <td>0.082126</td>\n",
       "      <td>0.082126</td>\n",
       "      <td>0.003623</td>\n",
       "      <td>0.082126</td>\n",
       "      <td>0.032609</td>\n",
       "      <td>0.029557</td>\n",
       "      <td>Went here for a nice lunch and that's what I g...</td>\n",
       "      <td>5</td>\n",
       "      <td>0</td>\n",
       "      <td>0.086207</td>\n",
       "    </tr>\n",
       "    <tr>\n",
       "      <th>88360</th>\n",
       "      <td>95235</td>\n",
       "      <td>718</td>\n",
       "      <td>152</td>\n",
       "      <td>2</td>\n",
       "      <td>5</td>\n",
       "      <td>1</td>\n",
       "      <td>0.006579</td>\n",
       "      <td>1</td>\n",
       "      <td>0.006579</td>\n",
       "      <td>187.666667</td>\n",
       "      <td>...</td>\n",
       "      <td>0.109948</td>\n",
       "      <td>0.109948</td>\n",
       "      <td>0.005236</td>\n",
       "      <td>0.109948</td>\n",
       "      <td>0.015707</td>\n",
       "      <td>0.021739</td>\n",
       "      <td>it has its own unique style but I wasnt thrill...</td>\n",
       "      <td>2</td>\n",
       "      <td>1</td>\n",
       "      <td>0.061186</td>\n",
       "    </tr>\n",
       "    <tr>\n",
       "      <th>41228</th>\n",
       "      <td>14388</td>\n",
       "      <td>276</td>\n",
       "      <td>145</td>\n",
       "      <td>3</td>\n",
       "      <td>2</td>\n",
       "      <td>0</td>\n",
       "      <td>0.000000</td>\n",
       "      <td>2</td>\n",
       "      <td>0.013793</td>\n",
       "      <td>186.000000</td>\n",
       "      <td>...</td>\n",
       "      <td>0.074144</td>\n",
       "      <td>0.074144</td>\n",
       "      <td>0.005703</td>\n",
       "      <td>0.074144</td>\n",
       "      <td>0.053232</td>\n",
       "      <td>0.007463</td>\n",
       "      <td>Good food, but the wait. The wait! Maybe I'm t...</td>\n",
       "      <td>3</td>\n",
       "      <td>1</td>\n",
       "      <td>0.059715</td>\n",
       "    </tr>\n",
       "  </tbody>\n",
       "</table>\n",
       "<p>5 rows × 52 columns</p>\n",
       "</div>"
      ],
      "text/plain": [
       "       Reviewer_id  Product_id  Reviewer_ReviewContent_Sent_len  \\\n",
       "38508        13025         337                               93   \n",
       "70057        39806         133                              320   \n",
       "79011        56726         508                              142   \n",
       "88360        95235         718                              152   \n",
       "41228        14388         276                              145   \n",
       "\n",
       "       Reviewer_ReviewContent_SUB_Len  Reviewer_ReviewContent_OBJ_Len  \\\n",
       "38508                               3                               0   \n",
       "70057                               8                               6   \n",
       "79011                               5                               3   \n",
       "88360                               2                               5   \n",
       "41228                               3                               2   \n",
       "\n",
       "       Reviewer_ReviewContent_First_Third_PRP  \\\n",
       "38508                                       0   \n",
       "70057                                       3   \n",
       "79011                                       3   \n",
       "88360                                       1   \n",
       "41228                                       0   \n",
       "\n",
       "       Reviewer_ReviewContent_First_Third_PRP_ratio  \\\n",
       "38508                                      0.000000   \n",
       "70057                                      0.009375   \n",
       "79011                                      0.021127   \n",
       "88360                                      0.006579   \n",
       "41228                                      0.000000   \n",
       "\n",
       "       Reviewer_ReviewContent_Second_PRP  \\\n",
       "38508                                  0   \n",
       "70057                                  0   \n",
       "79011                                  0   \n",
       "88360                                  1   \n",
       "41228                                  2   \n",
       "\n",
       "       Reviewer_ReviewContent_Second_PRP_ratio  \\\n",
       "38508                                 0.000000   \n",
       "70057                                 0.000000   \n",
       "79011                                 0.000000   \n",
       "88360                                 0.006579   \n",
       "41228                                 0.013793   \n",
       "\n",
       "       Reviewer_ReviewContent_avg_sent_len  ...  \\\n",
       "38508                           163.666667  ...   \n",
       "70057                           425.333333  ...   \n",
       "79011                           159.428571  ...   \n",
       "88360                           187.666667  ...   \n",
       "41228                           186.000000  ...   \n",
       "\n",
       "       Product_Behavior_group_extreme_rating_ratio  \\\n",
       "38508                                     0.095833   \n",
       "70057                                     0.093628   \n",
       "79011                                     0.082126   \n",
       "88360                                     0.109948   \n",
       "41228                                     0.074144   \n",
       "\n",
       "       Product_Behavior_group_toprating_rating_ratio  \\\n",
       "38508                                       0.095833   \n",
       "70057                                       0.093628   \n",
       "79011                                       0.082126   \n",
       "88360                                       0.109948   \n",
       "41228                                       0.074144   \n",
       "\n",
       "       Product_Behavior_group_buttomrating_rating_ratio  \\\n",
       "38508                                          0.008333   \n",
       "70057                                          0.009103   \n",
       "79011                                          0.003623   \n",
       "88360                                          0.005236   \n",
       "41228                                          0.005703   \n",
       "\n",
       "       Product_Behavior_group_posrating_rating_ratio  \\\n",
       "38508                                       0.095833   \n",
       "70057                                       0.093628   \n",
       "79011                                       0.082126   \n",
       "88360                                       0.109948   \n",
       "41228                                       0.074144   \n",
       "\n",
       "       Product_Behavior_group_negrating_rating_ratio  \\\n",
       "38508                                       0.037500   \n",
       "70057                                       0.031209   \n",
       "79011                                       0.032609   \n",
       "88360                                       0.015707   \n",
       "41228                                       0.053232   \n",
       "\n",
       "       Product_Behavior_Early_Review_Ratio  \\\n",
       "38508                             0.017241   \n",
       "70057                             0.005263   \n",
       "79011                             0.029557   \n",
       "88360                             0.021739   \n",
       "41228                             0.007463   \n",
       "\n",
       "                                                    Text  Rating  Label  \\\n",
       "38508  This place is highly recommended! The food is ...       4      0   \n",
       "70057  So I went to this place for breakfast and must...       4      0   \n",
       "79011  Went here for a nice lunch and that's what I g...       5      0   \n",
       "88360  it has its own unique style but I wasnt thrill...       2      1   \n",
       "41228  Good food, but the wait. The wait! Maybe I'm t...       3      1   \n",
       "\n",
       "       Reviewer_content_consine_similarity  \n",
       "38508                             0.029831  \n",
       "70057                             0.034621  \n",
       "79011                             0.086207  \n",
       "88360                             0.061186  \n",
       "41228                             0.059715  \n",
       "\n",
       "[5 rows x 52 columns]"
      ]
     },
     "execution_count": 706,
     "metadata": {},
     "output_type": "execute_result"
    }
   ],
   "source": [
    "train_dataframe.head()"
   ]
  },
  {
   "cell_type": "code",
   "execution_count": 3,
   "id": "b149f9c2",
   "metadata": {},
   "outputs": [],
   "source": [
    "from sklearn.feature_extraction.text import TfidfVectorizer\n",
    "from sklearn.decomposition import TruncatedSVD\n",
    "#vectorizer = CountVectorizer(stop_words = \"english\",ngram_range=(1,2),min_df=0., max_df=1.)\n",
    "vectorizer = TfidfVectorizer()\n",
    "vectorizer.fit(train_dataframe['Text'])\n",
    "trainidf = vectorizer.transform(train_dataframe['Text'])\n",
    "valididf = vectorizer.transform(valid_dataframe['Text'])"
   ]
  },
  {
   "cell_type": "code",
   "execution_count": null,
   "id": "d30263a9",
   "metadata": {},
   "outputs": [],
   "source": []
  },
  {
   "cell_type": "code",
   "execution_count": 4,
   "id": "37fedb4c",
   "metadata": {},
   "outputs": [
    {
     "name": "stdout",
     "output_type": "stream",
     "text": [
      "(8272, 21692)\n",
      "(2758, 21692)\n"
     ]
    }
   ],
   "source": [
    "print (trainidf.shape)\n",
    "print (valididf.shape)"
   ]
  },
  {
   "cell_type": "code",
   "execution_count": 7,
   "id": "f79d37da",
   "metadata": {},
   "outputs": [
    {
     "name": "stdout",
     "output_type": "stream",
     "text": [
      "Total variance explained: 0.92\n"
     ]
    }
   ],
   "source": [
    "# Dimensionality reduction\n",
    "svd = TruncatedSVD(n_components=3500, random_state=42)\n",
    "trainX_svd = svd.fit_transform(trainidf)\n",
    "print(f\"Total variance explained: {np.sum(svd.explained_variance_ratio_):.2f}\")"
   ]
  },
  {
   "cell_type": "code",
   "execution_count": 8,
   "id": "cf4684b4",
   "metadata": {},
   "outputs": [],
   "source": [
    "validX_svd = svd.transform(valididf)\n",
    "\n",
    "trainX_svd = pd.DataFrame(trainX_svd)\n",
    "validX_svd = pd.DataFrame(validX_svd)"
   ]
  },
  {
   "cell_type": "code",
   "execution_count": 21,
   "id": "c93e42f9",
   "metadata": {},
   "outputs": [],
   "source": [
    "train_X = trainX_svd\n",
    "train_Y = train_dataframe[\"Label\"]\n",
    "valid_X = validX_svd\n",
    "valid_Y = valid_dataframe[\"Label\"]"
   ]
  },
  {
   "cell_type": "code",
   "execution_count": 57,
   "id": "5a4c26b6",
   "metadata": {},
   "outputs": [],
   "source": [
    "train_X = pd.concat([trainX_svd,traintopicfeature],axis=1)\n",
    "train_Y = train_dataframe[\"Label\"]\n",
    "valid_X = pd.concat([validX_svd,Validtopicfeature],axis=1)\n",
    "valid_Y = valid_dataframe[\"Label\"]"
   ]
  },
  {
   "cell_type": "markdown",
   "id": "167b106d",
   "metadata": {},
   "source": [
    "# LDA"
   ]
  },
  {
   "cell_type": "code",
   "execution_count": 13,
   "id": "c9364b25",
   "metadata": {},
   "outputs": [],
   "source": [
    "# import dependencies\n",
    "%matplotlib inline\n",
    "import pandas as pd\n",
    "import numpy as np\n",
    "import nltk\n",
    "from nltk.corpus import stopwords\n",
    "import gensim\n",
    "from gensim.models import LdaModel\n",
    "from gensim import models, corpora, similarities\n",
    "import re\n",
    "from nltk.stem.porter import PorterStemmer\n",
    "import time\n",
    "from nltk import FreqDist\n",
    "from scipy.stats import entropy\n",
    "import matplotlib.pyplot as plt\n",
    "import seaborn as sns\n",
    "sns.set_style(\"darkgrid\")"
   ]
  },
  {
   "cell_type": "code",
   "execution_count": 14,
   "id": "56a7064d",
   "metadata": {},
   "outputs": [],
   "source": [
    "def initial_clean(text):\n",
    "    \"\"\"\n",
    "    Function to clean text of websites, email addresess and any punctuation\n",
    "    We also lower case the text\n",
    "    \"\"\"\n",
    "    text = re.sub(\"((\\S+)?(http(s)?)(\\S+))|((\\S+)?(www)(\\S+))|((\\S+)?(\\@)(\\S+)?)\", \" \", text)\n",
    "    text = re.sub(\"[^a-zA-Z ]\", \"\", text)\n",
    "    text = text.lower() # lower case the text\n",
    "    text = nltk.word_tokenize(text)\n",
    "    return text\n",
    "\n",
    "stop_words = stopwords.words('english')\n",
    "def remove_stop_words(text):\n",
    "    \"\"\"\n",
    "    Function that removes all stopwords from text\n",
    "    \"\"\"\n",
    "    return [word for word in text if word not in stop_words]\n",
    "\n",
    "stemmer = PorterStemmer()\n",
    "def stem_words(text):\n",
    "    \"\"\"\n",
    "    Function to stem words, so plural and singular are treated the same\n",
    "    \"\"\"\n",
    "    try:\n",
    "        text = [stemmer.stem(word) for word in text]\n",
    "        text = [word for word in text if len(word) > 1] # make sure we have no 1 letter words\n",
    "    except IndexError: # the word \"oed\" broke this, so needed try except\n",
    "        pass\n",
    "    return text\n",
    "\n",
    "def apply_all(text):\n",
    "    \"\"\"\n",
    "    This function applies all the functions above into one\n",
    "    \"\"\"\n",
    "    return stem_words(remove_stop_words(initial_clean(text)))"
   ]
  },
  {
   "cell_type": "code",
   "execution_count": 121,
   "id": "d394c801",
   "metadata": {},
   "outputs": [],
   "source": [
    "df = sampledataframe\n",
    "df[\"Text\"]=df[\"Text\"].astype(str)"
   ]
  },
  {
   "cell_type": "code",
   "execution_count": 122,
   "id": "9657a8e4",
   "metadata": {},
   "outputs": [
    {
     "name": "stdout",
     "output_type": "stream",
     "text": [
      "Time to clean and tokenize 13787 articles: 0.3393145680427551 min\n"
     ]
    }
   ],
   "source": [
    "# clean text and title and create new column \"tokenized\"\n",
    "t1 = time.time()\n",
    "df['tokenized'] = df['Text'].apply(apply_all)\n",
    "t2 = time.time()\n",
    "print(\"Time to clean and tokenize\", len(df), \"articles:\", (t2-t1)/60, \"min\")\n",
    "# first get a list of all words\n",
    "all_words = [word for item in list(df['tokenized']) for word in item]\n",
    "# use nltk fdist to get a frequency distribution of all words\n",
    "fdist = FreqDist(all_words)\n",
    "len(fdist) # number of unique words\n",
    "\n",
    "# choose k and visually inspect the bottom 10 words of the top k\n",
    "k = 50000\n",
    "top_k_words = fdist.most_common(k)\n",
    "top_k_words[-10:]\n",
    "\n",
    "# choose k and visually inspect the bottom 10 words of the top k\n",
    "k = 15000\n",
    "top_k_words = fdist.most_common(k)\n",
    "top_k_words[-10:]\n",
    "\n",
    "# define a function only to keep words in the top k words\n",
    "top_k_words,_ = zip(*fdist.most_common(k))\n",
    "top_k_words = set(top_k_words)\n",
    "def keep_top_k_words(text):\n",
    "    return [word for word in text if word in top_k_words]\n",
    "\n",
    "df['tokenized'] = df['tokenized'].apply(keep_top_k_words)"
   ]
  },
  {
   "cell_type": "code",
   "execution_count": 123,
   "id": "b8d32c55",
   "metadata": {},
   "outputs": [
    {
     "data": {
      "text/plain": [
       "[('gitano', 1),\n",
       " ('almondsugar', 1),\n",
       " ('bonarda', 1),\n",
       " ('toscano', 1),\n",
       " ('bisforbruschetta', 1),\n",
       " ('flowerth', 1),\n",
       " ('scorza', 1),\n",
       " ('cacciocavalo', 1),\n",
       " ('faculti', 1),\n",
       " ('youtubecomwatchvbx', 1)]"
      ]
     },
     "execution_count": 123,
     "metadata": {},
     "output_type": "execute_result"
    }
   ],
   "source": [
    "# first get a list of all words\n",
    "all_words = [word for item in list(df['tokenized']) for word in item]\n",
    "# use nltk fdist to get a frequency distribution of all words\n",
    "fdist = FreqDist(all_words)\n",
    "len(fdist) # number of unique words\n",
    "\n",
    "# choose k and visually inspect the bottom 10 words of the top k\n",
    "k = 50000\n",
    "top_k_words = fdist.most_common(k)\n",
    "top_k_words[-10:]"
   ]
  },
  {
   "cell_type": "code",
   "execution_count": 124,
   "id": "3b921576",
   "metadata": {},
   "outputs": [
    {
     "name": "stdout",
     "output_type": "stream",
     "text": [
      "length of list: 13787 \n",
      "average document length 52.03952999202147 \n",
      "minimum document length 0 \n",
      "maximum document length 477\n"
     ]
    }
   ],
   "source": [
    "# define a function only to keep words in the top k words\n",
    "top_k_words,_ = zip(*fdist.most_common(k))\n",
    "top_k_words = set(top_k_words)\n",
    "def keep_top_k_words(text):\n",
    "    return [word for word in text if word in top_k_words]\n",
    "df['tokenized'] = df['tokenized'].apply(keep_top_k_words)\n",
    "# document length\n",
    "df['doc_len'] = df['tokenized'].apply(lambda x: len(x))\n",
    "doc_lengths = list(df['doc_len'])\n",
    "df.drop(labels='doc_len', axis=1, inplace=True)\n",
    "\n",
    "print(\"length of list:\",len(doc_lengths),\n",
    "      \"\\naverage document length\", np.average(doc_lengths),\n",
    "      \"\\nminimum document length\", min(doc_lengths),\n",
    "      \"\\nmaximum document length\", max(doc_lengths))"
   ]
  },
  {
   "cell_type": "code",
   "execution_count": 125,
   "id": "7585b844",
   "metadata": {},
   "outputs": [
    {
     "data": {
      "image/png": "[encoded data removed]",
      "text/plain": [
       "<Figure size 864x432 with 1 Axes>"
      ]
     },
     "metadata": {},
     "output_type": "display_data"
    }
   ],
   "source": [
    "# plot a histogram of document length\n",
    "num_bins = 1000\n",
    "fig, ax = plt.subplots(figsize=(12,6));\n",
    "# the histogram of the data\n",
    "n, bins, patches = ax.hist(doc_lengths, num_bins, density=1)\n",
    "ax.set_xlabel('Document Length (tokens)', fontsize=15)\n",
    "ax.set_ylabel('Normed Frequency', fontsize=15)\n",
    "ax.grid()\n",
    "ax.set_xticks(np.logspace(start=np.log10(50),stop=np.log10(2000),num=8, base=10.0))\n",
    "plt.xlim(0,2000)\n",
    "ax.plot([np.average(doc_lengths) for i in np.linspace(0.0,0.0035,100)], np.linspace(0.0,0.0035,100), '-',\n",
    "        label='average doc length')\n",
    "ax.legend()\n",
    "ax.grid()\n",
    "fig.tight_layout()\n",
    "plt.show()"
   ]
  },
  {
   "cell_type": "code",
   "execution_count": 126,
   "id": "10f957f2",
   "metadata": {},
   "outputs": [
    {
     "name": "stdout",
     "output_type": "stream",
     "text": [
      "After cleaning and excluding short aticles, the dataframe now has: 12451 articles\n"
     ]
    }
   ],
   "source": [
    "# only keep articles with more than 10 tokens, otherwise too short\n",
    "\n",
    "df = df[df['tokenized'].map(len) >= 10]\n",
    "# make sure all tokenized items are lists\n",
    "df = df[df['tokenized'].map(type) == list]\n",
    "df.reset_index(drop=True,inplace=True)\n",
    "print(\"After cleaning and excluding short aticles, the dataframe now has:\", len(df), \"articles\")"
   ]
  },
  {
   "cell_type": "code",
   "execution_count": 131,
   "id": "0861560a",
   "metadata": {},
   "outputs": [],
   "source": [
    "msk = np.random.rand(len(df)) < 0.999\n",
    "train_df = df[msk]\n",
    "train_df.reset_index(drop=True,inplace=True)\n",
    "\n",
    "test_df = df[~msk]\n",
    "test_df.reset_index(drop=True,inplace=True)"
   ]
  },
  {
   "cell_type": "code",
   "execution_count": 128,
   "id": "f734decb",
   "metadata": {},
   "outputs": [
    {
     "data": {
      "text/html": [
       "<div>\n",
       "<style scoped>\n",
       "    .dataframe tbody tr th:only-of-type {\n",
       "        vertical-align: middle;\n",
       "    }\n",
       "\n",
       "    .dataframe tbody tr th {\n",
       "        vertical-align: top;\n",
       "    }\n",
       "\n",
       "    .dataframe thead th {\n",
       "        text-align: right;\n",
       "    }\n",
       "</style>\n",
       "<table border=\"1\" class=\"dataframe\">\n",
       "  <thead>\n",
       "    <tr style=\"text-align: right;\">\n",
       "      <th></th>\n",
       "      <th>Text</th>\n",
       "      <th>Label</th>\n",
       "      <th>tokenized</th>\n",
       "    </tr>\n",
       "  </thead>\n",
       "  <tbody>\n",
       "    <tr>\n",
       "      <th>0</th>\n",
       "      <td>There is nothing weirder than walking into a p...</td>\n",
       "      <td>1</td>\n",
       "      <td>[noth, weirder, walk, place, thought, hadnt, e...</td>\n",
       "    </tr>\n",
       "    <tr>\n",
       "      <th>1</th>\n",
       "      <td>Eh. I probably came at the wrong time --- Sund...</td>\n",
       "      <td>1</td>\n",
       "      <td>[eh, probabl, came, wrong, time, sunday, brunc...</td>\n",
       "    </tr>\n",
       "    <tr>\n",
       "      <th>2</th>\n",
       "      <td>LOVE. This is a terrific hole-in-the-wall spot...</td>\n",
       "      <td>1</td>\n",
       "      <td>[love, terrif, holeinthewal, spot, food, menu,...</td>\n",
       "    </tr>\n",
       "    <tr>\n",
       "      <th>3</th>\n",
       "      <td>Having eaten here my fair share, I think it's ...</td>\n",
       "      <td>1</td>\n",
       "      <td>[eaten, fair, share, think, time, give, credit...</td>\n",
       "    </tr>\n",
       "    <tr>\n",
       "      <th>4</th>\n",
       "      <td>When I inspected the kitchen a year ago it was...</td>\n",
       "      <td>1</td>\n",
       "      <td>[inspect, kitchen, year, ago, clean, surpris, ...</td>\n",
       "    </tr>\n",
       "  </tbody>\n",
       "</table>\n",
       "</div>"
      ],
      "text/plain": [
       "                                                Text  Label  \\\n",
       "0  There is nothing weirder than walking into a p...      1   \n",
       "1  Eh. I probably came at the wrong time --- Sund...      1   \n",
       "2  LOVE. This is a terrific hole-in-the-wall spot...      1   \n",
       "3  Having eaten here my fair share, I think it's ...      1   \n",
       "4  When I inspected the kitchen a year ago it was...      1   \n",
       "\n",
       "                                           tokenized  \n",
       "0  [noth, weirder, walk, place, thought, hadnt, e...  \n",
       "1  [eh, probabl, came, wrong, time, sunday, brunc...  \n",
       "2  [love, terrif, holeinthewal, spot, food, menu,...  \n",
       "3  [eaten, fair, share, think, time, give, credit...  \n",
       "4  [inspect, kitchen, year, ago, clean, surpris, ...  "
      ]
     },
     "execution_count": 128,
     "metadata": {},
     "output_type": "execute_result"
    }
   ],
   "source": [
    "train_df.head()"
   ]
  },
  {
   "cell_type": "code",
   "execution_count": 129,
   "id": "b163e3b7",
   "metadata": {},
   "outputs": [],
   "source": [
    "def train_lda(data):\n",
    "    \"\"\"\n",
    "    This function trains the lda model\n",
    "    We setup parameters like number of topics, the chunksize to use in Hoffman method\n",
    "    We also do 2 passes of the data since this is a small dataset, so we want the distributions to stabilize\n",
    "    \"\"\"\n",
    "    num_topics = 20\n",
    "    chunksize = 300\n",
    "    dictionary = corpora.Dictionary(data['tokenized'])\n",
    "    corpus = [dictionary.doc2bow(doc) for doc in data['tokenized']]\n",
    "    t1 = time.time()\n",
    "    # low alpha means each document is only represented by a small number of topics, and vice versa\n",
    "    # low eta means each topic is only represented by a small number of words, and vice versa\n",
    "    lda = LdaModel(corpus=corpus, num_topics=num_topics, id2word=dictionary,\n",
    "                   alpha=1e-2, eta=0.5e-2, chunksize=chunksize, minimum_probability=0.0, passes=2)\n",
    "    t2 = time.time()\n",
    "    print(\"Time to train LDA model on \", len(df), \"articles: \", (t2-t1)/60, \"min\")\n",
    "    return dictionary,corpus,lda"
   ]
  },
  {
   "cell_type": "code",
   "execution_count": 132,
   "id": "8eb09211",
   "metadata": {},
   "outputs": [
    {
     "name": "stdout",
     "output_type": "stream",
     "text": [
      "Time to train LDA model on  12451 articles:  0.2367464264233907 min\n"
     ]
    }
   ],
   "source": [
    "dictionary,corpus,lda = train_lda(train_df)"
   ]
  },
  {
   "cell_type": "code",
   "execution_count": 844,
   "id": "7d69ebb6",
   "metadata": {},
   "outputs": [],
   "source": [
    "lda.save(\"lda2.model\")"
   ]
  },
  {
   "cell_type": "code",
   "execution_count": 133,
   "id": "0b627d17",
   "metadata": {},
   "outputs": [
    {
     "data": {
      "text/plain": [
       "[(15,\n",
       "  '0.071*\"sandwich\" + 0.043*\"pork\" + 0.022*\"meat\" + 0.018*\"tri\" + 0.017*\"pull\" + 0.016*\"good\" + 0.015*\"best\" + 0.015*\"bbq\" + 0.015*\"duck\" + 0.014*\"corn\" + 0.013*\"hummu\" + 0.012*\"falafel\" + 0.010*\"bread\" + 0.010*\"one\" + 0.010*\"sprout\" + 0.009*\"roast\" + 0.009*\"empanada\" + 0.009*\"delici\" + 0.009*\"weve\" + 0.009*\"belli\"'),\n",
       " (4,\n",
       "  '0.038*\"pasta\" + 0.027*\"fresh\" + 0.026*\"italian\" + 0.024*\"salad\" + 0.020*\"bread\" + 0.017*\"dish\" + 0.017*\"good\" + 0.017*\"delici\" + 0.015*\"great\" + 0.014*\"seafood\" + 0.013*\"restaur\" + 0.011*\"also\" + 0.011*\"oil\" + 0.010*\"sauc\" + 0.010*\"attent\" + 0.009*\"excel\" + 0.009*\"cook\" + 0.009*\"well\" + 0.009*\"oliv\" + 0.009*\"recommend\"'),\n",
       " (8,\n",
       "  '0.086*\"pizza\" + 0.025*\"pie\" + 0.019*\"wait\" + 0.018*\"slice\" + 0.017*\"best\" + 0.016*\"line\" + 0.013*\"get\" + 0.012*\"crust\" + 0.011*\"go\" + 0.011*\"good\" + 0.010*\"place\" + 0.010*\"sauc\" + 0.010*\"long\" + 0.010*\"one\" + 0.009*\"make\" + 0.009*\"eat\" + 0.008*\"like\" + 0.008*\"fresh\" + 0.008*\"brooklyn\" + 0.008*\"worth\"'),\n",
       " (12,\n",
       "  '0.017*\"delici\" + 0.016*\"chees\" + 0.014*\"perfect\" + 0.011*\"salad\" + 0.009*\"greek\" + 0.009*\"ravioli\" + 0.009*\"night\" + 0.009*\"plate\" + 0.008*\"order\" + 0.008*\"sauc\" + 0.008*\"spinach\" + 0.008*\"warm\" + 0.008*\"amaz\" + 0.007*\"ricotta\" + 0.007*\"sweet\" + 0.007*\"gnocchi\" + 0.007*\"definit\" + 0.006*\"top\" + 0.006*\"light\" + 0.006*\"meal\"'),\n",
       " (0,\n",
       "  '0.024*\"street\" + 0.021*\"th\" + 0.014*\"attent\" + 0.013*\"locat\" + 0.012*\"invit\" + 0.012*\"mood\" + 0.012*\"feel\" + 0.012*\"cramp\" + 0.012*\"one\" + 0.011*\"terrif\" + 0.011*\"sake\" + 0.011*\"opinion\" + 0.010*\"met\" + 0.010*\"rock\" + 0.010*\"restaur\" + 0.010*\"wife\" + 0.009*\"across\" + 0.009*\"sicilian\" + 0.009*\"diner\" + 0.009*\"cater\"'),\n",
       " (11,\n",
       "  '0.050*\"cream\" + 0.045*\"ice\" + 0.044*\"chees\" + 0.042*\"meatbal\" + 0.031*\"rib\" + 0.027*\"bacon\" + 0.027*\"mac\" + 0.018*\"short\" + 0.018*\"bone\" + 0.016*\"marrow\" + 0.015*\"overwhelm\" + 0.014*\"slider\" + 0.014*\"pastri\" + 0.012*\"lime\" + 0.012*\"fav\" + 0.012*\"key\" + 0.010*\"na\" + 0.010*\"gravi\" + 0.010*\"sister\" + 0.010*\"tuesday\"'),\n",
       " (16,\n",
       "  '0.018*\"becom\" + 0.017*\"world\" + 0.016*\"ridicul\" + 0.015*\"past\" + 0.014*\"mouth\" + 0.013*\"grit\" + 0.013*\"cook\" + 0.011*\"prefer\" + 0.010*\"surpris\" + 0.010*\"old\" + 0.009*\"ye\" + 0.009*\"tap\" + 0.009*\"eat\" + 0.009*\"melt\" + 0.008*\"countri\" + 0.008*\"fashion\" + 0.008*\"french\" + 0.008*\"chang\" + 0.008*\"penni\" + 0.008*\"admit\"'),\n",
       " (14,\n",
       "  '0.073*\"fri\" + 0.049*\"chicken\" + 0.027*\"good\" + 0.022*\"lobster\" + 0.019*\"sauc\" + 0.019*\"like\" + 0.018*\"roll\" + 0.013*\"crab\" + 0.012*\"oyster\" + 0.012*\"potato\" + 0.012*\"meat\" + 0.011*\"fish\" + 0.011*\"dip\" + 0.010*\"realli\" + 0.010*\"nyonya\" + 0.010*\"got\" + 0.009*\"crispi\" + 0.009*\"burger\" + 0.009*\"tast\" + 0.008*\"chees\"'),\n",
       " (17,\n",
       "  '0.094*\"love\" + 0.045*\"amaz\" + 0.035*\"place\" + 0.029*\"lamb\" + 0.027*\"chicken\" + 0.025*\"platter\" + 0.024*\"havent\" + 0.023*\"alway\" + 0.020*\"visit\" + 0.019*\"time\" + 0.019*\"tri\" + 0.016*\"coffe\" + 0.014*\"shop\" + 0.014*\"sauc\" + 0.014*\"profession\" + 0.014*\"cart\" + 0.013*\"yummi\" + 0.013*\"go\" + 0.012*\"smell\" + 0.012*\"la\"'),\n",
       " (19,\n",
       "  '0.023*\"dish\" + 0.021*\"restaur\" + 0.018*\"menu\" + 0.012*\"food\" + 0.011*\"dessert\" + 0.011*\"servic\" + 0.010*\"meal\" + 0.010*\"good\" + 0.010*\"order\" + 0.009*\"appet\" + 0.008*\"dinner\" + 0.008*\"tast\" + 0.008*\"entre\" + 0.008*\"dine\" + 0.008*\"small\" + 0.008*\"well\" + 0.007*\"flavor\" + 0.007*\"experi\" + 0.007*\"excel\" + 0.007*\"would\"')]"
      ]
     },
     "execution_count": 133,
     "metadata": {},
     "output_type": "execute_result"
    }
   ],
   "source": [
    "# show_topics method shows the the top num_words contributing to num_topics number of random topics\n",
    "lda.show_topics(num_topics=10, num_words=20)"
   ]
  },
  {
   "cell_type": "code",
   "execution_count": 134,
   "id": "ce87f698",
   "metadata": {
    "scrolled": false
   },
   "outputs": [
    {
     "data": {
      "text/plain": [
       "[('pasta', 0.037501734),\n",
       " ('fresh', 0.026967222),\n",
       " ('italian', 0.026293013),\n",
       " ('salad', 0.024423482),\n",
       " ('bread', 0.019730093),\n",
       " ('dish', 0.017260063),\n",
       " ('good', 0.016986182),\n",
       " ('delici', 0.016913505),\n",
       " ('great', 0.01500893),\n",
       " ('seafood', 0.013700188),\n",
       " ('restaur', 0.013489726),\n",
       " ('also', 0.0110339075),\n",
       " ('oil', 0.010518553),\n",
       " ('sauc', 0.009800555),\n",
       " ('attent', 0.009610789),\n",
       " ('excel', 0.009466818),\n",
       " ('cook', 0.009149057),\n",
       " ('well', 0.00886029),\n",
       " ('oliv', 0.008825478),\n",
       " ('recommend', 0.008708765)]"
      ]
     },
     "execution_count": 134,
     "metadata": {},
     "output_type": "execute_result"
    }
   ],
   "source": [
    "lda.show_topic(topicid=4, topn=20)"
   ]
  },
  {
   "cell_type": "code",
   "execution_count": 135,
   "id": "ec8091e0",
   "metadata": {},
   "outputs": [
    {
     "name": "stdout",
     "output_type": "stream",
     "text": [
      "11124\n"
     ]
    }
   ],
   "source": [
    "# select and article at random from train_df\n",
    "random_article_index = np.random.randint(len(train_df))\n",
    "bow = dictionary.doc2bow(train_df.iloc[random_article_index,2])\n",
    "print(random_article_index)"
   ]
  },
  {
   "cell_type": "code",
   "execution_count": 136,
   "id": "dfcc4156",
   "metadata": {},
   "outputs": [],
   "source": [
    "# get the topic contributions for the document chosen at random above\n",
    "doc_distribution = np.array([tup[1] for tup in lda.get_document_topics(bow=bow)])"
   ]
  },
  {
   "cell_type": "code",
   "execution_count": 137,
   "id": "d28035ce",
   "metadata": {},
   "outputs": [
    {
     "data": {
      "image/png": "[encoded data removed]",
      "text/plain": [
       "<Figure size 864x432 with 1 Axes>"
      ]
     },
     "metadata": {},
     "output_type": "display_data"
    }
   ],
   "source": [
    "# bar plot of topic distribution for this document\n",
    "fig, ax = plt.subplots(figsize=(12,6));\n",
    "# the histogram of the data\n",
    "patches = ax.bar(np.arange(len(doc_distribution)), doc_distribution)\n",
    "ax.set_xlabel('Topic ID', fontsize=15)\n",
    "ax.set_ylabel('Topic Contribution', fontsize=15)\n",
    "ax.set_title(\"Topic Distribution for Article \" + str(random_article_index), fontsize=20)\n",
    "ax.set_xticks(np.linspace(1,20,1))\n",
    "fig.tight_layout()\n",
    "plt.show()"
   ]
  },
  {
   "cell_type": "code",
   "execution_count": 138,
   "id": "26bfc795",
   "metadata": {},
   "outputs": [
    {
     "name": "stdout",
     "output_type": "stream",
     "text": [
      "2 [('good', 0.052853003), ('food', 0.047615025), ('place', 0.042380556), ('realli', 0.025734553), ('like', 0.025455246), ('get', 0.020651968), ('price', 0.019946082), ('go', 0.019945713), ('dont', 0.018175045), ('pretti', 0.0151749095)] \n",
      "\n",
      "8 [('pizza', 0.08614686), ('pie', 0.0246445), ('wait', 0.018747834), ('slice', 0.017975578), ('best', 0.017497081), ('line', 0.016416054), ('get', 0.0133456895), ('crust', 0.012353729), ('go', 0.011338436), ('good', 0.010596503)] \n",
      "\n",
      "18 [('brunch', 0.12193028), ('egg', 0.06090817), ('coffe', 0.03172935), ('breakfast', 0.031106377), ('biscuit', 0.018527037), ('sunday', 0.01841565), ('wait', 0.01825897), ('pancak', 0.018100688), ('waffl', 0.016214743), ('toast', 0.01578821)] \n",
      "\n",
      "1 [('great', 0.045930073), ('burger', 0.036724158), ('place', 0.033079684), ('time', 0.025452187), ('food', 0.023447353), ('neighborhood', 0.022035496), ('beer', 0.020592736), ('ive', 0.018973464), ('alway', 0.018505218), ('spot', 0.017241182)] \n",
      "\n",
      "9 [('dumpl', 0.06606794), ('soup', 0.04773389), ('noodl', 0.045435186), ('chines', 0.029171802), ('chinatown', 0.026308872), ('order', 0.02387623), ('cheap', 0.021478245), ('wait', 0.019169161), ('beef', 0.018027471), ('pork', 0.017099466)] \n",
      "\n"
     ]
    }
   ],
   "source": [
    "# print the top 5 contributing topics and their words\n",
    "for i in doc_distribution.argsort()[-5:][::-1]:\n",
    "    print(i, lda.show_topic(topicid=i, topn=10), \"\\n\")"
   ]
  },
  {
   "cell_type": "code",
   "execution_count": 140,
   "id": "e3b19fc7",
   "metadata": {},
   "outputs": [
    {
     "name": "stdout",
     "output_type": "stream",
     "text": [
      "3\n",
      "['love', 'place', 'select', 'beer', 'cider', 'kombucha', 'impress', 'food', 'good', 'offer', 'interest', 'flavor', 'staff', 'great', 'love', 'place', 'want', 'picki', 'complain', 'would', 'get', 'littl', 'loud', 'best', 'acoust', 'venu', 'music', 'sometim', 'play', 'tad', 'loud', 'lot', 'patron', 'tri', 'convers', 'guess', 'problem', 'barspub']\n"
     ]
    }
   ],
   "source": [
    "# select and article at random from test_df\n",
    "random_article_index = np.random.randint(len(test_df))\n",
    "print(random_article_index)\n",
    "new_bow = dictionary.doc2bow(test_df.iloc[random_article_index,2])\n",
    "print(test_df.iloc[random_article_index,2])"
   ]
  },
  {
   "cell_type": "code",
   "execution_count": 141,
   "id": "3588a1b5",
   "metadata": {
    "scrolled": true
   },
   "outputs": [
    {
     "data": {
      "image/png": "[encoded data removed]",
      "text/plain": [
       "<Figure size 864x432 with 1 Axes>"
      ]
     },
     "metadata": {},
     "output_type": "display_data"
    }
   ],
   "source": [
    "new_doc_distribution = np.array([tup[1] for tup in lda.get_document_topics(bow=new_bow)])\n",
    "# bar plot of topic distribution for this document\n",
    "fig, ax = plt.subplots(figsize=(12,6));\n",
    "# the histogram of the data\n",
    "patches = ax.bar(np.arange(len(new_doc_distribution)), new_doc_distribution)\n",
    "ax.set_xlabel('Topic ID', fontsize=15)\n",
    "ax.set_ylabel('Topic Contribution', fontsize=15)\n",
    "ax.set_title(\"Topic Distribution for an Unseen Article\", fontsize=20)\n",
    "ax.set_xticks(np.linspace(1,20,1))\n",
    "fig.tight_layout()\n",
    "plt.show()"
   ]
  },
  {
   "cell_type": "code",
   "execution_count": 142,
   "id": "9eb2d207",
   "metadata": {},
   "outputs": [
    {
     "data": {
      "text/plain": [
       "(86299, 20)"
      ]
     },
     "execution_count": 142,
     "metadata": {},
     "output_type": "execute_result"
    }
   ],
   "source": [
    "doc_topic_dist.shape"
   ]
  },
  {
   "cell_type": "code",
   "execution_count": 143,
   "id": "2d230544",
   "metadata": {},
   "outputs": [
    {
     "name": "stdout",
     "output_type": "stream",
     "text": [
      "10 [('food', 0.04338321), ('great', 0.039493017), ('place', 0.031392068), ('servic', 0.020656012), ('good', 0.020503948), ('nice', 0.016393978), ('go', 0.01453644), ('back', 0.012708069), ('love', 0.012007116), ('restaur', 0.011955438)] \n",
      "\n",
      "1 [('great', 0.045930073), ('burger', 0.036724158), ('place', 0.033079684), ('time', 0.025452187), ('food', 0.023447353), ('neighborhood', 0.022035496), ('beer', 0.020592736), ('ive', 0.018973464), ('alway', 0.018505218), ('spot', 0.017241182)] \n",
      "\n",
      "2 [('good', 0.052853003), ('food', 0.047615025), ('place', 0.042380556), ('realli', 0.025734553), ('like', 0.025455246), ('get', 0.020651968), ('price', 0.019946082), ('go', 0.019945713), ('dont', 0.018175045), ('pretti', 0.0151749095)] \n",
      "\n",
      "12 [('delici', 0.016658796), ('chees', 0.015639154), ('perfect', 0.014236548), ('salad', 0.010868264), ('greek', 0.009245578), ('ravioli', 0.008863437), ('night', 0.008660835), ('plate', 0.008565148), ('order', 0.008265664), ('sauc', 0.008213311)] \n",
      "\n",
      "4 [('pasta', 0.037501734), ('fresh', 0.026967222), ('italian', 0.026293013), ('salad', 0.024423482), ('bread', 0.019730093), ('dish', 0.017260063), ('good', 0.016986182), ('delici', 0.016913505), ('great', 0.01500893), ('seafood', 0.013700188)] \n",
      "\n"
     ]
    }
   ],
   "source": [
    "for i in new_doc_distribution.argsort()[-5:][::-1]:\n",
    "    print(i, lda.show_topic(topicid=i, topn=10), \"\\n\")"
   ]
  },
  {
   "cell_type": "code",
   "execution_count": 144,
   "id": "6a580cd5",
   "metadata": {},
   "outputs": [
    {
     "data": {
      "text/plain": [
       "(12439, 20)"
      ]
     },
     "execution_count": 144,
     "metadata": {},
     "output_type": "execute_result"
    }
   ],
   "source": [
    "# we need to use nested list comprehension here\n",
    "# this may take 1-2 minutes...\n",
    "doc_topic_dist = np.array([[tup[1] for tup in lst] for lst in lda[corpus]])\n",
    "doc_topic_dist.shape"
   ]
  },
  {
   "cell_type": "code",
   "execution_count": 148,
   "id": "d08edabc",
   "metadata": {},
   "outputs": [],
   "source": [
    "def jensen_shannon(query, matrix):\n",
    "    \"\"\"\n",
    "    This function implements a Jensen-Shannon similarity\n",
    "    between the input query (an LDA topic distribution for a document)\n",
    "    and the entire corpus of topic distributions.\n",
    "    It returns an array of length M where M is the number of documents in the corpus\n",
    "    \"\"\"\n",
    "    # lets keep with the p,q notation above\n",
    "    p = query[None,:].T + np.zeros([20, 12439])# take transpose\n",
    "    q = matrix.T # transpose matrix\n",
    "    m = 0.5*(p + q)\n",
    "    return np.sqrt(0.5*(entropy(p,m) + entropy(q,m)))"
   ]
  },
  {
   "cell_type": "code",
   "execution_count": 149,
   "id": "1ff35d29",
   "metadata": {},
   "outputs": [],
   "source": [
    "def get_most_similar_documents(query,matrix,k=19):\n",
    "    \"\"\"\n",
    "    This function implements the Jensen-Shannon distance above\n",
    "    and retruns the top k indices of the smallest jensen shannon distances\n",
    "    \"\"\"\n",
    "    sims = jensen_shannon(query,matrix) # list of jensen shannon distances\n",
    "    return sims.argsort()[:k] # the top k positional index of the smallest Jensen Shannon distances"
   ]
  },
  {
   "cell_type": "code",
   "execution_count": 150,
   "id": "9596961b",
   "metadata": {},
   "outputs": [],
   "source": [
    "most_sim_ids = get_most_similar_documents(new_doc_distribution,doc_topic_dist)"
   ]
  },
  {
   "cell_type": "code",
   "execution_count": 151,
   "id": "2eaa31b5",
   "metadata": {},
   "outputs": [
    {
     "data": {
      "text/plain": [
       "Counter({1: 10, 0: 9})"
      ]
     },
     "execution_count": 151,
     "metadata": {},
     "output_type": "execute_result"
    }
   ],
   "source": [
    "most_similar_df = train_df[train_df.index.isin(most_sim_ids)]\n",
    "Counter(most_similar_df[\"Label\"])"
   ]
  },
  {
   "cell_type": "code",
   "execution_count": null,
   "id": "3a052a52",
   "metadata": {},
   "outputs": [],
   "source": []
  },
  {
   "cell_type": "code",
   "execution_count": null,
   "id": "80d17506",
   "metadata": {},
   "outputs": [],
   "source": []
  },
  {
   "cell_type": "markdown",
   "id": "2ae20c5e",
   "metadata": {},
   "source": [
    "# Content Similarity"
   ]
  },
  {
   "cell_type": "code",
   "execution_count": null,
   "id": "66dd313e",
   "metadata": {},
   "outputs": [],
   "source": []
  }
 ],
 "metadata": {
  "kernelspec": {
   "display_name": "Python 3",
   "language": "python",
   "name": "python3"
  },
  "language_info": {
   "codemirror_mode": {
    "name": "ipython",
    "version": 3
   },
   "file_extension": ".py",
   "mimetype": "text/x-python",
   "name": "python",
   "nbconvert_exporter": "python",
   "pygments_lexer": "ipython3",
   "version": "3.8.8"
  }
 },
 "nbformat": 4,
 "nbformat_minor": 5
}
